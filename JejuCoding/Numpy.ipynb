{
  "nbformat": 4,
  "nbformat_minor": 0,
  "metadata": {
    "colab": {
      "name": "Numpy.ipynb",
      "provenance": [],
      "collapsed_sections": [
        "9TGUYrjSyvua"
      ],
      "toc_visible": true,
      "authorship_tag": "ABX9TyMG9hPL9tF55Knk/nJtHdfa",
      "include_colab_link": true
    },
    "kernelspec": {
      "name": "python3",
      "display_name": "Python 3"
    },
    "language_info": {
      "name": "python"
    }
  },
  "cells": [
    {
      "cell_type": "markdown",
      "metadata": {
        "id": "view-in-github",
        "colab_type": "text"
      },
      "source": [
        "<a href=\"https://colab.research.google.com/github/hyunicecream/Inflearn/blob/main/Numpy.ipynb\" target=\"_parent\"><img src=\"https://colab.research.google.com/assets/colab-badge.svg\" alt=\"Open In Colab\"/></a>"
      ]
    },
    {
      "cell_type": "markdown",
      "metadata": {
        "id": "9TGUYrjSyvua"
      },
      "source": [
        "## Numpy란\n",
        "\n",
        "- C언어를 기반으로 내부 반복문을 사용하여 속도가 매우 빠르다.\n",
        "- 다차원 배열(ndarray)을 편리하게 처리할 수 있도록 지원해주는 파이썬 라이브러리다.\n",
        "\n",
        "※ ndarray vs list\n",
        "\n",
        "- ndarray : 적은 메모리로 데이터를 빠르게 처리하고, 모든 원소는 같은 자료형을 가진다.\n",
        "- list : 속도가 매우 느리고, 원소가 각각 다른 자료형을 가질 수 있다.\n",
        "\n",
        "### ndarray\n",
        "\n",
        "- N-dimensional Array\n",
        "- 다차원 배열을 지원한다.\n",
        "- 서로 다른 타입의 데이터를 담을 수 없다.\n",
        "- 내부 반복문을 사용해서 속도가 빠르다.\n",
        "- 배열 간에 산술 연산이 가능하다.\n",
        "\n",
        "### 데이터 타입 종류\n",
        "\n",
        "1. int(8bit, 16bit, 32bit, 64bit) i1, i2, i4, i8\n",
        "- 부호가 있다.\n",
        "- 비트수 만큼 크기를 가지는 정수형이다.\n",
        "- 저장할 수 있는 값의 범위 : -2ⁿ⁻¹ ~ 2ⁿ⁻¹-1\n",
        "    \n",
        "    \n",
        "\n",
        " 2. uint(8bit, 16bit, 32bit, 64bit) u1, u2, u4, u8\n",
        "\n",
        "- 부호가 없다.\n",
        "- 비트수 만큼 크기를 가지는 정수형이다.\n",
        "- 저장할 수 있는 값의 범위 : 0 ~ 2ⁿ-1\n",
        "\n",
        " 3. float(16bit, 32bit, 64bit, 128bit) f2, f4, f8, f16\n",
        "\n",
        "- 부호가 있다.\n",
        "- 비트수 만큼 크기를 가지는 실수형이다.\n",
        "\n",
        " 4. 복소수형\n",
        "\n",
        "- complex64 : 두개의 32비트 부동 소수점으로 표시되는 복소수 c8\n",
        "- complex128 : 두개의 64비트 부동소수점으로 표시되는 복소수 c16\n",
        "\n",
        " 5. unicode\n",
        "\n",
        "- 고정 길이 문자열 unicode\n",
        "\n",
        " 6. bool\n",
        "\n",
        "- True, False\n",
        "\n",
        " 7. 데이터 타입 확인 및 변경\n",
        "\n",
        "- dtype : 자료형 확인\n",
        "- astype : 자료형 변경"
      ]
    },
    {
      "cell_type": "code",
      "metadata": {
        "id": "f-yF-JxptrAR"
      },
      "source": [
        "import numpy as np"
      ],
      "execution_count": null,
      "outputs": []
    },
    {
      "cell_type": "code",
      "metadata": {
        "colab": {
          "base_uri": "https://localhost:8080/"
        },
        "id": "T2-7_MX3twtN",
        "outputId": "5db3316d-f7ca-4e45-ed5a-69fec7650edd"
      },
      "source": [
        "data = [[1,2,3], [4,5,6], [7,8,9]]\n",
        "\n",
        "a = np.array(data)\n",
        "a"
      ],
      "execution_count": null,
      "outputs": [
        {
          "output_type": "execute_result",
          "data": {
            "text/plain": [
              "array([[1, 2, 3],\n",
              "       [4, 5, 6],\n",
              "       [7, 8, 9]])"
            ]
          },
          "metadata": {},
          "execution_count": 3
        }
      ]
    },
    {
      "cell_type": "code",
      "metadata": {
        "colab": {
          "base_uri": "https://localhost:8080/"
        },
        "id": "srA0Fkp0t4eg",
        "outputId": "b799c956-45b8-492c-a7ce-504cd838b37a"
      },
      "source": [
        "a.dtype"
      ],
      "execution_count": null,
      "outputs": [
        {
          "output_type": "execute_result",
          "data": {
            "text/plain": [
              "dtype('int64')"
            ]
          },
          "metadata": {},
          "execution_count": 4
        }
      ]
    },
    {
      "cell_type": "code",
      "metadata": {
        "colab": {
          "base_uri": "https://localhost:8080/"
        },
        "id": "w4tw-Tsbt-s8",
        "outputId": "4561f55a-24e4-4d41-a64b-a5526bca34bf"
      },
      "source": [
        "type(a)"
      ],
      "execution_count": null,
      "outputs": [
        {
          "output_type": "execute_result",
          "data": {
            "text/plain": [
              "numpy.ndarray"
            ]
          },
          "metadata": {},
          "execution_count": 5
        }
      ]
    },
    {
      "cell_type": "code",
      "metadata": {
        "colab": {
          "base_uri": "https://localhost:8080/"
        },
        "id": "L_DxSrk_uEuf",
        "outputId": "1a60bc64-73cb-46ee-a794-9e89768118f7"
      },
      "source": [
        "dir(a)"
      ],
      "execution_count": null,
      "outputs": [
        {
          "output_type": "execute_result",
          "data": {
            "text/plain": [
              "['T',\n",
              " '__abs__',\n",
              " '__add__',\n",
              " '__and__',\n",
              " '__array__',\n",
              " '__array_finalize__',\n",
              " '__array_function__',\n",
              " '__array_interface__',\n",
              " '__array_prepare__',\n",
              " '__array_priority__',\n",
              " '__array_struct__',\n",
              " '__array_ufunc__',\n",
              " '__array_wrap__',\n",
              " '__bool__',\n",
              " '__class__',\n",
              " '__complex__',\n",
              " '__contains__',\n",
              " '__copy__',\n",
              " '__deepcopy__',\n",
              " '__delattr__',\n",
              " '__delitem__',\n",
              " '__dir__',\n",
              " '__divmod__',\n",
              " '__doc__',\n",
              " '__eq__',\n",
              " '__float__',\n",
              " '__floordiv__',\n",
              " '__format__',\n",
              " '__ge__',\n",
              " '__getattribute__',\n",
              " '__getitem__',\n",
              " '__gt__',\n",
              " '__hash__',\n",
              " '__iadd__',\n",
              " '__iand__',\n",
              " '__ifloordiv__',\n",
              " '__ilshift__',\n",
              " '__imatmul__',\n",
              " '__imod__',\n",
              " '__imul__',\n",
              " '__index__',\n",
              " '__init__',\n",
              " '__init_subclass__',\n",
              " '__int__',\n",
              " '__invert__',\n",
              " '__ior__',\n",
              " '__ipow__',\n",
              " '__irshift__',\n",
              " '__isub__',\n",
              " '__iter__',\n",
              " '__itruediv__',\n",
              " '__ixor__',\n",
              " '__le__',\n",
              " '__len__',\n",
              " '__lshift__',\n",
              " '__lt__',\n",
              " '__matmul__',\n",
              " '__mod__',\n",
              " '__mul__',\n",
              " '__ne__',\n",
              " '__neg__',\n",
              " '__new__',\n",
              " '__or__',\n",
              " '__pos__',\n",
              " '__pow__',\n",
              " '__radd__',\n",
              " '__rand__',\n",
              " '__rdivmod__',\n",
              " '__reduce__',\n",
              " '__reduce_ex__',\n",
              " '__repr__',\n",
              " '__rfloordiv__',\n",
              " '__rlshift__',\n",
              " '__rmatmul__',\n",
              " '__rmod__',\n",
              " '__rmul__',\n",
              " '__ror__',\n",
              " '__rpow__',\n",
              " '__rrshift__',\n",
              " '__rshift__',\n",
              " '__rsub__',\n",
              " '__rtruediv__',\n",
              " '__rxor__',\n",
              " '__setattr__',\n",
              " '__setitem__',\n",
              " '__setstate__',\n",
              " '__sizeof__',\n",
              " '__str__',\n",
              " '__sub__',\n",
              " '__subclasshook__',\n",
              " '__truediv__',\n",
              " '__xor__',\n",
              " 'all',\n",
              " 'any',\n",
              " 'argmax',\n",
              " 'argmin',\n",
              " 'argpartition',\n",
              " 'argsort',\n",
              " 'astype',\n",
              " 'base',\n",
              " 'byteswap',\n",
              " 'choose',\n",
              " 'clip',\n",
              " 'compress',\n",
              " 'conj',\n",
              " 'conjugate',\n",
              " 'copy',\n",
              " 'ctypes',\n",
              " 'cumprod',\n",
              " 'cumsum',\n",
              " 'data',\n",
              " 'diagonal',\n",
              " 'dot',\n",
              " 'dtype',\n",
              " 'dump',\n",
              " 'dumps',\n",
              " 'fill',\n",
              " 'flags',\n",
              " 'flat',\n",
              " 'flatten',\n",
              " 'getfield',\n",
              " 'imag',\n",
              " 'item',\n",
              " 'itemset',\n",
              " 'itemsize',\n",
              " 'max',\n",
              " 'mean',\n",
              " 'min',\n",
              " 'nbytes',\n",
              " 'ndim',\n",
              " 'newbyteorder',\n",
              " 'nonzero',\n",
              " 'partition',\n",
              " 'prod',\n",
              " 'ptp',\n",
              " 'put',\n",
              " 'ravel',\n",
              " 'real',\n",
              " 'repeat',\n",
              " 'reshape',\n",
              " 'resize',\n",
              " 'round',\n",
              " 'searchsorted',\n",
              " 'setfield',\n",
              " 'setflags',\n",
              " 'shape',\n",
              " 'size',\n",
              " 'sort',\n",
              " 'squeeze',\n",
              " 'std',\n",
              " 'strides',\n",
              " 'sum',\n",
              " 'swapaxes',\n",
              " 'take',\n",
              " 'tobytes',\n",
              " 'tofile',\n",
              " 'tolist',\n",
              " 'tostring',\n",
              " 'trace',\n",
              " 'transpose',\n",
              " 'var',\n",
              " 'view']"
            ]
          },
          "metadata": {},
          "execution_count": 6
        }
      ]
    },
    {
      "cell_type": "code",
      "metadata": {
        "colab": {
          "base_uri": "https://localhost:8080/"
        },
        "id": "t-H-U3PhuFTO",
        "outputId": "9dbc2198-c60b-4706-e340-1985d7f1bfd1"
      },
      "source": [
        "# 형변환\n",
        "a = a.astype(np.float32) # a = a.astype('float32')\n",
        "a"
      ],
      "execution_count": null,
      "outputs": [
        {
          "output_type": "execute_result",
          "data": {
            "text/plain": [
              "array([[1., 2., 3.],\n",
              "       [4., 5., 6.],\n",
              "       [7., 8., 9.]], dtype=float32)"
            ]
          },
          "metadata": {},
          "execution_count": 8
        }
      ]
    },
    {
      "cell_type": "code",
      "metadata": {
        "colab": {
          "base_uri": "https://localhost:8080/"
        },
        "id": "wAomRoTsuVWi",
        "outputId": "6b4cc1e1-ab33-44ba-a725-53a9a97412dd"
      },
      "source": [
        "a[0][1] # a의 0번째의 1번째"
      ],
      "execution_count": null,
      "outputs": [
        {
          "output_type": "execute_result",
          "data": {
            "text/plain": [
              "2.0"
            ]
          },
          "metadata": {},
          "execution_count": 9
        }
      ]
    },
    {
      "cell_type": "code",
      "metadata": {
        "colab": {
          "base_uri": "https://localhost:8080/"
        },
        "id": "F_u7HB45uftY",
        "outputId": "ca4bb91d-ec27-4f4a-be49-0458e618c77c"
      },
      "source": [
        "a[0]"
      ],
      "execution_count": null,
      "outputs": [
        {
          "output_type": "execute_result",
          "data": {
            "text/plain": [
              "array([1., 2., 3.], dtype=float32)"
            ]
          },
          "metadata": {},
          "execution_count": 10
        }
      ]
    },
    {
      "cell_type": "markdown",
      "metadata": {
        "id": "tO1FzfPxzBko"
      },
      "source": [
        "- np.arange(start, stop, step) : step에 따라 증가하는 수열을 생성한다.\n",
        "- reshape : 만들어진 배열의 데이터를 그대로 가지고 형태를 바꿔준다."
      ]
    },
    {
      "cell_type": "code",
      "metadata": {
        "colab": {
          "base_uri": "https://localhost:8080/"
        },
        "id": "Hiw_o_v3ukix",
        "outputId": "51de85ee-e32b-46a0-cda5-41181011510e"
      },
      "source": [
        "np.arange(1, 10, 2) # start , stop, step"
      ],
      "execution_count": null,
      "outputs": [
        {
          "output_type": "execute_result",
          "data": {
            "text/plain": [
              "array([1, 3, 5, 7, 9])"
            ]
          },
          "metadata": {},
          "execution_count": 11
        }
      ]
    },
    {
      "cell_type": "code",
      "metadata": {
        "colab": {
          "base_uri": "https://localhost:8080/"
        },
        "id": "Aj2iWWLqutUk",
        "outputId": "7bbac7ea-0585-4e91-8b0c-c14954e4cd7e"
      },
      "source": [
        "np.arange(1, 10).reshape(3, 3)"
      ],
      "execution_count": null,
      "outputs": [
        {
          "output_type": "execute_result",
          "data": {
            "text/plain": [
              "array([[1, 2, 3],\n",
              "       [4, 5, 6],\n",
              "       [7, 8, 9]])"
            ]
          },
          "metadata": {},
          "execution_count": 13
        }
      ]
    },
    {
      "cell_type": "code",
      "metadata": {
        "colab": {
          "base_uri": "https://localhost:8080/"
        },
        "id": "OiS5jFq5uzc7",
        "outputId": "8cd08a47-e2ca-4f99-ea21-39b1c7fc50a7"
      },
      "source": [
        "np.arange(1, 13).reshape(3, 4)"
      ],
      "execution_count": null,
      "outputs": [
        {
          "output_type": "execute_result",
          "data": {
            "text/plain": [
              "array([[ 1,  2,  3,  4],\n",
              "       [ 5,  6,  7,  8],\n",
              "       [ 9, 10, 11, 12]])"
            ]
          },
          "metadata": {},
          "execution_count": 15
        }
      ]
    },
    {
      "cell_type": "code",
      "metadata": {
        "colab": {
          "base_uri": "https://localhost:8080/"
        },
        "id": "K-n4f28nu94X",
        "outputId": "daec2f5d-5b7f-41eb-c59f-02657f86f15c"
      },
      "source": [
        "np.arange(1, 13).reshape(3, 2, 2) "
      ],
      "execution_count": null,
      "outputs": [
        {
          "output_type": "execute_result",
          "data": {
            "text/plain": [
              "array([[[ 1,  2],\n",
              "        [ 3,  4]],\n",
              "\n",
              "       [[ 5,  6],\n",
              "        [ 7,  8]],\n",
              "\n",
              "       [[ 9, 10],\n",
              "        [11, 12]]])"
            ]
          },
          "metadata": {},
          "execution_count": 17
        }
      ]
    },
    {
      "cell_type": "markdown",
      "metadata": {
        "id": "-JcNKCEgzNBC"
      },
      "source": [
        "NaN\n",
        "- 자료형이 Float형이므로 Integer에서는 오류가 발생한다.\n",
        "- 배열에서 연산할 경우 오류가 발생하지 않지만  결과값이 NaN이 된다."
      ]
    },
    {
      "cell_type": "code",
      "metadata": {
        "colab": {
          "base_uri": "https://localhost:8080/"
        },
        "id": "yV4ApSX2vDYr",
        "outputId": "f63135ed-0f39-4938-fd24-231d921b61e2"
      },
      "source": [
        "# 결측치\n",
        "np.nan + 10 \n",
        "np.nan * 10"
      ],
      "execution_count": null,
      "outputs": [
        {
          "output_type": "execute_result",
          "data": {
            "text/plain": [
              "nan"
            ]
          },
          "metadata": {},
          "execution_count": 22
        }
      ]
    },
    {
      "cell_type": "code",
      "metadata": {
        "colab": {
          "base_uri": "https://localhost:8080/"
        },
        "id": "Q9QZRDzNveaA",
        "outputId": "4e2fe41c-a19c-400d-9bb2-37ded5baa0d9"
      },
      "source": [
        "a[0][1] = np.nan\n",
        "a"
      ],
      "execution_count": null,
      "outputs": [
        {
          "output_type": "execute_result",
          "data": {
            "text/plain": [
              "array([[ 1., nan,  3.],\n",
              "       [ 4.,  5.,  6.],\n",
              "       [ 7.,  8.,  9.]], dtype=float32)"
            ]
          },
          "metadata": {},
          "execution_count": 21
        }
      ]
    },
    {
      "cell_type": "code",
      "metadata": {
        "colab": {
          "base_uri": "https://localhost:8080/"
        },
        "id": "nfkx0v6zvhKU",
        "outputId": "1a16aac7-7d22-42b2-e94f-9315abb6c4fc"
      },
      "source": [
        "a = np.arange(1, 10).reshape(3, 3)\n",
        "a\n",
        "# int형에서는 nan을 사용x, float에서만 nan 사용가능"
      ],
      "execution_count": null,
      "outputs": [
        {
          "output_type": "execute_result",
          "data": {
            "text/plain": [
              "array([[1, 2, 3],\n",
              "       [4, 5, 6],\n",
              "       [7, 8, 9]])"
            ]
          },
          "metadata": {},
          "execution_count": 23
        }
      ]
    },
    {
      "cell_type": "code",
      "metadata": {
        "colab": {
          "base_uri": "https://localhost:8080/"
        },
        "id": "7zIMqCKGvwez",
        "outputId": "7e9161b0-fb26-461e-fa3e-8b7aa7575515"
      },
      "source": [
        "a = np.linspace(1, 10, 20) # 초기값, 종료값, 몇개\n",
        "a"
      ],
      "execution_count": null,
      "outputs": [
        {
          "output_type": "execute_result",
          "data": {
            "text/plain": [
              "array([ 1.        ,  1.47368421,  1.94736842,  2.42105263,  2.89473684,\n",
              "        3.36842105,  3.84210526,  4.31578947,  4.78947368,  5.26315789,\n",
              "        5.73684211,  6.21052632,  6.68421053,  7.15789474,  7.63157895,\n",
              "        8.10526316,  8.57894737,  9.05263158,  9.52631579, 10.        ])"
            ]
          },
          "metadata": {},
          "execution_count": 26
        }
      ]
    },
    {
      "cell_type": "markdown",
      "metadata": {
        "id": "5oTdcgbzzTc0"
      },
      "source": [
        "**연산**\n",
        "\n",
        "- 반복문을 사용하지 않아도,  배열의 모든 원소는 반복연산이 사용된다.\n",
        "- 선형 대수 식을 사용하여 연산 가능하다.\n",
        "    - np.dot, @ : 행렬 곱 구하는 연산"
      ]
    },
    {
      "cell_type": "code",
      "metadata": {
        "colab": {
          "base_uri": "https://localhost:8080/"
        },
        "id": "salgfy1hwFBi",
        "outputId": "68664a05-2fb8-4cba-d35d-16162d94617a"
      },
      "source": [
        "#########\n",
        "## 연산 ##\n",
        "#########\n",
        "data = np.arange(1, 10).reshape(3, 3)\n",
        "data"
      ],
      "execution_count": null,
      "outputs": [
        {
          "output_type": "execute_result",
          "data": {
            "text/plain": [
              "array([[1, 2, 3],\n",
              "       [4, 5, 6],\n",
              "       [7, 8, 9]])"
            ]
          },
          "metadata": {},
          "execution_count": 27
        }
      ]
    },
    {
      "cell_type": "code",
      "metadata": {
        "colab": {
          "base_uri": "https://localhost:8080/"
        },
        "id": "ktAvZOEjwZZF",
        "outputId": "99cf4377-bb87-4f64-b42b-9c13c0e1f157"
      },
      "source": [
        "data + data"
      ],
      "execution_count": null,
      "outputs": [
        {
          "output_type": "execute_result",
          "data": {
            "text/plain": [
              "array([[ 2,  4,  6],\n",
              "       [ 8, 10, 12],\n",
              "       [14, 16, 18]])"
            ]
          },
          "metadata": {},
          "execution_count": 28
        }
      ]
    },
    {
      "cell_type": "code",
      "metadata": {
        "colab": {
          "base_uri": "https://localhost:8080/"
        },
        "id": "JfUfFMttwazY",
        "outputId": "71a3a144-4666-4c95-d415-f57b9654ff7f"
      },
      "source": [
        "data * data"
      ],
      "execution_count": null,
      "outputs": [
        {
          "output_type": "execute_result",
          "data": {
            "text/plain": [
              "array([[ 1,  4,  9],\n",
              "       [16, 25, 36],\n",
              "       [49, 64, 81]])"
            ]
          },
          "metadata": {},
          "execution_count": 30
        }
      ]
    },
    {
      "cell_type": "code",
      "metadata": {
        "colab": {
          "base_uri": "https://localhost:8080/"
        },
        "id": "66wukqe6wki9",
        "outputId": "8c28f70b-2b63-41c3-d81b-6113598adee1"
      },
      "source": [
        "data / data"
      ],
      "execution_count": null,
      "outputs": [
        {
          "output_type": "execute_result",
          "data": {
            "text/plain": [
              "array([[1., 1., 1.],\n",
              "       [1., 1., 1.],\n",
              "       [1., 1., 1.]])"
            ]
          },
          "metadata": {},
          "execution_count": 31
        }
      ]
    },
    {
      "cell_type": "code",
      "metadata": {
        "colab": {
          "base_uri": "https://localhost:8080/"
        },
        "id": "C3jBMR9Zwmo1",
        "outputId": "38145255-ad78-40f3-f74d-0536ebb4219f"
      },
      "source": [
        "# 행렬의 곱\n",
        "np.dot(data, data)"
      ],
      "execution_count": null,
      "outputs": [
        {
          "output_type": "execute_result",
          "data": {
            "text/plain": [
              "array([[ 30,  36,  42],\n",
              "       [ 66,  81,  96],\n",
              "       [102, 126, 150]])"
            ]
          },
          "metadata": {},
          "execution_count": 32
        }
      ]
    },
    {
      "cell_type": "code",
      "metadata": {
        "colab": {
          "base_uri": "https://localhost:8080/"
        },
        "id": "1ndHG6qkwyB7",
        "outputId": "28b8c545-be4e-46ac-db5f-d94d0488b348"
      },
      "source": [
        "data@data"
      ],
      "execution_count": null,
      "outputs": [
        {
          "output_type": "execute_result",
          "data": {
            "text/plain": [
              "array([[ 30,  36,  42],\n",
              "       [ 66,  81,  96],\n",
              "       [102, 126, 150]])"
            ]
          },
          "metadata": {},
          "execution_count": 33
        }
      ]
    },
    {
      "cell_type": "markdown",
      "metadata": {
        "id": "0yjn5JZezaA1"
      },
      "source": [
        "**차원**\n",
        "\n",
        "- 0차원 : Scalar (하나의 데이터 값으로만 존재하는 것)\n",
        "- 1차원 : Vector (숫자들의 배열 (1D array))\n",
        "- 2차원 : Matrix (숫자들의 2D array (rows: 행, columns: 열))\n",
        "- 3차원 이상 : Tensor (숫자들의 다차원 배열)"
      ]
    },
    {
      "cell_type": "code",
      "metadata": {
        "id": "rf6XyH6lw36J"
      },
      "source": [
        "##############\n",
        "#### 차원 #####\n",
        "##############"
      ],
      "execution_count": null,
      "outputs": []
    },
    {
      "cell_type": "code",
      "metadata": {
        "colab": {
          "base_uri": "https://localhost:8080/"
        },
        "id": "BsN5HzdhxIol",
        "outputId": "1cf1b6b6-450b-49d3-8aff-d187ae66f458"
      },
      "source": [
        "# 0차원 : 스칼라\n",
        "a = np.array(1)\n",
        "a\n",
        "a.shape\n",
        "a.ndim # 차원"
      ],
      "execution_count": null,
      "outputs": [
        {
          "output_type": "execute_result",
          "data": {
            "text/plain": [
              "0"
            ]
          },
          "metadata": {},
          "execution_count": 36
        }
      ]
    },
    {
      "cell_type": "code",
      "metadata": {
        "colab": {
          "base_uri": "https://localhost:8080/"
        },
        "id": "3YFRocUJxMIP",
        "outputId": "be7eb94c-894a-493d-9ce3-5aa319a992a2"
      },
      "source": [
        "# 1차원 : 벡터\n",
        "a = np.array([1])\n",
        "a\n",
        "a.shape\n",
        "a.ndim # 차원"
      ],
      "execution_count": null,
      "outputs": [
        {
          "output_type": "execute_result",
          "data": {
            "text/plain": [
              "array([1])"
            ]
          },
          "metadata": {},
          "execution_count": 39
        }
      ]
    },
    {
      "cell_type": "code",
      "metadata": {
        "colab": {
          "base_uri": "https://localhost:8080/"
        },
        "id": "YTJ_9X_rxcSJ",
        "outputId": "b2e9e941-37f2-4846-81c8-3921af4f3924"
      },
      "source": [
        "# 1차원 : 스칼라\n",
        "a = np.array([1,2,3,4,5])\n",
        "a\n",
        "a.shape \n",
        "a.ndim # 차원"
      ],
      "execution_count": null,
      "outputs": [
        {
          "output_type": "execute_result",
          "data": {
            "text/plain": [
              "1"
            ]
          },
          "metadata": {},
          "execution_count": 43
        }
      ]
    },
    {
      "cell_type": "code",
      "metadata": {
        "colab": {
          "base_uri": "https://localhost:8080/"
        },
        "id": "qIYGcxO8xows",
        "outputId": "0430d71e-7422-48f4-c4fc-98439dc505c6"
      },
      "source": [
        "# 2차원 : 메트릭스\n",
        "a = np.array([[1,2,3], [4,5,6]])\n",
        "a\n",
        "a.shape \n",
        "a.ndim # 차원"
      ],
      "execution_count": null,
      "outputs": [
        {
          "output_type": "execute_result",
          "data": {
            "text/plain": [
              "2"
            ]
          },
          "metadata": {},
          "execution_count": 51
        }
      ]
    },
    {
      "cell_type": "code",
      "metadata": {
        "colab": {
          "base_uri": "https://localhost:8080/"
        },
        "id": "dn1N3tBGyDKy",
        "outputId": "1ebafce0-9bc2-4932-94bf-17b164fd7a3a"
      },
      "source": [
        "# 3차원 : 3차원 이상의 다차원의 행렬을 Tensor\n",
        "a = np.array([[[1,2], [3,4], [5,6]], [[7,8], [9,10], [11,12]]])\n",
        "a\n",
        "a.shape \n",
        "a.ndim # 차원"
      ],
      "execution_count": null,
      "outputs": [
        {
          "output_type": "execute_result",
          "data": {
            "text/plain": [
              "3"
            ]
          },
          "metadata": {},
          "execution_count": 61
        }
      ]
    },
    {
      "cell_type": "markdown",
      "metadata": {
        "id": "pM7o4WMYzgGm"
      },
      "source": [
        "**Matrix 유형**\n",
        "\n",
        "- zeros : 0으로 초기화된 배열 생성\n",
        "- ones  : 1로 초기화 된 배열 생성\n",
        "- eye : 주대각선의 원소가 모두 1이고 나머지 원소는 0인 정사각행렬 (단위행렬)\n",
        "- empty : 초기화 하지 않고 배열만 생성, 기존에 메모리에 저장되어 있는 값으로 나타남\n",
        "- full : 지정한 숫자로 초기화\n",
        "- linespace(start, end(포함), number, endpoint = ) : 선형 구간을 지정한 개수만큼 분할한다.\n",
        "    - endpoint = True or False : 마지막 값을 포함시킬지 시키지 않을지 선택"
      ]
    },
    {
      "cell_type": "code",
      "metadata": {
        "id": "E87v0CrLy4yZ"
      },
      "source": [
        "###############\n",
        "### Martix의 유형\n",
        "###############"
      ],
      "execution_count": null,
      "outputs": []
    },
    {
      "cell_type": "code",
      "metadata": {
        "colab": {
          "base_uri": "https://localhost:8080/"
        },
        "id": "vrsnJLp3zFuX",
        "outputId": "078fc031-221e-4c8d-b734-7939534df42e"
      },
      "source": [
        "a = np.arange(12).reshape(2, 3, 2)\n",
        "a"
      ],
      "execution_count": null,
      "outputs": [
        {
          "output_type": "execute_result",
          "data": {
            "text/plain": [
              "array([[[ 0,  1],\n",
              "        [ 2,  3],\n",
              "        [ 4,  5]],\n",
              "\n",
              "       [[ 6,  7],\n",
              "        [ 8,  9],\n",
              "        [10, 11]]])"
            ]
          },
          "metadata": {},
          "execution_count": 66
        }
      ]
    },
    {
      "cell_type": "code",
      "metadata": {
        "colab": {
          "base_uri": "https://localhost:8080/"
        },
        "id": "LvJqHtggzBup",
        "outputId": "f019346c-476c-4ed6-e958-ace3676285c2"
      },
      "source": [
        "b = np.ones(12).reshape(2, 3, 2)\n",
        "b"
      ],
      "execution_count": null,
      "outputs": [
        {
          "output_type": "execute_result",
          "data": {
            "text/plain": [
              "array([[[1., 1.],\n",
              "        [1., 1.],\n",
              "        [1., 1.]],\n",
              "\n",
              "       [[1., 1.],\n",
              "        [1., 1.],\n",
              "        [1., 1.]]])"
            ]
          },
          "metadata": {},
          "execution_count": 68
        }
      ]
    },
    {
      "cell_type": "code",
      "metadata": {
        "colab": {
          "base_uri": "https://localhost:8080/"
        },
        "id": "MQA07VtRzmHP",
        "outputId": "7e466f6e-3845-4fbe-a89b-ae95dab80f34"
      },
      "source": [
        "c = np.zeros(12).reshape(2,3,2)\n",
        "c"
      ],
      "execution_count": null,
      "outputs": [
        {
          "output_type": "execute_result",
          "data": {
            "text/plain": [
              "array([[[0., 0.],\n",
              "        [0., 0.],\n",
              "        [0., 0.]],\n",
              "\n",
              "       [[0., 0.],\n",
              "        [0., 0.],\n",
              "        [0., 0.]]])"
            ]
          },
          "metadata": {},
          "execution_count": 69
        }
      ]
    },
    {
      "cell_type": "code",
      "metadata": {
        "colab": {
          "base_uri": "https://localhost:8080/"
        },
        "id": "qoALRN_PztwV",
        "outputId": "75dea9bc-c8ec-4a2c-9aaf-6505d2076ce8"
      },
      "source": [
        "# 단위행렬 자신과 곱했을때 자신이 나오도록\n",
        "d = np.eye(3) # 단위행렬 3,3\n",
        "d"
      ],
      "execution_count": null,
      "outputs": [
        {
          "output_type": "execute_result",
          "data": {
            "text/plain": [
              "array([[1., 0., 0.],\n",
              "       [0., 1., 0.],\n",
              "       [0., 0., 1.]])"
            ]
          },
          "metadata": {},
          "execution_count": 71
        }
      ]
    },
    {
      "cell_type": "code",
      "metadata": {
        "colab": {
          "base_uri": "https://localhost:8080/"
        },
        "id": "I7mNpfbazwM0",
        "outputId": "df0e653c-a4e0-4073-fcda-0b2fa8e2bcc3"
      },
      "source": [
        "c = np.zeros(12).reshape([3, 4])\n",
        "c"
      ],
      "execution_count": null,
      "outputs": [
        {
          "output_type": "execute_result",
          "data": {
            "text/plain": [
              "array([[0., 0., 0., 0.],\n",
              "       [0., 0., 0., 0.],\n",
              "       [0., 0., 0., 0.]])"
            ]
          },
          "metadata": {},
          "execution_count": 72
        }
      ]
    },
    {
      "cell_type": "code",
      "metadata": {
        "colab": {
          "base_uri": "https://localhost:8080/"
        },
        "id": "23X9nBWE0IKD",
        "outputId": "20aeb0e7-6693-4e48-c4ee-027fd1264df7"
      },
      "source": [
        "f = np.empty([2,3])\n",
        "f"
      ],
      "execution_count": null,
      "outputs": [
        {
          "output_type": "execute_result",
          "data": {
            "text/plain": [
              "array([[4.9e-324, 9.9e-324, 1.5e-323],\n",
              "       [2.0e-323, 2.5e-323, 3.0e-323]])"
            ]
          },
          "metadata": {},
          "execution_count": 75
        }
      ]
    },
    {
      "cell_type": "code",
      "metadata": {
        "colab": {
          "base_uri": "https://localhost:8080/"
        },
        "id": "mL6VBnG80X8r",
        "outputId": "95e422b1-8343-4adb-ca2a-372dcbc3315b"
      },
      "source": [
        "g = np.full((3, 4), 1000)\n",
        "g"
      ],
      "execution_count": null,
      "outputs": [
        {
          "output_type": "execute_result",
          "data": {
            "text/plain": [
              "array([[1000, 1000, 1000, 1000],\n",
              "       [1000, 1000, 1000, 1000],\n",
              "       [1000, 1000, 1000, 1000]])"
            ]
          },
          "metadata": {},
          "execution_count": 78
        }
      ]
    },
    {
      "cell_type": "code",
      "metadata": {
        "colab": {
          "base_uri": "https://localhost:8080/"
        },
        "id": "uu3FCPKU0cSN",
        "outputId": "14f8c727-2490-4e1c-f0c4-da1ede83de5b"
      },
      "source": [
        "h = np.linspace(2, 10, 6)\n",
        "h"
      ],
      "execution_count": null,
      "outputs": [
        {
          "output_type": "execute_result",
          "data": {
            "text/plain": [
              "array([ 2. ,  3.6,  5.2,  6.8,  8.4, 10. ])"
            ]
          },
          "metadata": {},
          "execution_count": 79
        }
      ]
    },
    {
      "cell_type": "markdown",
      "metadata": {
        "id": "eTBgPB1mzp2g"
      },
      "source": [
        "**집계함수**\n",
        "\n",
        "- mean : 평균을 구하는 함수\n",
        "- median : 데이터를 크기로 정렬하고 그 중 가운데 수 출력하는 함수\n",
        "    \n",
        "    ※ 만약 데이터 개수가 짝수일 경우 가장 가운데의 두 수의 평균을 구한다.\n",
        "    \n",
        "- var : 분산 구하는 함수\n",
        "- std : 표준편차 구하는 함수\n",
        "- sum : 합계 구하는 함수\n",
        "- max : 가장 큰 수를 구하는 함수\n",
        "- min : 가장 작은 수를 구하는 함수"
      ]
    },
    {
      "cell_type": "code",
      "metadata": {
        "id": "S-B0sHQ60sRB"
      },
      "source": [
        "####################\n",
        "###### 집계함수 ######\n",
        "####################"
      ],
      "execution_count": null,
      "outputs": []
    },
    {
      "cell_type": "code",
      "metadata": {
        "colab": {
          "base_uri": "https://localhost:8080/"
        },
        "id": "Y_Pl6s0Y0-m9",
        "outputId": "d04c6986-109a-433c-e050-386a1c1fbcac"
      },
      "source": [
        "a = np.arange(10).reshape(2, 5)\n",
        "a"
      ],
      "execution_count": null,
      "outputs": [
        {
          "output_type": "execute_result",
          "data": {
            "text/plain": [
              "array([[0, 1, 2, 3, 4],\n",
              "       [5, 6, 7, 8, 9]])"
            ]
          },
          "metadata": {},
          "execution_count": 85
        }
      ]
    },
    {
      "cell_type": "code",
      "metadata": {
        "colab": {
          "base_uri": "https://localhost:8080/"
        },
        "id": "RCPJbOse-7uX",
        "outputId": "8c747c6f-f98e-4937-a06f-5733a5e7d58a"
      },
      "source": [
        "a[0][0] = 100\n",
        "a"
      ],
      "execution_count": null,
      "outputs": [
        {
          "output_type": "execute_result",
          "data": {
            "text/plain": [
              "array([[100,   1,   2,   3,   4],\n",
              "       [  5,   6,   7,   8,   9]])"
            ]
          },
          "metadata": {},
          "execution_count": 86
        }
      ]
    },
    {
      "cell_type": "code",
      "metadata": {
        "colab": {
          "base_uri": "https://localhost:8080/"
        },
        "id": "CEnPIJPu1jsT",
        "outputId": "baa814f7-3efe-4b23-fcde-7f48705f3b9e"
      },
      "source": [
        "a[0, 1] = 1000\n",
        "a"
      ],
      "execution_count": null,
      "outputs": [
        {
          "output_type": "execute_result",
          "data": {
            "text/plain": [
              "array([[ 100, 1000,    2,    3,    4],\n",
              "       [   5,    6,    7,    8,    9]])"
            ]
          },
          "metadata": {},
          "execution_count": 87
        }
      ]
    },
    {
      "cell_type": "code",
      "metadata": {
        "colab": {
          "base_uri": "https://localhost:8080/"
        },
        "id": "itk23CzI1ndE",
        "outputId": "deb85193-0802-4d45-e1ce-9e6b13a28741"
      },
      "source": [
        "np.mean(a) # 평균"
      ],
      "execution_count": null,
      "outputs": [
        {
          "output_type": "execute_result",
          "data": {
            "text/plain": [
              "114.4"
            ]
          },
          "metadata": {},
          "execution_count": 88
        }
      ]
    },
    {
      "cell_type": "code",
      "metadata": {
        "colab": {
          "base_uri": "https://localhost:8080/"
        },
        "id": "ny8wn9pf_DvL",
        "outputId": "875c0aef-b896-40fc-c488-f76d510d5e1d"
      },
      "source": [
        "np.median(a) # 중아값"
      ],
      "execution_count": null,
      "outputs": [
        {
          "output_type": "execute_result",
          "data": {
            "text/plain": [
              "6.5"
            ]
          },
          "metadata": {},
          "execution_count": 89
        }
      ]
    },
    {
      "cell_type": "code",
      "metadata": {
        "colab": {
          "base_uri": "https://localhost:8080/"
        },
        "id": "yw87rMZ__FMr",
        "outputId": "c45110e6-0264-412b-9a0e-03bdddfe98d6"
      },
      "source": [
        "np.std(a) # 표준편차"
      ],
      "execution_count": null,
      "outputs": [
        {
          "output_type": "execute_result",
          "data": {
            "text/plain": [
              "296.5485457728633"
            ]
          },
          "metadata": {},
          "execution_count": 90
        },
        {
          "output_type": "execute_result",
          "data": {
            "text/plain": [
              "296.5485457728633"
            ]
          },
          "metadata": {},
          "execution_count": 92
        }
      ]
    },
    {
      "cell_type": "code",
      "metadata": {
        "colab": {
          "base_uri": "https://localhost:8080/"
        },
        "id": "602dxass_L6B",
        "outputId": "44bf884d-d33a-4fd0-a4c5-af4fd98cbcac"
      },
      "source": [
        "np.var(a) # 분산"
      ],
      "execution_count": null,
      "outputs": [
        {
          "output_type": "execute_result",
          "data": {
            "text/plain": [
              "87941.04"
            ]
          },
          "metadata": {},
          "execution_count": 93
        }
      ]
    },
    {
      "cell_type": "code",
      "metadata": {
        "colab": {
          "base_uri": "https://localhost:8080/"
        },
        "id": "POxKBiRt_M-D",
        "outputId": "3a03ec62-2124-41a3-b780-bacb2afe5394"
      },
      "source": [
        "np.sum(a)"
      ],
      "execution_count": null,
      "outputs": [
        {
          "output_type": "execute_result",
          "data": {
            "text/plain": [
              "1144"
            ]
          },
          "metadata": {},
          "execution_count": 94
        }
      ]
    },
    {
      "cell_type": "code",
      "metadata": {
        "colab": {
          "base_uri": "https://localhost:8080/"
        },
        "id": "xcK5gzsy_Y19",
        "outputId": "40aef118-8291-45f8-bdae-50dbdc8d1e48"
      },
      "source": [
        "sum(a)"
      ],
      "execution_count": null,
      "outputs": [
        {
          "output_type": "execute_result",
          "data": {
            "text/plain": [
              "array([ 105, 1006,    9,   11,   13])"
            ]
          },
          "metadata": {},
          "execution_count": 95
        }
      ]
    },
    {
      "cell_type": "code",
      "metadata": {
        "colab": {
          "base_uri": "https://localhost:8080/"
        },
        "id": "QSZhbKMF_aXO",
        "outputId": "dd4689cb-13ce-443f-931c-ba40cfa6d392"
      },
      "source": [
        "a"
      ],
      "execution_count": null,
      "outputs": [
        {
          "output_type": "execute_result",
          "data": {
            "text/plain": [
              "array([[ 100, 1000,    2,    3,    4],\n",
              "       [   5,    6,    7,    8,    9]])"
            ]
          },
          "metadata": {},
          "execution_count": 96
        }
      ]
    },
    {
      "cell_type": "code",
      "metadata": {
        "colab": {
          "base_uri": "https://localhost:8080/"
        },
        "id": "zDAaYBHl_bld",
        "outputId": "e3805e00-59c3-49da-b35b-960d7fae6ea4"
      },
      "source": [
        "np.sum(a, axis=0) # col으로 덧셈"
      ],
      "execution_count": null,
      "outputs": [
        {
          "output_type": "execute_result",
          "data": {
            "text/plain": [
              "array([ 105, 1006,    9,   11,   13])"
            ]
          },
          "metadata": {},
          "execution_count": 97
        }
      ]
    },
    {
      "cell_type": "code",
      "metadata": {
        "colab": {
          "base_uri": "https://localhost:8080/"
        },
        "id": "s7wIi6hd_dU-",
        "outputId": "1bd78eb6-7eb2-4664-b81a-01ccadc169f3"
      },
      "source": [
        "np.sum(a, axis=1) # row 로 덧셈"
      ],
      "execution_count": null,
      "outputs": [
        {
          "output_type": "execute_result",
          "data": {
            "text/plain": [
              "array([1109,   35])"
            ]
          },
          "metadata": {},
          "execution_count": 98
        }
      ]
    },
    {
      "cell_type": "code",
      "metadata": {
        "colab": {
          "base_uri": "https://localhost:8080/"
        },
        "id": "LWB8ztQT_fsA",
        "outputId": "2aba105d-3ae4-45f9-e927-06f0da6f7355"
      },
      "source": [
        "np.max(a)"
      ],
      "execution_count": null,
      "outputs": [
        {
          "output_type": "execute_result",
          "data": {
            "text/plain": [
              "1000"
            ]
          },
          "metadata": {},
          "execution_count": 99
        }
      ]
    },
    {
      "cell_type": "code",
      "metadata": {
        "colab": {
          "base_uri": "https://localhost:8080/"
        },
        "id": "qPxUFTgf_gqo",
        "outputId": "6bbc3b87-2d13-41b3-bc9c-e9b245d55e05"
      },
      "source": [
        "np.min(a)"
      ],
      "execution_count": null,
      "outputs": [
        {
          "output_type": "execute_result",
          "data": {
            "text/plain": [
              "2"
            ]
          },
          "metadata": {},
          "execution_count": 100
        }
      ]
    },
    {
      "cell_type": "code",
      "metadata": {
        "id": "2OdIMDO9_izm"
      },
      "source": [
        ""
      ],
      "execution_count": null,
      "outputs": []
    }
  ]
}
