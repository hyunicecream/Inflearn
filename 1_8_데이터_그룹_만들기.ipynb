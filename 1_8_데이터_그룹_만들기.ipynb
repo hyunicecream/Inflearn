{
  "nbformat": 4,
  "nbformat_minor": 0,
  "metadata": {
    "colab": {
      "name": "1-8 데이터 그룹 만들기.ipynb",
      "provenance": [],
      "collapsed_sections": [],
      "authorship_tag": "ABX9TyPTCo2fpMZj6mJJHr1XhWqS",
      "include_colab_link": true
    },
    "kernelspec": {
      "name": "python3",
      "display_name": "Python 3"
    },
    "language_info": {
      "name": "python"
    }
  },
  "cells": [
    {
      "cell_type": "markdown",
      "metadata": {
        "id": "view-in-github",
        "colab_type": "text"
      },
      "source": [
        "<a href=\"https://colab.research.google.com/github/hyunicecream/Inflearn/blob/main/1_8_%EB%8D%B0%EC%9D%B4%ED%84%B0_%EA%B7%B8%EB%A3%B9_%EB%A7%8C%EB%93%A4%EA%B8%B0.ipynb\" target=\"_parent\"><img src=\"https://colab.research.google.com/assets/colab-badge.svg\" alt=\"Open In Colab\"/></a>"
      ]
    },
    {
      "cell_type": "code",
      "metadata": {
        "id": "isGQ1-PiEaNR"
      },
      "source": [
        "import pandas as pd"
      ],
      "execution_count": null,
      "outputs": []
    },
    {
      "cell_type": "markdown",
      "metadata": {
        "id": "wtMqG9WNE_N1"
      },
      "source": [
        "Group By"
      ]
    },
    {
      "cell_type": "code",
      "metadata": {
        "colab": {
          "base_uri": "https://localhost:8080/",
          "height": 394
        },
        "id": "y0SM3hgvEdSd",
        "outputId": "35a75804-b2a8-4011-ae69-e99c1eff3208"
      },
      "source": [
        "student_list = [{'name': 'John', 'major': \"Computer Science\", 'sex': \"male\"},\n",
        "                {'name': 'Nate', 'major': \"Computer Science\", 'sex': \"male\"},\n",
        "                {'name': 'Abraham', 'major': \"Physics\", 'sex': \"male\"},\n",
        "                {'name': 'Brian', 'major': \"Psychology\", 'sex': \"male\"},\n",
        "                {'name': 'Janny', 'major': \"Economics\", 'sex': \"female\"},\n",
        "                {'name': 'Yuna', 'major': \"Economics\", 'sex': \"female\"},\n",
        "                {'name': 'Jeniffer', 'major': \"Computer Science\", 'sex': \"female\"},\n",
        "                {'name': 'Edward', 'major': \"Computer Science\", 'sex': \"male\"},\n",
        "                {'name': 'Zara', 'major': \"Psychology\", 'sex': \"female\"},\n",
        "                {'name': 'Wendy', 'major': \"Economics\", 'sex': \"female\"},\n",
        "                {'name': 'Sera', 'major': \"Psychology\", 'sex': \"female\"}\n",
        "         ]\n",
        "df = pd.DataFrame(student_list, columns = ['name', 'major', 'sex'])\n",
        "df"
      ],
      "execution_count": null,
      "outputs": [
        {
          "output_type": "execute_result",
          "data": {
            "text/html": [
              "<div>\n",
              "<style scoped>\n",
              "    .dataframe tbody tr th:only-of-type {\n",
              "        vertical-align: middle;\n",
              "    }\n",
              "\n",
              "    .dataframe tbody tr th {\n",
              "        vertical-align: top;\n",
              "    }\n",
              "\n",
              "    .dataframe thead th {\n",
              "        text-align: right;\n",
              "    }\n",
              "</style>\n",
              "<table border=\"1\" class=\"dataframe\">\n",
              "  <thead>\n",
              "    <tr style=\"text-align: right;\">\n",
              "      <th></th>\n",
              "      <th>name</th>\n",
              "      <th>major</th>\n",
              "      <th>sex</th>\n",
              "    </tr>\n",
              "  </thead>\n",
              "  <tbody>\n",
              "    <tr>\n",
              "      <th>0</th>\n",
              "      <td>John</td>\n",
              "      <td>Computer Science</td>\n",
              "      <td>male</td>\n",
              "    </tr>\n",
              "    <tr>\n",
              "      <th>1</th>\n",
              "      <td>Nate</td>\n",
              "      <td>Computer Science</td>\n",
              "      <td>male</td>\n",
              "    </tr>\n",
              "    <tr>\n",
              "      <th>2</th>\n",
              "      <td>Abraham</td>\n",
              "      <td>Physics</td>\n",
              "      <td>male</td>\n",
              "    </tr>\n",
              "    <tr>\n",
              "      <th>3</th>\n",
              "      <td>Brian</td>\n",
              "      <td>Psychology</td>\n",
              "      <td>male</td>\n",
              "    </tr>\n",
              "    <tr>\n",
              "      <th>4</th>\n",
              "      <td>Janny</td>\n",
              "      <td>Economics</td>\n",
              "      <td>female</td>\n",
              "    </tr>\n",
              "    <tr>\n",
              "      <th>5</th>\n",
              "      <td>Yuna</td>\n",
              "      <td>Economics</td>\n",
              "      <td>female</td>\n",
              "    </tr>\n",
              "    <tr>\n",
              "      <th>6</th>\n",
              "      <td>Jeniffer</td>\n",
              "      <td>Computer Science</td>\n",
              "      <td>female</td>\n",
              "    </tr>\n",
              "    <tr>\n",
              "      <th>7</th>\n",
              "      <td>Edward</td>\n",
              "      <td>Computer Science</td>\n",
              "      <td>male</td>\n",
              "    </tr>\n",
              "    <tr>\n",
              "      <th>8</th>\n",
              "      <td>Zara</td>\n",
              "      <td>Psychology</td>\n",
              "      <td>female</td>\n",
              "    </tr>\n",
              "    <tr>\n",
              "      <th>9</th>\n",
              "      <td>Wendy</td>\n",
              "      <td>Economics</td>\n",
              "      <td>female</td>\n",
              "    </tr>\n",
              "    <tr>\n",
              "      <th>10</th>\n",
              "      <td>Sera</td>\n",
              "      <td>Psychology</td>\n",
              "      <td>female</td>\n",
              "    </tr>\n",
              "  </tbody>\n",
              "</table>\n",
              "</div>"
            ],
            "text/plain": [
              "        name             major     sex\n",
              "0       John  Computer Science    male\n",
              "1       Nate  Computer Science    male\n",
              "2    Abraham           Physics    male\n",
              "3      Brian        Psychology    male\n",
              "4      Janny         Economics  female\n",
              "5       Yuna         Economics  female\n",
              "6   Jeniffer  Computer Science  female\n",
              "7     Edward  Computer Science    male\n",
              "8       Zara        Psychology  female\n",
              "9      Wendy         Economics  female\n",
              "10      Sera        Psychology  female"
            ]
          },
          "metadata": {},
          "execution_count": 2
        }
      ]
    },
    {
      "cell_type": "code",
      "metadata": {
        "id": "zKgXAxApEqNR"
      },
      "source": [
        "# 전공별로 group by 해보기\n",
        "groupby_major = df.groupby('major')"
      ],
      "execution_count": null,
      "outputs": []
    },
    {
      "cell_type": "code",
      "metadata": {
        "colab": {
          "base_uri": "https://localhost:8080/"
        },
        "id": "N2tdQZRME5Eg",
        "outputId": "d5ea66c2-f587-4d0a-e7b0-8b0951e93278"
      },
      "source": [
        "groupby_major.groups"
      ],
      "execution_count": null,
      "outputs": [
        {
          "output_type": "execute_result",
          "data": {
            "text/plain": [
              "{'Computer Science': [0, 1, 6, 7], 'Economics': [4, 5, 9], 'Physics': [2], 'Psychology': [3, 8, 10]}"
            ]
          },
          "metadata": {},
          "execution_count": 5
        }
      ]
    },
    {
      "cell_type": "code",
      "metadata": {
        "colab": {
          "base_uri": "https://localhost:8080/"
        },
        "id": "8vCl9GtRFcLF",
        "outputId": "d4beb899-2c9a-40e4-a408-e896a95858ba"
      },
      "source": [
        "for name, group in groupby_major:\n",
        "  print(name + \" : \" + str(len(group)))\n",
        "  print(group)\n",
        "  print()"
      ],
      "execution_count": null,
      "outputs": [
        {
          "output_type": "stream",
          "name": "stdout",
          "text": [
            "Computer Science : 4\n",
            "       name             major     sex\n",
            "0      John  Computer Science    male\n",
            "1      Nate  Computer Science    male\n",
            "6  Jeniffer  Computer Science  female\n",
            "7    Edward  Computer Science    male\n",
            "\n",
            "Economics : 3\n",
            "    name      major     sex\n",
            "4  Janny  Economics  female\n",
            "5   Yuna  Economics  female\n",
            "9  Wendy  Economics  female\n",
            "\n",
            "Physics : 1\n",
            "      name    major   sex\n",
            "2  Abraham  Physics  male\n",
            "\n",
            "Psychology : 3\n",
            "     name       major     sex\n",
            "3   Brian  Psychology    male\n",
            "8    Zara  Psychology  female\n",
            "10   Sera  Psychology  female\n",
            "\n"
          ]
        }
      ]
    },
    {
      "cell_type": "code",
      "metadata": {
        "colab": {
          "base_uri": "https://localhost:8080/",
          "height": 175
        },
        "id": "3Wmjjxd1F6ey",
        "outputId": "57d9f3e2-90ba-4f95-d0dd-40439fd1bb28"
      },
      "source": [
        "df_major_cnt = pd.DataFrame( {'count' : groupby_major.size()}).reset_index()\n",
        "df_major_cnt"
      ],
      "execution_count": null,
      "outputs": [
        {
          "output_type": "execute_result",
          "data": {
            "text/html": [
              "<div>\n",
              "<style scoped>\n",
              "    .dataframe tbody tr th:only-of-type {\n",
              "        vertical-align: middle;\n",
              "    }\n",
              "\n",
              "    .dataframe tbody tr th {\n",
              "        vertical-align: top;\n",
              "    }\n",
              "\n",
              "    .dataframe thead th {\n",
              "        text-align: right;\n",
              "    }\n",
              "</style>\n",
              "<table border=\"1\" class=\"dataframe\">\n",
              "  <thead>\n",
              "    <tr style=\"text-align: right;\">\n",
              "      <th></th>\n",
              "      <th>major</th>\n",
              "      <th>count</th>\n",
              "    </tr>\n",
              "  </thead>\n",
              "  <tbody>\n",
              "    <tr>\n",
              "      <th>0</th>\n",
              "      <td>Computer Science</td>\n",
              "      <td>4</td>\n",
              "    </tr>\n",
              "    <tr>\n",
              "      <th>1</th>\n",
              "      <td>Economics</td>\n",
              "      <td>3</td>\n",
              "    </tr>\n",
              "    <tr>\n",
              "      <th>2</th>\n",
              "      <td>Physics</td>\n",
              "      <td>1</td>\n",
              "    </tr>\n",
              "    <tr>\n",
              "      <th>3</th>\n",
              "      <td>Psychology</td>\n",
              "      <td>3</td>\n",
              "    </tr>\n",
              "  </tbody>\n",
              "</table>\n",
              "</div>"
            ],
            "text/plain": [
              "              major  count\n",
              "0  Computer Science      4\n",
              "1         Economics      3\n",
              "2           Physics      1\n",
              "3        Psychology      3"
            ]
          },
          "metadata": {},
          "execution_count": 16
        }
      ]
    },
    {
      "cell_type": "code",
      "metadata": {
        "id": "YvXM9RT_GU8P"
      },
      "source": [
        "# 성별로 group by 해보기\n",
        "groupby_sex = df.groupby('sex')"
      ],
      "execution_count": null,
      "outputs": []
    },
    {
      "cell_type": "code",
      "metadata": {
        "colab": {
          "base_uri": "https://localhost:8080/"
        },
        "id": "_1bsLeWkGiUF",
        "outputId": "dce562d1-ae6f-47d5-8ea2-2b1190bbbbbc"
      },
      "source": [
        "for name, group in groupby_sex:\n",
        "  print(name + \" : \" + str(len(group)))\n",
        "  print(group)\n",
        "  print()"
      ],
      "execution_count": null,
      "outputs": [
        {
          "output_type": "stream",
          "name": "stdout",
          "text": [
            "female : 6\n",
            "        name             major     sex\n",
            "4      Janny         Economics  female\n",
            "5       Yuna         Economics  female\n",
            "6   Jeniffer  Computer Science  female\n",
            "8       Zara        Psychology  female\n",
            "9      Wendy         Economics  female\n",
            "10      Sera        Psychology  female\n",
            "\n",
            "male : 5\n",
            "      name             major   sex\n",
            "0     John  Computer Science  male\n",
            "1     Nate  Computer Science  male\n",
            "2  Abraham           Physics  male\n",
            "3    Brian        Psychology  male\n",
            "7   Edward  Computer Science  male\n",
            "\n"
          ]
        }
      ]
    },
    {
      "cell_type": "code",
      "metadata": {
        "id": "5wS5urNeG3fk"
      },
      "source": [
        ""
      ],
      "execution_count": null,
      "outputs": []
    }
  ]
}