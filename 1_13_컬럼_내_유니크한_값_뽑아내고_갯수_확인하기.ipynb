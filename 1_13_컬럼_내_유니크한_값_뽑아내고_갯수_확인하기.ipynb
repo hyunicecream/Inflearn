{
  "nbformat": 4,
  "nbformat_minor": 0,
  "metadata": {
    "colab": {
      "name": "1-13 컬럼 내 유니크한 값 뽑아내고 갯수 확인하기.ipynb",
      "provenance": [],
      "collapsed_sections": [],
      "authorship_tag": "ABX9TyNYBtuCXfskwzQREXPOjEAR",
      "include_colab_link": true
    },
    "kernelspec": {
      "name": "python3",
      "display_name": "Python 3"
    },
    "language_info": {
      "name": "python"
    }
  },
  "cells": [
    {
      "cell_type": "markdown",
      "metadata": {
        "id": "view-in-github",
        "colab_type": "text"
      },
      "source": [
        "<a href=\"https://colab.research.google.com/github/hyunicecream/Inflearn/blob/main/1_13_%EC%BB%AC%EB%9F%BC_%EB%82%B4_%EC%9C%A0%EB%8B%88%ED%81%AC%ED%95%9C_%EA%B0%92_%EB%BD%91%EC%95%84%EB%82%B4%EA%B3%A0_%EA%B0%AF%EC%88%98_%ED%99%95%EC%9D%B8%ED%95%98%EA%B8%B0.ipynb\" target=\"_parent\"><img src=\"https://colab.research.google.com/assets/colab-badge.svg\" alt=\"Open In Colab\"/></a>"
      ]
    },
    {
      "cell_type": "code",
      "metadata": {
        "id": "D6S4DYJ6WAHl"
      },
      "source": [
        "import pandas as pd"
      ],
      "execution_count": null,
      "outputs": []
    },
    {
      "cell_type": "markdown",
      "metadata": {
        "id": "4-1RO0IrWY1n"
      },
      "source": [
        "Unique\n",
        "컬럼에 여러 값이 있을 때, 중복 없이 어떤 값들이 있는 지 확인하는 방법입니다.\n",
        "\n"
      ]
    },
    {
      "cell_type": "code",
      "metadata": {
        "colab": {
          "base_uri": "https://localhost:8080/",
          "height": 677
        },
        "id": "rBVCnjs6WG0x",
        "outputId": "1f6446c5-525b-4ef2-be19-71222f9fa0f0"
      },
      "source": [
        "job_list = [{'name': 'John', 'job': \"teacher\"},\n",
        "                {'name': 'Nate', 'job': \"teacher\"},\n",
        "                {'name': 'Fred', 'job': \"teacher\"},\n",
        "                {'name': 'Abraham', 'job': \"student\"},\n",
        "                {'name': 'Brian', 'job': \"student\"},\n",
        "                {'name': 'Janny', 'job': \"developer\"},\n",
        "                {'name': 'Nate', 'job': \"teacher\"},\n",
        "                {'name': 'Obrian', 'job': \"dentist\"},\n",
        "                {'name': 'Yuna', 'job': \"teacher\"},\n",
        "                {'name': 'Rob', 'job': \"lawyer\"},\n",
        "                {'name': 'Brian', 'job': \"student\"},\n",
        "                {'name': 'Matt', 'job': \"student\"},\n",
        "                {'name': 'Wendy', 'job': \"banker\"},\n",
        "                {'name': 'Edward', 'job': \"teacher\"},\n",
        "                {'name': 'Ian', 'job': \"teacher\"},\n",
        "                {'name': 'Chris', 'job': \"banker\"},\n",
        "                {'name': 'Philip', 'job': \"lawyer\"},\n",
        "                {'name': 'Janny', 'job': \"basketball player\"},\n",
        "                {'name': 'Gwen', 'job': \"teacher\"},\n",
        "                {'name': 'Jessy', 'job': \"student\"}\n",
        "         ]\n",
        "df = pd.DataFrame(job_list, columns = ['name', 'job'])\n",
        "df"
      ],
      "execution_count": null,
      "outputs": [
        {
          "output_type": "execute_result",
          "data": {
            "text/html": [
              "<div>\n",
              "<style scoped>\n",
              "    .dataframe tbody tr th:only-of-type {\n",
              "        vertical-align: middle;\n",
              "    }\n",
              "\n",
              "    .dataframe tbody tr th {\n",
              "        vertical-align: top;\n",
              "    }\n",
              "\n",
              "    .dataframe thead th {\n",
              "        text-align: right;\n",
              "    }\n",
              "</style>\n",
              "<table border=\"1\" class=\"dataframe\">\n",
              "  <thead>\n",
              "    <tr style=\"text-align: right;\">\n",
              "      <th></th>\n",
              "      <th>name</th>\n",
              "      <th>job</th>\n",
              "    </tr>\n",
              "  </thead>\n",
              "  <tbody>\n",
              "    <tr>\n",
              "      <th>0</th>\n",
              "      <td>John</td>\n",
              "      <td>teacher</td>\n",
              "    </tr>\n",
              "    <tr>\n",
              "      <th>1</th>\n",
              "      <td>Nate</td>\n",
              "      <td>teacher</td>\n",
              "    </tr>\n",
              "    <tr>\n",
              "      <th>2</th>\n",
              "      <td>Fred</td>\n",
              "      <td>teacher</td>\n",
              "    </tr>\n",
              "    <tr>\n",
              "      <th>3</th>\n",
              "      <td>Abraham</td>\n",
              "      <td>student</td>\n",
              "    </tr>\n",
              "    <tr>\n",
              "      <th>4</th>\n",
              "      <td>Brian</td>\n",
              "      <td>student</td>\n",
              "    </tr>\n",
              "    <tr>\n",
              "      <th>5</th>\n",
              "      <td>Janny</td>\n",
              "      <td>developer</td>\n",
              "    </tr>\n",
              "    <tr>\n",
              "      <th>6</th>\n",
              "      <td>Nate</td>\n",
              "      <td>teacher</td>\n",
              "    </tr>\n",
              "    <tr>\n",
              "      <th>7</th>\n",
              "      <td>Obrian</td>\n",
              "      <td>dentist</td>\n",
              "    </tr>\n",
              "    <tr>\n",
              "      <th>8</th>\n",
              "      <td>Yuna</td>\n",
              "      <td>teacher</td>\n",
              "    </tr>\n",
              "    <tr>\n",
              "      <th>9</th>\n",
              "      <td>Rob</td>\n",
              "      <td>lawyer</td>\n",
              "    </tr>\n",
              "    <tr>\n",
              "      <th>10</th>\n",
              "      <td>Brian</td>\n",
              "      <td>student</td>\n",
              "    </tr>\n",
              "    <tr>\n",
              "      <th>11</th>\n",
              "      <td>Matt</td>\n",
              "      <td>student</td>\n",
              "    </tr>\n",
              "    <tr>\n",
              "      <th>12</th>\n",
              "      <td>Wendy</td>\n",
              "      <td>banker</td>\n",
              "    </tr>\n",
              "    <tr>\n",
              "      <th>13</th>\n",
              "      <td>Edward</td>\n",
              "      <td>teacher</td>\n",
              "    </tr>\n",
              "    <tr>\n",
              "      <th>14</th>\n",
              "      <td>Ian</td>\n",
              "      <td>teacher</td>\n",
              "    </tr>\n",
              "    <tr>\n",
              "      <th>15</th>\n",
              "      <td>Chris</td>\n",
              "      <td>banker</td>\n",
              "    </tr>\n",
              "    <tr>\n",
              "      <th>16</th>\n",
              "      <td>Philip</td>\n",
              "      <td>lawyer</td>\n",
              "    </tr>\n",
              "    <tr>\n",
              "      <th>17</th>\n",
              "      <td>Janny</td>\n",
              "      <td>basketball player</td>\n",
              "    </tr>\n",
              "    <tr>\n",
              "      <th>18</th>\n",
              "      <td>Gwen</td>\n",
              "      <td>teacher</td>\n",
              "    </tr>\n",
              "    <tr>\n",
              "      <th>19</th>\n",
              "      <td>Jessy</td>\n",
              "      <td>student</td>\n",
              "    </tr>\n",
              "  </tbody>\n",
              "</table>\n",
              "</div>"
            ],
            "text/plain": [
              "       name                job\n",
              "0      John            teacher\n",
              "1      Nate            teacher\n",
              "2      Fred            teacher\n",
              "3   Abraham            student\n",
              "4     Brian            student\n",
              "5     Janny          developer\n",
              "6      Nate            teacher\n",
              "7    Obrian            dentist\n",
              "8      Yuna            teacher\n",
              "9       Rob             lawyer\n",
              "10    Brian            student\n",
              "11     Matt            student\n",
              "12    Wendy             banker\n",
              "13   Edward            teacher\n",
              "14      Ian            teacher\n",
              "15    Chris             banker\n",
              "16   Philip             lawyer\n",
              "17    Janny  basketball player\n",
              "18     Gwen            teacher\n",
              "19    Jessy            student"
            ]
          },
          "metadata": {},
          "execution_count": 3
        }
      ]
    },
    {
      "cell_type": "markdown",
      "metadata": {
        "id": "3KzmToDYWcjV"
      },
      "source": [
        "컬럼(시리즈)의 unique() 함수를 사용하여, 중복 없이, 컬럼에 있는 모든 값들을 출력할 수 있습니다."
      ]
    },
    {
      "cell_type": "code",
      "metadata": {
        "colab": {
          "base_uri": "https://localhost:8080/"
        },
        "id": "dfs2dxI_Wb85",
        "outputId": "e05e9d0d-afda-43b5-f141-bbe5ae73a868"
      },
      "source": [
        "df.job.unique()"
      ],
      "execution_count": null,
      "outputs": [
        {
          "output_type": "execute_result",
          "data": {
            "text/plain": [
              "array(['teacher', 'student', 'developer', 'dentist', 'lawyer', 'banker',\n",
              "       'basketball player'], dtype=object)"
            ]
          },
          "metadata": {},
          "execution_count": 5
        }
      ]
    },
    {
      "cell_type": "markdown",
      "metadata": {
        "id": "xEryuXQtW7Po"
      },
      "source": [
        "각 유니크한 값별로 몇개의 데이터가 속하는 지 value_counts() 함수로 확인할 수 있습니다."
      ]
    },
    {
      "cell_type": "code",
      "metadata": {
        "colab": {
          "base_uri": "https://localhost:8080/"
        },
        "id": "pOhBe5zyWuDA",
        "outputId": "1f5a57ec-b910-4a21-96e3-8e36c7c0f895"
      },
      "source": [
        "df.job.value_counts()"
      ],
      "execution_count": null,
      "outputs": [
        {
          "output_type": "execute_result",
          "data": {
            "text/plain": [
              "teacher              8\n",
              "student              5\n",
              "banker               2\n",
              "lawyer               2\n",
              "developer            1\n",
              "dentist              1\n",
              "basketball player    1\n",
              "Name: job, dtype: int64"
            ]
          },
          "metadata": {},
          "execution_count": 6
        }
      ]
    },
    {
      "cell_type": "code",
      "metadata": {
        "id": "JAO6lx7iW0Ln"
      },
      "source": [
        ""
      ],
      "execution_count": null,
      "outputs": []
    }
  ]
}