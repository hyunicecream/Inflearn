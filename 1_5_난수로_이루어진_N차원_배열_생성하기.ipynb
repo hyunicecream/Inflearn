{
  "nbformat": 4,
  "nbformat_minor": 0,
  "metadata": {
    "colab": {
      "name": "1-5. 난수로 이루어진 N차원 배열 생성하기.ipynb",
      "provenance": [],
      "collapsed_sections": [],
      "authorship_tag": "ABX9TyNGR2PAxqaNF/8k82oXJ9Sv",
      "include_colab_link": true
    },
    "kernelspec": {
      "name": "python3",
      "display_name": "Python 3"
    },
    "language_info": {
      "name": "python"
    }
  },
  "cells": [
    {
      "cell_type": "markdown",
      "metadata": {
        "id": "view-in-github",
        "colab_type": "text"
      },
      "source": [
        "<a href=\"https://colab.research.google.com/github/hyunicecream/Inflearn/blob/main/1_5_%EB%82%9C%EC%88%98%EB%A1%9C_%EC%9D%B4%EB%A3%A8%EC%96%B4%EC%A7%84_N%EC%B0%A8%EC%9B%90_%EB%B0%B0%EC%97%B4_%EC%83%9D%EC%84%B1%ED%95%98%EA%B8%B0.ipynb\" target=\"_parent\"><img src=\"https://colab.research.google.com/assets/colab-badge.svg\" alt=\"Open In Colab\"/></a>"
      ]
    },
    {
      "cell_type": "code",
      "metadata": {
        "id": "MMp_AmJE947i"
      },
      "source": [
        "import numpy as np\n",
        "import matplotlib.pyplot as plt"
      ],
      "execution_count": null,
      "outputs": []
    },
    {
      "cell_type": "code",
      "metadata": {
        "colab": {
          "base_uri": "https://localhost:8080/"
        },
        "id": "S0bICJpm-AKc",
        "outputId": "bcb71847-30e5-48fa-f0d0-5c07288cd61b"
      },
      "source": [
        "# 난수 = random\n",
        "# np.random.normal()\n",
        "\n",
        "# arr = np.random.normal(loc, scale, size) # 정규분포의평균, 표준편차, 추출한 표본의 갯수\n",
        "arr = np.random.normal(0, 1, 10)\n",
        "print(arr)"
      ],
      "execution_count": null,
      "outputs": [
        {
          "output_type": "stream",
          "name": "stdout",
          "text": [
            "[-0.86828437  1.29046481 -0.38831521  0.31576814  0.70633804  0.33395079\n",
            "  0.02083727  2.31001803  0.72481944 -0.33021015]\n"
          ]
        }
      ]
    },
    {
      "cell_type": "code",
      "metadata": {
        "colab": {
          "base_uri": "https://localhost:8080/"
        },
        "id": "Hb6rQfPU_GUn",
        "outputId": "011244eb-e9d4-4daf-8dc6-13388415e0be"
      },
      "source": [
        "arr = np.random.normal(0, 1, (2,3))\n",
        "print(arr)"
      ],
      "execution_count": null,
      "outputs": [
        {
          "output_type": "stream",
          "name": "stdout",
          "text": [
            "[[ 1.58380464 -0.82160856  1.27729749]\n",
            " [-0.03941392 -0.32833624  0.4018034 ]]\n"
          ]
        }
      ]
    },
    {
      "cell_type": "code",
      "metadata": {
        "colab": {
          "base_uri": "https://localhost:8080/",
          "height": 265
        },
        "id": "Se4fS_j4_Odv",
        "outputId": "8ea0add6-0ca7-44ec-aec8-432f16512d99"
      },
      "source": [
        "arr = np.random.normal(0, 1, 100000)\n",
        "plt.hist(arr, bins=100) # bins = 몇개의 구간으로 할 것인지\n",
        "plt.show()"
      ],
      "execution_count": null,
      "outputs": [
        {
          "output_type": "display_data",
          "data": {
            "image/png": "[encoded data removed]",
            "text/plain": [
              "<Figure size 432x288 with 1 Axes>"
            ]
          },
          "metadata": {
            "needs_background": "light"
          }
        }
      ]
    },
    {
      "cell_type": "code",
      "metadata": {
        "colab": {
          "base_uri": "https://localhost:8080/",
          "height": 265
        },
        "id": "eNQdT5NH_e_X",
        "outputId": "b90e0776-0ef0-4d7b-cc09-b9b4aa8bf0ec"
      },
      "source": [
        "# np.random.rand() 0 ~ 1 값중에 균등\b한 비율로 표본을 추출하는 함수\n",
        "arr = np.random.rand(1000)\n",
        "plt.hist(arr, bins=100)\n",
        "plt.show()"
      ],
      "execution_count": null,
      "outputs": [
        {
          "output_type": "display_data",
          "data": {
            "image/png": "[encoded data removed]",
            "text/plain": [
              "<Figure size 432x288 with 1 Axes>"
            ]
          },
          "metadata": {
            "needs_background": "light"
          }
        }
      ]
    },
    {
      "cell_type": "code",
      "metadata": {
        "colab": {
          "base_uri": "https://localhost:8080/",
          "height": 265
        },
        "id": "z4W9_H80_237",
        "outputId": "17078bbf-173b-4c1d-cd87-fc344506b46a"
      },
      "source": [
        "# np.random.randn() -1 ~ 1사이의 값을 정규분포의 값으로 표본 추출하는 함수\n",
        "arr = np.random.randn(1000)\n",
        "plt.hist(arr, bins=100)\n",
        "plt.show()"
      ],
      "execution_count": null,
      "outputs": [
        {
          "output_type": "display_data",
          "data": {
            "image/png": "[encoded data removed]",
            "text/plain": [
              "<Figure size 432x288 with 1 Axes>"
            ]
          },
          "metadata": {
            "needs_background": "light"
          }
        }
      ]
    },
    {
      "cell_type": "code",
      "metadata": {
        "colab": {
          "base_uri": "https://localhost:8080/"
        },
        "id": "8AD_wTw4AI5G",
        "outputId": "2df0b27f-dacc-44b9-bbb2-211467c568fd"
      },
      "source": [
        "# np.random.randint() 랜덤한 정수만 출력하는 함수\n",
        "arr = np.random.randint(low=1, high=5, size=10) # 1~ 5까지의 랜덤한 값들이 10개 \n",
        "print(arr)"
      ],
      "execution_count": null,
      "outputs": [
        {
          "output_type": "stream",
          "name": "stdout",
          "text": [
            "[1 4 2 3 4 2 1 2 1 3]\n"
          ]
        }
      ]
    },
    {
      "cell_type": "code",
      "metadata": {
        "colab": {
          "base_uri": "https://localhost:8080/"
        },
        "id": "qIxOKuhDAewH",
        "outputId": "335b235b-6c2d-4453-abab-fa48a0394a7f"
      },
      "source": [
        "arr = np.random.randint(low=1, high=5, size=(3, 4)) # size에 shape을 입력 가능\n",
        "print(arr)"
      ],
      "execution_count": null,
      "outputs": [
        {
          "output_type": "stream",
          "name": "stdout",
          "text": [
            "[[4 1 1 4]\n",
            " [4 4 4 4]\n",
            " [4 4 2 1]]\n"
          ]
        }
      ]
    },
    {
      "cell_type": "code",
      "metadata": {
        "colab": {
          "base_uri": "https://localhost:8080/",
          "height": 265
        },
        "id": "NQaBXazoAj9o",
        "outputId": "66b06a5e-57ca-477e-e3d1-f10162a3b0cb"
      },
      "source": [
        "arr = np.random.randint(100, 200, 1000)\n",
        "plt.hist(arr, bins=100)\n",
        "plt.show()"
      ],
      "execution_count": null,
      "outputs": [
        {
          "output_type": "display_data",
          "data": {
            "image/png": "[encoded data removed]",
            "text/plain": [
              "<Figure size 432x288 with 1 Axes>"
            ]
          },
          "metadata": {
            "needs_background": "light"
          }
        }
      ]
    }
  ]
}