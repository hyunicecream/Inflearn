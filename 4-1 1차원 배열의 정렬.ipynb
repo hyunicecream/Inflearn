{
  "nbformat": 4,
  "nbformat_minor": 0,
  "metadata": {
    "colab": {
      "name": "4-1 1차원 배열의 정렬.ipynb",
      "provenance": [],
      "collapsed_sections": [],
      "authorship_tag": "ABX9TyM5/D8dDxv2MPUlgg6Wmicz",
      "include_colab_link": true
    },
    "kernelspec": {
      "name": "python3",
      "display_name": "Python 3"
    },
    "language_info": {
      "name": "python"
    }
  },
  "cells": [
    {
      "cell_type": "markdown",
      "metadata": {
        "id": "view-in-github",
        "colab_type": "text"
      },
      "source": [
        "<a href=\"https://colab.research.google.com/github/hyunicecream/Inflearn/blob/main/4-1%201%EC%B0%A8%EC%9B%90%20%EB%B0%B0%EC%97%B4%EC%9D%98%20%EC%A0%95%EB%A0%AC.ipynb\" target=\"_parent\"><img src=\"https://colab.research.google.com/assets/colab-badge.svg\" alt=\"Open In Colab\"/></a>"
      ]
    },
    {
      "cell_type": "code",
      "metadata": {
        "id": "ic136BhVpqHr"
      },
      "source": [
        "import numpy as np"
      ],
      "execution_count": null,
      "outputs": []
    },
    {
      "cell_type": "code",
      "metadata": {
        "colab": {
          "base_uri": "https://localhost:8080/"
        },
        "id": "SUzfAF7CpwhB",
        "outputId": "d16132c6-0ca6-4f21-caca-8a7cb3995f54"
      },
      "source": [
        "arr = np.random.randint(10, size=10) # 10개 뽑기\n",
        "print(arr)"
      ],
      "execution_count": null,
      "outputs": [
        {
          "output_type": "stream",
          "name": "stdout",
          "text": [
            "[2 0 6 9 9 1 8 7 1 7]\n"
          ]
        }
      ]
    },
    {
      "cell_type": "code",
      "metadata": {
        "colab": {
          "base_uri": "https://localhost:8080/"
        },
        "id": "2D656JVnp6Fw",
        "outputId": "6e14205e-4491-4bbb-a794-d27d45dad1e6"
      },
      "source": [
        "# 오름차순\n",
        "print(np.sort(arr))"
      ],
      "execution_count": null,
      "outputs": [
        {
          "output_type": "stream",
          "name": "stdout",
          "text": [
            "[0 1 1 2 6 7 7 8 9 9]\n"
          ]
        }
      ]
    },
    {
      "cell_type": "code",
      "metadata": {
        "colab": {
          "base_uri": "https://localhost:8080/"
        },
        "id": "WqNOGgVJqC9g",
        "outputId": "f873bfa5-1c75-4cd2-967f-2db7eefc48cd"
      },
      "source": [
        "# 내림차순\n",
        "print(np.sort(arr)[::-1]) # 인덱싱 : 처음부터 끝까지 -1칸 간격으로"
      ],
      "execution_count": null,
      "outputs": [
        {
          "output_type": "stream",
          "name": "stdout",
          "text": [
            "[9 9 8 7 7 6 2 1 1 0]\n"
          ]
        }
      ]
    },
    {
      "cell_type": "code",
      "metadata": {
        "colab": {
          "base_uri": "https://localhost:8080/"
        },
        "id": "BBoSiSzxq3-w",
        "outputId": "8c4380a6-7474-47e3-8f0d-778893af3394"
      },
      "source": [
        "# 값 들을 유지하기\n",
        "arr = np.sort(arr)\n",
        "print(arr)\n",
        "arr.sort()\n",
        "print(arr)"
      ],
      "execution_count": null,
      "outputs": [
        {
          "output_type": "stream",
          "name": "stdout",
          "text": [
            "[0 1 1 2 6 7 7 8 9 9]\n",
            "[0 1 1 2 6 7 7 8 9 9]\n"
          ]
        }
      ]
    }
  ]
}