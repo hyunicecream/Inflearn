{
  "nbformat": 4,
  "nbformat_minor": 0,
  "metadata": {
    "colab": {
      "name": "2-3 Boolean 인덱싱.ipynb",
      "provenance": [],
      "collapsed_sections": [],
      "authorship_tag": "ABX9TyPJ9Rv+1j9f8jo7281PwZIb",
      "include_colab_link": true
    },
    "kernelspec": {
      "name": "python3",
      "display_name": "Python 3"
    },
    "language_info": {
      "name": "python"
    }
  },
  "cells": [
    {
      "cell_type": "markdown",
      "metadata": {
        "id": "view-in-github",
        "colab_type": "text"
      },
      "source": [
        "<a href=\"https://colab.research.google.com/github/hyunicecream/Inflearn/blob/main/2_3_Boolean_%EC%9D%B8%EB%8D%B1%EC%8B%B1.ipynb\" target=\"_parent\"><img src=\"https://colab.research.google.com/assets/colab-badge.svg\" alt=\"Open In Colab\"/></a>"
      ]
    },
    {
      "cell_type": "code",
      "metadata": {
        "id": "WzgW29ufHryD"
      },
      "source": [
        "import numpy as np"
      ],
      "execution_count": null,
      "outputs": []
    },
    {
      "cell_type": "code",
      "metadata": {
        "colab": {
          "base_uri": "https://localhost:8080/"
        },
        "id": "6lB_6QvCHvq4",
        "outputId": "ebd73f06-0800-4273-cae6-966794eef448"
      },
      "source": [
        "# 1차원\n",
        "arr = np.array([1,2,3,4])\n",
        "print(arr[[True, False, True, True]])"
      ],
      "execution_count": null,
      "outputs": [
        {
          "output_type": "stream",
          "name": "stdout",
          "text": [
            "[1 3 4]\n"
          ]
        }
      ]
    },
    {
      "cell_type": "code",
      "metadata": {
        "colab": {
          "base_uri": "https://localhost:8080/"
        },
        "id": "4_ctdCq4H_eE",
        "outputId": "6bf2c2fd-fdf1-4a8e-fe14-d2b20a001bcf"
      },
      "source": [
        "# 2차원\n",
        "arr = np.array([[1,2,3,4]\n",
        "                ,[5,6,7,8]])\n",
        "\n",
        "# 행은 1행만 가져오고, 열은 전부다 가져온다.\n",
        "print(arr[[True,False], True])"
      ],
      "execution_count": null,
      "outputs": [
        {
          "output_type": "stream",
          "name": "stdout",
          "text": [
            "[[1 2 3 4]]\n"
          ]
        }
      ]
    },
    {
      "cell_type": "code",
      "metadata": {
        "colab": {
          "base_uri": "https://localhost:8080/"
        },
        "id": "l2BGR0AAIUnd",
        "outputId": "ebe642d2-6595-4d4e-f41b-b064e23aff49"
      },
      "source": [
        "# 2차원\n",
        "# 조건 연산자를 이용하여 값을 가져오기\n",
        "arr = np.array([[1,2,3,4]\n",
        "                ,[5,6,7,8]])\n",
        "print(arr[arr > 4])\n",
        "print(arr[arr > 3])\n",
        "print(arr[arr <=2])\n",
        "print(arr[arr >= 4])"
      ],
      "execution_count": null,
      "outputs": [
        {
          "output_type": "stream",
          "name": "stdout",
          "text": [
            "[5 6 7 8]\n",
            "[4 5 6 7 8]\n",
            "[1 2]\n",
            "[4 5 6 7 8]\n"
          ]
        }
      ]
    }
  ]
}