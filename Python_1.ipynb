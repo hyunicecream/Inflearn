{
  "nbformat": 4,
  "nbformat_minor": 0,
  "metadata": {
    "interpreter": {
      "hash": "5bdb5be81c55187e0bf9db3666ef104fdbe668890981ffce6e57f7cf9969fa99"
    },
    "kernelspec": {
      "display_name": "Python 3.9.7 64-bit ('myenv': conda)",
      "language": "python",
      "name": "python3"
    },
    "language_info": {
      "codemirror_mode": {
        "name": "ipython",
        "version": 3
      },
      "file_extension": ".py",
      "mimetype": "text/x-python",
      "name": "python",
      "nbconvert_exporter": "python",
      "pygments_lexer": "ipython3",
      "version": "3.9.7"
    },
    "orig_nbformat": 4,
    "colab": {
      "name": "Python_1.ipynb",
      "provenance": [],
      "include_colab_link": true
    }
  },
  "cells": [
    {
      "cell_type": "markdown",
      "metadata": {
        "id": "view-in-github",
        "colab_type": "text"
      },
      "source": [
        "<a href=\"https://colab.research.google.com/github/hyunicecream/Inflearn/blob/main/Python_1.ipynb\" target=\"_parent\"><img src=\"https://colab.research.google.com/assets/colab-badge.svg\" alt=\"Open In Colab\"/></a>"
      ]
    },
    {
      "cell_type": "code",
      "metadata": {
        "id": "psAiok2jV_Z2",
        "outputId": "fea20283-2287-48a9-8cfa-23c3dd7c796e"
      },
      "source": [
        "x = 3\n",
        "y = 10\n",
        "print(x + y)"
      ],
      "execution_count": null,
      "outputs": [
        {
          "name": "stdout",
          "output_type": "stream",
          "text": [
            "13\n"
          ]
        }
      ]
    },
    {
      "cell_type": "code",
      "metadata": {
        "id": "0Hor1GUcV_Z8",
        "outputId": "5e476a89-cf66-4c5a-ecd7-8100dea077bc"
      },
      "source": [
        "# hello word\n",
        "'''\n",
        "hello world\n",
        "'''"
      ],
      "execution_count": null,
      "outputs": [
        {
          "data": {
            "text/plain": [
              "'\\nhello world\\n'"
            ]
          },
          "execution_count": 5,
          "metadata": {},
          "output_type": "execute_result"
        }
      ]
    },
    {
      "cell_type": "code",
      "metadata": {
        "id": "2MC6FHPuV_Z9",
        "outputId": "03b3d598-5e29-4a9c-c72b-b3b14d34a6e3"
      },
      "source": [
        "a = 10 # int(정수)\n",
        "b = 10.1 # float(실수)\n",
        "c = 'hello world' # str(문자열)\n",
        "d = -1\n",
        "e = 'Yoo' \n",
        "f = 'hyun'\n",
        "g = 10+ 2j\n",
        "h = 0b1001 # int 2진수\n",
        "i = 0o1001 # int 8진수\n",
        "j = 0x1001 # int 16진수\n",
        "print(type(a))"
      ],
      "execution_count": null,
      "outputs": [
        {
          "name": "stdout",
          "output_type": "stream",
          "text": [
            "<class 'int'>\n"
          ]
        }
      ]
    },
    {
      "cell_type": "code",
      "metadata": {
        "id": "L1JQGaUwV_Z9",
        "outputId": "8ce01536-d212-45c4-c185-f7afde512663"
      },
      "source": [
        "s = 'poullab CEO Hyun'\n",
        "# print(type(s))\n",
        "# print(dir(s))\n",
        "print(s[0])\n",
        "print(s[0:7])\n",
        "print(s[0:15:2]) # 0부터 15까지 2칸씩 건너뛰어 출력해라\n",
        "print(s[10:0:-1]) # -1 역순\n",
        "print(s[:10:2]) \n",
        "print(s[::2]) \n",
        "print(s[::-1]) \n",
        "print(s[-1]) "
      ],
      "execution_count": null,
      "outputs": [
        {
          "name": "stdout",
          "output_type": "stream",
          "text": [
            "p\n",
            "poullab\n",
            "pulbCOHu\n",
            "OEC balluo\n",
            "pulbC\n",
            "pulbCOHu\n",
            "nuyH OEC balluop\n",
            "n\n"
          ]
        }
      ]
    },
    {
      "cell_type": "code",
      "metadata": {
        "id": "spD4SJI2V_Z-",
        "outputId": "85becfda-878c-453b-ffbf-76a1bb35a7e0"
      },
      "source": [
        "s = 'poullab! CEO Hyun'\n",
        "print(type(s))\n",
        "print(dir(s))\n",
        "print(s.upper()) # 대문자\n",
        "print(s.lower()) # 소문자\n",
        "print(s.count('l'))\n",
        "ss = '      hello world         '\n",
        "print(ss.strip()) # 공백제거\n",
        "print(s.split(' ')) # 공백을 기준으로 나누기\n",
        "a = s.split(' ')\n",
        "print(a)\n",
        "print('!'.join(a))\n",
        "print('제 이름은 {0}입니다. 제 나이는{1}입니다.'.format('강동원', 33))"
      ],
      "execution_count": null,
      "outputs": [
        {
          "name": "stdout",
          "output_type": "stream",
          "text": [
            "<class 'str'>\n",
            "['__add__', '__class__', '__contains__', '__delattr__', '__dir__', '__doc__', '__eq__', '__format__', '__ge__', '__getattribute__', '__getitem__', '__getnewargs__', '__gt__', '__hash__', '__init__', '__init_subclass__', '__iter__', '__le__', '__len__', '__lt__', '__mod__', '__mul__', '__ne__', '__new__', '__reduce__', '__reduce_ex__', '__repr__', '__rmod__', '__rmul__', '__setattr__', '__sizeof__', '__str__', '__subclasshook__', 'capitalize', 'casefold', 'center', 'count', 'encode', 'endswith', 'expandtabs', 'find', 'format', 'format_map', 'index', 'isalnum', 'isalpha', 'isascii', 'isdecimal', 'isdigit', 'isidentifier', 'islower', 'isnumeric', 'isprintable', 'isspace', 'istitle', 'isupper', 'join', 'ljust', 'lower', 'lstrip', 'maketrans', 'partition', 'removeprefix', 'removesuffix', 'replace', 'rfind', 'rindex', 'rjust', 'rpartition', 'rsplit', 'rstrip', 'split', 'splitlines', 'startswith', 'strip', 'swapcase', 'title', 'translate', 'upper', 'zfill']\n",
            "POULLAB! CEO HYUN\n",
            "poullab! ceo hyun\n",
            "2\n",
            "hello world\n",
            "['poullab!', 'CEO', 'Hyun']\n",
            "['poullab!', 'CEO', 'Hyun']\n",
            "poullab!!CEO!Hyun\n",
            "제 이름은 강동원입니다. 제 나이는33입니다.\n"
          ]
        }
      ]
    },
    {
      "cell_type": "code",
      "metadata": {
        "id": "l_MLwIM9V_Z_",
        "outputId": "2d3bf211-9987-4f01-fc54-8b701f58631f"
      },
      "source": [
        "a = 2021\n",
        "b = 11\n",
        "c = 11\n",
        "# 2021/11/11\n",
        "print(a, b, c, sep='/', end= ' ')\n",
        "print(a, b, c)"
      ],
      "execution_count": null,
      "outputs": [
        {
          "name": "stdout",
          "output_type": "stream",
          "text": [
            "2021/11/11 2021 11 11\n"
          ]
        }
      ]
    },
    {
      "cell_type": "code",
      "metadata": {
        "id": "TxRnbw7PV_aA",
        "outputId": "c8db1f38-e9ff-43b4-c0ae-9dba3828fc7e"
      },
      "source": [
        "a = 10\n",
        "b = '10'\n",
        "print(a + int(b)) # 형 변환\n",
        "print(str(a) + b) # 형 변환"
      ],
      "execution_count": null,
      "outputs": [
        {
          "name": "stdout",
          "output_type": "stream",
          "text": [
            "20\n",
            "1010\n"
          ]
        }
      ]
    },
    {
      "cell_type": "code",
      "metadata": {
        "id": "Nr2ANLtYV_aA",
        "outputId": "0aa3268a-9784-4c71-df3b-54dc4f76ef3e"
      },
      "source": [
        "a = True\n",
        "b = False\n",
        "print(type(a))"
      ],
      "execution_count": null,
      "outputs": [
        {
          "name": "stdout",
          "output_type": "stream",
          "text": [
            "<class 'bool'>\n"
          ]
        }
      ]
    },
    {
      "cell_type": "code",
      "metadata": {
        "id": "ubuRt_oNV_aB",
        "outputId": "fc4c9678-7af9-44df-8829-e88e63f9a559"
      },
      "source": [
        "print(bool(' '))\n",
        "print(bool(''))\n",
        "print(bool(0))\n",
        "print(bool(1))\n",
        "print(bool(-1))\n",
        "print(bool(None))"
      ],
      "execution_count": null,
      "outputs": [
        {
          "name": "stdout",
          "output_type": "stream",
          "text": [
            "True\n",
            "False\n",
            "False\n",
            "True\n",
            "True\n",
            "False\n"
          ]
        }
      ]
    },
    {
      "cell_type": "code",
      "metadata": {
        "id": "qwB7UO0jV_aB",
        "outputId": "14fc7db6-48e5-43ee-b8de-6114b68bebfa"
      },
      "source": [
        "# 산술연산\n",
        "a = 3\n",
        "b = 10\n",
        "print(a + b)\n",
        "print(a - b)\n",
        "print(b / a) # float\n",
        "print(b // a) # int\n",
        "print(b * a)\n",
        "print(b ** a)\n",
        "print(b % a) # 나머지"
      ],
      "execution_count": null,
      "outputs": [
        {
          "name": "stdout",
          "output_type": "stream",
          "text": [
            "13\n",
            "-7\n",
            "3.3333333333333335\n",
            "3\n",
            "30\n",
            "1000\n",
            "1\n"
          ]
        }
      ]
    },
    {
      "cell_type": "code",
      "metadata": {
        "id": "iVQppRbBV_aB",
        "outputId": "4994e237-a4fd-4058-a0a4-9ce94fecb3f2"
      },
      "source": [
        "# 비교연산\n",
        "a = 10\n",
        "b = 3\n",
        "print(a >= b)\n",
        "print(a > b)\n",
        "print(a < b)\n",
        "print(a <= b)\n",
        "print(a == b)\n",
        "print(a != b)"
      ],
      "execution_count": null,
      "outputs": [
        {
          "name": "stdout",
          "output_type": "stream",
          "text": [
            "True\n",
            "True\n",
            "False\n",
            "False\n",
            "False\n",
            "True\n"
          ]
        }
      ]
    },
    {
      "cell_type": "code",
      "metadata": {
        "id": "CdC-IzxfV_aC",
        "outputId": "a67f0062-0d4a-408a-ee3e-93ff88f3b88f"
      },
      "source": [
        "#논리 연산\n",
        "a = True # 1\n",
        "b = False # 0\n",
        "print(a and b) # *\n",
        "print(a or b) # +\n",
        "print(not b) # 반대"
      ],
      "execution_count": null,
      "outputs": [
        {
          "name": "stdout",
          "output_type": "stream",
          "text": [
            "False\n",
            "True\n",
            "True\n"
          ]
        }
      ]
    },
    {
      "cell_type": "code",
      "metadata": {
        "id": "aYULqrWWV_aC",
        "outputId": "d6338bcf-11b3-4eb0-930d-d502dca9fef3"
      },
      "source": [
        "# 할당연산\n",
        "a = 10\n",
        "a = a + 10\n",
        "a += 10\n",
        "print(a)"
      ],
      "execution_count": null,
      "outputs": [
        {
          "name": "stdout",
          "output_type": "stream",
          "text": [
            "30\n"
          ]
        }
      ]
    },
    {
      "cell_type": "code",
      "metadata": {
        "id": "7tsOtBs-V_aC",
        "outputId": "dafc59e4-a50c-4ce1-b279-39bd51581f62"
      },
      "source": [
        "# bit 연산\n",
        "a = 40\n",
        "b = 14\n",
        "print(a & b)\n",
        "# &, /, ~\n",
        "print(bin(a))\n",
        "print(bin(b))\n",
        "print(bin(a)[2:].zfill(6))\n",
        "print(bin(b)[2:].zfill(6))"
      ],
      "execution_count": null,
      "outputs": [
        {
          "name": "stdout",
          "output_type": "stream",
          "text": [
            "8\n",
            "0b101000\n",
            "0b1110\n",
            "101000\n",
            "001110\n"
          ]
        }
      ]
    },
    {
      "cell_type": "code",
      "metadata": {
        "id": "6LZfzP5eV_aD",
        "outputId": "f3de1d99-07c2-4b9d-d830-ed83b1341800"
      },
      "source": [
        "def f(x, y):\n",
        "    z = x + y\n",
        "    return z\n",
        "    \n",
        "print(f(3, 5))"
      ],
      "execution_count": null,
      "outputs": [
        {
          "name": "stdout",
          "output_type": "stream",
          "text": [
            "8\n"
          ]
        }
      ]
    },
    {
      "cell_type": "code",
      "metadata": {
        "id": "rIWTykJfV_aD",
        "outputId": "25f23db7-8c42-43d9-fca7-8829d7caef0b"
      },
      "source": [
        "def ff():\n",
        "    print('1')\n",
        "    print('2')\n",
        "    # return None\n",
        "print('3')\n",
        "print(4)\n",
        "ff()"
      ],
      "execution_count": null,
      "outputs": [
        {
          "name": "stdout",
          "output_type": "stream",
          "text": [
            "3\n",
            "4\n",
            "1\n",
            "2\n"
          ]
        }
      ]
    },
    {
      "cell_type": "code",
      "metadata": {
        "id": "cmXBXWWwV_aD",
        "outputId": "b4b77991-be3d-4765-e71b-774dbccaa7ae"
      },
      "source": [
        "def circle(r):\n",
        "    width = r*r*3.14\n",
        "    return width\n",
        "print(circle(10))"
      ],
      "execution_count": null,
      "outputs": [
        {
          "name": "stdout",
          "output_type": "stream",
          "text": [
            "314.0\n"
          ]
        }
      ]
    },
    {
      "cell_type": "code",
      "metadata": {
        "id": "lKlc2WYcV_aE",
        "outputId": "bcafdf2a-2717-4988-b14c-93d4c766b1fb"
      },
      "source": [
        "a = 10\n",
        "def aplus(aa):\n",
        "    # global a\n",
        "    aa += 10\n",
        "    return aa\n",
        "print(aplus(a))"
      ],
      "execution_count": null,
      "outputs": [
        {
          "name": "stdout",
          "output_type": "stream",
          "text": [
            "20\n"
          ]
        }
      ]
    }
  ]
}