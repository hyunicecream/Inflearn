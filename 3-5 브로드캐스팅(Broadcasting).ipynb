{
  "nbformat": 4,
  "nbformat_minor": 0,
  "metadata": {
    "colab": {
      "name": "3-5 브로드캐스팅(Broadcasting).ipynb",
      "provenance": [],
      "collapsed_sections": [],
      "authorship_tag": "ABX9TyMRx/nZoJ2DhbVYXGF1vBXf",
      "include_colab_link": true
    },
    "kernelspec": {
      "name": "python3",
      "display_name": "Python 3"
    },
    "language_info": {
      "name": "python"
    }
  },
  "cells": [
    {
      "cell_type": "markdown",
      "metadata": {
        "id": "view-in-github",
        "colab_type": "text"
      },
      "source": [
        "<a href=\"https://colab.research.google.com/github/hyunicecream/Inflearn/blob/main/3-5%20%EB%B8%8C%EB%A1%9C%EB%93%9C%EC%BA%90%EC%8A%A4%ED%8C%85(Broadcasting).ipynb\" target=\"_parent\"><img src=\"https://colab.research.google.com/assets/colab-badge.svg\" alt=\"Open In Colab\"/></a>"
      ]
    },
    {
      "cell_type": "code",
      "metadata": {
        "id": "VILd7lASmrSS"
      },
      "source": [
        "import numpy as np"
      ],
      "execution_count": null,
      "outputs": []
    },
    {
      "cell_type": "code",
      "metadata": {
        "colab": {
          "base_uri": "https://localhost:8080/"
        },
        "id": "PcICYVq7mzQ5",
        "outputId": "e90dabb1-2803-40d8-aa12-2dc202904eaa"
      },
      "source": [
        "# shape이 다른 두 ndarray의 연산 실행하기\n",
        "arr1 = np.array([[0, 0, 0],\n",
        "                 [1, 1, 1],\n",
        "                 [2, 2, 2]])\n",
        "arr2 = np.array([[5, 6, 7]])\n",
        "\n",
        "print(arr1 + arr2)\n",
        "\n",
        "arr1 = np.array([[1, 1, 1]])\n",
        "arr2 = np.array([[0],\n",
        "                 [1],\n",
        "                 [2]])\n",
        "print(arr1 + arr2)\n",
        "\n",
        "arr1 = np.array([[1, 1, 1]])\n",
        "arr2 = np.array([[1]])\n",
        "\n",
        "print(arr1 + arr2)        "
      ],
      "execution_count": null,
      "outputs": [
        {
          "output_type": "stream",
          "name": "stdout",
          "text": [
            "[[5 6 7]\n",
            " [6 7 8]\n",
            " [7 8 9]]\n",
            "[[1 1 1]\n",
            " [2 2 2]\n",
            " [3 3 3]]\n",
            "[[2 2 2]]\n"
          ]
        }
      ]
    }
  ]
}