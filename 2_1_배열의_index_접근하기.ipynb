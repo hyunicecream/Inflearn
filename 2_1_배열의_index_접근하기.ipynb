{
  "nbformat": 4,
  "nbformat_minor": 0,
  "metadata": {
    "colab": {
      "name": "2-1 배열의 index 접근하기.ipynb",
      "provenance": [],
      "collapsed_sections": [],
      "authorship_tag": "ABX9TyO6r2ULv6lNObwYhElWvUXI",
      "include_colab_link": true
    },
    "kernelspec": {
      "name": "python3",
      "display_name": "Python 3"
    },
    "language_info": {
      "name": "python"
    }
  },
  "cells": [
    {
      "cell_type": "markdown",
      "metadata": {
        "id": "view-in-github",
        "colab_type": "text"
      },
      "source": [
        "<a href=\"https://colab.research.google.com/github/hyunicecream/Inflearn/blob/main/2_1_%EB%B0%B0%EC%97%B4%EC%9D%98_index_%EC%A0%91%EA%B7%BC%ED%95%98%EA%B8%B0.ipynb\" target=\"_parent\"><img src=\"https://colab.research.google.com/assets/colab-badge.svg\" alt=\"Open In Colab\"/></a>"
      ]
    },
    {
      "cell_type": "code",
      "metadata": {
        "id": "yw_YgxA_B9YW"
      },
      "source": [
        "import numpy as np"
      ],
      "execution_count": null,
      "outputs": []
    },
    {
      "cell_type": "code",
      "metadata": {
        "colab": {
          "base_uri": "https://localhost:8080/"
        },
        "id": "O-L3chUACA75",
        "outputId": "317e299e-f739-44d2-9054-0282b19725d2"
      },
      "source": [
        "# 1차원 배열\n",
        "arr = np.array([0,1,2,3,4,5,6,7,8,9])\n",
        "arr = np.arange(10)\n",
        "print(arr)"
      ],
      "execution_count": null,
      "outputs": [
        {
          "output_type": "stream",
          "name": "stdout",
          "text": [
            "[0 1 2 3 4 5 6 7 8 9]\n"
          ]
        }
      ]
    },
    {
      "cell_type": "code",
      "metadata": {
        "colab": {
          "base_uri": "https://localhost:8080/"
        },
        "id": "a-D3vYJmCrMV",
        "outputId": "6a9ea756-60a3-490d-df13-81a3a3c05db5"
      },
      "source": [
        "print(arr[3])\n",
        "print(arr[1])\n",
        "print(arr[-1])\n",
        "print(arr[-3])\n",
        "print(arr[-10])"
      ],
      "execution_count": null,
      "outputs": [
        {
          "output_type": "stream",
          "name": "stdout",
          "text": [
            "3\n",
            "1\n",
            "9\n",
            "7\n",
            "0\n"
          ]
        }
      ]
    },
    {
      "cell_type": "code",
      "metadata": {
        "colab": {
          "base_uri": "https://localhost:8080/"
        },
        "id": "P_i0rM81Ctmv",
        "outputId": "25a6d8fb-9a35-45a9-d7ae-ea5db72a8b57"
      },
      "source": [
        "# 2차원 배열\n",
        "arr1 = np.array([[1,2,3,4]\n",
        "                 ,[5,6,7,8]\n",
        "                 ,[9,10,11,12]])\n",
        "               \n",
        "print(arr1, arr1.shape, arr1.ndim)\n",
        "\n",
        "# 4라는 원소에 접근\n",
        "print(arr1[0][3]) # 0행에 해당하는 3번째 값\n",
        "print(arr1[0, 3]) # 0행에 해당하는 3번째 값"
      ],
      "execution_count": null,
      "outputs": [
        {
          "output_type": "stream",
          "name": "stdout",
          "text": [
            "[[ 1  2  3  4]\n",
            " [ 5  6  7  8]\n",
            " [ 9 10 11 12]] (3, 4) 2\n",
            "4\n",
            "4\n"
          ]
        }
      ]
    },
    {
      "cell_type": "code",
      "metadata": {
        "colab": {
          "base_uri": "https://localhost:8080/"
        },
        "id": "oofZyXYqEm7A",
        "outputId": "167fb1d1-aabe-4058-cfbb-60ea2b11769a"
      },
      "source": [
        "# 1차원 배열에서의 범위 값 탐색\n",
        "arr = np.array([0,1,2,3,4,5,6,7,8,9])\n",
        "# 3 ~8미만 까지의 값 탐색\n",
        "print(arr[3:8])\n",
        "# 3 ~ 끝까지 값 탐색\n",
        "print(arr[3:])\n",
        "\n",
        "\n",
        "print(arr[:7])\n",
        "print(arr[:-1])"
      ],
      "execution_count": null,
      "outputs": [
        {
          "output_type": "stream",
          "name": "stdout",
          "text": [
            "[3 4 5 6 7]\n",
            "[3 4 5 6 7 8 9]\n",
            "[0 1 2 3 4 5 6]\n",
            "[0 1 2 3 4 5 6 7 8]\n"
          ]
        }
      ]
    },
    {
      "cell_type": "code",
      "metadata": {
        "colab": {
          "base_uri": "https://localhost:8080/"
        },
        "id": "RVywWKIYFIAW",
        "outputId": "58ff0264-ab11-455d-b850-d6ba332e80f3"
      },
      "source": [
        "# 2차원 배열에서의 범위 값 탐색\n",
        "arr = np.array([[1,2,3,4]\n",
        "                ,[5,6,7,8]\n",
        "                ,[9,10,11,12]])\n",
        "# 특정값 출력 : 0행값 모두 출력\n",
        "print(arr[0, :])\n",
        "# 특정 열의 값 출력\n",
        "print(arr[:, 1])"
      ],
      "execution_count": null,
      "outputs": [
        {
          "output_type": "stream",
          "name": "stdout",
          "text": [
            "[1 2 3 4]\n",
            "[ 2  6 10]\n"
          ]
        }
      ]
    },
    {
      "cell_type": "code",
      "metadata": {
        "colab": {
          "base_uri": "https://localhost:8080/"
        },
        "id": "SvArD3tuFhDs",
        "outputId": "d9f2269d-46e0-4403-9a83-0dc0a1e2b330"
      },
      "source": [
        "# 모든 원소 출력\n",
        "print(arr[:3, :])\n",
        "print(arr[:2, 2:])"
      ],
      "execution_count": null,
      "outputs": [
        {
          "output_type": "stream",
          "name": "stdout",
          "text": [
            "[[ 1  2  3  4]\n",
            " [ 5  6  7  8]\n",
            " [ 9 10 11 12]]\n",
            "[[3 4]\n",
            " [7 8]]\n"
          ]
        }
      ]
    }
  ]
}