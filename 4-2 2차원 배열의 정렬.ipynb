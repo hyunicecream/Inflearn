{
  "nbformat": 4,
  "nbformat_minor": 0,
  "metadata": {
    "colab": {
      "name": "4-2 2차원 배열의 정렬.ipynb",
      "provenance": [],
      "collapsed_sections": [],
      "authorship_tag": "ABX9TyNkSH6bL1bu9pD92kah49KN",
      "include_colab_link": true
    },
    "kernelspec": {
      "name": "python3",
      "display_name": "Python 3"
    },
    "language_info": {
      "name": "python"
    }
  },
  "cells": [
    {
      "cell_type": "markdown",
      "metadata": {
        "id": "view-in-github",
        "colab_type": "text"
      },
      "source": [
        "<a href=\"https://colab.research.google.com/github/hyunicecream/Inflearn/blob/main/4-2%202%EC%B0%A8%EC%9B%90%20%EB%B0%B0%EC%97%B4%EC%9D%98%20%EC%A0%95%EB%A0%AC.ipynb\" target=\"_parent\"><img src=\"https://colab.research.google.com/assets/colab-badge.svg\" alt=\"Open In Colab\"/></a>"
      ]
    },
    {
      "cell_type": "code",
      "metadata": {
        "id": "4rewr3MbrMiU"
      },
      "source": [
        "import numpy as np"
      ],
      "execution_count": null,
      "outputs": []
    },
    {
      "cell_type": "code",
      "metadata": {
        "colab": {
          "base_uri": "https://localhost:8080/"
        },
        "id": "YMldxbcwrRB1",
        "outputId": "4e457845-adfc-474b-8cd0-72810d9aa953"
      },
      "source": [
        "arr = np.random.randint(15, size=(3,4)) # 15미만까지 3,4 배열 생성\n",
        "print(arr)"
      ],
      "execution_count": null,
      "outputs": [
        {
          "output_type": "stream",
          "name": "stdout",
          "text": [
            "[[ 2 10 10 13]\n",
            " [ 6  6  4 12]\n",
            " [ 7  9  5 12]]\n"
          ]
        }
      ]
    },
    {
      "cell_type": "code",
      "metadata": {
        "colab": {
          "base_uri": "https://localhost:8080/"
        },
        "id": "k2V8_NB2rdzH",
        "outputId": "e51b80b6-2719-4358-c15e-abc4244f90f6"
      },
      "source": [
        "# 행을 기준으로 정렬\n",
        "print(np.sort(arr))"
      ],
      "execution_count": null,
      "outputs": [
        {
          "output_type": "stream",
          "name": "stdout",
          "text": [
            "[[ 2 10 10 13]\n",
            " [ 4  6  6 12]\n",
            " [ 5  7  9 12]]\n"
          ]
        }
      ]
    },
    {
      "cell_type": "code",
      "metadata": {
        "colab": {
          "base_uri": "https://localhost:8080/"
        },
        "id": "cyMO9O3urfiN",
        "outputId": "1fd3273e-bd8e-473b-9446-0b50e9954697"
      },
      "source": [
        "# 열을 기준으로 정렬\n",
        "print(np.sort(arr, axis=0))"
      ],
      "execution_count": null,
      "outputs": [
        {
          "output_type": "stream",
          "name": "stdout",
          "text": [
            "[[ 2  6  4 12]\n",
            " [ 6  9  5 12]\n",
            " [ 7 10 10 13]]\n"
          ]
        }
      ]
    },
    {
      "cell_type": "code",
      "metadata": {
        "colab": {
          "base_uri": "https://localhost:8080/"
        },
        "id": "5PVkuAKPrkpc",
        "outputId": "a9c2f1e9-7c7d-49aa-e992-13e2eee735de"
      },
      "source": [
        "# 2차원 배열을 1차원 배열로 변환해서 오름차순으로 정렬\n",
        "print(np.sort(arr, axis=None))"
      ],
      "execution_count": null,
      "outputs": [
        {
          "output_type": "stream",
          "name": "stdout",
          "text": [
            "[ 2  4  5  6  6  7  9 10 10 12 12 13]\n"
          ]
        }
      ]
    },
    {
      "cell_type": "code",
      "metadata": {
        "colab": {
          "base_uri": "https://localhost:8080/"
        },
        "id": "RB-QeFg9rtS6",
        "outputId": "5ea4a128-1d50-4453-c156-1be9353dcd55"
      },
      "source": [
        "# argsort() \n",
        "# 원소가 정렬되었을때 정렬된 원소의 원래배열에서의 index를 반환\n",
        "print(np.sort(arr, axis=1))\n",
        "print(np.argsort(arr, axis=1))"
      ],
      "execution_count": null,
      "outputs": [
        {
          "output_type": "stream",
          "name": "stdout",
          "text": [
            "[[ 2 10 10 13]\n",
            " [ 4  6  6 12]\n",
            " [ 5  7  9 12]]\n",
            "[[0 1 2 3]\n",
            " [2 0 1 3]\n",
            " [2 0 1 3]]\n"
          ]
        }
      ]
    },
    {
      "cell_type": "code",
      "metadata": {
        "colab": {
          "base_uri": "https://localhost:8080/"
        },
        "id": "PPcQbWXVsCu6",
        "outputId": "8e3c3890-c130-4d36-c77d-803be3011d7f"
      },
      "source": [
        "# argsort() \n",
        "# 원소가 정렬되었을때 정렬된 원소의 원래배열에서의 index를 반환\n",
        "print(np.sort(arr, axis=0))\n",
        "print(np.argsort(arr, axis=0))"
      ],
      "execution_count": null,
      "outputs": [
        {
          "output_type": "stream",
          "name": "stdout",
          "text": [
            "[[ 2  6  4 12]\n",
            " [ 6  9  5 12]\n",
            " [ 7 10 10 13]]\n",
            "[[0 1 1 1]\n",
            " [1 2 2 2]\n",
            " [2 0 0 0]]\n"
          ]
        }
      ]
    }
  ]
}