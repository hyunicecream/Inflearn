{
 "cells": [
  {
   "cell_type": "code",
   "execution_count": 13,
   "metadata": {},
   "outputs": [
    {
     "name": "stdout",
     "output_type": "stream",
     "text": [
      "이지수\n"
     ]
    }
   ],
   "source": [
    "import pickle\n",
    "with open(\"3.pkl\", 'rb') as f:\n",
    "    print(pickle.load(f))"
   ]
  }
 ],
 "metadata": {
  "interpreter": {
   "hash": "c54085a925b4aaf71a66dfc7a1a85a7bbe39f41b23f814b03fdddff27ea0b7ac"
  },
  "kernelspec": {
   "display_name": "Python 3.8.0 64-bit ('myenv': conda)",
   "name": "python3"
  },
  "language_info": {
   "codemirror_mode": {
    "name": "ipython",
    "version": 3
   },
   "file_extension": ".py",
   "mimetype": "text/x-python",
   "name": "python",
   "nbconvert_exporter": "python",
   "pygments_lexer": "ipython3",
   "version": "3.9.7"
  },
  "orig_nbformat": 4
 },
 "nbformat": 4,
 "nbformat_minor": 2
}
