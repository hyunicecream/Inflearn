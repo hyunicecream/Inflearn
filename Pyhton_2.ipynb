{
  "nbformat": 4,
  "nbformat_minor": 0,
  "metadata": {
    "colab": {
      "name": "Pyhton_2.ipynb",
      "provenance": [],
      "collapsed_sections": [],
      "authorship_tag": "ABX9TyOTxqvToRevWKZDXlX+MZbh",
      "include_colab_link": true
    },
    "kernelspec": {
      "name": "python3",
      "display_name": "Python 3"
    },
    "language_info": {
      "name": "python"
    }
  },
  "cells": [
    {
      "cell_type": "markdown",
      "metadata": {
        "id": "view-in-github",
        "colab_type": "text"
      },
      "source": [
        "<a href=\"https://colab.research.google.com/github/hyunicecream/Inflearn/blob/main/Pyhton_2.ipynb\" target=\"_parent\"><img src=\"https://colab.research.google.com/assets/colab-badge.svg\" alt=\"Open In Colab\"/></a>"
      ]
    },
    {
      "cell_type": "code",
      "metadata": {
        "colab": {
          "base_uri": "https://localhost:8080/"
        },
        "id": "ANMb63P-NNEz",
        "outputId": "3730c88f-815d-480a-e6bf-adbab939b440"
      },
      "source": [
        "# 리스트, 튜플, 딕셔너리, 셋\n",
        "s = [100, 200, 300, 400]\n",
        "print(s)\n",
        "print(type(s))\n",
        "# 변경이 가능한 자료형\n",
        "# 순서가 있는 자료형\n",
        "print(s[1])\n",
        "s[1] = 1000\n",
        "print(s)"
      ],
      "execution_count": null,
      "outputs": [
        {
          "output_type": "stream",
          "name": "stdout",
          "text": [
            "[100, 200, 300, 400]\n",
            "<class 'list'>\n",
            "200\n",
            "[100, 1000, 300, 400]\n"
          ]
        }
      ]
    },
    {
      "cell_type": "code",
      "metadata": {
        "colab": {
          "base_uri": "https://localhost:8080/"
        },
        "id": "tMCnZ2lQOeCa",
        "outputId": "42b3f56b-b7a8-44f8-d699-91aabc5b188b"
      },
      "source": [
        "print(dir(s))\n",
        "s.append(300)\n",
        "print(s)\n",
        "# s.clear()\n",
        "# s.copy()\n",
        "print(s.count(300))\n",
        "print(s)"
      ],
      "execution_count": null,
      "outputs": [
        {
          "output_type": "stream",
          "name": "stdout",
          "text": [
            "['__add__', '__class__', '__contains__', '__delattr__', '__delitem__', '__dir__', '__doc__', '__eq__', '__format__', '__ge__', '__getattribute__', '__getitem__', '__gt__', '__hash__', '__iadd__', '__imul__', '__init__', '__init_subclass__', '__iter__', '__le__', '__len__', '__lt__', '__mul__', '__ne__', '__new__', '__reduce__', '__reduce_ex__', '__repr__', '__reversed__', '__rmul__', '__setattr__', '__setitem__', '__sizeof__', '__str__', '__subclasshook__', 'append', 'clear', 'copy', 'count', 'extend', 'index', 'insert', 'pop', 'remove', 'reverse', 'sort']\n",
            "[100, 1000, 300, 400, 300]\n",
            "2\n",
            "[100, 1000, 300, 400, 300]\n"
          ]
        }
      ]
    },
    {
      "cell_type": "code",
      "metadata": {
        "colab": {
          "base_uri": "https://localhost:8080/"
        },
        "id": "4-72-9IKO6S0",
        "outputId": "54c406bb-6dff-493f-c488-0e3b6557fb02"
      },
      "source": [
        "s = [100, 200, 300, 400]\n",
        "s.extend([100, 200, 300]) # 값을 확장시킴\n",
        "print(s)\n",
        "print(s.index(300))\n",
        "s.insert(3, 1000) # 3번째에 1000을 입력하겠다\n",
        "print(s)\n",
        "s.pop(3) # index 3번째 수를 삭제\n",
        "print(s)\n",
        "s.remove(100) # 맨 앞에 있는 100만 사라짐\n",
        "print(s)\n",
        "s.reverse()\n",
        "print(s)\n",
        "s.sort()\n",
        "print(s)\n",
        "# sortedO()\n",
        "# reversed()"
      ],
      "execution_count": null,
      "outputs": [
        {
          "output_type": "stream",
          "name": "stdout",
          "text": [
            "[100, 200, 300, 400, 100, 200, 300]\n",
            "2\n",
            "[100, 200, 300, 1000, 400, 100, 200, 300]\n",
            "[100, 200, 300, 400, 100, 200, 300]\n",
            "[200, 300, 400, 100, 200, 300]\n",
            "[300, 200, 100, 400, 300, 200]\n",
            "[100, 200, 200, 300, 300, 400]\n"
          ]
        }
      ]
    },
    {
      "cell_type": "code",
      "metadata": {
        "colab": {
          "base_uri": "https://localhost:8080/"
        },
        "id": "T2GpGi7XP7YN",
        "outputId": "3002cd74-cf64-467e-ed4c-c629bf33e074"
      },
      "source": [
        "# 튜플 touple\n",
        "l = [10, 20]\n",
        "# t = (100, 200, 300)\n",
        "t = (l, 200, 300)\n",
        "print(t)\n",
        "print(type(t))\n",
        "print(dir(t))\n",
        "\n",
        "# 순서가 있다.\n",
        "# 변경이 불가능한 자료형\n",
        "# t[0] = 1000 error\n",
        "l[0] = 10000\n",
        "print(t)"
      ],
      "execution_count": null,
      "outputs": [
        {
          "output_type": "stream",
          "name": "stdout",
          "text": [
            "([10, 20], 200, 300)\n",
            "<class 'tuple'>\n",
            "['__add__', '__class__', '__contains__', '__delattr__', '__dir__', '__doc__', '__eq__', '__format__', '__ge__', '__getattribute__', '__getitem__', '__getnewargs__', '__gt__', '__hash__', '__init__', '__init_subclass__', '__iter__', '__le__', '__len__', '__lt__', '__mul__', '__ne__', '__new__', '__reduce__', '__reduce_ex__', '__repr__', '__rmul__', '__setattr__', '__sizeof__', '__str__', '__subclasshook__', 'count', 'index']\n",
            "([10000, 20], 200, 300)\n"
          ]
        }
      ]
    },
    {
      "cell_type": "code",
      "metadata": {
        "colab": {
          "base_uri": "https://localhost:8080/"
        },
        "id": "UyVD5figQt4F",
        "outputId": "ab38d756-3e5f-4778-adba-496280e204df"
      },
      "source": [
        "# set \n",
        "s = {100, 200, 300, 300, 300}\n",
        "ss = {1, 2, 3}\n",
        "print(s)\n",
        "print(type(s))\n",
        "print(dir(s))\n",
        "\n",
        "# 순서가 없다.\n",
        "# 값의 중복을 허락하지 않는다. \n",
        "s.add(500)\n",
        "print(s)\n",
        "print(set('aabbbcccccceeefffggg'))\n",
        "print(s.union(ss)) # 합집합"
      ],
      "execution_count": null,
      "outputs": [
        {
          "output_type": "stream",
          "name": "stdout",
          "text": [
            "{200, 100, 300}\n",
            "<class 'set'>\n",
            "['__and__', '__class__', '__contains__', '__delattr__', '__dir__', '__doc__', '__eq__', '__format__', '__ge__', '__getattribute__', '__gt__', '__hash__', '__iand__', '__init__', '__init_subclass__', '__ior__', '__isub__', '__iter__', '__ixor__', '__le__', '__len__', '__lt__', '__ne__', '__new__', '__or__', '__rand__', '__reduce__', '__reduce_ex__', '__repr__', '__ror__', '__rsub__', '__rxor__', '__setattr__', '__sizeof__', '__str__', '__sub__', '__subclasshook__', '__xor__', 'add', 'clear', 'copy', 'difference', 'difference_update', 'discard', 'intersection', 'intersection_update', 'isdisjoint', 'issubset', 'issuperset', 'pop', 'remove', 'symmetric_difference', 'symmetric_difference_update', 'union', 'update']\n",
            "{200, 100, 500, 300}\n",
            "{'c', 'a', 'f', 'g', 'e', 'b'}\n",
            "{1, 2, 3, 100, 500, 200, 300}\n"
          ]
        }
      ]
    },
    {
      "cell_type": "code",
      "metadata": {
        "colab": {
          "base_uri": "https://localhost:8080/"
        },
        "id": "h7syMNIrQ5qJ",
        "outputId": "78b35735-6e23-4881-9f5b-f893d7d347f8"
      },
      "source": [
        "# 딕셔너리\n",
        "# d = {key:value}\n",
        "d = {'one':10, 'two':20}\n",
        "# 순서가 없다.\n",
        "# 키의 중복을 허락하지 않는다.\n",
        "print(d['one'])\n",
        "print(type(d))\n",
        "print(dir(d))\n",
        "print(d.values())\n",
        "print(d.keys())\n",
        "print(d.items()) # 리스트안에 튜플로 주어진다. \n",
        "l = list(d.items())\n",
        "print(l[0][1]) # 다중리스트, 0번째에 1번째를 보고 싶을 때 "
      ],
      "execution_count": null,
      "outputs": [
        {
          "output_type": "stream",
          "name": "stdout",
          "text": [
            "10\n",
            "<class 'dict'>\n",
            "['__class__', '__contains__', '__delattr__', '__delitem__', '__dir__', '__doc__', '__eq__', '__format__', '__ge__', '__getattribute__', '__getitem__', '__gt__', '__hash__', '__init__', '__init_subclass__', '__iter__', '__le__', '__len__', '__lt__', '__ne__', '__new__', '__reduce__', '__reduce_ex__', '__repr__', '__setattr__', '__setitem__', '__sizeof__', '__str__', '__subclasshook__', 'clear', 'copy', 'fromkeys', 'get', 'items', 'keys', 'pop', 'popitem', 'setdefault', 'update', 'values']\n",
            "dict_values([10, 20])\n",
            "dict_keys(['one', 'two'])\n",
            "dict_items([('one', 10), ('two', 20)])\n",
            "10\n"
          ]
        }
      ]
    },
    {
      "cell_type": "code",
      "metadata": {
        "colab": {
          "base_uri": "https://localhost:8080/"
        },
        "id": "NC8zSTG7SId3",
        "outputId": "f8bed3c0-32ad-4fa3-b004-750b8102a1fc"
      },
      "source": [
        "Jeju = {'banana':5000, 'orange':2000}\n",
        "Seoul = Jeju.copy()\n",
        "Jeju['orange'] = 1000000\n",
        "print(Seoul)\n",
        "print(Jeju)"
      ],
      "execution_count": null,
      "outputs": [
        {
          "output_type": "stream",
          "name": "stdout",
          "text": [
            "{'banana': 5000, 'orange': 2000}\n",
            "{'banana': 5000, 'orange': 1000000}\n"
          ]
        }
      ]
    }
  ]
}