{
  "nbformat": 4,
  "nbformat_minor": 0,
  "metadata": {
    "colab": {
      "name": "Crawling.ipynb",
      "provenance": [],
      "collapsed_sections": [
        "ByvB7EFhDCGt",
        "UkHbaRn-xrmt"
      ],
      "mount_file_id": "1XKDcOIwsYg74EYzSW4D8799aOUVNNVZS",
      "authorship_tag": "ABX9TyNvAwA1yNr9qMGV5wWDK2Of",
      "include_colab_link": true
    },
    "kernelspec": {
      "name": "python3",
      "display_name": "Python 3"
    },
    "language_info": {
      "name": "python"
    }
  },
  "cells": [
    {
      "cell_type": "markdown",
      "metadata": {
        "id": "view-in-github",
        "colab_type": "text"
      },
      "source": [
        "<a href=\"https://colab.research.google.com/github/hyunicecream/Inflearn/blob/main/Crawling.ipynb\" target=\"_parent\"><img src=\"https://colab.research.google.com/assets/colab-badge.svg\" alt=\"Open In Colab\"/></a>"
      ]
    },
    {
      "cell_type": "markdown",
      "metadata": {
        "id": "ByvB7EFhDCGt"
      },
      "source": [
        "## Crawling\n",
        "\n",
        "웹 페이지에 접속해서 정보를 찾는 과정을 프로그램을 통해 찾아 수집하고 원하는 형태에 맞게 가공하는 모든 과정.\n",
        "\n",
        "- 사이트의 운영자의 의사에 반하지 않으면 합법이고 그렇지 않으면 불법\n",
        "- 사이트 디렉토리의 robots.txt파일을 보면 크롤링을 금지하는지 안하는지표시되어있음\n",
        " (Disallow라는 표시 있으면 크롤링하면 안 됨)\n",
        "- 웹페이지 소스 중 웹 프로그래밍 요소는 저작물로 인정될 수 있으므로 불법 복제는 저작권 침해에 해당.\n",
        "\n",
        "### **필요패키지**\n",
        "\n",
        "- (필수) pip3 install BeautifulSoup4 or pip3 install bs4\n",
        "- (필수) pip3 install requests\n",
        "- (필수) pip3 install pandas\n",
        "- (필수) pip3 install plotly\n",
        "- (선택) pip3 install lxml\n",
        "\n",
        "### **라이브러리 설치 (대부분 설치되어있다는 가정 하)**\n",
        "\n",
        "- !pip3 install requests\n",
        "- !pip3 install beautifulsoup4"
      ]
    },
    {
      "cell_type": "code",
      "metadata": {
        "colab": {
          "base_uri": "https://localhost:8080/"
        },
        "id": "qb1DIvFdCtoR",
        "outputId": "602ca81a-5834-4a22-a1dd-c878f18da9f5"
      },
      "source": [
        "!pip install BeautifulSoup4 \n",
        "!pip install requests"
      ],
      "execution_count": null,
      "outputs": [
        {
          "output_type": "stream",
          "name": "stdout",
          "text": [
            "Requirement already satisfied: BeautifulSoup4 in /usr/local/lib/python3.7/dist-packages (4.6.3)\n",
            "Requirement already satisfied: requests in /usr/local/lib/python3.7/dist-packages (2.23.0)\n",
            "Requirement already satisfied: idna<3,>=2.5 in /usr/local/lib/python3.7/dist-packages (from requests) (2.10)\n",
            "Requirement already satisfied: certifi>=2017.4.17 in /usr/local/lib/python3.7/dist-packages (from requests) (2021.10.8)\n",
            "Requirement already satisfied: urllib3!=1.25.0,!=1.25.1,<1.26,>=1.21.1 in /usr/local/lib/python3.7/dist-packages (from requests) (1.24.3)\n",
            "Requirement already satisfied: chardet<4,>=3.0.2 in /usr/local/lib/python3.7/dist-packages (from requests) (3.0.4)\n"
          ]
        }
      ]
    },
    {
      "cell_type": "markdown",
      "metadata": {
        "id": "jRvQtism_gcI"
      },
      "source": [
        "## **URL(Uniform Resource Locator)**\n",
        "\n",
        "- 자원이 어디 있는지를 알려주기 위한 규약\n",
        "- 흔히 웹 사이트 주소로 알고 있지만, URL은 웹 사이트 주소뿐만 아니라 컴퓨터 네트워크상의 자원을 모두 나타낼 수 있음\n",
        "- 그 주소에 접속하려면 해당 URL에 맞는 프로토콜을 알아야 하고, 그와 동일한 프로토콜로 접속(FTP 프로토콜인 경우에는 FTP 클라이언트를 이용해야 하고, HTTP인 경우에는 웹 브라우저를 이용해야 한다. 텔넷의 경우에는 텔넷 프로그램을 이용해서 접속)\n",
        "\n",
        "출처 : Wiki"
      ]
    },
    {
      "cell_type": "markdown",
      "metadata": {
        "id": "d62ZOynowxNH"
      },
      "source": [
        "## **HTTP(Hypertext Transger Protocol)**\n",
        "\n",
        "- HTML, XML, Javascript, 오디오, 비디오, 이미지, PDF, Etc\n",
        "- 요청 또는 상태 라인 / 해더(생략가능) / 빈줄(해더의 끝) / 바디(생략가능)\n",
        "---\n",
        "\n",
        "### **HTTP request ex 1**\n",
        "\n",
        "```\n",
        "GET /stock.html HTTP/1.1\n",
        "Host www.paullab.co.kr\n",
        "```\n",
        "\n",
        "---\n",
        "\n",
        "### **HTTP request ex 2**\n",
        "\n",
        "```\n",
        "GET /index.html HTTP/1.1\n",
        "user-agent: MSIE 6.0; Windows NT 5.0\n",
        "accept: text/html; */*\n",
        "cookie: name = value\n",
        "referer: http://www.naver.com\n",
        "host: www.paullab.co.kr\n",
        "```\n",
        "\n",
        "1. 데이터 처리 방식, 기본 페이지, 프로토콜 버전.\n",
        "2. User-Agent: 사용자 웹 브라우저 종류 및 버전 정보.\n",
        "3. Accept: 웹 서버로부터 수신되는 데이터 중 웹 브라우저가 처리할 수 있는 데이터 타입을 의미. \n",
        "    \n",
        "    여기서 text/html은 text, html 형태의 문서를 처리할 수 있고,  */*는 모든 문서를 처리할 수 있다는 의미. (이를 MIME 타입이라 부르기도 한다.)\n",
        "    \n",
        "4. Cookie: HTTP 프로토콜 자체가 세션을 유지하지 않는 State-less(접속상태를 유지하지 않는) 방식이기 때문에 로그인 인증을 위한 사용자 정보를 기억하려고 만든 인위적인 값. 즉 사용자가 정상적인 로그인 인증 정보를 가지고 있다는 것을 판단하고자 사용.\n",
        "5. Referer: 현재 페이지 접속 전에 어느 사이트를 경유했는지 알려주는 도메인 혹은 URL 정보.\n",
        "6. Host: 사용자가 요청한 도메인정보."
      ]
    },
    {
      "cell_type": "markdown",
      "metadata": {
        "id": "UkHbaRn-xrmt"
      },
      "source": [
        "## **HTTP Response ex 1**\n",
        "\n",
        "```\n",
        "HTTP/1.1 200 OK                                    ## 상태라인\n",
        "Content-Type: application/xhtml+xml; charset=utf-8 ## 해더\n",
        "                                                   ## 빈줄\n",
        "<html>                                             ## 바디\n",
        "...\n",
        "</html>\n",
        "```\n",
        "\n",
        "---\n",
        "\n",
        "## **HTTP Response ex 2**\n",
        "\n",
        "```\n",
        "HTTP/1.1 OK 200 \n",
        "Server: NCSA/1.4.2\n",
        "Content-type: text/html\n",
        "Content-length: 107\n",
        "\n",
        "<html>\n",
        "...\n",
        "</html>\n",
        "```\n",
        "\n",
        "1. 웹 프로토콜 버전 및 응답 코드 정보가 포함.\n",
        "2. 웹 애플리케이션 종류 및 버전 정보가 포함.\n",
        "3. MIME 타입 정보가 포함.\n",
        "4. 수신 Body 사이즈 정보가 포함.\n",
        "5. 사용자가 요청한 웹 페이지 정보가 포함.\n",
        "\n",
        "## **HTTP 처리방식**\n",
        "\n",
        "- GET : 리소스 취득 (? 뒤에 이어붙이는 방식 - 작은 값들)\n",
        "- POST : 리소스 생성 (Body에 붙이는 방식 - 상대적으로 큰 용량)\n",
        "- PUT : 리소스 수정 요청\n",
        "- DELETE : 리소스 삭제 요청\n",
        "- HEAD : HTTP 헤더 정보만 요청, 해당 자원 존재 여부 확인 목적\n",
        "- OPTIONS : 웹서버가 지원하는 메소드 종류 반환 요청\n",
        "- TRACE : 요청 리소스가 수신되는 경로 확인\n",
        "- CONNECT : 요청 리소스에 대해 양방향 연결 시작\n",
        "\n",
        "## **상태 코드**\n",
        "\n",
        "- 200 :  서버가 요청을 제대로 처리.\n",
        "- 201 : 성공적으로 요청되었으며 서버가 새 리소스를 작성.\n",
        "- 202 : 서버가 요청을 접수했지만 아직 처리하지 않음.\n",
        "- 301 : 요청한 페이지를 새 위치로 영구적으로 이동.\n",
        "- 403 : 서버가 요청을 거부.\n",
        "- 404 : 서버가 요청한 페이지를 찾을 수 없음.\n",
        "- 500 : 서버에 오류가 발생하여 요청을 수행할 수 없음.\n",
        "- 503 : 서버가 오버로드되었거나 유지관리를 위해 다운되었기 때문에 현재서버 사용 불가.\n",
        "\n",
        "출처 : [WIKI](https://ko.wikipedia.org/wiki/HTTP_%EC%83%81%ED%83%9C_%EC%BD%94%EB%93%9C)"
      ]
    },
    {
      "cell_type": "code",
      "metadata": {
        "id": "5kaVO7TvyfYY"
      },
      "source": [
        "import requests\n",
        "import bs4"
      ],
      "execution_count": null,
      "outputs": []
    },
    {
      "cell_type": "code",
      "metadata": {
        "colab": {
          "base_uri": "https://localhost:8080/",
          "height": 35
        },
        "id": "T8JRSFSFzNHy",
        "outputId": "251baa99-e2b8-4054-c04a-e03739c3f3fe"
      },
      "source": [
        "requests.__version__"
      ],
      "execution_count": null,
      "outputs": [
        {
          "output_type": "execute_result",
          "data": {
            "application/vnd.google.colaboratory.intrinsic+json": {
              "type": "string"
            },
            "text/plain": [
              "'2.23.0'"
            ]
          },
          "metadata": {},
          "execution_count": 27
        }
      ]
    },
    {
      "cell_type": "code",
      "metadata": {
        "colab": {
          "base_uri": "https://localhost:8080/",
          "height": 35
        },
        "id": "4S6s_lQQzPut",
        "outputId": "140562bb-c35b-4f8e-c83c-7ca4a39833af"
      },
      "source": [
        "bs4.__version__"
      ],
      "execution_count": null,
      "outputs": [
        {
          "output_type": "execute_result",
          "data": {
            "application/vnd.google.colaboratory.intrinsic+json": {
              "type": "string"
            },
            "text/plain": [
              "'4.6.3'"
            ]
          },
          "metadata": {},
          "execution_count": 28
        }
      ]
    },
    {
      "cell_type": "code",
      "metadata": {
        "colab": {
          "base_uri": "https://localhost:8080/"
        },
        "id": "5XFc8evbzRVO",
        "outputId": "35d8af85-676c-4cf9-d23b-2512697634a4"
      },
      "source": [
        "from datetime import datetime\n",
        "\n",
        "datetime.now()"
      ],
      "execution_count": null,
      "outputs": [
        {
          "output_type": "execute_result",
          "data": {
            "text/plain": [
              "datetime.datetime(2021, 11, 17, 12, 20, 33, 36510)"
            ]
          },
          "metadata": {},
          "execution_count": 29
        }
      ]
    }
  ]
}