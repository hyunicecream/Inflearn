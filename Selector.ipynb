{
  "nbformat": 4,
  "nbformat_minor": 0,
  "metadata": {
    "colab": {
      "name": "\bSelector.ipynb",
      "provenance": [],
      "collapsed_sections": [],
      "authorship_tag": "ABX9TyOu80/koOg0mFkKfFJtxV7K",
      "include_colab_link": true
    },
    "kernelspec": {
      "name": "python3",
      "display_name": "Python 3"
    },
    "language_info": {
      "name": "python"
    }
  },
  "cells": [
    {
      "cell_type": "markdown",
      "metadata": {
        "id": "view-in-github",
        "colab_type": "text"
      },
      "source": [
        "<a href=\"https://colab.research.google.com/github/hyunicecream/Inflearn/blob/main/%08Selector.ipynb\" target=\"_parent\"><img src=\"https://colab.research.google.com/assets/colab-badge.svg\" alt=\"Open In Colab\"/></a>"
      ]
    },
    {
      "cell_type": "markdown",
      "metadata": {
        "id": "hLhwE6eiDfMs"
      },
      "source": [
        "### **Selector**\n",
        "\n",
        "- 태그에 좀 더 세밀한 접근이 가능\n",
        "- class를 지칭할 때는 '.'을 사용하고, id를 지칭할 때는 '#'를 사용\n",
        "- 탐색하고자 하는 태그가 특정태그 하위에 있을 때 '>'를 사용"
      ]
    },
    {
      "cell_type": "code",
      "metadata": {
        "id": "g5-24sEhDcB3"
      },
      "source": [
        "import requests\n",
        "from bs4 import BeautifulSoup\n",
        "\n",
        "response = requests.get('http://paullab.synology.me/stock.html')\n",
        "response.encoding = 'utf-8'\n",
        "html = response.text\n",
        "\n",
        "soup = BeautifulSoup(html, 'html.parser')"
      ],
      "execution_count": null,
      "outputs": []
    },
    {
      "cell_type": "code",
      "metadata": {
        "colab": {
          "base_uri": "https://localhost:8080/"
        },
        "id": "stg5lGZoF3R-",
        "outputId": "e044a69b-0afe-49b7-8131-3a3356e30b28"
      },
      "source": [
        "soup.find('h2', id='제주코딩베이스캠프연구원')"
      ],
      "execution_count": null,
      "outputs": [
        {
          "output_type": "execute_result",
          "data": {
            "text/plain": [
              "<h2 id=\"제주코딩베이스캠프연구원\">제주코딩베이스캠프 연구원</h2>"
            ]
          },
          "metadata": {},
          "execution_count": 16
        }
      ]
    },
    {
      "cell_type": "code",
      "metadata": {
        "colab": {
          "base_uri": "https://localhost:8080/"
        },
        "id": "SJUOWW9yDmBn",
        "outputId": "74b29592-918e-415b-a89b-ecb2fdcd5201"
      },
      "source": [
        "soup.select('#update')"
      ],
      "execution_count": null,
      "outputs": [
        {
          "output_type": "execute_result",
          "data": {
            "text/plain": [
              "[<span id=\"update\">update : 20.12.30</span>]"
            ]
          },
          "metadata": {},
          "execution_count": 5
        }
      ]
    },
    {
      "cell_type": "code",
      "metadata": {
        "colab": {
          "base_uri": "https://localhost:8080/"
        },
        "id": "DWwSW25ED3hl",
        "outputId": "b944aaa6-ea36-4265-9bbe-21e3e881686c"
      },
      "source": [
        "soup.select('.table > tr') # 'table' class 안에 모든 tr 태그 출력\n",
        "# 순서 : table > tbody > tr (바로 아래 아니면 실행안됨)"
      ],
      "execution_count": null,
      "outputs": [
        {
          "output_type": "execute_result",
          "data": {
            "text/plain": [
              "[]"
            ]
          },
          "metadata": {},
          "execution_count": 20
        }
      ]
    },
    {
      "cell_type": "code",
      "metadata": {
        "colab": {
          "base_uri": "https://localhost:8080/"
        },
        "id": "cQFzOYifD3bR",
        "outputId": "72872085-300a-4930-f571-4db5728c70bb"
      },
      "source": [
        "soup.select('.table > tbody > tr')[0] # 'table' class 안에 tbody 안에 모든 tr 태그 출력"
      ],
      "execution_count": null,
      "outputs": [
        {
          "output_type": "execute_result",
          "data": {
            "text/plain": [
              "<tr>\n",
              "<th scope=\"col\">날짜</th>\n",
              "<th scope=\"col\">종가</th>\n",
              "<th scope=\"col\">전일비</th>\n",
              "<th scope=\"col\">시가</th>\n",
              "<th scope=\"col\">고가</th>\n",
              "<th scope=\"col\">저가</th>\n",
              "<th scope=\"col\">거래량</th>\n",
              "</tr>"
            ]
          },
          "metadata": {},
          "execution_count": 28
        }
      ]
    },
    {
      "cell_type": "code",
      "metadata": {
        "id": "1ZXsf5epHqEW"
      },
      "source": [
        "###################\n",
        "### 요소 선택 방법 ###\n",
        "###################\n",
        "soup.select(\"p > a:nth-of-type(2)\") # p > a tag 인데 2번째 요소\n",
        "soup.select(\"p > a:nth-child(even)\") # p > a tag 인데 짝수나 홀수번째 요소 \n",
        "soup.select('a[href]') # 특정 attribute 요소\n",
        "soup.select(\"#link1 + .sister\") # id와 class를 동시에 가진 요소"
      ],
      "execution_count": null,
      "outputs": []
    },
    {
      "cell_type": "code",
      "metadata": {
        "colab": {
          "base_uri": "https://localhost:8080/"
        },
        "id": "ao5L2AIZHd28",
        "outputId": "ecf23099-aad1-44a6-d407-e519bad9addf"
      },
      "source": [
        "oneStep = soup.select('.main')[2] # 제주코딩베이스캠프 연구원\n",
        "oneStep"
      ],
      "execution_count": null,
      "outputs": [
        {
          "output_type": "execute_result",
          "data": {
            "text/plain": [
              "<div class=\"main\">\n",
              "<h2 id=\"제주코딩베이스캠프연구원\">제주코딩베이스캠프 연구원</h2>\n",
              "<h3><span style=\"color: salmon\">일별</span> 시세</h3>\n",
              "<table class=\"table table-hover\">\n",
              "<tbody>\n",
              "<tr>\n",
              "<th scope=\"col\">날짜</th>\n",
              "<th scope=\"col\">종가</th>\n",
              "<th scope=\"col\">전일비</th>\n",
              "<th scope=\"col\">시가</th>\n",
              "<th scope=\"col\">고가</th>\n",
              "<th scope=\"col\">저가</th>\n",
              "<th scope=\"col\">거래량</th>\n",
              "</tr>\n",
              "<tr>\n",
              "<td align=\"center \"><span class=\"date \">2019.10.23</span></td>\n",
              "<td class=\"num \"><span>6,650</span></td>\n",
              "<td class=\"num \">\n",
              "<img alt=\"상승 \" height=\"6 \" src=\"ico_up.gif \" style=\"margin-right:4px; \" width=\"7 \"/><span>\n",
              "                            20\n",
              "                        </span>\n",
              "</td>\n",
              "<td class=\"num \"><span>6,590</span></td>\n",
              "<td class=\"num \"><span>6,830</span></td>\n",
              "<td class=\"num \"><span>6,580</span></td>\n",
              "<td class=\"num \"><span>398,421</span></td>\n",
              "</tr>\n",
              "<tr>\n",
              "<td align=\"center\"><span class=\"date\">2019.10.22</span></td>\n",
              "<td class=\"num\"><span>6,630</span></td>\n",
              "<td class=\"num\">\n",
              "<img alt=\"하락\" height=\"6\" src=\"ico_down.gif\" style=\"margin-right:4px;\" width=\"7\"/><span class=\"tah p11 nv01\">\n",
              "                            190\n",
              "                        </span>\n",
              "</td>\n",
              "<td class=\"num\"><span>6,830</span></td>\n",
              "<td class=\"num\"><span>6,930</span></td>\n",
              "<td class=\"num\"><span>6,530</span></td>\n",
              "<td class=\"num\"><span>919,571</span></td>\n",
              "</tr>\n",
              "<tr>\n",
              "<td align=\"center\"><span class=\"date\">2019.10.21</span></td>\n",
              "<td class=\"num\"><span>6,820</span></td>\n",
              "<td class=\"num\">\n",
              "<img alt=\"상승\" height=\"6\" src=\"ico_up.gif\" style=\"margin-right:4px;\" width=\"7\"/><span>\n",
              "                            390\n",
              "                        </span>\n",
              "</td>\n",
              "<td class=\"num\"><span>6,440</span></td>\n",
              "<td class=\"num\"><span>6,890</span></td>\n",
              "<td class=\"num\"><span>6,360</span></td>\n",
              "<td class=\"num\"><span>1,678,055</span></td>\n",
              "</tr>\n",
              "<tr>\n",
              "<td align=\"center\"><span class=\"date\">2019.10.18</span></td>\n",
              "<td class=\"num\"><span>6,430</span></td>\n",
              "<td class=\"num\">\n",
              "<img alt=\"상승\" height=\"6\" src=\"ico_up.gif\" style=\"margin-right:4px;\" width=\"7\"/><span>\n",
              "                            480\n",
              "                        </span>\n",
              "</td>\n",
              "<td class=\"num\"><span>6,020</span></td>\n",
              "<td class=\"num\"><span>6,620</span></td>\n",
              "<td class=\"num\"><span>5,970</span></td>\n",
              "<td class=\"num\"><span>2,168,857</span></td>\n",
              "</tr>\n",
              "<tr>\n",
              "<td align=\"center\"><span class=\"date\">2019.10.17</span></td>\n",
              "<td class=\"num\"><span>5,950</span></td>\n",
              "<td class=\"num\">\n",
              "<img alt=\"상승\" height=\"6\" src=\"ico_up.gif\" style=\"margin-right:4px;\" width=\"7\"/><span>\n",
              "                            20\n",
              "                        </span>\n",
              "</td>\n",
              "<td class=\"num\"><span>6,100</span></td>\n",
              "<td class=\"num\"><span>6,180</span></td>\n",
              "<td class=\"num\"><span>5,840</span></td>\n",
              "<td class=\"num\"><span>1,982,922</span></td>\n",
              "</tr>\n",
              "<tr>\n",
              "<td align=\"center\"><span class=\"date\">2019.10.16</span></td>\n",
              "<td class=\"num\"><span>5,930</span></td>\n",
              "<td class=\"num\">\n",
              "<img alt=\"상승\" height=\"6\" src=\"ico_up.gif\" style=\"margin-right:4px;\" width=\"7\"/><span>\n",
              "                            290\n",
              "                        </span>\n",
              "</td>\n",
              "<td class=\"num\"><span>5,620</span></td>\n",
              "<td class=\"num\"><span>5,930</span></td>\n",
              "<td class=\"num\"><span>5,350</span></td>\n",
              "<td class=\"num\"><span>839,434</span></td>\n",
              "</tr>\n",
              "<tr>\n",
              "<td align=\"center\"><span class=\"date\">2019.10.15</span></td>\n",
              "<td class=\"num\"><span>5,640</span></td>\n",
              "<td class=\"num\">\n",
              "<img alt=\"상승\" height=\"6\" src=\"ico_up.gif\" style=\"margin-right:4px;\" width=\"7\"/><span>\n",
              "                            260\n",
              "                        </span>\n",
              "</td>\n",
              "<td class=\"num\"><span>5,370</span></td>\n",
              "<td class=\"num\"><span>5,660</span></td>\n",
              "<td class=\"num\"><span>5,300</span></td>\n",
              "<td class=\"num\"><span>702,104</span></td>\n",
              "</tr>\n",
              "<tr>\n",
              "<td align=\"center\"><span class=\"date\">2019.10.14</span></td>\n",
              "<td class=\"num\"><span>5,380</span></td>\n",
              "<td class=\"num\">\n",
              "<img alt=\"상승\" height=\"6\" src=\"ico_up.gif\" style=\"margin-right:4px;\" width=\"7\"/><span>\n",
              "                            340\n",
              "                        </span>\n",
              "</td>\n",
              "<td class=\"num\"><span>5,060</span></td>\n",
              "<td class=\"num\"><span>5,420</span></td>\n",
              "<td class=\"num\"><span>5,060</span></td>\n",
              "<td class=\"num\"><span>764,800</span></td>\n",
              "</tr>\n",
              "<tr>\n",
              "<td align=\"center\"><span class=\"date\">2019.10.11</span></td>\n",
              "<td class=\"num\"><span>5,040</span></td>\n",
              "<td class=\"num\">\n",
              "<img alt=\"하락\" height=\"6\" src=\"ico_down.gif\" style=\"margin-right:4px;\" width=\"7\"/><span class=\"tah p11 nv01\">\n",
              "                            60\n",
              "                        </span>\n",
              "</td>\n",
              "<td class=\"num\"><span>5,100</span></td>\n",
              "<td class=\"num\"><span>5,170</span></td>\n",
              "<td class=\"num\"><span>5,020</span></td>\n",
              "<td class=\"num\"><span>134,558</span></td>\n",
              "</tr>\n",
              "<tr>\n",
              "<td align=\"center\"><span class=\"date\">2019.10.10</span></td>\n",
              "<td class=\"num\"><span>5,100</span></td>\n",
              "<td class=\"num\">\n",
              "<img alt=\"상승\" height=\"6\" src=\"ico_up.gif\" style=\"margin-right:4px;\" width=\"7\"/><span>\n",
              "                            50\n",
              "                        </span>\n",
              "</td>\n",
              "<td class=\"num\"><span>5,000</span></td>\n",
              "<td class=\"num\"><span>5,120</span></td>\n",
              "<td class=\"num\"><span>4,970</span></td>\n",
              "<td class=\"num\"><span>288,563</span></td>\n",
              "</tr>\n",
              "<tr>\n",
              "<td align=\"center\"><span class=\"date\">2019.10.08</span></td>\n",
              "<td class=\"num\"><span>5,050</span></td>\n",
              "<td class=\"num\">\n",
              "<img alt=\"상승\" height=\"6\" src=\"ico_up.gif\" style=\"margin-right:4px;\" width=\"7\"/><span>\n",
              "                            110\n",
              "                        </span>\n",
              "</td>\n",
              "<td class=\"num\"><span>4,985</span></td>\n",
              "<td class=\"num\"><span>5,050</span></td>\n",
              "<td class=\"num\"><span>4,910</span></td>\n",
              "<td class=\"num\"><span>223,839</span></td>\n",
              "</tr>\n",
              "<tr>\n",
              "<td align=\"center\"><span class=\"date\">2019.10.07</span></td>\n",
              "<td class=\"num\"><span>4,940</span></td>\n",
              "<td class=\"num\">\n",
              "<img alt=\"하락\" height=\"6\" src=\"ico_down.gif\" style=\"margin-right:4px;\" width=\"7\"/><span class=\"tah p11 nv01\">\n",
              "                            70\n",
              "                        </span>\n",
              "</td>\n",
              "<td class=\"num\"><span>4,990</span></td>\n",
              "<td class=\"num\"><span>5,110</span></td>\n",
              "<td class=\"num\"><span>4,905</span></td>\n",
              "<td class=\"num\"><span>199,580</span></td>\n",
              "</tr>\n",
              "<tr>\n",
              "<td align=\"center\"><span class=\"date\">2019.10.04</span></td>\n",
              "<td class=\"num\"><span>5,010</span></td>\n",
              "<td class=\"num\">\n",
              "<img alt=\"상승\" height=\"6\" src=\"ico_up.gif\" style=\"margin-right:4px;\" width=\"7\"/><span>\n",
              "                            90\n",
              "                        </span>\n",
              "</td>\n",
              "<td class=\"num\"><span>4,900</span></td>\n",
              "<td class=\"num\"><span>5,050</span></td>\n",
              "<td class=\"num\"><span>4,900</span></td>\n",
              "<td class=\"num\"><span>188,467</span></td>\n",
              "</tr>\n",
              "<tr>\n",
              "<td align=\"center\"><span class=\"date\">2019.10.02</span></td>\n",
              "<td class=\"num\"><span>4,920</span></td>\n",
              "<td class=\"num\">\n",
              "<img alt=\"하락\" height=\"6\" src=\"ico_down.gif\" style=\"margin-right:4px;\" width=\"7\"/><span class=\"tah p11 nv01\">\n",
              "                            90\n",
              "                        </span>\n",
              "</td>\n",
              "<td class=\"num\"><span>4,930</span></td>\n",
              "<td class=\"num\"><span>5,000</span></td>\n",
              "<td class=\"num\"><span>4,900</span></td>\n",
              "<td class=\"num\"><span>160,510</span></td>\n",
              "</tr>\n",
              "<tr>\n",
              "<td align=\"center\"><span class=\"date\">2019.10.01</span></td>\n",
              "<td class=\"num\"><span>5,010</span></td>\n",
              "<td class=\"num\">\n",
              "<img alt=\"상승\" height=\"6\" src=\"ico_up.gif\" style=\"margin-right:4px;\" width=\"7\"/><span>\n",
              "                            10\n",
              "                        </span>\n",
              "</td>\n",
              "<td class=\"num\"><span>4,950</span></td>\n",
              "<td class=\"num\"><span>5,050</span></td>\n",
              "<td class=\"num\"><span>4,950</span></td>\n",
              "<td class=\"num\"><span>246,145</span></td>\n",
              "</tr>\n",
              "<tr>\n",
              "<td align=\"center\"><span class=\"date\">2019.09.30</span></td>\n",
              "<td class=\"num\"><span>5,000</span></td>\n",
              "<td class=\"num\">\n",
              "<img alt=\"하락\" height=\"6\" src=\"ico_down.gif\" style=\"margin-right:4px;\" width=\"7\"/><span class=\"tah p11 nv01\">\n",
              "                            10\n",
              "                        </span>\n",
              "</td>\n",
              "<td class=\"num\"><span>5,180</span></td>\n",
              "<td class=\"num\"><span>5,300</span></td>\n",
              "<td class=\"num\"><span>4,990</span></td>\n",
              "<td class=\"num\"><span>705,046</span></td>\n",
              "</tr>\n",
              "<tr>\n",
              "<td align=\"center\"><span class=\"date\">2019.09.27</span></td>\n",
              "<td class=\"num\"><span>5,010</span></td>\n",
              "<td class=\"num\">\n",
              "<img alt=\"하락\" height=\"6\" src=\"ico_down.gif\" style=\"margin-right:4px;\" width=\"7\"/><span class=\"tah p11 nv01\">\n",
              "                            50\n",
              "                        </span>\n",
              "</td>\n",
              "<td class=\"num\"><span>5,020</span></td>\n",
              "<td class=\"num\"><span>5,080</span></td>\n",
              "<td class=\"num\"><span>4,865</span></td>\n",
              "<td class=\"num\"><span>408,859</span></td>\n",
              "</tr>\n",
              "<tr>\n",
              "<td align=\"center\"><span class=\"date\">2019.09.26</span></td>\n",
              "<td class=\"num\"><span>5,060</span></td>\n",
              "<td class=\"num\">\n",
              "<span>0</span>\n",
              "</td>\n",
              "<td class=\"num\"><span>5,130</span></td>\n",
              "<td class=\"num\"><span>5,200</span></td>\n",
              "<td class=\"num\"><span>4,965</span></td>\n",
              "<td class=\"num\"><span>404,633</span></td>\n",
              "</tr>\n",
              "<tr>\n",
              "<td align=\"center\"><span class=\"date\">2019.09.25</span></td>\n",
              "<td class=\"num\"><span>5,060</span></td>\n",
              "<td class=\"num\">\n",
              "<img alt=\"하락\" height=\"6\" src=\"ico_down.gif\" style=\"margin-right:4px;\" width=\"7\"/><span class=\"tah p11 nv01\">\n",
              "                            270\n",
              "                        </span>\n",
              "</td>\n",
              "<td class=\"num\"><span>5,280</span></td>\n",
              "<td class=\"num\"><span>5,320</span></td>\n",
              "<td class=\"num\"><span>5,040</span></td>\n",
              "<td class=\"num\"><span>441,923</span></td>\n",
              "</tr>\n",
              "<tr>\n",
              "<td align=\"center\"><span class=\"date\">2019.09.24</span></td>\n",
              "<td class=\"num\"><span>5,330</span></td>\n",
              "<td class=\"num\">\n",
              "<img alt=\"상승\" height=\"6\" src=\"ico_up.gif\" style=\"margin-right:4px;\" width=\"7\"/><span>\n",
              "                            10\n",
              "                        </span>\n",
              "</td>\n",
              "<td class=\"num\"><span>5,300</span></td>\n",
              "<td class=\"num\"><span>5,370</span></td>\n",
              "<td class=\"num\"><span>5,280</span></td>\n",
              "<td class=\"num\"><span>211,019</span></td>\n",
              "</tr>\n",
              "</tbody>\n",
              "</table>\n",
              "</div>"
            ]
          },
          "metadata": {},
          "execution_count": 36
        }
      ]
    },
    {
      "cell_type": "code",
      "metadata": {
        "colab": {
          "base_uri": "https://localhost:8080/"
        },
        "id": "9JI666zZHxso",
        "outputId": "bec2e414-e486-44ec-a879-24248809f45c"
      },
      "source": [
        "oneStep.select('tbody > tr')"
      ],
      "execution_count": null,
      "outputs": [
        {
          "output_type": "execute_result",
          "data": {
            "text/plain": [
              "[<tr>\n",
              " <th scope=\"col\">날짜</th>\n",
              " <th scope=\"col\">종가</th>\n",
              " <th scope=\"col\">전일비</th>\n",
              " <th scope=\"col\">시가</th>\n",
              " <th scope=\"col\">고가</th>\n",
              " <th scope=\"col\">저가</th>\n",
              " <th scope=\"col\">거래량</th>\n",
              " </tr>, <tr>\n",
              " <td align=\"center \"><span class=\"date \">2019.10.23</span></td>\n",
              " <td class=\"num \"><span>6,650</span></td>\n",
              " <td class=\"num \">\n",
              " <img alt=\"상승 \" height=\"6 \" src=\"ico_up.gif \" style=\"margin-right:4px; \" width=\"7 \"/><span>\n",
              "                             20\n",
              "                         </span>\n",
              " </td>\n",
              " <td class=\"num \"><span>6,590</span></td>\n",
              " <td class=\"num \"><span>6,830</span></td>\n",
              " <td class=\"num \"><span>6,580</span></td>\n",
              " <td class=\"num \"><span>398,421</span></td>\n",
              " </tr>, <tr>\n",
              " <td align=\"center\"><span class=\"date\">2019.10.22</span></td>\n",
              " <td class=\"num\"><span>6,630</span></td>\n",
              " <td class=\"num\">\n",
              " <img alt=\"하락\" height=\"6\" src=\"ico_down.gif\" style=\"margin-right:4px;\" width=\"7\"/><span class=\"tah p11 nv01\">\n",
              "                             190\n",
              "                         </span>\n",
              " </td>\n",
              " <td class=\"num\"><span>6,830</span></td>\n",
              " <td class=\"num\"><span>6,930</span></td>\n",
              " <td class=\"num\"><span>6,530</span></td>\n",
              " <td class=\"num\"><span>919,571</span></td>\n",
              " </tr>, <tr>\n",
              " <td align=\"center\"><span class=\"date\">2019.10.21</span></td>\n",
              " <td class=\"num\"><span>6,820</span></td>\n",
              " <td class=\"num\">\n",
              " <img alt=\"상승\" height=\"6\" src=\"ico_up.gif\" style=\"margin-right:4px;\" width=\"7\"/><span>\n",
              "                             390\n",
              "                         </span>\n",
              " </td>\n",
              " <td class=\"num\"><span>6,440</span></td>\n",
              " <td class=\"num\"><span>6,890</span></td>\n",
              " <td class=\"num\"><span>6,360</span></td>\n",
              " <td class=\"num\"><span>1,678,055</span></td>\n",
              " </tr>, <tr>\n",
              " <td align=\"center\"><span class=\"date\">2019.10.18</span></td>\n",
              " <td class=\"num\"><span>6,430</span></td>\n",
              " <td class=\"num\">\n",
              " <img alt=\"상승\" height=\"6\" src=\"ico_up.gif\" style=\"margin-right:4px;\" width=\"7\"/><span>\n",
              "                             480\n",
              "                         </span>\n",
              " </td>\n",
              " <td class=\"num\"><span>6,020</span></td>\n",
              " <td class=\"num\"><span>6,620</span></td>\n",
              " <td class=\"num\"><span>5,970</span></td>\n",
              " <td class=\"num\"><span>2,168,857</span></td>\n",
              " </tr>, <tr>\n",
              " <td align=\"center\"><span class=\"date\">2019.10.17</span></td>\n",
              " <td class=\"num\"><span>5,950</span></td>\n",
              " <td class=\"num\">\n",
              " <img alt=\"상승\" height=\"6\" src=\"ico_up.gif\" style=\"margin-right:4px;\" width=\"7\"/><span>\n",
              "                             20\n",
              "                         </span>\n",
              " </td>\n",
              " <td class=\"num\"><span>6,100</span></td>\n",
              " <td class=\"num\"><span>6,180</span></td>\n",
              " <td class=\"num\"><span>5,840</span></td>\n",
              " <td class=\"num\"><span>1,982,922</span></td>\n",
              " </tr>, <tr>\n",
              " <td align=\"center\"><span class=\"date\">2019.10.16</span></td>\n",
              " <td class=\"num\"><span>5,930</span></td>\n",
              " <td class=\"num\">\n",
              " <img alt=\"상승\" height=\"6\" src=\"ico_up.gif\" style=\"margin-right:4px;\" width=\"7\"/><span>\n",
              "                             290\n",
              "                         </span>\n",
              " </td>\n",
              " <td class=\"num\"><span>5,620</span></td>\n",
              " <td class=\"num\"><span>5,930</span></td>\n",
              " <td class=\"num\"><span>5,350</span></td>\n",
              " <td class=\"num\"><span>839,434</span></td>\n",
              " </tr>, <tr>\n",
              " <td align=\"center\"><span class=\"date\">2019.10.15</span></td>\n",
              " <td class=\"num\"><span>5,640</span></td>\n",
              " <td class=\"num\">\n",
              " <img alt=\"상승\" height=\"6\" src=\"ico_up.gif\" style=\"margin-right:4px;\" width=\"7\"/><span>\n",
              "                             260\n",
              "                         </span>\n",
              " </td>\n",
              " <td class=\"num\"><span>5,370</span></td>\n",
              " <td class=\"num\"><span>5,660</span></td>\n",
              " <td class=\"num\"><span>5,300</span></td>\n",
              " <td class=\"num\"><span>702,104</span></td>\n",
              " </tr>, <tr>\n",
              " <td align=\"center\"><span class=\"date\">2019.10.14</span></td>\n",
              " <td class=\"num\"><span>5,380</span></td>\n",
              " <td class=\"num\">\n",
              " <img alt=\"상승\" height=\"6\" src=\"ico_up.gif\" style=\"margin-right:4px;\" width=\"7\"/><span>\n",
              "                             340\n",
              "                         </span>\n",
              " </td>\n",
              " <td class=\"num\"><span>5,060</span></td>\n",
              " <td class=\"num\"><span>5,420</span></td>\n",
              " <td class=\"num\"><span>5,060</span></td>\n",
              " <td class=\"num\"><span>764,800</span></td>\n",
              " </tr>, <tr>\n",
              " <td align=\"center\"><span class=\"date\">2019.10.11</span></td>\n",
              " <td class=\"num\"><span>5,040</span></td>\n",
              " <td class=\"num\">\n",
              " <img alt=\"하락\" height=\"6\" src=\"ico_down.gif\" style=\"margin-right:4px;\" width=\"7\"/><span class=\"tah p11 nv01\">\n",
              "                             60\n",
              "                         </span>\n",
              " </td>\n",
              " <td class=\"num\"><span>5,100</span></td>\n",
              " <td class=\"num\"><span>5,170</span></td>\n",
              " <td class=\"num\"><span>5,020</span></td>\n",
              " <td class=\"num\"><span>134,558</span></td>\n",
              " </tr>, <tr>\n",
              " <td align=\"center\"><span class=\"date\">2019.10.10</span></td>\n",
              " <td class=\"num\"><span>5,100</span></td>\n",
              " <td class=\"num\">\n",
              " <img alt=\"상승\" height=\"6\" src=\"ico_up.gif\" style=\"margin-right:4px;\" width=\"7\"/><span>\n",
              "                             50\n",
              "                         </span>\n",
              " </td>\n",
              " <td class=\"num\"><span>5,000</span></td>\n",
              " <td class=\"num\"><span>5,120</span></td>\n",
              " <td class=\"num\"><span>4,970</span></td>\n",
              " <td class=\"num\"><span>288,563</span></td>\n",
              " </tr>, <tr>\n",
              " <td align=\"center\"><span class=\"date\">2019.10.08</span></td>\n",
              " <td class=\"num\"><span>5,050</span></td>\n",
              " <td class=\"num\">\n",
              " <img alt=\"상승\" height=\"6\" src=\"ico_up.gif\" style=\"margin-right:4px;\" width=\"7\"/><span>\n",
              "                             110\n",
              "                         </span>\n",
              " </td>\n",
              " <td class=\"num\"><span>4,985</span></td>\n",
              " <td class=\"num\"><span>5,050</span></td>\n",
              " <td class=\"num\"><span>4,910</span></td>\n",
              " <td class=\"num\"><span>223,839</span></td>\n",
              " </tr>, <tr>\n",
              " <td align=\"center\"><span class=\"date\">2019.10.07</span></td>\n",
              " <td class=\"num\"><span>4,940</span></td>\n",
              " <td class=\"num\">\n",
              " <img alt=\"하락\" height=\"6\" src=\"ico_down.gif\" style=\"margin-right:4px;\" width=\"7\"/><span class=\"tah p11 nv01\">\n",
              "                             70\n",
              "                         </span>\n",
              " </td>\n",
              " <td class=\"num\"><span>4,990</span></td>\n",
              " <td class=\"num\"><span>5,110</span></td>\n",
              " <td class=\"num\"><span>4,905</span></td>\n",
              " <td class=\"num\"><span>199,580</span></td>\n",
              " </tr>, <tr>\n",
              " <td align=\"center\"><span class=\"date\">2019.10.04</span></td>\n",
              " <td class=\"num\"><span>5,010</span></td>\n",
              " <td class=\"num\">\n",
              " <img alt=\"상승\" height=\"6\" src=\"ico_up.gif\" style=\"margin-right:4px;\" width=\"7\"/><span>\n",
              "                             90\n",
              "                         </span>\n",
              " </td>\n",
              " <td class=\"num\"><span>4,900</span></td>\n",
              " <td class=\"num\"><span>5,050</span></td>\n",
              " <td class=\"num\"><span>4,900</span></td>\n",
              " <td class=\"num\"><span>188,467</span></td>\n",
              " </tr>, <tr>\n",
              " <td align=\"center\"><span class=\"date\">2019.10.02</span></td>\n",
              " <td class=\"num\"><span>4,920</span></td>\n",
              " <td class=\"num\">\n",
              " <img alt=\"하락\" height=\"6\" src=\"ico_down.gif\" style=\"margin-right:4px;\" width=\"7\"/><span class=\"tah p11 nv01\">\n",
              "                             90\n",
              "                         </span>\n",
              " </td>\n",
              " <td class=\"num\"><span>4,930</span></td>\n",
              " <td class=\"num\"><span>5,000</span></td>\n",
              " <td class=\"num\"><span>4,900</span></td>\n",
              " <td class=\"num\"><span>160,510</span></td>\n",
              " </tr>, <tr>\n",
              " <td align=\"center\"><span class=\"date\">2019.10.01</span></td>\n",
              " <td class=\"num\"><span>5,010</span></td>\n",
              " <td class=\"num\">\n",
              " <img alt=\"상승\" height=\"6\" src=\"ico_up.gif\" style=\"margin-right:4px;\" width=\"7\"/><span>\n",
              "                             10\n",
              "                         </span>\n",
              " </td>\n",
              " <td class=\"num\"><span>4,950</span></td>\n",
              " <td class=\"num\"><span>5,050</span></td>\n",
              " <td class=\"num\"><span>4,950</span></td>\n",
              " <td class=\"num\"><span>246,145</span></td>\n",
              " </tr>, <tr>\n",
              " <td align=\"center\"><span class=\"date\">2019.09.30</span></td>\n",
              " <td class=\"num\"><span>5,000</span></td>\n",
              " <td class=\"num\">\n",
              " <img alt=\"하락\" height=\"6\" src=\"ico_down.gif\" style=\"margin-right:4px;\" width=\"7\"/><span class=\"tah p11 nv01\">\n",
              "                             10\n",
              "                         </span>\n",
              " </td>\n",
              " <td class=\"num\"><span>5,180</span></td>\n",
              " <td class=\"num\"><span>5,300</span></td>\n",
              " <td class=\"num\"><span>4,990</span></td>\n",
              " <td class=\"num\"><span>705,046</span></td>\n",
              " </tr>, <tr>\n",
              " <td align=\"center\"><span class=\"date\">2019.09.27</span></td>\n",
              " <td class=\"num\"><span>5,010</span></td>\n",
              " <td class=\"num\">\n",
              " <img alt=\"하락\" height=\"6\" src=\"ico_down.gif\" style=\"margin-right:4px;\" width=\"7\"/><span class=\"tah p11 nv01\">\n",
              "                             50\n",
              "                         </span>\n",
              " </td>\n",
              " <td class=\"num\"><span>5,020</span></td>\n",
              " <td class=\"num\"><span>5,080</span></td>\n",
              " <td class=\"num\"><span>4,865</span></td>\n",
              " <td class=\"num\"><span>408,859</span></td>\n",
              " </tr>, <tr>\n",
              " <td align=\"center\"><span class=\"date\">2019.09.26</span></td>\n",
              " <td class=\"num\"><span>5,060</span></td>\n",
              " <td class=\"num\">\n",
              " <span>0</span>\n",
              " </td>\n",
              " <td class=\"num\"><span>5,130</span></td>\n",
              " <td class=\"num\"><span>5,200</span></td>\n",
              " <td class=\"num\"><span>4,965</span></td>\n",
              " <td class=\"num\"><span>404,633</span></td>\n",
              " </tr>, <tr>\n",
              " <td align=\"center\"><span class=\"date\">2019.09.25</span></td>\n",
              " <td class=\"num\"><span>5,060</span></td>\n",
              " <td class=\"num\">\n",
              " <img alt=\"하락\" height=\"6\" src=\"ico_down.gif\" style=\"margin-right:4px;\" width=\"7\"/><span class=\"tah p11 nv01\">\n",
              "                             270\n",
              "                         </span>\n",
              " </td>\n",
              " <td class=\"num\"><span>5,280</span></td>\n",
              " <td class=\"num\"><span>5,320</span></td>\n",
              " <td class=\"num\"><span>5,040</span></td>\n",
              " <td class=\"num\"><span>441,923</span></td>\n",
              " </tr>, <tr>\n",
              " <td align=\"center\"><span class=\"date\">2019.09.24</span></td>\n",
              " <td class=\"num\"><span>5,330</span></td>\n",
              " <td class=\"num\">\n",
              " <img alt=\"상승\" height=\"6\" src=\"ico_up.gif\" style=\"margin-right:4px;\" width=\"7\"/><span>\n",
              "                             10\n",
              "                         </span>\n",
              " </td>\n",
              " <td class=\"num\"><span>5,300</span></td>\n",
              " <td class=\"num\"><span>5,370</span></td>\n",
              " <td class=\"num\"><span>5,280</span></td>\n",
              " <td class=\"num\"><span>211,019</span></td>\n",
              " </tr>]"
            ]
          },
          "metadata": {},
          "execution_count": 37
        }
      ]
    },
    {
      "cell_type": "code",
      "metadata": {
        "id": "IYh3BK2NIck8"
      },
      "source": [
        "twoStep = oneStep.select('tbody > tr')[1:]"
      ],
      "execution_count": null,
      "outputs": []
    },
    {
      "cell_type": "code",
      "metadata": {
        "colab": {
          "base_uri": "https://localhost:8080/",
          "height": 35
        },
        "id": "TytRZsvrIjSh",
        "outputId": "b22dd8f7-c6bc-44b4-c00a-ab6a7b9c3645"
      },
      "source": [
        "twoStep[0].select('td')[0].text"
      ],
      "execution_count": null,
      "outputs": [
        {
          "output_type": "execute_result",
          "data": {
            "application/vnd.google.colaboratory.intrinsic+json": {
              "type": "string"
            },
            "text/plain": [
              "'2019.10.23'"
            ]
          },
          "metadata": {},
          "execution_count": 46
        }
      ]
    },
    {
      "cell_type": "code",
      "metadata": {
        "colab": {
          "base_uri": "https://localhost:8080/",
          "height": 35
        },
        "id": "tmY7mcgEI9ce",
        "outputId": "149fe51d-6732-4a73-a2ef-6553bd0ae173"
      },
      "source": [
        "# 문자형이기때문에 만약 계산에 이용하게 된다면 숫자형으로 바꿔줘야함. replace 사용\n",
        "twoStep[0].select('td')[1].text.replace(',', '')"
      ],
      "execution_count": null,
      "outputs": [
        {
          "output_type": "execute_result",
          "data": {
            "application/vnd.google.colaboratory.intrinsic+json": {
              "type": "string"
            },
            "text/plain": [
              "'6650'"
            ]
          },
          "metadata": {},
          "execution_count": 48
        }
      ]
    },
    {
      "cell_type": "code",
      "metadata": {
        "id": "6z2k6PGLJJ80"
      },
      "source": [
        "날짜 = []\n",
        "종가 = []\n",
        "\n",
        "for i in twoStep:\n",
        "  날짜.append(i.select('td')[0].text)\n",
        "  종가.append(int(i.select('td')[1].text.replace(',', '')))"
      ],
      "execution_count": null,
      "outputs": []
    },
    {
      "cell_type": "code",
      "metadata": {
        "colab": {
          "base_uri": "https://localhost:8080/"
        },
        "id": "KrsQxYpMJufB",
        "outputId": "7f6f9651-cf8f-4157-91ff-0708373e71b9"
      },
      "source": [
        "날짜"
      ],
      "execution_count": null,
      "outputs": [
        {
          "output_type": "execute_result",
          "data": {
            "text/plain": [
              "['2019.10.23',\n",
              " '2019.10.22',\n",
              " '2019.10.21',\n",
              " '2019.10.18',\n",
              " '2019.10.17',\n",
              " '2019.10.16',\n",
              " '2019.10.15',\n",
              " '2019.10.14',\n",
              " '2019.10.11',\n",
              " '2019.10.10',\n",
              " '2019.10.08',\n",
              " '2019.10.07',\n",
              " '2019.10.04',\n",
              " '2019.10.02',\n",
              " '2019.10.01',\n",
              " '2019.09.30',\n",
              " '2019.09.27',\n",
              " '2019.09.26',\n",
              " '2019.09.25',\n",
              " '2019.09.24']"
            ]
          },
          "metadata": {},
          "execution_count": 50
        }
      ]
    },
    {
      "cell_type": "code",
      "metadata": {
        "colab": {
          "base_uri": "https://localhost:8080/"
        },
        "id": "O8KurirLJwsC",
        "outputId": "feee7e4f-1416-4c0e-a77a-98c07f28146e"
      },
      "source": [
        "종가"
      ],
      "execution_count": null,
      "outputs": [
        {
          "output_type": "execute_result",
          "data": {
            "text/plain": [
              "[6650,\n",
              " 6630,\n",
              " 6820,\n",
              " 6430,\n",
              " 5950,\n",
              " 5930,\n",
              " 5640,\n",
              " 5380,\n",
              " 5040,\n",
              " 5100,\n",
              " 5050,\n",
              " 4940,\n",
              " 5010,\n",
              " 4920,\n",
              " 5010,\n",
              " 5000,\n",
              " 5010,\n",
              " 5060,\n",
              " 5060,\n",
              " 5330]"
            ]
          },
          "metadata": {},
          "execution_count": 51
        }
      ]
    },
    {
      "cell_type": "code",
      "metadata": {
        "colab": {
          "base_uri": "https://localhost:8080/",
          "height": 542
        },
        "id": "tLImyiRsJxGB",
        "outputId": "b1df5422-5d8f-43ca-8874-24de228aa58b"
      },
      "source": [
        "# 시각화 \n",
        "# 날짜별로 가격 변동 추이 \n",
        "import plotly.express as px\n",
        "\n",
        "fig = px.line(x=날짜, y=종가, title='jejucodingcamp')\n",
        "fig.show()"
      ],
      "execution_count": null,
      "outputs": [
        {
          "output_type": "display_data",
          "data": {
            "text/html": [
              "<html>\n",
              "<head><meta charset=\"utf-8\" /></head>\n",
              "<body>\n",
              "    <div>\n",
              "            <script src=\"https://cdnjs.cloudflare.com/ajax/libs/mathjax/2.7.5/MathJax.js?config=TeX-AMS-MML_SVG\"></script><script type=\"text/javascript\">if (window.MathJax) {MathJax.Hub.Config({SVG: {font: \"STIX-Web\"}});}</script>\n",
              "                <script type=\"text/javascript\">window.PlotlyConfig = {MathJaxConfig: 'local'};</script>\n",
              "        <script src=\"https://cdn.plot.ly/plotly-latest.min.js\"></script>    \n",
              "            <div id=\"f7d6e7d7-9d40-4239-947f-15b1f8cf4e8d\" class=\"plotly-graph-div\" style=\"height:525px; width:100%;\"></div>\n",
              "            <script type=\"text/javascript\">\n",
              "                \n",
              "                    window.PLOTLYENV=window.PLOTLYENV || {};\n",
              "                    \n",
              "                if (document.getElementById(\"f7d6e7d7-9d40-4239-947f-15b1f8cf4e8d\")) {\n",
              "                    Plotly.newPlot(\n",
              "                        'f7d6e7d7-9d40-4239-947f-15b1f8cf4e8d',\n",
              "                        [{\"hoverlabel\": {\"namelength\": 0}, \"hovertemplate\": \"x=%{x}<br>y=%{y}\", \"legendgroup\": \"\", \"line\": {\"color\": \"#636efa\", \"dash\": \"solid\"}, \"mode\": \"lines\", \"name\": \"\", \"showlegend\": false, \"type\": \"scatter\", \"x\": [\"2019.10.23\", \"2019.10.22\", \"2019.10.21\", \"2019.10.18\", \"2019.10.17\", \"2019.10.16\", \"2019.10.15\", \"2019.10.14\", \"2019.10.11\", \"2019.10.10\", \"2019.10.08\", \"2019.10.07\", \"2019.10.04\", \"2019.10.02\", \"2019.10.01\", \"2019.09.30\", \"2019.09.27\", \"2019.09.26\", \"2019.09.25\", \"2019.09.24\"], \"xaxis\": \"x\", \"y\": [6650, 6630, 6820, 6430, 5950, 5930, 5640, 5380, 5040, 5100, 5050, 4940, 5010, 4920, 5010, 5000, 5010, 5060, 5060, 5330], \"yaxis\": \"y\"}],\n",
              "                        {\"legend\": {\"tracegroupgap\": 0}, \"template\": {\"data\": {\"bar\": [{\"error_x\": {\"color\": \"#2a3f5f\"}, \"error_y\": {\"color\": \"#2a3f5f\"}, \"marker\": {\"line\": {\"color\": \"#E5ECF6\", \"width\": 0.5}}, \"type\": \"bar\"}], \"barpolar\": [{\"marker\": {\"line\": {\"color\": \"#E5ECF6\", \"width\": 0.5}}, \"type\": \"barpolar\"}], \"carpet\": [{\"aaxis\": {\"endlinecolor\": \"#2a3f5f\", \"gridcolor\": \"white\", \"linecolor\": \"white\", \"minorgridcolor\": \"white\", \"startlinecolor\": \"#2a3f5f\"}, \"baxis\": {\"endlinecolor\": \"#2a3f5f\", \"gridcolor\": \"white\", \"linecolor\": \"white\", \"minorgridcolor\": \"white\", \"startlinecolor\": \"#2a3f5f\"}, \"type\": \"carpet\"}], \"choropleth\": [{\"colorbar\": {\"outlinewidth\": 0, \"ticks\": \"\"}, \"type\": \"choropleth\"}], \"contour\": [{\"colorbar\": {\"outlinewidth\": 0, \"ticks\": \"\"}, \"colorscale\": [[0.0, \"#0d0887\"], [0.1111111111111111, \"#46039f\"], [0.2222222222222222, \"#7201a8\"], [0.3333333333333333, \"#9c179e\"], [0.4444444444444444, \"#bd3786\"], [0.5555555555555556, \"#d8576b\"], [0.6666666666666666, \"#ed7953\"], [0.7777777777777778, \"#fb9f3a\"], [0.8888888888888888, \"#fdca26\"], [1.0, \"#f0f921\"]], \"type\": \"contour\"}], \"contourcarpet\": [{\"colorbar\": {\"outlinewidth\": 0, \"ticks\": \"\"}, \"type\": \"contourcarpet\"}], \"heatmap\": [{\"colorbar\": {\"outlinewidth\": 0, \"ticks\": \"\"}, \"colorscale\": [[0.0, \"#0d0887\"], [0.1111111111111111, \"#46039f\"], [0.2222222222222222, \"#7201a8\"], [0.3333333333333333, \"#9c179e\"], [0.4444444444444444, \"#bd3786\"], [0.5555555555555556, \"#d8576b\"], [0.6666666666666666, \"#ed7953\"], [0.7777777777777778, \"#fb9f3a\"], [0.8888888888888888, \"#fdca26\"], [1.0, \"#f0f921\"]], \"type\": \"heatmap\"}], \"heatmapgl\": [{\"colorbar\": {\"outlinewidth\": 0, \"ticks\": \"\"}, \"colorscale\": [[0.0, \"#0d0887\"], [0.1111111111111111, \"#46039f\"], [0.2222222222222222, \"#7201a8\"], [0.3333333333333333, \"#9c179e\"], [0.4444444444444444, \"#bd3786\"], [0.5555555555555556, \"#d8576b\"], [0.6666666666666666, \"#ed7953\"], [0.7777777777777778, \"#fb9f3a\"], [0.8888888888888888, \"#fdca26\"], [1.0, \"#f0f921\"]], \"type\": \"heatmapgl\"}], \"histogram\": [{\"marker\": {\"colorbar\": {\"outlinewidth\": 0, \"ticks\": \"\"}}, \"type\": \"histogram\"}], \"histogram2d\": [{\"colorbar\": {\"outlinewidth\": 0, \"ticks\": \"\"}, \"colorscale\": [[0.0, \"#0d0887\"], [0.1111111111111111, \"#46039f\"], [0.2222222222222222, \"#7201a8\"], [0.3333333333333333, \"#9c179e\"], [0.4444444444444444, \"#bd3786\"], [0.5555555555555556, \"#d8576b\"], [0.6666666666666666, \"#ed7953\"], [0.7777777777777778, \"#fb9f3a\"], [0.8888888888888888, \"#fdca26\"], [1.0, \"#f0f921\"]], \"type\": \"histogram2d\"}], \"histogram2dcontour\": [{\"colorbar\": {\"outlinewidth\": 0, \"ticks\": \"\"}, \"colorscale\": [[0.0, \"#0d0887\"], [0.1111111111111111, \"#46039f\"], [0.2222222222222222, \"#7201a8\"], [0.3333333333333333, \"#9c179e\"], [0.4444444444444444, \"#bd3786\"], [0.5555555555555556, \"#d8576b\"], [0.6666666666666666, \"#ed7953\"], [0.7777777777777778, \"#fb9f3a\"], [0.8888888888888888, \"#fdca26\"], [1.0, \"#f0f921\"]], \"type\": \"histogram2dcontour\"}], \"mesh3d\": [{\"colorbar\": {\"outlinewidth\": 0, \"ticks\": \"\"}, \"type\": \"mesh3d\"}], \"parcoords\": [{\"line\": {\"colorbar\": {\"outlinewidth\": 0, \"ticks\": \"\"}}, \"type\": \"parcoords\"}], \"pie\": [{\"automargin\": true, \"type\": \"pie\"}], \"scatter\": [{\"marker\": {\"colorbar\": {\"outlinewidth\": 0, \"ticks\": \"\"}}, \"type\": \"scatter\"}], \"scatter3d\": [{\"line\": {\"colorbar\": {\"outlinewidth\": 0, \"ticks\": \"\"}}, \"marker\": {\"colorbar\": {\"outlinewidth\": 0, \"ticks\": \"\"}}, \"type\": \"scatter3d\"}], \"scattercarpet\": [{\"marker\": {\"colorbar\": {\"outlinewidth\": 0, \"ticks\": \"\"}}, \"type\": \"scattercarpet\"}], \"scattergeo\": [{\"marker\": {\"colorbar\": {\"outlinewidth\": 0, \"ticks\": \"\"}}, \"type\": \"scattergeo\"}], \"scattergl\": [{\"marker\": {\"colorbar\": {\"outlinewidth\": 0, \"ticks\": \"\"}}, \"type\": \"scattergl\"}], \"scattermapbox\": [{\"marker\": {\"colorbar\": {\"outlinewidth\": 0, \"ticks\": \"\"}}, \"type\": \"scattermapbox\"}], \"scatterpolar\": [{\"marker\": {\"colorbar\": {\"outlinewidth\": 0, \"ticks\": \"\"}}, \"type\": \"scatterpolar\"}], \"scatterpolargl\": [{\"marker\": {\"colorbar\": {\"outlinewidth\": 0, \"ticks\": \"\"}}, \"type\": \"scatterpolargl\"}], \"scatterternary\": [{\"marker\": {\"colorbar\": {\"outlinewidth\": 0, \"ticks\": \"\"}}, \"type\": \"scatterternary\"}], \"surface\": [{\"colorbar\": {\"outlinewidth\": 0, \"ticks\": \"\"}, \"colorscale\": [[0.0, \"#0d0887\"], [0.1111111111111111, \"#46039f\"], [0.2222222222222222, \"#7201a8\"], [0.3333333333333333, \"#9c179e\"], [0.4444444444444444, \"#bd3786\"], [0.5555555555555556, \"#d8576b\"], [0.6666666666666666, \"#ed7953\"], [0.7777777777777778, \"#fb9f3a\"], [0.8888888888888888, \"#fdca26\"], [1.0, \"#f0f921\"]], \"type\": \"surface\"}], \"table\": [{\"cells\": {\"fill\": {\"color\": \"#EBF0F8\"}, \"line\": {\"color\": \"white\"}}, \"header\": {\"fill\": {\"color\": \"#C8D4E3\"}, \"line\": {\"color\": \"white\"}}, \"type\": \"table\"}]}, \"layout\": {\"annotationdefaults\": {\"arrowcolor\": \"#2a3f5f\", \"arrowhead\": 0, \"arrowwidth\": 1}, \"coloraxis\": {\"colorbar\": {\"outlinewidth\": 0, \"ticks\": \"\"}}, \"colorscale\": {\"diverging\": [[0, \"#8e0152\"], [0.1, \"#c51b7d\"], [0.2, \"#de77ae\"], [0.3, \"#f1b6da\"], [0.4, \"#fde0ef\"], [0.5, \"#f7f7f7\"], [0.6, \"#e6f5d0\"], [0.7, \"#b8e186\"], [0.8, \"#7fbc41\"], [0.9, \"#4d9221\"], [1, \"#276419\"]], \"sequential\": [[0.0, \"#0d0887\"], [0.1111111111111111, \"#46039f\"], [0.2222222222222222, \"#7201a8\"], [0.3333333333333333, \"#9c179e\"], [0.4444444444444444, \"#bd3786\"], [0.5555555555555556, \"#d8576b\"], [0.6666666666666666, \"#ed7953\"], [0.7777777777777778, \"#fb9f3a\"], [0.8888888888888888, \"#fdca26\"], [1.0, \"#f0f921\"]], \"sequentialminus\": [[0.0, \"#0d0887\"], [0.1111111111111111, \"#46039f\"], [0.2222222222222222, \"#7201a8\"], [0.3333333333333333, \"#9c179e\"], [0.4444444444444444, \"#bd3786\"], [0.5555555555555556, \"#d8576b\"], [0.6666666666666666, \"#ed7953\"], [0.7777777777777778, \"#fb9f3a\"], [0.8888888888888888, \"#fdca26\"], [1.0, \"#f0f921\"]]}, \"colorway\": [\"#636efa\", \"#EF553B\", \"#00cc96\", \"#ab63fa\", \"#FFA15A\", \"#19d3f3\", \"#FF6692\", \"#B6E880\", \"#FF97FF\", \"#FECB52\"], \"font\": {\"color\": \"#2a3f5f\"}, \"geo\": {\"bgcolor\": \"white\", \"lakecolor\": \"white\", \"landcolor\": \"#E5ECF6\", \"showlakes\": true, \"showland\": true, \"subunitcolor\": \"white\"}, \"hoverlabel\": {\"align\": \"left\"}, \"hovermode\": \"closest\", \"mapbox\": {\"style\": \"light\"}, \"paper_bgcolor\": \"white\", \"plot_bgcolor\": \"#E5ECF6\", \"polar\": {\"angularaxis\": {\"gridcolor\": \"white\", \"linecolor\": \"white\", \"ticks\": \"\"}, \"bgcolor\": \"#E5ECF6\", \"radialaxis\": {\"gridcolor\": \"white\", \"linecolor\": \"white\", \"ticks\": \"\"}}, \"scene\": {\"xaxis\": {\"backgroundcolor\": \"#E5ECF6\", \"gridcolor\": \"white\", \"gridwidth\": 2, \"linecolor\": \"white\", \"showbackground\": true, \"ticks\": \"\", \"zerolinecolor\": \"white\"}, \"yaxis\": {\"backgroundcolor\": \"#E5ECF6\", \"gridcolor\": \"white\", \"gridwidth\": 2, \"linecolor\": \"white\", \"showbackground\": true, \"ticks\": \"\", \"zerolinecolor\": \"white\"}, \"zaxis\": {\"backgroundcolor\": \"#E5ECF6\", \"gridcolor\": \"white\", \"gridwidth\": 2, \"linecolor\": \"white\", \"showbackground\": true, \"ticks\": \"\", \"zerolinecolor\": \"white\"}}, \"shapedefaults\": {\"line\": {\"color\": \"#2a3f5f\"}}, \"ternary\": {\"aaxis\": {\"gridcolor\": \"white\", \"linecolor\": \"white\", \"ticks\": \"\"}, \"baxis\": {\"gridcolor\": \"white\", \"linecolor\": \"white\", \"ticks\": \"\"}, \"bgcolor\": \"#E5ECF6\", \"caxis\": {\"gridcolor\": \"white\", \"linecolor\": \"white\", \"ticks\": \"\"}}, \"title\": {\"x\": 0.05}, \"xaxis\": {\"automargin\": true, \"gridcolor\": \"white\", \"linecolor\": \"white\", \"ticks\": \"\", \"title\": {\"standoff\": 15}, \"zerolinecolor\": \"white\", \"zerolinewidth\": 2}, \"yaxis\": {\"automargin\": true, \"gridcolor\": \"white\", \"linecolor\": \"white\", \"ticks\": \"\", \"title\": {\"standoff\": 15}, \"zerolinecolor\": \"white\", \"zerolinewidth\": 2}}}, \"title\": {\"text\": \"jejucodingcamp\"}, \"xaxis\": {\"anchor\": \"y\", \"domain\": [0.0, 1.0], \"title\": {\"text\": \"x\"}}, \"yaxis\": {\"anchor\": \"x\", \"domain\": [0.0, 1.0], \"title\": {\"text\": \"y\"}}},\n",
              "                        {\"responsive\": true}\n",
              "                    ).then(function(){\n",
              "                            \n",
              "var gd = document.getElementById('f7d6e7d7-9d40-4239-947f-15b1f8cf4e8d');\n",
              "var x = new MutationObserver(function (mutations, observer) {{\n",
              "        var display = window.getComputedStyle(gd).display;\n",
              "        if (!display || display === 'none') {{\n",
              "            console.log([gd, 'removed!']);\n",
              "            Plotly.purge(gd);\n",
              "            observer.disconnect();\n",
              "        }}\n",
              "}});\n",
              "\n",
              "// Listen for the removal of the full notebook cells\n",
              "var notebookContainer = gd.closest('#notebook-container');\n",
              "if (notebookContainer) {{\n",
              "    x.observe(notebookContainer, {childList: true});\n",
              "}}\n",
              "\n",
              "// Listen for the clearing of the current output cell\n",
              "var outputEl = gd.closest('.output');\n",
              "if (outputEl) {{\n",
              "    x.observe(outputEl, {childList: true});\n",
              "}}\n",
              "\n",
              "                        })\n",
              "                };\n",
              "                \n",
              "            </script>\n",
              "        </div>\n",
              "</body>\n",
              "</html>"
            ]
          },
          "metadata": {}
        }
      ]
    }
  ]
}