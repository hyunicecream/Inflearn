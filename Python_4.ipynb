{
  "nbformat": 4,
  "nbformat_minor": 0,
  "metadata": {
    "colab": {
      "name": "Python_4.ipynb",
      "provenance": [],
      "collapsed_sections": [],
      "authorship_tag": "ABX9TyPvcYp+9GoMcoDSoZgmO6o9",
      "include_colab_link": true
    },
    "kernelspec": {
      "name": "python3",
      "display_name": "Python 3"
    },
    "language_info": {
      "name": "python"
    }
  },
  "cells": [
    {
      "cell_type": "markdown",
      "metadata": {
        "id": "view-in-github",
        "colab_type": "text"
      },
      "source": [
        "<a href=\"https://colab.research.google.com/github/hyunicecream/Inflearn/blob/main/Python_4.ipynb\" target=\"_parent\"><img src=\"https://colab.research.google.com/assets/colab-badge.svg\" alt=\"Open In Colab\"/></a>"
      ]
    },
    {
      "cell_type": "code",
      "metadata": {
        "colab": {
          "base_uri": "https://localhost:8080/"
        },
        "id": "FPmS7PiswjQC",
        "outputId": "673b1369-8392-4efc-8a3b-aa12a1e5dc07"
      },
      "source": [
        "a = 30\n",
        "if a == 10:\n",
        "  print(\"hello world\")\n",
        "elif a < 20:\n",
        "  print('good job')\n",
        "else:\n",
        "  print('else')"
      ],
      "execution_count": null,
      "outputs": [
        {
          "output_type": "stream",
          "name": "stdout",
          "text": [
            "else\n"
          ]
        }
      ]
    },
    {
      "cell_type": "code",
      "metadata": {
        "colab": {
          "base_uri": "https://localhost:8080/"
        },
        "id": "9G-NiePKxg1H",
        "outputId": "e52f2665-29ce-41ba-9ffe-e4c53acb4a45"
      },
      "source": [
        "a = 25\n",
        "if a == 10:\n",
        "  print(\"hello world\")\n",
        "elif a < 20:\n",
        "  print('good job 1')\n",
        "elif a < 30:\n",
        "  print('good job 2')\n",
        "elif a < 40:\n",
        "  print('good job 3')\n",
        "elif a < 50:\n",
        "  print('good job 4')\n",
        "else:\n",
        "  print('else')"
      ],
      "execution_count": null,
      "outputs": [
        {
          "output_type": "stream",
          "name": "stdout",
          "text": [
            "good job 2\n"
          ]
        }
      ]
    }
  ]
}