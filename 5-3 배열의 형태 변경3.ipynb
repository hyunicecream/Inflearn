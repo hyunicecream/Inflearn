{
  "nbformat": 4,
  "nbformat_minor": 0,
  "metadata": {
    "colab": {
      "name": "5-3 배열의 형태 변경3.ipynb",
      "provenance": [],
      "collapsed_sections": [],
      "authorship_tag": "ABX9TyPp4gXUNtgz//OVNzRCXLqR",
      "include_colab_link": true
    },
    "kernelspec": {
      "name": "python3",
      "display_name": "Python 3"
    },
    "language_info": {
      "name": "python"
    }
  },
  "cells": [
    {
      "cell_type": "markdown",
      "metadata": {
        "id": "view-in-github",
        "colab_type": "text"
      },
      "source": [
        "<a href=\"https://colab.research.google.com/github/hyunicecream/Inflearn/blob/main/5-3%20%EB%B0%B0%EC%97%B4%EC%9D%98%20%ED%98%95%ED%83%9C%20%EB%B3%80%EA%B2%BD3.ipynb\" target=\"_parent\"><img src=\"https://colab.research.google.com/assets/colab-badge.svg\" alt=\"Open In Colab\"/></a>"
      ]
    },
    {
      "cell_type": "code",
      "metadata": {
        "id": "VaMdARVWx1Gc"
      },
      "source": [
        "import numpy as np"
      ],
      "execution_count": null,
      "outputs": []
    },
    {
      "cell_type": "code",
      "metadata": {
        "colab": {
          "base_uri": "https://localhost:8080/"
        },
        "id": "E0tufaP_x49s",
        "outputId": "73560bd5-f837-4d84-b0e8-4f49ff6eabf0"
      },
      "source": [
        "# expand_dims() : 입력한 axis값을 기준으로 차원을 추가하는 함수\n",
        "arr = np.array([1, 2])\n",
        "print(arr, arr.shape)\n",
        "print('='*40)\n",
        "\n",
        "# row값을 기준으로 차원을 추가\n",
        "arr = np.expand_dims(arr, axis=0)\n",
        "print(arr, arr.shape)\n",
        "print('='*40)\n",
        "\n",
        "# column값을 기준으로 차원을 추가\n",
        "arr = np.expand_dims(arr, axis=1)\n",
        "print(arr, arr.shape)"
      ],
      "execution_count": null,
      "outputs": [
        {
          "output_type": "stream",
          "name": "stdout",
          "text": [
            "[1 2] (2,)\n",
            "========================================\n",
            "[[1 2]] (1, 2)\n",
            "========================================\n",
            "[[[1 2]]] (1, 1, 2)\n"
          ]
        }
      ]
    },
    {
      "cell_type": "code",
      "metadata": {
        "colab": {
          "base_uri": "https://localhost:8080/"
        },
        "id": "zctwyD5oyoMN",
        "outputId": "09162988-3875-4ab2-e897-e9cd6234aed9"
      },
      "source": [
        "# squeeze() : 배열의 축을 제거, 차원을 축소하는 함수\n",
        "arr = np.array([[1, 2]])\n",
        "print(arr, arr.shape, arr.ndim)\n",
        "print('='*40)\n",
        "\n",
        "# row값(x축)을 기준으로 차원 축소(제거)\n",
        "arr = np.squeeze(arr, axis=0)\n",
        "print(arr, arr.shape, arr.ndim)\n",
        "print('='*40)\n",
        "\n",
        "# 3차원 배열\n",
        "arr = np.array([[[1],\n",
        "                 [2],\n",
        "                 [3]]])\n",
        "print(arr, arr.shape, arr.ndim)\n",
        "print('='*40)\n",
        "\n",
        "# 3차원 배열을 2차원으로 차원 축소(제거)\n",
        "arr = np.squeeze(arr, axis=0)\n",
        "print(arr, arr.shape, arr.ndim)\n",
        "print('='*40)"
      ],
      "execution_count": null,
      "outputs": [
        {
          "output_type": "stream",
          "name": "stdout",
          "text": [
            "[[1 2]] (1, 2) 2\n",
            "========================================\n",
            "[1 2] (2,) 1\n",
            "========================================\n",
            "[[[1]\n",
            "  [2]\n",
            "  [3]]] (1, 3, 1) 3\n",
            "========================================\n",
            "[[1]\n",
            " [2]\n",
            " [3]] (3, 1) 2\n",
            "========================================\n"
          ]
        }
      ]
    },
    {
      "cell_type": "code",
      "metadata": {
        "colab": {
          "base_uri": "https://localhost:8080/"
        },
        "id": "YWdfw6JJzvQ7",
        "outputId": "8123eeae-0bca-4ff9-ab28-ce1b3687cac8"
      },
      "source": [
        "# 3차원의 배열을 y축을 기준으로 배열 제거\n",
        "arr = np.array([[[1, 2, 3]]])\n",
        "print(arr, arr.shape, arr.ndim)\n",
        "print('='*40)\n",
        "\n",
        "arr = np.squeeze(arr, axis=1)\n",
        "print(arr, arr.shape, arr.ndim)\n",
        "print('='*40)\n",
        "\n",
        "# axis 값을 주지 않으면 행렬이든 어떤 Tensor든 1차원 배열로 차원을 축소한다.\n",
        "arr = np.squeeze(arr)\n",
        "print(arr, arr.shape, arr.ndim)"
      ],
      "execution_count": null,
      "outputs": [
        {
          "output_type": "stream",
          "name": "stdout",
          "text": [
            "[[[1 2 3]]] (1, 1, 3) 3\n",
            "========================================\n",
            "[[1 2 3]] (1, 3) 2\n",
            "========================================\n",
            "[1 2 3] (3,) 1\n"
          ]
        }
      ]
    }
  ]
}