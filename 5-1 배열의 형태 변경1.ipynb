{
  "nbformat": 4,
  "nbformat_minor": 0,
  "metadata": {
    "colab": {
      "name": "5-1 배열의 형태 변경1.ipynb",
      "provenance": [],
      "collapsed_sections": [],
      "authorship_tag": "ABX9TyMPeUmXQm1NFLKr+2FSa6bf",
      "include_colab_link": true
    },
    "kernelspec": {
      "name": "python3",
      "display_name": "Python 3"
    },
    "language_info": {
      "name": "python"
    }
  },
  "cells": [
    {
      "cell_type": "markdown",
      "metadata": {
        "id": "view-in-github",
        "colab_type": "text"
      },
      "source": [
        "<a href=\"https://colab.research.google.com/github/hyunicecream/Inflearn/blob/main/5-1%20%EB%B0%B0%EC%97%B4%EC%9D%98%20%ED%98%95%ED%83%9C%20%EB%B3%80%EA%B2%BD1.ipynb\" target=\"_parent\"><img src=\"https://colab.research.google.com/assets/colab-badge.svg\" alt=\"Open In Colab\"/></a>"
      ]
    },
    {
      "cell_type": "code",
      "metadata": {
        "id": "3K3VHTBssstI"
      },
      "source": [
        "import numpy as np"
      ],
      "execution_count": null,
      "outputs": []
    },
    {
      "cell_type": "code",
      "metadata": {
        "colab": {
          "base_uri": "https://localhost:8080/"
        },
        "id": "r4hTu3pks1qy",
        "outputId": "d9c09ca6-662f-48b1-d1fb-5fab9d83c420"
      },
      "source": [
        "# reshape : 배열의 형태 변경\n",
        "arr = np.arange(12)\n",
        "print(arr, arr.ndim)\n",
        "print(\"=\"*30)\n",
        "\n",
        "# 2차원\n",
        "arr = arr.reshape(3, 4) # 원소의 size가 맞지 않으면 Error가 뜬다.\n",
        "print(arr, arr.ndim)\n",
        "print(\"=\"*30)\n",
        "\n",
        "# 3차원 tensor\n",
        "arr = arr.reshape(2, 3, 2)\n",
        "print(arr, arr.ndim)\n",
        "print(\"=\"*30)\n",
        "\n",
        "# 4차원\n",
        "arr = arr.reshape(2, 2, 1, 3)\n",
        "print(arr, arr.ndim)"
      ],
      "execution_count": null,
      "outputs": [
        {
          "output_type": "stream",
          "name": "stdout",
          "text": [
            "[ 0  1  2  3  4  5  6  7  8  9 10 11] 1\n",
            "==============================\n",
            "[[ 0  1  2  3]\n",
            " [ 4  5  6  7]\n",
            " [ 8  9 10 11]] 2\n",
            "==============================\n",
            "[[[ 0  1]\n",
            "  [ 2  3]\n",
            "  [ 4  5]]\n",
            "\n",
            " [[ 6  7]\n",
            "  [ 8  9]\n",
            "  [10 11]]] 3\n",
            "==============================\n",
            "[[[[ 0  1  2]]\n",
            "\n",
            "  [[ 3  4  5]]]\n",
            "\n",
            "\n",
            " [[[ 6  7  8]]\n",
            "\n",
            "  [[ 9 10 11]]]] 4\n"
          ]
        }
      ]
    },
    {
      "cell_type": "markdown",
      "metadata": {
        "id": "Yzd5BFCLuPEh"
      },
      "source": [
        "Curse of Dimensionality\n",
        "차원의 저주\n",
        "- 차원이 증가하면서 학습 데이터수가 차원의 수보다 적어지면서 모델의 성능이 저하되는 현상"
      ]
    }
  ]
}