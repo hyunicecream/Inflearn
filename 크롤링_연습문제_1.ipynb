{
  "nbformat": 4,
  "nbformat_minor": 0,
  "metadata": {
    "colab": {
      "name": "크롤링 연습문제 -1.ipynb",
      "provenance": [],
      "collapsed_sections": [],
      "authorship_tag": "ABX9TyOkE8piXQOzdBnSuko4RE2T",
      "include_colab_link": true
    },
    "kernelspec": {
      "name": "python3",
      "display_name": "Python 3"
    },
    "language_info": {
      "name": "python"
    }
  },
  "cells": [
    {
      "cell_type": "markdown",
      "metadata": {
        "id": "view-in-github",
        "colab_type": "text"
      },
      "source": [
        "<a href=\"https://colab.research.google.com/github/hyunicecream/Inflearn/blob/main/%ED%81%AC%EB%A1%A4%EB%A7%81_%EC%97%B0%EC%8A%B5%EB%AC%B8%EC%A0%9C_1.ipynb\" target=\"_parent\"><img src=\"https://colab.research.google.com/assets/colab-badge.svg\" alt=\"Open In Colab\"/></a>"
      ]
    },
    {
      "cell_type": "markdown",
      "metadata": {
        "id": "vA6HQKCN1dus"
      },
      "source": [
        "## 연습문제\n",
        "\n",
        "### **라이브러리 설치 (대부분 설치되어있다는 가정 하)**\n",
        "\n",
        "- !pip3 install requests\n",
        "- !pip3 install beautifulsoup4\n",
        "- 크롤링 URL : [http://www.paullab.co.kr/stock.html](http://www.paullab.co.kr/stock.html)"
      ]
    },
    {
      "cell_type": "markdown",
      "metadata": {
        "id": "djp4O5WmepYv"
      },
      "source": [
        "### 문제 1번\n",
        "\n",
        "각 회사별 1만주씩 있다고 가정했을 때, 전그룹사 시가총액을 구해주세요.\n",
        "\n",
        "- 그룹사 : [ 제주코딩베이스캠프 연구원,  제주코딩베이스캠프 공업, 제주코딩베이스캠프 출판사, 제주코딩베이스캠프 학원]"
      ]
    },
    {
      "cell_type": "code",
      "metadata": {
        "id": "5g49nKMQxYfw"
      },
      "source": [
        "import requests\n",
        "from bs4 import BeautifulSoup\n",
        "\n",
        "response = requests.get('http://paullab.synology.me/stock.html')\n",
        "\n",
        "response.encoding = 'utf-8'\n",
        "html = response.text\n",
        "\n",
        "soup = BeautifulSoup(html, 'html.parser')"
      ],
      "execution_count": null,
      "outputs": []
    },
    {
      "cell_type": "code",
      "metadata": {
        "colab": {
          "base_uri": "https://localhost:8080/"
        },
        "id": "3iIVQfSmfGTB",
        "outputId": "7158f806-85f1-49fb-a26a-8069edb9d0dc"
      },
      "source": [
        "soup.select('.main')[2] # 제주코딩베이스캠프 연구원\n",
        "soup.select('.main')[3] # 제주코딩베이스캠프 공업\n",
        "soup.select('.main')[4] # 제주코딩베이스캠프 출판사\n",
        "soup.select('.main')[5] # 제주코딩베이스캠프 학원"
      ],
      "execution_count": null,
      "outputs": [
        {
          "output_type": "execute_result",
          "data": {
            "text/plain": [
              "<div class=\"main\">\n",
              "<h2 id=\"제주코딩베이스캠프학원\">제주코딩베이스캠프 학원</h2>\n",
              "<h3><span style=\"color: salmon\">일별</span> 시세</h3>\n",
              "<table class=\"table table-hover\">\n",
              "<tbody>\n",
              "<tr>\n",
              "<th scope=\"col\">날짜</th>\n",
              "<th scope=\"col\">종가</th>\n",
              "<th scope=\"col\">전일비</th>\n",
              "<th scope=\"col\">시가</th>\n",
              "<th scope=\"col\">고가</th>\n",
              "<th scope=\"col\">저가</th>\n",
              "<th scope=\"col\">거래량</th>\n",
              "</tr>\n",
              "<tr>\n",
              "<td align=\"center \"><span class=\"date \">2019.10.23</span></td>\n",
              "<td class=\"num \"><span>2,600</span></td>\n",
              "<td class=\"num \">\n",
              "<img height=\"6 \" src=\"ico_up.gif \" style=\"margin-right:4px; \" width=\"7 \"/><span>\n",
              "                            600\n",
              "                        </span>\n",
              "</td>\n",
              "<td class=\"num \"><span>2,055</span></td>\n",
              "<td class=\"num \"><span>2,600</span></td>\n",
              "<td class=\"num \"><span>2,020</span></td>\n",
              "<td class=\"num \"><span>2,203,110</span></td>\n",
              "</tr>\n",
              "<tr>\n",
              "<td align=\"center\"><span class=\"date\">2019.10.22</span></td>\n",
              "<td class=\"num\"><span>2,000</span></td>\n",
              "<td class=\"num\">\n",
              "<img alt=\"상승\" height=\"6\" src=\"ico_up.gif\" style=\"margin-right:4px;\" width=\"7\"/><span>\n",
              "                            5\n",
              "                        </span>\n",
              "</td>\n",
              "<td class=\"num\"><span>1,985</span></td>\n",
              "<td class=\"num\"><span>2,005</span></td>\n",
              "<td class=\"num\"><span>1,980</span></td>\n",
              "<td class=\"num\"><span>32,212</span></td>\n",
              "</tr>\n",
              "<tr>\n",
              "<td align=\"center\"><span class=\"date\">2019.10.21</span></td>\n",
              "<td class=\"num\"><span>1,995</span></td>\n",
              "<td class=\"num\">\n",
              "<img alt=\"하락\" height=\"6\" src=\"ico_down.gif\" style=\"margin-right:4px;\" width=\"7\"/><span class=\"tah p11 nv01\">\n",
              "                            30\n",
              "                        </span>\n",
              "</td>\n",
              "<td class=\"num\"><span>2,025</span></td>\n",
              "<td class=\"num\"><span>2,035</span></td>\n",
              "<td class=\"num\"><span>1,975</span></td>\n",
              "<td class=\"num\"><span>35,186</span></td>\n",
              "</tr>\n",
              "<tr>\n",
              "<td align=\"center\"><span class=\"date\">2019.10.18</span></td>\n",
              "<td class=\"num\"><span>2,025</span></td>\n",
              "<td class=\"num\">\n",
              "<img alt=\"상승\" height=\"6\" src=\"ico_up.gif\" style=\"margin-right:4px;\" width=\"7\"/><span>\n",
              "                            40\n",
              "                        </span>\n",
              "</td>\n",
              "<td class=\"num\"><span>1,985</span></td>\n",
              "<td class=\"num\"><span>2,050</span></td>\n",
              "<td class=\"num\"><span>1,980</span></td>\n",
              "<td class=\"num\"><span>108,481</span></td>\n",
              "</tr>\n",
              "<tr>\n",
              "<td align=\"center\"><span class=\"date\">2019.10.17</span></td>\n",
              "<td class=\"num\"><span>1,985</span></td>\n",
              "<td class=\"num\">\n",
              "<img alt=\"상승\" height=\"6\" src=\"ico_up.gif\" style=\"margin-right:4px;\" width=\"7\"/><span>\n",
              "                            10\n",
              "                        </span>\n",
              "</td>\n",
              "<td class=\"num\"><span>1,980</span></td>\n",
              "<td class=\"num\"><span>1,990</span></td>\n",
              "<td class=\"num\"><span>1,955</span></td>\n",
              "<td class=\"num\"><span>20,766</span></td>\n",
              "</tr>\n",
              "<tr>\n",
              "<td align=\"center\"><span class=\"date\">2019.10.16</span></td>\n",
              "<td class=\"num\"><span>1,975</span></td>\n",
              "<td class=\"num\">\n",
              "<img alt=\"하락\" height=\"6\" src=\"ico_down.gif\" style=\"margin-right:4px;\" width=\"7\"/><span class=\"tah p11 nv01\">\n",
              "                            5\n",
              "                        </span>\n",
              "</td>\n",
              "<td class=\"num\"><span>1,985</span></td>\n",
              "<td class=\"num\"><span>1,995</span></td>\n",
              "<td class=\"num\"><span>1,970</span></td>\n",
              "<td class=\"num\"><span>19,243</span></td>\n",
              "</tr>\n",
              "<tr>\n",
              "<td align=\"center\"><span class=\"date\">2019.10.15</span></td>\n",
              "<td class=\"num\"><span>1,980</span></td>\n",
              "<td class=\"num\">\n",
              "<img alt=\"상승\" height=\"6\" src=\"ico_up.gif\" style=\"margin-right:4px;\" width=\"7\"/><span>\n",
              "                            20\n",
              "                        </span>\n",
              "</td>\n",
              "<td class=\"num\"><span>1,970</span></td>\n",
              "<td class=\"num\"><span>1,980</span></td>\n",
              "<td class=\"num\"><span>1,960</span></td>\n",
              "<td class=\"num\"><span>35,658</span></td>\n",
              "</tr>\n",
              "<tr>\n",
              "<td align=\"center\"><span class=\"date\">2019.10.14</span></td>\n",
              "<td class=\"num\"><span>1,960</span></td>\n",
              "<td class=\"num\">\n",
              "<span>0</span>\n",
              "</td>\n",
              "<td class=\"num\"><span>1,955</span></td>\n",
              "<td class=\"num\"><span>1,970</span></td>\n",
              "<td class=\"num\"><span>1,935</span></td>\n",
              "<td class=\"num\"><span>26,698</span></td>\n",
              "</tr>\n",
              "<tr>\n",
              "<td align=\"center\"><span class=\"date\">2019.10.11</span></td>\n",
              "<td class=\"num\"><span>1,960</span></td>\n",
              "<td class=\"num\">\n",
              "<img alt=\"상승\" height=\"6\" src=\"ico_up.gif\" style=\"margin-right:4px;\" width=\"7\"/><span>\n",
              "                            45\n",
              "                        </span>\n",
              "</td>\n",
              "<td class=\"num\"><span>1,925</span></td>\n",
              "<td class=\"num\"><span>1,965</span></td>\n",
              "<td class=\"num\"><span>1,910</span></td>\n",
              "<td class=\"num\"><span>45,469</span></td>\n",
              "</tr>\n",
              "<tr>\n",
              "<td align=\"center\"><span class=\"date\">2019.10.10</span></td>\n",
              "<td class=\"num\"><span>1,915</span></td>\n",
              "<td class=\"num\">\n",
              "<img alt=\"상승\" height=\"6\" src=\"ico_up.gif\" style=\"margin-right:4px;\" width=\"7\"/><span>\n",
              "                            15\n",
              "                        </span>\n",
              "</td>\n",
              "<td class=\"num\"><span>1,885</span></td>\n",
              "<td class=\"num\"><span>1,915</span></td>\n",
              "<td class=\"num\"><span>1,885</span></td>\n",
              "<td class=\"num\"><span>32,773</span></td>\n",
              "</tr>\n",
              "<tr>\n",
              "<td align=\"center\"><span class=\"date\">2019.10.08</span></td>\n",
              "<td class=\"num\"><span>1,900</span></td>\n",
              "<td class=\"num\">\n",
              "<img alt=\"하락\" height=\"6\" src=\"ico_down.gif\" style=\"margin-right:4px;\" width=\"7\"/><span class=\"tah p11 nv01\">\n",
              "                            20\n",
              "                        </span>\n",
              "</td>\n",
              "<td class=\"num\"><span>1,915</span></td>\n",
              "<td class=\"num\"><span>1,935</span></td>\n",
              "<td class=\"num\"><span>1,885</span></td>\n",
              "<td class=\"num\"><span>62,433</span></td>\n",
              "</tr>\n",
              "<tr>\n",
              "<td align=\"center\"><span class=\"date\">2019.10.07</span></td>\n",
              "<td class=\"num\"><span>1,920</span></td>\n",
              "<td class=\"num\">\n",
              "<img alt=\"하락\" height=\"6\" src=\"ico_down.gif\" style=\"margin-right:4px;\" width=\"7\"/><span class=\"tah p11 nv01\">\n",
              "                            50\n",
              "                        </span>\n",
              "</td>\n",
              "<td class=\"num\"><span>1,970</span></td>\n",
              "<td class=\"num\"><span>1,980</span></td>\n",
              "<td class=\"num\"><span>1,895</span></td>\n",
              "<td class=\"num\"><span>89,504</span></td>\n",
              "</tr>\n",
              "<tr>\n",
              "<td align=\"center\"><span class=\"date\">2019.10.04</span></td>\n",
              "<td class=\"num\"><span>1,970</span></td>\n",
              "<td class=\"num\">\n",
              "<img alt=\"하락\" height=\"6\" src=\"ico_down.gif\" style=\"margin-right:4px;\" width=\"7\"/><span class=\"tah p11 nv01\">\n",
              "                            20\n",
              "                        </span>\n",
              "</td>\n",
              "<td class=\"num\"><span>1,980</span></td>\n",
              "<td class=\"num\"><span>2,005</span></td>\n",
              "<td class=\"num\"><span>1,970</span></td>\n",
              "<td class=\"num\"><span>47,894</span></td>\n",
              "</tr>\n",
              "<tr>\n",
              "<td align=\"center\"><span class=\"date\">2019.10.02</span></td>\n",
              "<td class=\"num\"><span>1,990</span></td>\n",
              "<td class=\"num\">\n",
              "<span>0</span>\n",
              "</td>\n",
              "<td class=\"num\"><span>1,975</span></td>\n",
              "<td class=\"num\"><span>2,030</span></td>\n",
              "<td class=\"num\"><span>1,965</span></td>\n",
              "<td class=\"num\"><span>74,176</span></td>\n",
              "</tr>\n",
              "<tr>\n",
              "<td align=\"center\"><span class=\"date\">2019.10.01</span></td>\n",
              "<td class=\"num\"><span>1,990</span></td>\n",
              "<td class=\"num\">\n",
              "<img alt=\"상승\" height=\"6\" src=\"ico_up.gif\" style=\"margin-right:4px;\" width=\"7\"/><span>\n",
              "                            20\n",
              "                        </span>\n",
              "</td>\n",
              "<td class=\"num\"><span>1,975</span></td>\n",
              "<td class=\"num\"><span>2,005</span></td>\n",
              "<td class=\"num\"><span>1,965</span></td>\n",
              "<td class=\"num\"><span>44,690</span></td>\n",
              "</tr>\n",
              "<tr>\n",
              "<td align=\"center\"><span class=\"date\">2019.09.30</span></td>\n",
              "<td class=\"num\"><span>1,970</span></td>\n",
              "<td class=\"num\">\n",
              "<img alt=\"하락\" height=\"6\" src=\"ico_down.gif\" style=\"margin-right:4px;\" width=\"7\"/><span class=\"tah p11 nv01\">\n",
              "                            5\n",
              "                        </span>\n",
              "</td>\n",
              "<td class=\"num\"><span>1,980</span></td>\n",
              "<td class=\"num\"><span>2,000</span></td>\n",
              "<td class=\"num\"><span>1,970</span></td>\n",
              "<td class=\"num\"><span>34,087</span></td>\n",
              "</tr>\n",
              "<tr>\n",
              "<td align=\"center\"><span class=\"date\">2019.09.27</span></td>\n",
              "<td class=\"num\"><span>1,975</span></td>\n",
              "<td class=\"num\">\n",
              "<img alt=\"상승\" height=\"6\" src=\"ico_up.gif\" style=\"margin-right:4px;\" width=\"7\"/><span>\n",
              "                            5\n",
              "                        </span>\n",
              "</td>\n",
              "<td class=\"num\"><span>1,975</span></td>\n",
              "<td class=\"num\"><span>2,060</span></td>\n",
              "<td class=\"num\"><span>1,965</span></td>\n",
              "<td class=\"num\"><span>109,372</span></td>\n",
              "</tr>\n",
              "<tr>\n",
              "<td align=\"center\"><span class=\"date\">2019.09.26</span></td>\n",
              "<td class=\"num\"><span>1,970</span></td>\n",
              "<td class=\"num\">\n",
              "<img alt=\"하락\" height=\"6\" src=\"ico_down.gif\" style=\"margin-right:4px;\" width=\"7\"/><span class=\"tah p11 nv01\">\n",
              "                            30\n",
              "                        </span>\n",
              "</td>\n",
              "<td class=\"num\"><span>2,000</span></td>\n",
              "<td class=\"num\"><span>2,035</span></td>\n",
              "<td class=\"num\"><span>1,950</span></td>\n",
              "<td class=\"num\"><span>83,120</span></td>\n",
              "</tr>\n",
              "<tr>\n",
              "<td align=\"center\"><span class=\"date\">2019.09.25</span></td>\n",
              "<td class=\"num\"><span>2,000</span></td>\n",
              "<td class=\"num\">\n",
              "<img alt=\"하락\" height=\"6\" src=\"ico_down.gif\" style=\"margin-right:4px;\" width=\"7\"/><span class=\"tah p11 nv01\">\n",
              "                            65\n",
              "                        </span>\n",
              "</td>\n",
              "<td class=\"num\"><span>2,065</span></td>\n",
              "<td class=\"num\"><span>2,065</span></td>\n",
              "<td class=\"num\"><span>1,985</span></td>\n",
              "<td class=\"num\"><span>78,144</span></td>\n",
              "</tr>\n",
              "<tr>\n",
              "<td align=\"center\"><span class=\"date\">2019.09.24</span></td>\n",
              "<td class=\"num\"><span>2,065</span></td>\n",
              "<td class=\"num\">\n",
              "<img alt=\"상승\" height=\"6\" src=\"ico_up.gif\" style=\"margin-right:4px;\" width=\"7\"/><span>\n",
              "                            30\n",
              "                        </span>\n",
              "</td>\n",
              "<td class=\"num\"><span>2,020</span></td>\n",
              "<td class=\"num\"><span>2,090</span></td>\n",
              "<td class=\"num\"><span>2,020</span></td>\n",
              "<td class=\"num\"><span>139,085</span></td>\n",
              "</tr>\n",
              "</tbody>\n",
              "</table>\n",
              "</div>"
            ]
          },
          "metadata": {},
          "execution_count": 31
        }
      ]
    },
    {
      "cell_type": "code",
      "metadata": {
        "colab": {
          "base_uri": "https://localhost:8080/"
        },
        "id": "CB7DL551fKQH",
        "outputId": "558455b9-93d7-48e2-cdd8-6aacdff96d12"
      },
      "source": [
        "그룹사별일일시가 = soup.select('.main')[2:6]\n",
        "오늘종가 = []\n",
        "오늘시가총액 = []\n",
        "\n",
        "for i in 그룹사별일일시가:\n",
        "    print(i.select('.table > tbody > tr')[1].select('td')[1].text.replace(',', ''))"
      ],
      "execution_count": null,
      "outputs": [
        {
          "output_type": "stream",
          "name": "stdout",
          "text": [
            "6650\n",
            "31300\n",
            "13250\n",
            "2600\n"
          ]
        }
      ]
    },
    {
      "cell_type": "code",
      "metadata": {
        "colab": {
          "base_uri": "https://localhost:8080/"
        },
        "id": "FqVy4yORkxhK",
        "outputId": "7c6983ff-fcab-4cf2-93d1-c180e7bd0ca7"
      },
      "source": [
        "그룹사별일일시가 = soup.select('.main')[2:6]\n",
        "오늘종가 = []\n",
        "오늘시가총액 = []\n",
        "\n",
        "for i in 그룹사별일일시가:\n",
        "    오늘종가.append(int(i.select('.table > tbody > tr')[1].select('td')[1]\n",
        "\t\t\t\t\t\t\t\t\t\t.text.replace(',', '')))\n",
        "print(오늘종가)"
      ],
      "execution_count": null,
      "outputs": [
        {
          "output_type": "stream",
          "name": "stdout",
          "text": [
            "[6650, 31300, 13250, 2600]\n"
          ]
        }
      ]
    },
    {
      "cell_type": "code",
      "metadata": {
        "colab": {
          "base_uri": "https://localhost:8080/",
          "height": 35
        },
        "id": "ru8qfon2lGOK",
        "outputId": "62848991-62db-4978-bf42-fbe540f69dfd"
      },
      "source": [
        "# 문제 1 정답\n",
        "오늘시가총액 = [i*10000 for i in 오늘종가]\n",
        "전그룹사시가총액 = format(sum(오늘시가총액), ',')\n",
        "전그룹사시가총액"
      ],
      "execution_count": null,
      "outputs": [
        {
          "output_type": "execute_result",
          "data": {
            "application/vnd.google.colaboratory.intrinsic+json": {
              "type": "string"
            },
            "text/plain": [
              "'538,000,000'"
            ]
          },
          "metadata": {},
          "execution_count": 80
        }
      ]
    },
    {
      "cell_type": "markdown",
      "metadata": {
        "id": "NVhnuvSPmDiT"
      },
      "source": [
        "### 문제 2번\n",
        "\n",
        "전그룹사 시가총액 추이를 그래프로 그려주세요. x축은 날짜, y축은 가격입니다."
      ]
    },
    {
      "cell_type": "code",
      "metadata": {
        "colab": {
          "base_uri": "https://localhost:8080/"
        },
        "id": "iPNYb2EWl9_Z",
        "outputId": "d5063644-f1ad-4a6b-fcef-4b4c4e415d98"
      },
      "source": [
        "그룹사별일일시가 = soup.select('.main')[2:6]\n",
        "오늘종가 = []\n",
        "오늘시가총액 = []\n",
        "for j in range(1, len(soup.select('.main')[2].select('table > tbody > tr'))):\n",
        "    오늘종가 = []\n",
        "    for i in 그룹사별일일시가:\n",
        "        오늘종가.append(int(i.select('.table > tbody > tr')[j].select('td')[1].\n",
        "\t\t\t\t\t\t\t\t\t\t\t\ttext.replace(',', '')))\n",
        "    오늘시가총액.append(sum(오늘종가))\n",
        "오늘시가총액"
      ],
      "execution_count": null,
      "outputs": [
        {
          "output_type": "execute_result",
          "data": {
            "text/plain": [
              "[53800,\n",
              " 53180,\n",
              " 53615,\n",
              " 52305,\n",
              " 49035,\n",
              " 48755,\n",
              " 46970,\n",
              " 46140,\n",
              " 45900,\n",
              " 45765,\n",
              " 44000,\n",
              " 43210,\n",
              " 43830,\n",
              " 44310,\n",
              " 44850,\n",
              " 44370,\n",
              " 43935,\n",
              " 44180,\n",
              " 44410,\n",
              " 46245]"
            ]
          },
          "metadata": {},
          "execution_count": 104
        }
      ]
    },
    {
      "cell_type": "code",
      "metadata": {
        "colab": {
          "base_uri": "https://localhost:8080/"
        },
        "id": "FhNrLFEBnd3a",
        "outputId": "22d5936a-58c6-4171-c72c-71df17ab1811"
      },
      "source": [
        "# 날짜 table 크롤링 \n",
        "날짜전체 = soup.select('.main')[2].select('.table > tbody > tr > td > .date')\n",
        "date = []\n",
        "for i in 날짜전체:\n",
        "  date.append(i.text)\n",
        "date"
      ],
      "execution_count": null,
      "outputs": [
        {
          "output_type": "execute_result",
          "data": {
            "text/plain": [
              "['2019.10.23',\n",
              " '2019.10.22',\n",
              " '2019.10.21',\n",
              " '2019.10.18',\n",
              " '2019.10.17',\n",
              " '2019.10.16',\n",
              " '2019.10.15',\n",
              " '2019.10.14',\n",
              " '2019.10.11',\n",
              " '2019.10.10',\n",
              " '2019.10.08',\n",
              " '2019.10.07',\n",
              " '2019.10.04',\n",
              " '2019.10.02',\n",
              " '2019.10.01',\n",
              " '2019.09.30',\n",
              " '2019.09.27',\n",
              " '2019.09.26',\n",
              " '2019.09.25',\n",
              " '2019.09.24']"
            ]
          },
          "metadata": {},
          "execution_count": 98
        }
      ]
    },
    {
      "cell_type": "code",
      "metadata": {
        "colab": {
          "base_uri": "https://localhost:8080/"
        },
        "id": "0wQM-AYjpTH4",
        "outputId": "aa3e927b-087a-4eea-de59-ae55a2e17698"
      },
      "source": [
        "그룹사별일일시가 = soup.select('.main')[2:6]\n",
        "오늘종가 = []\n",
        "오늘시가총액 = []\n",
        "for j in range(1, len(soup.select('.main')[2].select('table > tbody > tr'))):\n",
        "    오늘종가 = []\n",
        "    for i in 그룹사별일일시가:\n",
        "        오늘종가.append(int(i.select('.table > tbody > tr')[j].select('td')[1].\n",
        "\t\t\t\t\t\t\t\t\t\t\t\ttext.replace(',', '')))\n",
        "    오늘시가총액.append(sum(오늘종가))\n",
        "오늘시가총액 = [i*10000 for i in 오늘시가총액]\n",
        "오늘시가총액"
      ],
      "execution_count": null,
      "outputs": [
        {
          "output_type": "execute_result",
          "data": {
            "text/plain": [
              "[538000000,\n",
              " 531800000,\n",
              " 536150000,\n",
              " 523050000,\n",
              " 490350000,\n",
              " 487550000,\n",
              " 469700000,\n",
              " 461400000,\n",
              " 459000000,\n",
              " 457650000,\n",
              " 440000000,\n",
              " 432100000,\n",
              " 438300000,\n",
              " 443100000,\n",
              " 448500000,\n",
              " 443700000,\n",
              " 439350000,\n",
              " 441800000,\n",
              " 444100000,\n",
              " 462450000]"
            ]
          },
          "metadata": {},
          "execution_count": 105
        }
      ]
    },
    {
      "cell_type": "code",
      "metadata": {
        "colab": {
          "base_uri": "https://localhost:8080/",
          "height": 314
        },
        "id": "DdxKUbxQoK_F",
        "outputId": "4802c49a-1a53-438b-b54a-9f614e8e12b4"
      },
      "source": [
        "%matplotlib inline\n",
        "import matplotlib.pyplot as plt\n",
        "\n",
        "# [::-1] 역순으로 출력해준다. \n",
        "plt.plot(date[::-1], 오늘시가총액[::-1])\n",
        "plt.xticks(rotation = -45)\n",
        "plt.show()"
      ],
      "execution_count": null,
      "outputs": [
        {
          "output_type": "display_data",
          "data": {
            "image/png": "[encoded data removed]",
            "text/plain": [
              "<Figure size 432x288 with 1 Axes>"
            ]
          },
          "metadata": {
            "needs_background": "light"
          }
        }
      ]
    }
  ]
}