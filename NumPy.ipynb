{
  "nbformat": 4,
  "nbformat_minor": 0,
  "metadata": {
    "colab": {
      "name": "NumPy.ipynb",
      "provenance": [],
      "collapsed_sections": [],
      "toc_visible": true,
      "include_colab_link": true
    },
    "kernelspec": {
      "name": "python3",
      "display_name": "Python 3"
    }
  },
  "cells": [
    {
      "cell_type": "markdown",
      "metadata": {
        "id": "view-in-github",
        "colab_type": "text"
      },
      "source": [
        "<a href=\"https://colab.research.google.com/github/hyunicecream/Inflearn/blob/main/NumPy.ipynb\" target=\"_parent\"><img src=\"https://colab.research.google.com/assets/colab-badge.svg\" alt=\"Open In Colab\"/></a>"
      ]
    },
    {
      "cell_type": "markdown",
      "metadata": {
        "id": "J_FfQuu2Tb30"
      },
      "source": [
        "# NumPy 한번에 제대로 배우기"
      ]
    },
    {
      "cell_type": "markdown",
      "metadata": {
        "id": "Zgrrh9T2vs8u"
      },
      "source": [
        "\n",
        "\n",
        "---\n",
        "\n"
      ]
    },
    {
      "cell_type": "markdown",
      "metadata": {
        "id": "oR5hNBH-Retd"
      },
      "source": [
        "## NumPy 특징\n",
        "\n",
        "* Numerical Python의 약자\n",
        "* 고성능 과학 계산용 패키지로 강력한 N차원 배열 객체\n",
        "* 범용적 데이터 처리에 사용 가능한 다차원 컨테이너\n",
        "* 정교한 브로드캐스팅(broadcasting) 기능\n",
        "* 파이썬의 자료형 list와 비슷하지만, 더 빠르고 메모리를 효율적으로 관리\n",
        "* 반복문 없이 데이터 배열에 대한 처리를 지원하여 빠르고 편리\n",
        "* 데이터 과학 도구에 대한 생태계의 핵심을 이루고 있음"
      ]
    },
    {
      "cell_type": "code",
      "metadata": {
        "id": "R9klTdhLQ564",
        "colab": {
          "base_uri": "https://localhost:8080/",
          "height": 35
        },
        "outputId": "c7dd4054-5fdc-4936-b8cb-5d29d354d428"
      },
      "source": [
        "import numpy as np\n",
        "np.__version__"
      ],
      "execution_count": null,
      "outputs": [
        {
          "output_type": "execute_result",
          "data": {
            "application/vnd.google.colaboratory.intrinsic+json": {
              "type": "string"
            },
            "text/plain": [
              "'1.19.5'"
            ]
          },
          "metadata": {},
          "execution_count": 94
        }
      ]
    },
    {
      "cell_type": "markdown",
      "metadata": {
        "id": "2hSWC5ptGyWP"
      },
      "source": [
        "\n",
        "\n",
        "---\n",
        "\n"
      ]
    },
    {
      "cell_type": "markdown",
      "metadata": {
        "id": "1kgkJZFlVUqk"
      },
      "source": [
        "## 배열 생성"
      ]
    },
    {
      "cell_type": "markdown",
      "metadata": {
        "id": "5eQ4sAkMbzm0"
      },
      "source": [
        "### 리스트로 배열 만들기\n"
      ]
    },
    {
      "cell_type": "code",
      "metadata": {
        "id": "Mtod2jcPWVvV",
        "colab": {
          "base_uri": "https://localhost:8080/"
        },
        "outputId": "a16a441b-94ff-4d02-c19d-ace8e41e7a0f"
      },
      "source": [
        "# 1차원\n",
        "a1 = np.array([1, 2, 3, 4, 5])\n",
        "print(a1)\n",
        "print(type(a1)) # nd : 차원, ndarray\n",
        "print(a1.shape)\n",
        "print(a1[0], a1[1], a1[2], a1[3], a1[4])\n",
        "a1[0] = 4\n",
        "a1[1] = 5\n",
        "a1[2] = 6\n",
        "print(a1)"
      ],
      "execution_count": null,
      "outputs": [
        {
          "output_type": "stream",
          "name": "stdout",
          "text": [
            "[1 2 3 4 5]\n",
            "<class 'numpy.ndarray'>\n",
            "(5,)\n",
            "1 2 3 4 5\n",
            "[4 5 6 4 5]\n"
          ]
        }
      ]
    },
    {
      "cell_type": "code",
      "metadata": {
        "id": "vp9tkHH8esXT",
        "colab": {
          "base_uri": "https://localhost:8080/"
        },
        "outputId": "87ce104c-d62f-45eb-dbea-5e6ad2fb9980"
      },
      "source": [
        "# 2차원\n",
        "a2 = np.array([[1,2,3], [4,5,6], [7,8,9]])\n",
        "print(a2)\n",
        "print(a2.shape)\n",
        "print(a2[0, 0], a2[1, 1], a2[2, 2])"
      ],
      "execution_count": null,
      "outputs": [
        {
          "output_type": "stream",
          "name": "stdout",
          "text": [
            "[[1 2 3]\n",
            " [4 5 6]\n",
            " [7 8 9]]\n",
            "(3, 3)\n",
            "1 5 9\n"
          ]
        }
      ]
    },
    {
      "cell_type": "code",
      "metadata": {
        "id": "Baj4gZ2meuJu",
        "colab": {
          "base_uri": "https://localhost:8080/"
        },
        "outputId": "e8ee00ed-9ac7-4902-cfd6-373d2bcc9bae"
      },
      "source": [
        "# 3차원\n",
        "a3 = np.array([[[1,2,3], [4,5,6], [7,8,9]],\n",
        "               [[1,2,3], [4,5,6], [7,8,9]],\n",
        "               [[1,2,3], [4,5,6], [7,8,9]]])\n",
        "print(a3)\n",
        "print(a3.shape)\n",
        "print(a3.ndim)"
      ],
      "execution_count": null,
      "outputs": [
        {
          "output_type": "stream",
          "name": "stdout",
          "text": [
            "[[[1 2 3]\n",
            "  [4 5 6]\n",
            "  [7 8 9]]\n",
            "\n",
            " [[1 2 3]\n",
            "  [4 5 6]\n",
            "  [7 8 9]]\n",
            "\n",
            " [[1 2 3]\n",
            "  [4 5 6]\n",
            "  [7 8 9]]]\n",
            "(3, 3, 3)\n",
            "3\n"
          ]
        }
      ]
    },
    {
      "cell_type": "markdown",
      "metadata": {
        "id": "PNkKtw4CoSDB"
      },
      "source": [
        "### 배열 생성 및 초기화"
      ]
    },
    {
      "cell_type": "markdown",
      "metadata": {
        "id": "mJVii5p_VfgM"
      },
      "source": [
        "* `zeros()`: 모든 요소를 0으로 초기화"
      ]
    },
    {
      "cell_type": "code",
      "metadata": {
        "id": "W_SF1tVoVTf1",
        "colab": {
          "base_uri": "https://localhost:8080/"
        },
        "outputId": "dfa12750-46ca-46a4-fba6-a04a14e79095"
      },
      "source": [
        "np.zeros(10)"
      ],
      "execution_count": null,
      "outputs": [
        {
          "output_type": "execute_result",
          "data": {
            "text/plain": [
              "array([0., 0., 0., 0., 0., 0., 0., 0., 0., 0.])"
            ]
          },
          "metadata": {},
          "execution_count": 98
        }
      ]
    },
    {
      "cell_type": "markdown",
      "metadata": {
        "id": "LjYFQrODVqhX"
      },
      "source": [
        "* `ones()`: 모든 요소를 1로 초기화"
      ]
    },
    {
      "cell_type": "code",
      "metadata": {
        "id": "MURoqsMsVeUw",
        "colab": {
          "base_uri": "https://localhost:8080/"
        },
        "outputId": "100ab529-1a98-4afd-c643-263840199d53"
      },
      "source": [
        "np.ones(10)\n",
        "np.ones((3, 3))"
      ],
      "execution_count": null,
      "outputs": [
        {
          "output_type": "execute_result",
          "data": {
            "text/plain": [
              "array([[1., 1., 1.],\n",
              "       [1., 1., 1.],\n",
              "       [1., 1., 1.]])"
            ]
          },
          "metadata": {},
          "execution_count": 99
        }
      ]
    },
    {
      "cell_type": "markdown",
      "metadata": {
        "id": "jnmm3Cj-cGtx"
      },
      "source": [
        "* `full()`: 모든 요소를 지정한 값으로 초기화"
      ]
    },
    {
      "cell_type": "code",
      "metadata": {
        "id": "oscabrdcV7Ny",
        "colab": {
          "base_uri": "https://localhost:8080/"
        },
        "outputId": "0f34d5d6-59ee-4c75-ce57-be9f9a440eff"
      },
      "source": [
        "np.full((3,3), 1.23)"
      ],
      "execution_count": null,
      "outputs": [
        {
          "output_type": "execute_result",
          "data": {
            "text/plain": [
              "array([[1.23, 1.23, 1.23],\n",
              "       [1.23, 1.23, 1.23],\n",
              "       [1.23, 1.23, 1.23]])"
            ]
          },
          "metadata": {},
          "execution_count": 100
        }
      ]
    },
    {
      "cell_type": "markdown",
      "metadata": {
        "id": "0SRI4jbmlIKc"
      },
      "source": [
        "* `eye()`: 단위행렬(identity matrix) 생성\n",
        "  + 주대각선의 원소가 모두 1이고 나머지 원소는 모두 0인 정사각 행렬"
      ]
    },
    {
      "cell_type": "code",
      "metadata": {
        "id": "VceBVLLjk9o5",
        "colab": {
          "base_uri": "https://localhost:8080/"
        },
        "outputId": "702ba02a-c974-4975-ab96-e78e8ff86ea6"
      },
      "source": [
        "np.eye(3)"
      ],
      "execution_count": null,
      "outputs": [
        {
          "output_type": "execute_result",
          "data": {
            "text/plain": [
              "array([[1., 0., 0.],\n",
              "       [0., 1., 0.],\n",
              "       [0., 0., 1.]])"
            ]
          },
          "metadata": {},
          "execution_count": 101
        }
      ]
    },
    {
      "cell_type": "markdown",
      "metadata": {
        "id": "7CCH1ZMT5R02"
      },
      "source": [
        "* `tri()`: 삼각행렬 생성"
      ]
    },
    {
      "cell_type": "code",
      "metadata": {
        "id": "mLe2Bhj05VYu",
        "colab": {
          "base_uri": "https://localhost:8080/"
        },
        "outputId": "1e605c00-5d4d-4918-d827-53332ee76722"
      },
      "source": [
        "np.tri(3)"
      ],
      "execution_count": null,
      "outputs": [
        {
          "output_type": "execute_result",
          "data": {
            "text/plain": [
              "array([[1., 0., 0.],\n",
              "       [1., 1., 0.],\n",
              "       [1., 1., 1.]])"
            ]
          },
          "metadata": {},
          "execution_count": 102
        }
      ]
    },
    {
      "cell_type": "markdown",
      "metadata": {
        "id": "ObZRA4HclZlO"
      },
      "source": [
        "* `empty()`: 초기화되지 않은 배열 생성\n",
        "  + 초기화가 없어서 배열 생성비용 저렴하고 빠름\n",
        "  + 초기화되지 않아서 기존 메모리 위치에 존재하는 값이 있음"
      ]
    },
    {
      "cell_type": "code",
      "metadata": {
        "id": "I3SoFgiglAkz",
        "colab": {
          "base_uri": "https://localhost:8080/"
        },
        "outputId": "74f7fc75-1c13-40c9-926d-b05a295df45a"
      },
      "source": [
        "np.empty(10)"
      ],
      "execution_count": null,
      "outputs": [
        {
          "output_type": "execute_result",
          "data": {
            "text/plain": [
              "array([1., 1., 1., 1., 1., 1., 1., 1., 1., 1.])"
            ]
          },
          "metadata": {},
          "execution_count": 103
        }
      ]
    },
    {
      "cell_type": "markdown",
      "metadata": {
        "id": "p3uSl1Ccmi5_"
      },
      "source": [
        "* `_like()`: 지정된 배열과 shape가 같은 행렬 생성\n",
        "  + `np.zeros_like()`\n",
        "  + `np.ones_like()`\n",
        "  + `np.full_like()`\n",
        "  + `np.empty_like()`"
      ]
    },
    {
      "cell_type": "code",
      "metadata": {
        "id": "Ad5RskRRlZLs",
        "colab": {
          "base_uri": "https://localhost:8080/"
        },
        "outputId": "98fa452e-7795-4984-f0cd-03ba566275ad"
      },
      "source": [
        "print(a1)\n",
        "np.zeros_like(a1)"
      ],
      "execution_count": null,
      "outputs": [
        {
          "output_type": "stream",
          "name": "stdout",
          "text": [
            "[4 5 6 4 5]\n"
          ]
        },
        {
          "output_type": "execute_result",
          "data": {
            "text/plain": [
              "array([0, 0, 0, 0, 0])"
            ]
          },
          "metadata": {},
          "execution_count": 104
        }
      ]
    },
    {
      "cell_type": "code",
      "metadata": {
        "id": "KChUHsG003Nf",
        "colab": {
          "base_uri": "https://localhost:8080/"
        },
        "outputId": "4556afb6-1d75-457c-838e-532e8e79e158"
      },
      "source": [
        "print(a2)\n",
        "np.ones_like(a2)"
      ],
      "execution_count": null,
      "outputs": [
        {
          "output_type": "stream",
          "name": "stdout",
          "text": [
            "[[1 2 3]\n",
            " [4 5 6]\n",
            " [7 8 9]]\n"
          ]
        },
        {
          "output_type": "execute_result",
          "data": {
            "text/plain": [
              "array([[1, 1, 1],\n",
              "       [1, 1, 1],\n",
              "       [1, 1, 1]])"
            ]
          },
          "metadata": {},
          "execution_count": 105
        }
      ]
    },
    {
      "cell_type": "code",
      "metadata": {
        "id": "PUnDz6b305Gg",
        "colab": {
          "base_uri": "https://localhost:8080/"
        },
        "outputId": "f06a9178-75f3-4c3a-abb4-ada35d8afd1b"
      },
      "source": [
        "print(a3)\n",
        "np.full_like(a3, 10)"
      ],
      "execution_count": null,
      "outputs": [
        {
          "output_type": "stream",
          "name": "stdout",
          "text": [
            "[[[1 2 3]\n",
            "  [4 5 6]\n",
            "  [7 8 9]]\n",
            "\n",
            " [[1 2 3]\n",
            "  [4 5 6]\n",
            "  [7 8 9]]\n",
            "\n",
            " [[1 2 3]\n",
            "  [4 5 6]\n",
            "  [7 8 9]]]\n"
          ]
        },
        {
          "output_type": "execute_result",
          "data": {
            "text/plain": [
              "array([[[10, 10, 10],\n",
              "        [10, 10, 10],\n",
              "        [10, 10, 10]],\n",
              "\n",
              "       [[10, 10, 10],\n",
              "        [10, 10, 10],\n",
              "        [10, 10, 10]],\n",
              "\n",
              "       [[10, 10, 10],\n",
              "        [10, 10, 10],\n",
              "        [10, 10, 10]]])"
            ]
          },
          "metadata": {},
          "execution_count": 106
        }
      ]
    },
    {
      "cell_type": "markdown",
      "metadata": {
        "id": "apoksGJNrn1z"
      },
      "source": [
        "### 생성한 값으로 배열 생성"
      ]
    },
    {
      "cell_type": "markdown",
      "metadata": {
        "id": "H3nmLct8cnV8"
      },
      "source": [
        "* `arange()`: 정수 범위로 배열 생성"
      ]
    },
    {
      "cell_type": "code",
      "metadata": {
        "id": "mANy4WY4cDKa",
        "colab": {
          "base_uri": "https://localhost:8080/"
        },
        "outputId": "0e19c609-5e7c-439c-e982-ad4ac33a9409"
      },
      "source": [
        "np.arange(0, 30, 2)"
      ],
      "execution_count": null,
      "outputs": [
        {
          "output_type": "execute_result",
          "data": {
            "text/plain": [
              "array([ 0,  2,  4,  6,  8, 10, 12, 14, 16, 18, 20, 22, 24, 26, 28])"
            ]
          },
          "metadata": {},
          "execution_count": 107
        }
      ]
    },
    {
      "cell_type": "markdown",
      "metadata": {
        "id": "s5kET1e6itlo"
      },
      "source": [
        "* `linspace()`: 범위 내에서 균등 간격의 배열 생성"
      ]
    },
    {
      "cell_type": "code",
      "metadata": {
        "id": "u4q9gI7Zcltz",
        "colab": {
          "base_uri": "https://localhost:8080/"
        },
        "outputId": "b40678a5-3861-47e4-86b1-e6f0f58f384e"
      },
      "source": [
        "np.linspace(0, 1, 5)"
      ],
      "execution_count": null,
      "outputs": [
        {
          "output_type": "execute_result",
          "data": {
            "text/plain": [
              "array([0.  , 0.25, 0.5 , 0.75, 1.  ])"
            ]
          },
          "metadata": {},
          "execution_count": 108
        }
      ]
    },
    {
      "cell_type": "markdown",
      "metadata": {
        "id": "Eq26d7T3nnAH"
      },
      "source": [
        "* `logspace()`: 범위 내에서 균등간격으로 로그 스케일로 배열 생성"
      ]
    },
    {
      "cell_type": "code",
      "metadata": {
        "id": "-O29WBVEnyXX",
        "colab": {
          "base_uri": "https://localhost:8080/"
        },
        "outputId": "8a99947c-5f0e-4468-a359-a6bd787173d0"
      },
      "source": [
        "np.logspace(0.1, 1, 20)"
      ],
      "execution_count": null,
      "outputs": [
        {
          "output_type": "execute_result",
          "data": {
            "text/plain": [
              "array([ 1.25892541,  1.40400425,  1.565802  ,  1.74624535,  1.94748304,\n",
              "        2.1719114 ,  2.42220294,  2.70133812,  3.0126409 ,  3.35981829,\n",
              "        3.74700446,  4.17881006,  4.66037703,  5.19743987,  5.79639395,\n",
              "        6.46437163,  7.2093272 ,  8.04013161,  8.9666781 , 10.        ])"
            ]
          },
          "metadata": {},
          "execution_count": 109
        }
      ]
    },
    {
      "cell_type": "markdown",
      "metadata": {
        "id": "6_88s4_Jr7fO"
      },
      "source": [
        "### 랜덤값으로 배열 생성\n",
        "![스크린샷 2021-12-23 오후 12.59.41.png](data:image/png;base64,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)"
      ]
    },
    {
      "cell_type": "markdown",
      "metadata": {
        "id": "CoK1cVUkjNMg"
      },
      "source": [
        "* `random.random()`: 랜덤한 수의 배열 생성"
      ]
    },
    {
      "cell_type": "code",
      "metadata": {
        "id": "qJwccKEnjMze",
        "colab": {
          "base_uri": "https://localhost:8080/"
        },
        "outputId": "e12ef1cf-2806-4cc8-d5cd-925628c19aed"
      },
      "source": [
        "np.random.random((3,3))"
      ],
      "execution_count": null,
      "outputs": [
        {
          "output_type": "execute_result",
          "data": {
            "text/plain": [
              "array([[0.2304106 , 0.05252778, 0.9182559 ],\n",
              "       [0.21073327, 0.69518084, 0.63234944],\n",
              "       [0.04747632, 0.74336496, 0.97762318]])"
            ]
          },
          "metadata": {},
          "execution_count": 110
        }
      ]
    },
    {
      "cell_type": "markdown",
      "metadata": {
        "id": "BYsAVwA1kvDI"
      },
      "source": [
        "* `random.randint()`: 일정 구간의 랜덤 정수의 배열 생성"
      ]
    },
    {
      "cell_type": "code",
      "metadata": {
        "id": "oR-UszZ_jqfQ",
        "colab": {
          "base_uri": "https://localhost:8080/"
        },
        "outputId": "ab6027cb-9cd9-4614-e63f-1a1a45b08f13"
      },
      "source": [
        "np.random.randint(0, 10, (3,3))"
      ],
      "execution_count": null,
      "outputs": [
        {
          "output_type": "execute_result",
          "data": {
            "text/plain": [
              "array([[9, 8, 2],\n",
              "       [1, 2, 6],\n",
              "       [3, 0, 1]])"
            ]
          },
          "metadata": {},
          "execution_count": 111
        }
      ]
    },
    {
      "cell_type": "markdown",
      "metadata": {
        "id": "2r557WHsjrL3"
      },
      "source": [
        "* `random.normal()`: 정규분포(normal distribution)를 고려한 랜덤한 수의 배열 생성\n",
        "* 평균=0, 표준편차=1, 3 x 3 배열"
      ]
    },
    {
      "cell_type": "code",
      "metadata": {
        "id": "Oan3bSpHi2Wq",
        "colab": {
          "base_uri": "https://localhost:8080/"
        },
        "outputId": "b5ef610d-bfec-420d-a2a6-8815a105cd2d"
      },
      "source": [
        "np.random.normal(0, 1, (3,3))"
      ],
      "execution_count": null,
      "outputs": [
        {
          "output_type": "execute_result",
          "data": {
            "text/plain": [
              "array([[-0.28463078,  0.51861994,  0.58057171],\n",
              "       [ 0.32055617,  1.58000392, -0.32174622],\n",
              "       [ 0.27486393, -1.28208173, -1.57037119]])"
            ]
          },
          "metadata": {},
          "execution_count": 112
        }
      ]
    },
    {
      "cell_type": "markdown",
      "metadata": {
        "id": "fPO-D1rHsrFw"
      },
      "source": [
        "* `random.rand()`: 균등분포(uniform distribution)를 고려한 랜덤한 수의 배열 생성"
      ]
    },
    {
      "cell_type": "code",
      "metadata": {
        "id": "DxiyEjnXnDUT",
        "colab": {
          "base_uri": "https://localhost:8080/"
        },
        "outputId": "751f9b80-0abc-4403-ce6b-a2254a139d0b"
      },
      "source": [
        "np.random.rand(3, 3)"
      ],
      "execution_count": null,
      "outputs": [
        {
          "output_type": "execute_result",
          "data": {
            "text/plain": [
              "array([[0.31354867, 0.32719193, 0.87101655],\n",
              "       [0.63075416, 0.96159577, 0.58151859],\n",
              "       [0.34330728, 0.79000752, 0.30282693]])"
            ]
          },
          "metadata": {},
          "execution_count": 113
        }
      ]
    },
    {
      "cell_type": "markdown",
      "metadata": {
        "id": "IegH2dsPLQgd"
      },
      "source": [
        "* `random.randn()`: 표준 정규 분포(standard normal distribution)를 고려한 랜덤한 수의 배열 생성"
      ]
    },
    {
      "cell_type": "code",
      "metadata": {
        "id": "V61VHa-JLIma",
        "colab": {
          "base_uri": "https://localhost:8080/"
        },
        "outputId": "e79a5009-5769-452a-8395-ad8b5de67493"
      },
      "source": [
        "np.random.randn(3, 3)"
      ],
      "execution_count": null,
      "outputs": [
        {
          "output_type": "execute_result",
          "data": {
            "text/plain": [
              "array([[ 1.65474767, -0.78774193, -0.50699221],\n",
              "       [-0.15017282, -0.48744488,  0.32843085],\n",
              "       [ 0.83248136, -1.10427856, -0.05855921]])"
            ]
          },
          "metadata": {},
          "execution_count": 114
        }
      ]
    },
    {
      "cell_type": "markdown",
      "metadata": {
        "id": "5ts0cYLQL_pT"
      },
      "source": [
        "### 표준 데이터 타입"
      ]
    },
    {
      "cell_type": "code",
      "metadata": {
        "id": "rxqTqAFKL73y",
        "colab": {
          "base_uri": "https://localhost:8080/"
        },
        "outputId": "e85a25d6-0630-4794-904e-485820a765aa"
      },
      "source": [
        "np.zeros(20, dtype=int)"
      ],
      "execution_count": null,
      "outputs": [
        {
          "output_type": "execute_result",
          "data": {
            "text/plain": [
              "array([0, 0, 0, 0, 0, 0, 0, 0, 0, 0, 0, 0, 0, 0, 0, 0, 0, 0, 0, 0])"
            ]
          },
          "metadata": {},
          "execution_count": 115
        }
      ]
    },
    {
      "cell_type": "code",
      "metadata": {
        "id": "o9TuSl6HIsXr",
        "colab": {
          "base_uri": "https://localhost:8080/"
        },
        "outputId": "d9b163be-9565-4483-9d4c-8e111de95193"
      },
      "source": [
        "np.ones((3, 3), dtype=bool)"
      ],
      "execution_count": null,
      "outputs": [
        {
          "output_type": "execute_result",
          "data": {
            "text/plain": [
              "array([[ True,  True,  True],\n",
              "       [ True,  True,  True],\n",
              "       [ True,  True,  True]])"
            ]
          },
          "metadata": {},
          "execution_count": 116
        }
      ]
    },
    {
      "cell_type": "code",
      "metadata": {
        "id": "w-TciNfzEhY0",
        "colab": {
          "base_uri": "https://localhost:8080/"
        },
        "outputId": "baa16d0e-b2d1-4dc2-b66b-0237ab7b62c5"
      },
      "source": [
        "np.full((3,3), 1.0, dtype=float)"
      ],
      "execution_count": null,
      "outputs": [
        {
          "output_type": "execute_result",
          "data": {
            "text/plain": [
              "array([[1., 1., 1.],\n",
              "       [1., 1., 1.],\n",
              "       [1., 1., 1.]])"
            ]
          },
          "metadata": {},
          "execution_count": 117
        }
      ]
    },
    {
      "cell_type": "markdown",
      "metadata": {
        "id": "1qFumu-p-0mQ"
      },
      "source": [
        "### 날짜/시간 배열 생성\n"
      ]
    },
    {
      "cell_type": "code",
      "metadata": {
        "id": "D8ozvTUf-6Rr",
        "colab": {
          "base_uri": "https://localhost:8080/"
        },
        "outputId": "dd79a2cb-7c64-4aad-f94b-e4cdd086fe7c"
      },
      "source": [
        "date = np.array('2021-12-23', dtype=np.datetime64)\n",
        "date"
      ],
      "execution_count": null,
      "outputs": [
        {
          "output_type": "execute_result",
          "data": {
            "text/plain": [
              "array('2021-12-23', dtype='datetime64[D]')"
            ]
          },
          "metadata": {},
          "execution_count": 118
        }
      ]
    },
    {
      "cell_type": "code",
      "metadata": {
        "id": "XIjLUkn6_K3J",
        "colab": {
          "base_uri": "https://localhost:8080/"
        },
        "outputId": "7dddfdd6-a192-428c-b722-5a5e60250e73"
      },
      "source": [
        "date + np.arange(12)"
      ],
      "execution_count": null,
      "outputs": [
        {
          "output_type": "execute_result",
          "data": {
            "text/plain": [
              "array(['2021-12-23', '2021-12-24', '2021-12-25', '2021-12-26',\n",
              "       '2021-12-27', '2021-12-28', '2021-12-29', '2021-12-30',\n",
              "       '2021-12-31', '2022-01-01', '2022-01-02', '2022-01-03'],\n",
              "      dtype='datetime64[D]')"
            ]
          },
          "metadata": {},
          "execution_count": 119
        }
      ]
    },
    {
      "cell_type": "code",
      "metadata": {
        "id": "EO7yE5VR_Wlh",
        "colab": {
          "base_uri": "https://localhost:8080/"
        },
        "outputId": "979e6910-d5e8-48be-951c-4f1f6acb3063"
      },
      "source": [
        "datetime = np.datetime64('2021-12-25 13:00')\n",
        "datetime"
      ],
      "execution_count": null,
      "outputs": [
        {
          "output_type": "execute_result",
          "data": {
            "text/plain": [
              "numpy.datetime64('2021-12-25T13:00')"
            ]
          },
          "metadata": {},
          "execution_count": 120
        }
      ]
    },
    {
      "cell_type": "code",
      "metadata": {
        "id": "3dnOlf9i_kzX",
        "colab": {
          "base_uri": "https://localhost:8080/"
        },
        "outputId": "7147b0e3-d10c-45cc-e560-1f9dfc33a8d4"
      },
      "source": [
        "datetime = np.datetime64('2021-12-23 13:00:02.34', 'ns')\n",
        "datetime"
      ],
      "execution_count": null,
      "outputs": [
        {
          "output_type": "execute_result",
          "data": {
            "text/plain": [
              "numpy.datetime64('2021-12-23T13:00:02.340000000')"
            ]
          },
          "metadata": {},
          "execution_count": 121
        }
      ]
    },
    {
      "cell_type": "markdown",
      "metadata": {
        "id": "5AREIamhGxAr"
      },
      "source": [
        "\n",
        "\n",
        "---\n",
        "\n"
      ]
    },
    {
      "cell_type": "markdown",
      "metadata": {
        "id": "d88tkTqbBE5V"
      },
      "source": [
        "## 배열 조회"
      ]
    },
    {
      "cell_type": "markdown",
      "metadata": {
        "id": "vRqwfbjtFnPn"
      },
      "source": [
        "### 배열 속성 정보"
      ]
    },
    {
      "cell_type": "code",
      "metadata": {
        "id": "R5Rlcll7GXrM"
      },
      "source": [
        "def array_info(array):\n",
        "  print(array)\n",
        "  print(\"ndim\", array.ndim)\n",
        "  print(\"shape\", array.shape)\n",
        "  print(\"dtype\", array.dtype)\n",
        "  print(\"size\", array.size)\n",
        "  print(\"itemsize\", array.itemsize)\n",
        "  print(\"nbytes\", array.nbytes)\n",
        "  print(\"stride\", array.strides)"
      ],
      "execution_count": null,
      "outputs": []
    },
    {
      "cell_type": "code",
      "metadata": {
        "id": "Na59LwA7KXZV",
        "colab": {
          "base_uri": "https://localhost:8080/"
        },
        "outputId": "3f34bdf1-10a5-4604-aa19-43806a0b65d2"
      },
      "source": [
        "array_info(a1)"
      ],
      "execution_count": null,
      "outputs": [
        {
          "output_type": "stream",
          "name": "stdout",
          "text": [
            "[4 5 6 4 5]\n",
            "ndim 1\n",
            "shape (5,)\n",
            "dtype int64\n",
            "size 5\n",
            "itemsize 8\n",
            "nbytes 40\n",
            "stride (8,)\n"
          ]
        }
      ]
    },
    {
      "cell_type": "code",
      "metadata": {
        "id": "Urzr_LsdLah0",
        "colab": {
          "base_uri": "https://localhost:8080/"
        },
        "outputId": "e3e32b9e-c421-49d5-f4d6-667235bbf7bd"
      },
      "source": [
        "array_info(a2)"
      ],
      "execution_count": null,
      "outputs": [
        {
          "output_type": "stream",
          "name": "stdout",
          "text": [
            "[[1 2 3]\n",
            " [4 5 6]\n",
            " [7 8 9]]\n",
            "ndim 2\n",
            "shape (3, 3)\n",
            "dtype int64\n",
            "size 9\n",
            "itemsize 8\n",
            "nbytes 72\n",
            "stride (24, 8)\n"
          ]
        }
      ]
    },
    {
      "cell_type": "code",
      "metadata": {
        "id": "jktqh1lsLf4V",
        "colab": {
          "base_uri": "https://localhost:8080/"
        },
        "outputId": "25860863-0212-4a68-9b00-8e19b36408a0"
      },
      "source": [
        "array_info(a3)"
      ],
      "execution_count": null,
      "outputs": [
        {
          "output_type": "stream",
          "name": "stdout",
          "text": [
            "[[[1 2 3]\n",
            "  [4 5 6]\n",
            "  [7 8 9]]\n",
            "\n",
            " [[1 2 3]\n",
            "  [4 5 6]\n",
            "  [7 8 9]]\n",
            "\n",
            " [[1 2 3]\n",
            "  [4 5 6]\n",
            "  [7 8 9]]]\n",
            "ndim 3\n",
            "shape (3, 3, 3)\n",
            "dtype int64\n",
            "size 27\n",
            "itemsize 8\n",
            "nbytes 216\n",
            "stride (72, 24, 8)\n"
          ]
        }
      ]
    },
    {
      "cell_type": "markdown",
      "metadata": {
        "id": "LV1WfdBWFqDu"
      },
      "source": [
        "### 인덱싱(Indexing)"
      ]
    },
    {
      "cell_type": "code",
      "metadata": {
        "id": "Nyb7eDmGFr5m",
        "colab": {
          "base_uri": "https://localhost:8080/"
        },
        "outputId": "590fc6b4-9088-436e-a905-d8603981d6b2"
      },
      "source": [
        "print(a1)\n",
        "print(a1[0])\n",
        "print(a1[2])\n",
        "print(a1[-1])\n",
        "print(a1[-2])"
      ],
      "execution_count": null,
      "outputs": [
        {
          "output_type": "stream",
          "name": "stdout",
          "text": [
            "[4 5 6 4 5]\n",
            "4\n",
            "6\n",
            "5\n",
            "4\n"
          ]
        }
      ]
    },
    {
      "cell_type": "code",
      "metadata": {
        "id": "uHMNcQW3Kn-h",
        "colab": {
          "base_uri": "https://localhost:8080/"
        },
        "outputId": "5ff3ddb7-b1a8-4c93-be38-cd05a7daa919"
      },
      "source": [
        "print(a2)\n",
        "print(a2[0, 0])\n",
        "print(a2[0, 2])\n",
        "print(a2[1, 1])\n",
        "print(a2[2, -1])"
      ],
      "execution_count": null,
      "outputs": [
        {
          "output_type": "stream",
          "name": "stdout",
          "text": [
            "[[1 2 3]\n",
            " [4 5 6]\n",
            " [7 8 9]]\n",
            "1\n",
            "3\n",
            "5\n",
            "9\n"
          ]
        }
      ]
    },
    {
      "cell_type": "code",
      "metadata": {
        "id": "IX5yDMGiMxYZ",
        "colab": {
          "base_uri": "https://localhost:8080/"
        },
        "outputId": "a3b0f16f-ee52-4de8-8659-da936cd2cb04"
      },
      "source": [
        "print(a3)\n",
        "print(a3[0, 0, 0])\n",
        "print(a3[1, 1, 1])\n",
        "print(a3[2, 2, 2])\n",
        "print(a3[2, -1, -1])"
      ],
      "execution_count": null,
      "outputs": [
        {
          "output_type": "stream",
          "name": "stdout",
          "text": [
            "[[[1 2 3]\n",
            "  [4 5 6]\n",
            "  [7 8 9]]\n",
            "\n",
            " [[1 2 3]\n",
            "  [4 5 6]\n",
            "  [7 8 9]]\n",
            "\n",
            " [[1 2 3]\n",
            "  [4 5 6]\n",
            "  [7 8 9]]]\n",
            "1\n",
            "5\n",
            "9\n",
            "9\n"
          ]
        }
      ]
    },
    {
      "cell_type": "markdown",
      "metadata": {
        "id": "uSeXu2y_O4cu"
      },
      "source": [
        "### 슬라이싱(Slicing)"
      ]
    },
    {
      "cell_type": "markdown",
      "metadata": {
        "id": "1hikO_6ZPp5m"
      },
      "source": [
        "* 슬라이싱 구문: `a[start:stop:step]`\n",
        "* 기본값: start=0, stop=ndim, step=1"
      ]
    },
    {
      "cell_type": "code",
      "metadata": {
        "id": "PYZOOCoVO7BF",
        "colab": {
          "base_uri": "https://localhost:8080/"
        },
        "outputId": "cf3fe7b8-295d-4fb9-dc88-ece0457434c2"
      },
      "source": [
        "print(a1)\n",
        "print(a1[0:2])\n",
        "print(a1[0:])\n",
        "print(a1[:1])\n",
        "print(a1[::2])\n",
        "print(a1[::-1])"
      ],
      "execution_count": null,
      "outputs": [
        {
          "output_type": "stream",
          "name": "stdout",
          "text": [
            "[4 5 6 4 5]\n",
            "[4 5]\n",
            "[4 5 6 4 5]\n",
            "[4]\n",
            "[4 6 5]\n",
            "[5 4 6 5 4]\n"
          ]
        }
      ]
    },
    {
      "cell_type": "code",
      "metadata": {
        "id": "oULOFrBQWs1G",
        "colab": {
          "base_uri": "https://localhost:8080/"
        },
        "outputId": "537a13be-9308-4d8b-b461-743a0e43d2c8"
      },
      "source": [
        "print(a2)\n",
        "print(a2[1])\n",
        "print(a2[1, :])\n",
        "print(a2[:2, :2])\n",
        "print(a2[1:, ::-1])\n",
        "print(a2[::-1, ::-1])"
      ],
      "execution_count": null,
      "outputs": [
        {
          "output_type": "stream",
          "name": "stdout",
          "text": [
            "[[1 2 3]\n",
            " [4 5 6]\n",
            " [7 8 9]]\n",
            "[4 5 6]\n",
            "[4 5 6]\n",
            "[[1 2]\n",
            " [4 5]]\n",
            "[[6 5 4]\n",
            " [9 8 7]]\n",
            "[[9 8 7]\n",
            " [6 5 4]\n",
            " [3 2 1]]\n"
          ]
        }
      ]
    },
    {
      "cell_type": "markdown",
      "metadata": {
        "id": "LD52bXAsBgbH"
      },
      "source": [
        "### 불리언 인덱싱(Boolean Indexing)\n",
        "\n",
        "* 배열 각 요소의 선택 여부를 불리언(True or False)로 지정\n",
        "* True 값인 인덱스의 값만 조회"
      ]
    },
    {
      "cell_type": "code",
      "metadata": {
        "id": "pOvNsH2oBgz-",
        "colab": {
          "base_uri": "https://localhost:8080/"
        },
        "outputId": "d95e28d1-7e96-4ee4-d719-e8a1ac8ae0f0"
      },
      "source": [
        "print(a1)\n",
        "bi = [False, True, True, False, True]\n",
        "print(a1[bi])\n",
        "bi = [True, False, True, True, False]\n",
        "print(a1[bi])"
      ],
      "execution_count": null,
      "outputs": [
        {
          "output_type": "stream",
          "name": "stdout",
          "text": [
            "[4 5 6 4 5]\n",
            "[5 6 5]\n",
            "[4 6 4]\n"
          ]
        }
      ]
    },
    {
      "cell_type": "code",
      "metadata": {
        "id": "EFfquM2kWHAU",
        "colab": {
          "base_uri": "https://localhost:8080/"
        },
        "outputId": "4c5c7d84-338d-4e17-f3fa-5f057a18d02e"
      },
      "source": [
        "print(a2)\n",
        "bi = np.random.randint(0, 2, (3,3), dtype=bool)\n",
        "print(bi)\n",
        "print(a2[bi])"
      ],
      "execution_count": null,
      "outputs": [
        {
          "output_type": "stream",
          "name": "stdout",
          "text": [
            "[[1 2 3]\n",
            " [4 5 6]\n",
            " [7 8 9]]\n",
            "[[False  True  True]\n",
            " [ True False False]\n",
            " [ True False  True]]\n",
            "[2 3 4 7 9]\n"
          ]
        }
      ]
    },
    {
      "cell_type": "markdown",
      "metadata": {
        "id": "R5hes-hdBujH"
      },
      "source": [
        "### 팬시 인덱싱(Fancy Indedxing)"
      ]
    },
    {
      "cell_type": "code",
      "metadata": {
        "id": "z-Luw5fzBx30",
        "colab": {
          "base_uri": "https://localhost:8080/"
        },
        "outputId": "c92e8a13-9aa0-4fb3-c1f3-f797a621e970"
      },
      "source": [
        "print(a1)\n",
        "print([a1[0], a1[2]])\n",
        "ind = [0,2]\n",
        "print(a1[ind])\n",
        "ind = np.array([[0, 1],\n",
        "                [2, 0]])\n",
        "print(a1[ind])"
      ],
      "execution_count": null,
      "outputs": [
        {
          "output_type": "stream",
          "name": "stdout",
          "text": [
            "[4 5 6 4 5]\n",
            "[4, 6]\n",
            "[4 6]\n",
            "[[4 5]\n",
            " [6 4]]\n"
          ]
        }
      ]
    },
    {
      "cell_type": "code",
      "metadata": {
        "id": "p_Dd0oiJahgj",
        "colab": {
          "base_uri": "https://localhost:8080/"
        },
        "outputId": "06a0cf02-3eff-4b3f-f89d-d1b290ab10a8"
      },
      "source": [
        "print(a2)\n",
        "row = np.array([0, 2])\n",
        "col = np.array([1, 2])\n",
        "print(a2[row, col])\n",
        "print(a2[row, :])\n",
        "print(a2[:, col])\n",
        "print(a2[2, col])\n",
        "print(a2[row, 1:])\n",
        "print(a2[1:, col])"
      ],
      "execution_count": null,
      "outputs": [
        {
          "output_type": "stream",
          "name": "stdout",
          "text": [
            "[[1 2 3]\n",
            " [4 5 6]\n",
            " [7 8 9]]\n",
            "[2 9]\n",
            "[[1 2 3]\n",
            " [7 8 9]]\n",
            "[[2 3]\n",
            " [5 6]\n",
            " [8 9]]\n",
            "[8 9]\n",
            "[[2 3]\n",
            " [8 9]]\n",
            "[[5 6]\n",
            " [8 9]]\n"
          ]
        }
      ]
    },
    {
      "cell_type": "markdown",
      "metadata": {
        "id": "F71_PQF1GvTs"
      },
      "source": [
        "\n",
        "\n",
        "---\n",
        "\n"
      ]
    },
    {
      "cell_type": "markdown",
      "metadata": {
        "id": "zDI5yQ58O-IX"
      },
      "source": [
        "## 배열 값 삽입/수정/삭제/복사"
      ]
    },
    {
      "cell_type": "markdown",
      "metadata": {
        "id": "zajd1qpVOQYy"
      },
      "source": [
        "### 배열 값 삽입\n",
        "\n",
        "* `insert()`: 배열의 특정 위치에 값 삽입\n",
        "* axis를 지정하지 않으면 1차원 배열로 변환\n",
        "* 추가할 방향을 axis로 지정\n",
        "* 원본 배열 변경없이 새로운 배열 반환"
      ]
    },
    {
      "cell_type": "code",
      "metadata": {
        "id": "sedRT54rP395",
        "colab": {
          "base_uri": "https://localhost:8080/"
        },
        "outputId": "5a03268c-bd29-4348-e934-280e45fe9dda"
      },
      "source": [
        "print(a1)\n",
        "b1 = np.insert(a1, 0, 10)\n",
        "print(b1)\n",
        "c1 = np.insert(a1, 2, 10)\n",
        "print(c1)"
      ],
      "execution_count": null,
      "outputs": [
        {
          "output_type": "stream",
          "name": "stdout",
          "text": [
            "[4 5 6 4 5]\n",
            "[10  4  5  6  4  5]\n",
            "[ 4  5 10  6  4  5]\n"
          ]
        }
      ]
    },
    {
      "cell_type": "code",
      "metadata": {
        "id": "zNmu1E4iQ6h-",
        "colab": {
          "base_uri": "https://localhost:8080/"
        },
        "outputId": "f2282459-f74e-4431-de9e-31463bd684b8"
      },
      "source": [
        "print(a2)\n",
        "b2 = np.insert(a2, 1, 10, axis=0)\n",
        "print(b2)\n",
        "c2 = np.insert(a2, 1, 10, axis=1)\n",
        "print(c2)"
      ],
      "execution_count": null,
      "outputs": [
        {
          "output_type": "stream",
          "name": "stdout",
          "text": [
            "[[1 2 3]\n",
            " [4 5 6]\n",
            " [7 8 9]]\n",
            "[[ 1  2  3]\n",
            " [10 10 10]\n",
            " [ 4  5  6]\n",
            " [ 7  8  9]]\n",
            "[[ 1 10  2  3]\n",
            " [ 4 10  5  6]\n",
            " [ 7 10  8  9]]\n"
          ]
        }
      ]
    },
    {
      "cell_type": "markdown",
      "metadata": {
        "id": "OlEzG4ffNjyL"
      },
      "source": [
        "### 배열 값 수정\n",
        "\n",
        "* 배열의 인덱싱으로 접근하여 값 수정"
      ]
    },
    {
      "cell_type": "code",
      "metadata": {
        "id": "ec43i1KWNjeN",
        "colab": {
          "base_uri": "https://localhost:8080/"
        },
        "outputId": "81e03125-6132-4a35-91aa-9c723a80d9af"
      },
      "source": [
        "print(a1)\n",
        "a1[0] = 1\n",
        "a1[1] = 2\n",
        "a1[2] = 3\n",
        "print(a1)\n",
        "a1[:1] = 9\n",
        "print(a1)\n",
        "i = np.array([1, 3, 4])\n",
        "a1[i] = 0\n",
        "print(a1)\n",
        "a1[i] += 4\n",
        "print(a1)"
      ],
      "execution_count": null,
      "outputs": [
        {
          "output_type": "stream",
          "name": "stdout",
          "text": [
            "[4 5 6 4 5]\n",
            "[1 2 3 4 5]\n",
            "[9 2 3 4 5]\n",
            "[9 0 3 0 0]\n",
            "[9 4 3 4 4]\n"
          ]
        }
      ]
    },
    {
      "cell_type": "code",
      "metadata": {
        "id": "IApNNx3NOMQh",
        "colab": {
          "base_uri": "https://localhost:8080/"
        },
        "outputId": "5138c738-0bc3-4c9f-8df6-fbb33f6e55b2"
      },
      "source": [
        "print(a2)\n",
        "a2[0, 0] = 1\n",
        "a2[1, 1] = 2\n",
        "a2[2, 2] = 3\n",
        "a2[0] = 1\n",
        "print(a2)\n",
        "a2[1:, 2] = 9\n",
        "print(a2)\n",
        "row = np.array([0, 1])\n",
        "col = np.array([1, 2])\n",
        "a2[row, col] = 0\n",
        "print(a2)"
      ],
      "execution_count": null,
      "outputs": [
        {
          "output_type": "stream",
          "name": "stdout",
          "text": [
            "[[1 1 1]\n",
            " [4 2 9]\n",
            " [7 8 9]]\n",
            "[[1 1 1]\n",
            " [4 2 9]\n",
            " [7 8 3]]\n",
            "[[1 1 1]\n",
            " [4 2 9]\n",
            " [7 8 9]]\n",
            "[[1 0 1]\n",
            " [4 2 0]\n",
            " [7 8 9]]\n"
          ]
        }
      ]
    },
    {
      "cell_type": "markdown",
      "metadata": {
        "id": "emV7DgrITPcn"
      },
      "source": [
        "### 배열 값 삭제\n",
        "\n",
        "* `delete()`: 배열의 특정 위치에 값 삭제\n",
        "* axis를 지정하지 않으면 1차원 배열로 변환\n",
        "* 삭제할 방향을 axis로 지정\n",
        "* 원본 배열 변경없이 새로운 배열 반환"
      ]
    },
    {
      "cell_type": "code",
      "metadata": {
        "id": "I3k_Yx8lTRJ2",
        "colab": {
          "base_uri": "https://localhost:8080/"
        },
        "outputId": "c88f290b-614a-4510-f617-fc97deba105c"
      },
      "source": [
        "print(a1)\n",
        "b1 = np.delete(a1, 1)\n",
        "print(b1)\n",
        "print(a1)"
      ],
      "execution_count": null,
      "outputs": [
        {
          "output_type": "stream",
          "name": "stdout",
          "text": [
            "[9 4 3 4 4]\n",
            "[9 3 4 4]\n",
            "[9 4 3 4 4]\n"
          ]
        }
      ]
    },
    {
      "cell_type": "code",
      "metadata": {
        "id": "tRTwMIfJTq_y",
        "colab": {
          "base_uri": "https://localhost:8080/"
        },
        "outputId": "dd217345-3750-4baa-cfce-e4011fa53fa4"
      },
      "source": [
        "print(a2)\n",
        "b2 = np.delete(a2, 1, axis=0)\n",
        "print(b2)\n",
        "c2 = np.delete(a2, 1, axis=1)\n",
        "print(c2)"
      ],
      "execution_count": null,
      "outputs": [
        {
          "output_type": "stream",
          "name": "stdout",
          "text": [
            "[[1 0 1]\n",
            " [4 2 0]\n",
            " [7 8 9]]\n",
            "[[1 0 1]\n",
            " [7 8 9]]\n",
            "[[1 1]\n",
            " [4 0]\n",
            " [7 9]]\n"
          ]
        }
      ]
    },
    {
      "cell_type": "markdown",
      "metadata": {
        "id": "UydkYxV8Z6Fx"
      },
      "source": [
        "### 배열 복사\n",
        "\n",
        "* 리스트 자료형과 달리 배열의 슬라이스는 복사본이 아님"
      ]
    },
    {
      "cell_type": "code",
      "metadata": {
        "id": "n2_0L8KWZ7wH",
        "colab": {
          "base_uri": "https://localhost:8080/"
        },
        "outputId": "b586d05f-6951-4441-e68a-f584505010bc"
      },
      "source": [
        "print(a2)\n",
        "print(a2[:2, :2])\n",
        "a2_sub = a2[:2, :2]\n",
        "print(a2_sub)\n",
        "a2_sub[:, 1] = 0\n",
        "print(a2_sub)\n",
        "print(a2)"
      ],
      "execution_count": null,
      "outputs": [
        {
          "output_type": "stream",
          "name": "stdout",
          "text": [
            "[[1 0 1]\n",
            " [4 0 0]\n",
            " [7 8 9]]\n",
            "[[1 0]\n",
            " [4 0]]\n",
            "[[1 0]\n",
            " [4 0]]\n",
            "[[1 0]\n",
            " [4 0]]\n",
            "[[1 0 1]\n",
            " [4 0 0]\n",
            " [7 8 9]]\n"
          ]
        }
      ]
    },
    {
      "cell_type": "markdown",
      "metadata": {
        "id": "UrQqOC1Eat5l"
      },
      "source": [
        "\n",
        "* `copy()`: 배열이나 하위 배열 내의 값을 명시적으로 복사"
      ]
    },
    {
      "cell_type": "code",
      "metadata": {
        "id": "hLBZ7Qn6bAKO",
        "colab": {
          "base_uri": "https://localhost:8080/"
        },
        "outputId": "5c3a4140-bd21-42d8-b8c7-2c48b2262335"
      },
      "source": [
        "print(a2)\n",
        "a2_sub_copy = a2[:2, :2].copy()\n",
        "print(a2_sub_copy)\n",
        "a2_sub_copy[:, 1] = 1\n",
        "print(a2_sub_copy)\n",
        "print(a2)"
      ],
      "execution_count": null,
      "outputs": [
        {
          "output_type": "stream",
          "name": "stdout",
          "text": [
            "[[1 0 1]\n",
            " [4 0 0]\n",
            " [7 8 9]]\n",
            "[[1 0]\n",
            " [4 0]]\n",
            "[[1 1]\n",
            " [4 1]]\n",
            "[[1 0 1]\n",
            " [4 0 0]\n",
            " [7 8 9]]\n"
          ]
        }
      ]
    },
    {
      "cell_type": "markdown",
      "metadata": {
        "id": "4HTc9FXOGtA7"
      },
      "source": [
        "\n",
        "\n",
        "---\n",
        "\n"
      ]
    },
    {
      "cell_type": "markdown",
      "metadata": {
        "id": "XVZY082__yV6"
      },
      "source": [
        "## 배열 변환"
      ]
    },
    {
      "cell_type": "markdown",
      "metadata": {
        "id": "Ec09aPeBO58M"
      },
      "source": [
        "### 배열 전치 및 축 변경"
      ]
    },
    {
      "cell_type": "code",
      "metadata": {
        "id": "anYByBpoWZmj",
        "colab": {
          "base_uri": "https://localhost:8080/"
        },
        "outputId": "164803b5-2d55-45af-e47a-55739455550a"
      },
      "source": [
        "print(a2)\n",
        "print(a2.T)"
      ],
      "execution_count": null,
      "outputs": [
        {
          "output_type": "stream",
          "name": "stdout",
          "text": [
            "[[1 0 1]\n",
            " [4 0 0]\n",
            " [7 8 9]]\n",
            "[[1 4 7]\n",
            " [0 0 8]\n",
            " [1 0 9]]\n"
          ]
        }
      ]
    },
    {
      "cell_type": "code",
      "metadata": {
        "id": "wg4XC6kiRnZo",
        "colab": {
          "base_uri": "https://localhost:8080/"
        },
        "outputId": "4a8996cd-5baa-46a7-8779-1a39f0a76993"
      },
      "source": [
        "print(a3)\n",
        "print('=' *20)\n",
        "print(a3.T)"
      ],
      "execution_count": null,
      "outputs": [
        {
          "output_type": "stream",
          "name": "stdout",
          "text": [
            "[[[1 2 3]\n",
            "  [4 5 6]\n",
            "  [7 8 9]]\n",
            "\n",
            " [[1 2 3]\n",
            "  [4 5 6]\n",
            "  [7 8 9]]\n",
            "\n",
            " [[1 2 3]\n",
            "  [4 5 6]\n",
            "  [7 8 9]]]\n",
            "====================\n",
            "[[[1 1 1]\n",
            "  [4 4 4]\n",
            "  [7 7 7]]\n",
            "\n",
            " [[2 2 2]\n",
            "  [5 5 5]\n",
            "  [8 8 8]]\n",
            "\n",
            " [[3 3 3]\n",
            "  [6 6 6]\n",
            "  [9 9 9]]]\n"
          ]
        }
      ]
    },
    {
      "cell_type": "code",
      "metadata": {
        "id": "6lPwXL8rRTfI",
        "colab": {
          "base_uri": "https://localhost:8080/"
        },
        "outputId": "4674ab6c-970b-4371-92c7-eeccadc9f7f3"
      },
      "source": [
        "print(a2)\n",
        "print(a2.swapaxes(1, 0))"
      ],
      "execution_count": null,
      "outputs": [
        {
          "output_type": "stream",
          "name": "stdout",
          "text": [
            "[[1 0 1]\n",
            " [4 0 0]\n",
            " [7 8 9]]\n",
            "[[1 4 7]\n",
            " [0 0 8]\n",
            " [1 0 9]]\n"
          ]
        }
      ]
    },
    {
      "cell_type": "code",
      "metadata": {
        "id": "oLbEHtijRewH",
        "colab": {
          "base_uri": "https://localhost:8080/"
        },
        "outputId": "81989b2b-7333-4ef7-bf00-458c9eaf1132"
      },
      "source": [
        "print(a3)\n",
        "print(a3.swapaxes(1,2))"
      ],
      "execution_count": null,
      "outputs": [
        {
          "output_type": "stream",
          "name": "stdout",
          "text": [
            "[[[1 2 3]\n",
            "  [4 5 6]\n",
            "  [7 8 9]]\n",
            "\n",
            " [[1 2 3]\n",
            "  [4 5 6]\n",
            "  [7 8 9]]\n",
            "\n",
            " [[1 2 3]\n",
            "  [4 5 6]\n",
            "  [7 8 9]]]\n",
            "[[[1 4 7]\n",
            "  [2 5 8]\n",
            "  [3 6 9]]\n",
            "\n",
            " [[1 4 7]\n",
            "  [2 5 8]\n",
            "  [3 6 9]]\n",
            "\n",
            " [[1 4 7]\n",
            "  [2 5 8]\n",
            "  [3 6 9]]]\n"
          ]
        }
      ]
    },
    {
      "cell_type": "markdown",
      "metadata": {
        "id": "M7xN8WdOdb_S"
      },
      "source": [
        "### 배열 재구조화\n"
      ]
    },
    {
      "cell_type": "markdown",
      "metadata": {
        "id": "JwZJMpXGfY0V"
      },
      "source": [
        "* `reshape()`: 배열의 형상을 변경"
      ]
    },
    {
      "cell_type": "code",
      "metadata": {
        "id": "SlGQ17VQdd8i",
        "colab": {
          "base_uri": "https://localhost:8080/"
        },
        "outputId": "e728868f-1668-4e1f-adb4-1009125b6eb0"
      },
      "source": [
        "n1 = np.arange(1, 10)\n",
        "print(n1)\n",
        "print(n1.reshape(3,3))"
      ],
      "execution_count": null,
      "outputs": [
        {
          "output_type": "stream",
          "name": "stdout",
          "text": [
            "[1 2 3 4 5 6 7 8 9]\n",
            "[[1 2 3]\n",
            " [4 5 6]\n",
            " [7 8 9]]\n"
          ]
        }
      ]
    },
    {
      "cell_type": "markdown",
      "metadata": {
        "id": "y_U1W-fQfuQY"
      },
      "source": [
        "* `newaxis()`: 새로운 축 추가"
      ]
    },
    {
      "cell_type": "code",
      "metadata": {
        "id": "COif_weCfkGo",
        "colab": {
          "base_uri": "https://localhost:8080/"
        },
        "outputId": "1e4883ec-0861-425b-9564-b33df03bc427"
      },
      "source": [
        "print(n1)\n",
        "print(n1[np.newaxis, :5])\n",
        "print(n1[:5, np.newaxis])"
      ],
      "execution_count": null,
      "outputs": [
        {
          "output_type": "stream",
          "name": "stdout",
          "text": [
            "[1 2 3 4 5 6 7 8 9]\n",
            "[[1 2 3 4 5]]\n",
            "[[1]\n",
            " [2]\n",
            " [3]\n",
            " [4]\n",
            " [5]]\n"
          ]
        }
      ]
    },
    {
      "cell_type": "markdown",
      "metadata": {
        "id": "FR82RSDggbcJ"
      },
      "source": [
        "### 배열 크기 변경"
      ]
    },
    {
      "cell_type": "markdown",
      "metadata": {
        "id": "D1LuDMVFl4tc"
      },
      "source": [
        "* 배열 모양만 변경"
      ]
    },
    {
      "cell_type": "code",
      "metadata": {
        "id": "7B6pHlfxgdSJ",
        "colab": {
          "base_uri": "https://localhost:8080/"
        },
        "outputId": "263a92c2-4a0b-428b-fa06-0c12ace715f2"
      },
      "source": [
        "n2 = np.random.randint(0, 10, (2,5))\n",
        "print(n2)\n",
        "n2.resize((5,2))\n",
        "print(n2)"
      ],
      "execution_count": null,
      "outputs": [
        {
          "output_type": "stream",
          "name": "stdout",
          "text": [
            "[[1 6 7 9 9]\n",
            " [8 3 0 5 7]]\n",
            "[[1 6]\n",
            " [7 9]\n",
            " [9 8]\n",
            " [3 0]\n",
            " [5 7]]\n"
          ]
        }
      ]
    },
    {
      "cell_type": "markdown",
      "metadata": {
        "id": "s0adm-h9l6sv"
      },
      "source": [
        "* 배열 크기 증가\n",
        "* 남은 공간은 0으로 채워짐"
      ]
    },
    {
      "cell_type": "code",
      "metadata": {
        "id": "IrX0UcjrlWRV",
        "colab": {
          "base_uri": "https://localhost:8080/"
        },
        "outputId": "c03341a9-297e-42ed-b5e5-0676fedc4837"
      },
      "source": [
        "n2 = np.random.randint(0, 10, (2,5))\n",
        "n2.resize((5, 5))\n",
        "print(n2)"
      ],
      "execution_count": null,
      "outputs": [
        {
          "output_type": "stream",
          "name": "stdout",
          "text": [
            "[[8 6 4 7 2]\n",
            " [1 3 5 1 7]\n",
            " [0 0 0 0 0]\n",
            " [0 0 0 0 0]\n",
            " [0 0 0 0 0]]\n"
          ]
        }
      ]
    },
    {
      "cell_type": "markdown",
      "metadata": {
        "id": "78hPDEzfl9JB"
      },
      "source": [
        "* 배열 크기 감소\n",
        "* 포함되지 않은 값은 삭제됨"
      ]
    },
    {
      "cell_type": "code",
      "metadata": {
        "id": "fJWrwhc6lmjW",
        "colab": {
          "base_uri": "https://localhost:8080/"
        },
        "outputId": "ba1fce7e-dab0-44b3-dc07-dc10362be47b"
      },
      "source": [
        "n2 = np.random.randint(0, 10, (2,5))\n",
        "n2.resize((3,3))\n",
        "print(n2)"
      ],
      "execution_count": null,
      "outputs": [
        {
          "output_type": "stream",
          "name": "stdout",
          "text": [
            "[[5 5 1]\n",
            " [0 1 8]\n",
            " [1 5 5]]\n"
          ]
        }
      ]
    },
    {
      "cell_type": "markdown",
      "metadata": {
        "id": "r9z2gD_pHyx9"
      },
      "source": [
        "### 배열 추가\n",
        "\n",
        "* `append()`: 배열의 끝에 값 추가"
      ]
    },
    {
      "cell_type": "code",
      "metadata": {
        "id": "fH4lpQKNH5s1",
        "colab": {
          "base_uri": "https://localhost:8080/"
        },
        "outputId": "7e8c6b2c-d64b-4a85-b518-d7daf3bc127b"
      },
      "source": [
        "a2 = np.arange(1, 10).reshape(3, 3)\n",
        "print(a2)\n",
        "b2 = np.arange(10, 19).reshape(3, 3)\n",
        "print(b2)"
      ],
      "execution_count": null,
      "outputs": [
        {
          "output_type": "stream",
          "name": "stdout",
          "text": [
            "[[1 2 3]\n",
            " [4 5 6]\n",
            " [7 8 9]]\n",
            "[[10 11 12]\n",
            " [13 14 15]\n",
            " [16 17 18]]\n"
          ]
        }
      ]
    },
    {
      "cell_type": "markdown",
      "metadata": {
        "id": "n8SMl5VVIquk"
      },
      "source": [
        "* axis 지정이 없으면 1차원 배열 형태로 변형되어 결합"
      ]
    },
    {
      "cell_type": "code",
      "metadata": {
        "id": "LRltk3yFIVsV",
        "colab": {
          "base_uri": "https://localhost:8080/"
        },
        "outputId": "c5250fb5-7bc9-461d-dc01-1e709f69b305"
      },
      "source": [
        "c2 = np.append(a2, b2)\n",
        "print(c2)"
      ],
      "execution_count": null,
      "outputs": [
        {
          "output_type": "stream",
          "name": "stdout",
          "text": [
            "[ 1  2  3  4  5  6  7  8  9 10 11 12 13 14 15 16 17 18]\n"
          ]
        }
      ]
    },
    {
      "cell_type": "markdown",
      "metadata": {
        "id": "sVW2UFVZJfpR"
      },
      "source": [
        "* axis를 0으로 지정\n",
        "* shape[0]을 제외한 나머지 shape은 같아야 함"
      ]
    },
    {
      "cell_type": "code",
      "metadata": {
        "id": "nwJ4xLOeIbMg",
        "colab": {
          "base_uri": "https://localhost:8080/"
        },
        "outputId": "866c6920-a0a3-4502-dc3e-f99cb8fb2c6e"
      },
      "source": [
        "c2 = np.append(a2, b2, axis=0)\n",
        "print(c2)"
      ],
      "execution_count": null,
      "outputs": [
        {
          "output_type": "stream",
          "name": "stdout",
          "text": [
            "[[ 1  2  3]\n",
            " [ 4  5  6]\n",
            " [ 7  8  9]\n",
            " [10 11 12]\n",
            " [13 14 15]\n",
            " [16 17 18]]\n"
          ]
        }
      ]
    },
    {
      "cell_type": "markdown",
      "metadata": {
        "id": "4YXxzygaJmj-"
      },
      "source": [
        "* axis를 1로 지정\n",
        "* shape[1]을 제외한 나머지 shape은 같아야 함"
      ]
    },
    {
      "cell_type": "code",
      "metadata": {
        "id": "JYE4_5gAJmYe",
        "colab": {
          "base_uri": "https://localhost:8080/"
        },
        "outputId": "5a8ea0a3-51bb-4c8f-d89b-ad6b6a82bc81"
      },
      "source": [
        "c2 = np.append(a2, b2, axis=1)\n",
        "print(c2)"
      ],
      "execution_count": null,
      "outputs": [
        {
          "output_type": "stream",
          "name": "stdout",
          "text": [
            "[[ 1  2  3 10 11 12]\n",
            " [ 4  5  6 13 14 15]\n",
            " [ 7  8  9 16 17 18]]\n"
          ]
        }
      ]
    },
    {
      "cell_type": "markdown",
      "metadata": {
        "id": "9sTza3b2hoe4"
      },
      "source": [
        "### 배열 연결"
      ]
    },
    {
      "cell_type": "markdown",
      "metadata": {
        "id": "TRun2NPYj8Ct"
      },
      "source": [
        "* `concatenate()`: 튜플이나 배열의 리스트를 인수로 사용해 배열 연결"
      ]
    },
    {
      "cell_type": "code",
      "metadata": {
        "id": "lmEqdPifhrB_",
        "colab": {
          "base_uri": "https://localhost:8080/"
        },
        "outputId": "14b130ed-e448-4233-89ff-1646a925c337"
      },
      "source": [
        "a1 = np.array([1,2,3])\n",
        "b1 = np.array([2,4,6])\n",
        "np.concatenate([a1, b1])"
      ],
      "execution_count": null,
      "outputs": [
        {
          "output_type": "execute_result",
          "data": {
            "text/plain": [
              "array([1, 2, 3, 2, 4, 6])"
            ]
          },
          "metadata": {},
          "execution_count": 188
        }
      ]
    },
    {
      "cell_type": "code",
      "metadata": {
        "id": "IkoTNIt2k0tp",
        "colab": {
          "base_uri": "https://localhost:8080/"
        },
        "outputId": "b68c0165-41dd-4359-d5e1-38811255667f"
      },
      "source": [
        "c1 = np.array([7,8,9])\n",
        "np.concatenate([a1, b1, c1])"
      ],
      "execution_count": null,
      "outputs": [
        {
          "output_type": "execute_result",
          "data": {
            "text/plain": [
              "array([1, 2, 3, 2, 4, 6, 7, 8, 9])"
            ]
          },
          "metadata": {},
          "execution_count": 189
        }
      ]
    },
    {
      "cell_type": "code",
      "metadata": {
        "id": "vX0SCYX3lEs2",
        "colab": {
          "base_uri": "https://localhost:8080/"
        },
        "outputId": "c0998859-b031-41d8-b5c9-725217b122e0"
      },
      "source": [
        "a2 = np.array([[1,2,3],\n",
        "               [4,5,6]])\n",
        "np.concatenate([a2, a2])"
      ],
      "execution_count": null,
      "outputs": [
        {
          "output_type": "execute_result",
          "data": {
            "text/plain": [
              "array([[1, 2, 3],\n",
              "       [4, 5, 6],\n",
              "       [1, 2, 3],\n",
              "       [4, 5, 6]])"
            ]
          },
          "metadata": {},
          "execution_count": 191
        }
      ]
    },
    {
      "cell_type": "code",
      "metadata": {
        "id": "Rv6xGva7lxHP",
        "colab": {
          "base_uri": "https://localhost:8080/"
        },
        "outputId": "3d2ac697-052e-47af-8fad-87b9c5bcc8a8"
      },
      "source": [
        "a2 = np.array([[1,2,3],\n",
        "               [4,5,6]])\n",
        "np.concatenate([a2, a2], axis=1)"
      ],
      "execution_count": null,
      "outputs": [
        {
          "output_type": "execute_result",
          "data": {
            "text/plain": [
              "array([[1, 2, 3, 1, 2, 3],\n",
              "       [4, 5, 6, 4, 5, 6]])"
            ]
          },
          "metadata": {},
          "execution_count": 192
        }
      ]
    },
    {
      "cell_type": "markdown",
      "metadata": {
        "id": "MbiBbx4nl2KD"
      },
      "source": [
        "* `vstack()`: 수직 스택(vertical stack), 1차원으로 연결"
      ]
    },
    {
      "cell_type": "code",
      "metadata": {
        "id": "HkHJwdBMl_qi",
        "colab": {
          "base_uri": "https://localhost:8080/"
        },
        "outputId": "529a2509-765f-42a9-b38b-d84ac12901c1"
      },
      "source": [
        "np.vstack([a2, a2])"
      ],
      "execution_count": null,
      "outputs": [
        {
          "output_type": "execute_result",
          "data": {
            "text/plain": [
              "array([[1, 2, 3],\n",
              "       [4, 5, 6],\n",
              "       [1, 2, 3],\n",
              "       [4, 5, 6]])"
            ]
          },
          "metadata": {},
          "execution_count": 193
        }
      ]
    },
    {
      "cell_type": "markdown",
      "metadata": {
        "id": "-hTlAnWxmHA_"
      },
      "source": [
        "* `hstack()`: 수평 스택(horizontal stack), 2차원으로 연결"
      ]
    },
    {
      "cell_type": "code",
      "metadata": {
        "id": "-HsGlAytmNEz",
        "colab": {
          "base_uri": "https://localhost:8080/"
        },
        "outputId": "4f2b90d6-ed11-4c56-9748-74d94de8c982"
      },
      "source": [
        "np.hstack([a2, a2])"
      ],
      "execution_count": null,
      "outputs": [
        {
          "output_type": "execute_result",
          "data": {
            "text/plain": [
              "array([[1, 2, 3, 1, 2, 3],\n",
              "       [4, 5, 6, 4, 5, 6]])"
            ]
          },
          "metadata": {},
          "execution_count": 194
        }
      ]
    },
    {
      "cell_type": "markdown",
      "metadata": {
        "id": "CshM6LURmUhV"
      },
      "source": [
        "* `dstack()`: 깊이 스택(depth stack), 3차원으로 연결"
      ]
    },
    {
      "cell_type": "code",
      "metadata": {
        "id": "TFBdRddpmU4m",
        "colab": {
          "base_uri": "https://localhost:8080/"
        },
        "outputId": "e2b5e3eb-15a9-42df-b882-5093de960d5f"
      },
      "source": [
        "np.dstack([a2, a2])"
      ],
      "execution_count": null,
      "outputs": [
        {
          "output_type": "execute_result",
          "data": {
            "text/plain": [
              "array([[[1, 1],\n",
              "        [2, 2],\n",
              "        [3, 3]],\n",
              "\n",
              "       [[4, 4],\n",
              "        [5, 5],\n",
              "        [6, 6]]])"
            ]
          },
          "metadata": {},
          "execution_count": 195
        }
      ]
    },
    {
      "cell_type": "markdown",
      "metadata": {
        "id": "JUBtc4UnpaSz"
      },
      "source": [
        "* `stack()`: 새로운 차원으로 연결"
      ]
    },
    {
      "cell_type": "code",
      "metadata": {
        "id": "JzoujQ9_pHS5",
        "colab": {
          "base_uri": "https://localhost:8080/"
        },
        "outputId": "5ee8ecd3-2de2-4d0f-8c42-58b4a54ee8d6"
      },
      "source": [
        "np.stack([a2, a2])"
      ],
      "execution_count": null,
      "outputs": [
        {
          "output_type": "execute_result",
          "data": {
            "text/plain": [
              "array([[[1, 2, 3],\n",
              "        [4, 5, 6]],\n",
              "\n",
              "       [[1, 2, 3],\n",
              "        [4, 5, 6]]])"
            ]
          },
          "metadata": {},
          "execution_count": 196
        }
      ]
    },
    {
      "cell_type": "markdown",
      "metadata": {
        "id": "eYz74NYKo8iH"
      },
      "source": [
        "### 배열 분할"
      ]
    },
    {
      "cell_type": "markdown",
      "metadata": {
        "id": "wjt2zku5pBmF"
      },
      "source": [
        "* `split()`: 배열 분할"
      ]
    },
    {
      "cell_type": "code",
      "metadata": {
        "id": "H_2e71heo-Eq",
        "colab": {
          "base_uri": "https://localhost:8080/"
        },
        "outputId": "8b14fbde-c4b6-4075-f761-baef69ec2a76"
      },
      "source": [
        "a1 = np.arange(0, 10)\n",
        "print(a1)\n",
        "b1, c1 = np.split(a1, [5])\n",
        "print(b1, c1)\n",
        "b1, c1, d1, e1, f1 = np.split(a1, [2,4,6,8])\n",
        "print(b1, c1, d1, e1, f1)"
      ],
      "execution_count": null,
      "outputs": [
        {
          "output_type": "stream",
          "name": "stdout",
          "text": [
            "[0 1 2 3 4 5 6 7 8 9]\n",
            "[0 1 2 3 4] [5 6 7 8 9]\n",
            "[0 1] [2 3] [4 5] [6 7] [8 9]\n"
          ]
        }
      ]
    },
    {
      "cell_type": "markdown",
      "metadata": {
        "id": "IvvdCQcKsCLn"
      },
      "source": [
        "* `vsplit()`: 수직 분할, 1차원으로 분할"
      ]
    },
    {
      "cell_type": "code",
      "metadata": {
        "id": "GdMYlsiLsCoe",
        "colab": {
          "base_uri": "https://localhost:8080/"
        },
        "outputId": "a8b69557-c530-4221-8e0c-0c414cc10534"
      },
      "source": [
        "a2 = np.arange(1,10).reshape(3,3)\n",
        "print(a2)\n",
        "b2, c2 = np.vsplit(a2, [2])\n",
        "print(b2)\n",
        "print(c2)"
      ],
      "execution_count": null,
      "outputs": [
        {
          "output_type": "stream",
          "name": "stdout",
          "text": [
            "[[1 2 3]\n",
            " [4 5 6]\n",
            " [7 8 9]]\n",
            "[[1 2 3]\n",
            " [4 5 6]]\n",
            "[[7 8 9]]\n"
          ]
        }
      ]
    },
    {
      "cell_type": "markdown",
      "metadata": {
        "id": "1aC0a034rSXi"
      },
      "source": [
        "* `hsplit()`: 수평 분할, 2차원으로 분할"
      ]
    },
    {
      "cell_type": "code",
      "metadata": {
        "id": "ShMnE_bnrSBJ",
        "colab": {
          "base_uri": "https://localhost:8080/"
        },
        "outputId": "e1891c94-c644-496e-c1ec-50b9edc88933"
      },
      "source": [
        "a2 = np.arange(1,10).reshape(3,3)\n",
        "print(a2)\n",
        "b2, c2 = np.hsplit(a2, [2])\n",
        "print(b2)\n",
        "print(c2)"
      ],
      "execution_count": null,
      "outputs": [
        {
          "output_type": "stream",
          "name": "stdout",
          "text": [
            "[[1 2 3]\n",
            " [4 5 6]\n",
            " [7 8 9]]\n",
            "[[1 2]\n",
            " [4 5]\n",
            " [7 8]]\n",
            "[[3]\n",
            " [6]\n",
            " [9]]\n"
          ]
        }
      ]
    },
    {
      "cell_type": "markdown",
      "metadata": {
        "id": "Pz3BDD8qsQER"
      },
      "source": [
        "* `dsplit()`: 깊이 분할, 3차원으로 분할"
      ]
    },
    {
      "cell_type": "code",
      "metadata": {
        "id": "DqHFGd43sQYj",
        "colab": {
          "base_uri": "https://localhost:8080/"
        },
        "outputId": "606c470e-04f2-4318-bd9f-77220984b37f"
      },
      "source": [
        "a3 = np.arange(1,28).reshape(3,3,3)\n",
        "print(a3)\n",
        "b3, c3 = np.dsplit(a3, [2])\n",
        "print(b3)\n",
        "print(c3)"
      ],
      "execution_count": null,
      "outputs": [
        {
          "output_type": "stream",
          "name": "stdout",
          "text": [
            "[[[ 1  2  3]\n",
            "  [ 4  5  6]\n",
            "  [ 7  8  9]]\n",
            "\n",
            " [[10 11 12]\n",
            "  [13 14 15]\n",
            "  [16 17 18]]\n",
            "\n",
            " [[19 20 21]\n",
            "  [22 23 24]\n",
            "  [25 26 27]]]\n",
            "[[[ 1  2]\n",
            "  [ 4  5]\n",
            "  [ 7  8]]\n",
            "\n",
            " [[10 11]\n",
            "  [13 14]\n",
            "  [16 17]]\n",
            "\n",
            " [[19 20]\n",
            "  [22 23]\n",
            "  [25 26]]]\n",
            "[[[ 3]\n",
            "  [ 6]\n",
            "  [ 9]]\n",
            "\n",
            " [[12]\n",
            "  [15]\n",
            "  [18]]\n",
            "\n",
            " [[21]\n",
            "  [24]\n",
            "  [27]]]\n"
          ]
        }
      ]
    },
    {
      "cell_type": "markdown",
      "metadata": {
        "id": "rK-zrDZuGoVd"
      },
      "source": [
        "\n",
        "\n",
        "---\n",
        "\n"
      ]
    },
    {
      "cell_type": "markdown",
      "metadata": {
        "id": "Vc-iSWewJ3C1"
      },
      "source": [
        "## 배열 연산\n",
        "\n",
        "* NumPy의 배열 연산은 벡터화(vectorized) 연산을 사용\n",
        "* 일반적으로 NumPy의 범용 함수(universal functions)를 통해 구현\n",
        "* 배열 요소에 대한 반복적인 계산을 효율적으로 수행"
      ]
    },
    {
      "cell_type": "markdown",
      "metadata": {
        "id": "Pg2er1A2w3cz"
      },
      "source": [
        "### 브로드캐스팅(Broadcasting)"
      ]
    },
    {
      "cell_type": "code",
      "metadata": {
        "id": "IGU-HRgr20nj",
        "colab": {
          "base_uri": "https://localhost:8080/"
        },
        "outputId": "e9121fd2-3a93-42e6-e8af-47aaec9a0c78"
      },
      "source": [
        "a1 = np.array([1, 2, 3])\n",
        "print(a1)\n",
        "print(a1 + 5)\n",
        "print()\n",
        "\n",
        "a2 = np.arange(1, 10).reshape(3,3)\n",
        "print(a2)\n",
        "print(a1 + a2)\n",
        "print()\n",
        "\n",
        "b2 = np.array([1,2,3]).reshape(3,1)\n",
        "print(b2)\n",
        "print(a1 + b2)"
      ],
      "execution_count": null,
      "outputs": [
        {
          "output_type": "stream",
          "name": "stdout",
          "text": [
            "[1 2 3]\n",
            "[6 7 8]\n",
            "\n",
            "[[1 2 3]\n",
            " [4 5 6]\n",
            " [7 8 9]]\n",
            "[[ 2  4  6]\n",
            " [ 5  7  9]\n",
            " [ 8 10 12]]\n",
            "\n",
            "[[1]\n",
            " [2]\n",
            " [3]]\n",
            "[[2 3 4]\n",
            " [3 4 5]\n",
            " [4 5 6]]\n"
          ]
        }
      ]
    },
    {
      "cell_type": "markdown",
      "metadata": {
        "id": "NZzLHHLmwl_b"
      },
      "source": [
        "### 산술 연산(Arithmetic Operators)"
      ]
    },
    {
      "cell_type": "code",
      "metadata": {
        "id": "jHrIjHGEi05k",
        "colab": {
          "base_uri": "https://localhost:8080/"
        },
        "outputId": "bafd444a-bcf8-4c3f-b4a7-c4596fe34bbf"
      },
      "source": [
        "a1 = np.arange(1, 10)\n",
        "print(a1)\n",
        "print(a1 + 1)\n",
        "print(np.add(a1, 10))\n",
        "print(a1 - 2)\n",
        "print(np.subtract(a1, 10))\n",
        "print(-a1)\n",
        "print(np.negative(a1))\n",
        "print(a1 * 2)\n",
        "print(np.multiply(a1, 2))\n",
        "print(a1 / 2)\n",
        "print(np.divide(a1, 2))\n",
        "print(a1 // 2)\n",
        "print(np.floor_divide(a1, 2))\n",
        "print(a1 ** 2)\n",
        "print(np.power(a1, 2))\n",
        "print(a1 % 2)\n",
        "print(np.mod(a1, 2))"
      ],
      "execution_count": null,
      "outputs": [
        {
          "output_type": "stream",
          "name": "stdout",
          "text": [
            "[1 2 3 4 5 6 7 8 9]\n",
            "[ 2  3  4  5  6  7  8  9 10]\n",
            "[11 12 13 14 15 16 17 18 19]\n",
            "[-1  0  1  2  3  4  5  6  7]\n",
            "[-9 -8 -7 -6 -5 -4 -3 -2 -1]\n",
            "[-1 -2 -3 -4 -5 -6 -7 -8 -9]\n",
            "[-1 -2 -3 -4 -5 -6 -7 -8 -9]\n",
            "[ 2  4  6  8 10 12 14 16 18]\n",
            "[ 2  4  6  8 10 12 14 16 18]\n",
            "[0.5 1.  1.5 2.  2.5 3.  3.5 4.  4.5]\n",
            "[0.5 1.  1.5 2.  2.5 3.  3.5 4.  4.5]\n",
            "[0 1 1 2 2 3 3 4 4]\n",
            "[0 1 1 2 2 3 3 4 4]\n",
            "[ 1  4  9 16 25 36 49 64 81]\n",
            "[ 1  4  9 16 25 36 49 64 81]\n",
            "[1 0 1 0 1 0 1 0 1]\n",
            "[1 0 1 0 1 0 1 0 1]\n"
          ]
        }
      ]
    },
    {
      "cell_type": "code",
      "metadata": {
        "id": "sMUYzXk3psgC",
        "colab": {
          "base_uri": "https://localhost:8080/"
        },
        "outputId": "da2bba3a-de8a-4c98-95a4-79e7a2d50849"
      },
      "source": [
        "a1 = np.arange(1, 10)\n",
        "print(a1)\n",
        "b1 = np.random.randint(1, 10, size=9)\n",
        "print(b1)\n",
        "print(a1 + b1)\n",
        "print(a1 - b1)\n",
        "print(a1 * b1)\n",
        "print(a1 / b1)\n",
        "print(a1 // b1)\n",
        "print(a1 ** b1)\n",
        "print(a1 % b1)"
      ],
      "execution_count": null,
      "outputs": [
        {
          "output_type": "stream",
          "name": "stdout",
          "text": [
            "[1 2 3 4 5 6 7 8 9]\n",
            "[8 8 2 4 9 9 8 8 9]\n",
            "[ 9 10  5  8 14 15 15 16 18]\n",
            "[-7 -6  1  0 -4 -3 -1  0  0]\n",
            "[ 8 16  6 16 45 54 56 64 81]\n",
            "[0.125      0.25       1.5        1.         0.55555556 0.66666667\n",
            " 0.875      1.         1.        ]\n",
            "[0 0 1 1 0 0 0 1 1]\n",
            "[        1       256         9       256   1953125  10077696   5764801\n",
            "  16777216 387420489]\n",
            "[1 2 1 0 5 6 7 0 0]\n"
          ]
        }
      ]
    },
    {
      "cell_type": "code",
      "metadata": {
        "id": "ZkyjPmk5onPK",
        "colab": {
          "base_uri": "https://localhost:8080/"
        },
        "outputId": "7657b360-9372-4f13-bb55-30f7d2e42f93"
      },
      "source": [
        "a2 = np.arange(1, 10).reshape(3,3)\n",
        "print(a2)\n",
        "b2 = np.random.randint(1, 10, size=(3,3))\n",
        "print(b2)\n",
        "print(a2 + b2)\n",
        "print(a2 - b2)\n",
        "print(a2 * b2)\n",
        "print(a2 / b2)\n",
        "print(a2 // b2)\n",
        "print(a2 ** b2)\n",
        "print(a2 % b2)"
      ],
      "execution_count": null,
      "outputs": [
        {
          "output_type": "stream",
          "name": "stdout",
          "text": [
            "[[1 2 3]\n",
            " [4 5 6]\n",
            " [7 8 9]]\n",
            "[[6 3 8]\n",
            " [8 7 6]\n",
            " [1 2 6]]\n",
            "[[ 7  5 11]\n",
            " [12 12 12]\n",
            " [ 8 10 15]]\n",
            "[[-5 -1 -5]\n",
            " [-4 -2  0]\n",
            " [ 6  6  3]]\n",
            "[[ 6  6 24]\n",
            " [32 35 36]\n",
            " [ 7 16 54]]\n",
            "[[0.16666667 0.66666667 0.375     ]\n",
            " [0.5        0.71428571 1.        ]\n",
            " [7.         4.         1.5       ]]\n",
            "[[0 0 0]\n",
            " [0 0 1]\n",
            " [7 4 1]]\n",
            "[[     1      8   6561]\n",
            " [ 65536  78125  46656]\n",
            " [     7     64 531441]]\n",
            "[[1 2 3]\n",
            " [4 5 0]\n",
            " [0 0 3]]\n"
          ]
        }
      ]
    },
    {
      "cell_type": "markdown",
      "metadata": {
        "id": "hxG_aECas3a9"
      },
      "source": [
        "#### 절대값 함수(Absolute Function)\n",
        "\n",
        "* `absolute()`, `abs()`: 내장된 절대값 함수"
      ]
    },
    {
      "cell_type": "code",
      "metadata": {
        "id": "YmX-0LvWs7qM",
        "colab": {
          "base_uri": "https://localhost:8080/"
        },
        "outputId": "401651b8-4382-4c9e-ecd2-834a46e24efd"
      },
      "source": [
        "a1 = np.random.randint(-10, 10, size=5)\n",
        "print(a1)\n",
        "print(np.absolute(a1))\n",
        "print(np.abs(a1))"
      ],
      "execution_count": null,
      "outputs": [
        {
          "output_type": "stream",
          "name": "stdout",
          "text": [
            "[ 4 -9 -8 -8  3]\n",
            "[4 9 8 8 3]\n",
            "[4 9 8 8 3]\n"
          ]
        }
      ]
    },
    {
      "cell_type": "markdown",
      "metadata": {
        "id": "U5uE3sVtzRvA"
      },
      "source": [
        "#### 제곱/제곱근 함수\n",
        "\n",
        "* `square`, `sqrt`: 제곱, 제곱근 함수"
      ]
    },
    {
      "cell_type": "code",
      "metadata": {
        "id": "ggnIxDGzzTfX",
        "colab": {
          "base_uri": "https://localhost:8080/"
        },
        "outputId": "52a93f24-cff2-490c-b162-7cec8af5ea5e"
      },
      "source": [
        "print(a1)\n",
        "print(np.square(a1))\n",
        "print(np.sqrt(a1))"
      ],
      "execution_count": null,
      "outputs": [
        {
          "output_type": "stream",
          "name": "stdout",
          "text": [
            "[ 4 -9 -8 -8  3]\n",
            "[16 81 64 64  9]\n",
            "[2.                nan        nan        nan 1.73205081]\n"
          ]
        },
        {
          "output_type": "stream",
          "name": "stderr",
          "text": [
            "/usr/local/lib/python3.7/dist-packages/ipykernel_launcher.py:3: RuntimeWarning: invalid value encountered in sqrt\n",
            "  This is separate from the ipykernel package so we can avoid doing imports until\n"
          ]
        }
      ]
    },
    {
      "cell_type": "markdown",
      "metadata": {
        "id": "tWh1aQ50vRhB"
      },
      "source": [
        "#### 지수와 로그 함수 (Exponential and Log Function)"
      ]
    },
    {
      "cell_type": "code",
      "metadata": {
        "id": "Dygt3AyHvTZz",
        "colab": {
          "base_uri": "https://localhost:8080/"
        },
        "outputId": "27488c6c-c6aa-4875-d1cc-2c98b82da202"
      },
      "source": [
        "a1 = np.random.randint(1, 10, size=5)\n",
        "print(a1)\n",
        "print(np.exp(a1))\n",
        "print(np.exp2(a1))\n",
        "print(np.power(a1, 2))"
      ],
      "execution_count": null,
      "outputs": [
        {
          "output_type": "stream",
          "name": "stdout",
          "text": [
            "[7 9 8 4 3]\n",
            "[1096.63315843 8103.08392758 2980.95798704   54.59815003   20.08553692]\n",
            "[128. 512. 256.  16.   8.]\n",
            "[49 81 64 16  9]\n"
          ]
        }
      ]
    },
    {
      "cell_type": "code",
      "metadata": {
        "id": "YB0BzwxDvnkT",
        "colab": {
          "base_uri": "https://localhost:8080/"
        },
        "outputId": "c214e3f7-135a-4f2d-cb0b-9cea3fb46a1d"
      },
      "source": [
        "print(a1)\n",
        "print(np.log(a1))\n",
        "print(np.log2(a1))\n",
        "print(np.log10(a1))"
      ],
      "execution_count": null,
      "outputs": [
        {
          "output_type": "stream",
          "name": "stdout",
          "text": [
            "[7 9 8 4 3]\n",
            "[1.94591015 2.19722458 2.07944154 1.38629436 1.09861229]\n",
            "[2.80735492 3.169925   3.         2.         1.5849625 ]\n",
            "[0.84509804 0.95424251 0.90308999 0.60205999 0.47712125]\n"
          ]
        }
      ]
    },
    {
      "cell_type": "markdown",
      "metadata": {
        "id": "wE_p9AxjtdJ9"
      },
      "source": [
        "#### 삼각 함수(Trigonometrical Function)\n"
      ]
    },
    {
      "cell_type": "code",
      "metadata": {
        "id": "6bOSPS81tuo5",
        "colab": {
          "base_uri": "https://localhost:8080/"
        },
        "outputId": "feb28a8b-7d0e-42ce-eb3d-8f141e238352"
      },
      "source": [
        "t = np.linspace(0, np.pi, 3)\n",
        "print(t)\n",
        "print(np.sin(t))\n",
        "print(np.cos(t))\n",
        "print(np.tan(t))"
      ],
      "execution_count": null,
      "outputs": [
        {
          "output_type": "stream",
          "name": "stdout",
          "text": [
            "[0.         1.57079633 3.14159265]\n",
            "[0.0000000e+00 1.0000000e+00 1.2246468e-16]\n",
            "[ 1.000000e+00  6.123234e-17 -1.000000e+00]\n",
            "[ 0.00000000e+00  1.63312394e+16 -1.22464680e-16]\n"
          ]
        }
      ]
    },
    {
      "cell_type": "code",
      "metadata": {
        "id": "v7m-AQW9uJ9u",
        "colab": {
          "base_uri": "https://localhost:8080/"
        },
        "outputId": "b684c984-e05d-4c0e-ead7-ba6112f110f2"
      },
      "source": [
        "x = [-1, 0, 1]\n",
        "print(x)\n",
        "print(np.arcsin(x))\n",
        "print(np.arccos(x))\n",
        "print(np.arctan(x))"
      ],
      "execution_count": null,
      "outputs": [
        {
          "output_type": "stream",
          "name": "stdout",
          "text": [
            "[-1, 0, 1]\n",
            "[-1.57079633  0.          1.57079633]\n",
            "[3.14159265 1.57079633 0.        ]\n",
            "[-0.78539816  0.          0.78539816]\n"
          ]
        }
      ]
    },
    {
      "cell_type": "markdown",
      "metadata": {
        "id": "hKJtYUVWwxQy"
      },
      "source": [
        "### 집계 함수(Aggregate Functions)"
      ]
    },
    {
      "cell_type": "markdown",
      "metadata": {
        "id": "GdxMrX5l9m6W"
      },
      "source": [
        "#### sum(): 합 계산"
      ]
    },
    {
      "cell_type": "code",
      "metadata": {
        "id": "AJQ3GjLI0cZU",
        "colab": {
          "base_uri": "https://localhost:8080/"
        },
        "outputId": "9a519587-1e76-4691-92e5-ab47ee2fe89f"
      },
      "source": [
        "a2 = np.random.randint(1, 10, size=(3, 3))\n",
        "print(a2)\n",
        "print(a2.sum(), np.sum(a2))\n",
        "print(a2.sum(axis=0), np.sum(a2, axis=0))\n",
        "print(a2.sum(axis=1), np.sum(a2, axis=1))"
      ],
      "execution_count": null,
      "outputs": [
        {
          "output_type": "stream",
          "name": "stdout",
          "text": [
            "[[6 3 2]\n",
            " [7 3 7]\n",
            " [6 3 9]]\n",
            "46 46\n",
            "[19  9 18] [19  9 18]\n",
            "[11 17 18] [11 17 18]\n"
          ]
        }
      ]
    },
    {
      "cell_type": "markdown",
      "metadata": {
        "id": "U4W4iIb9J4Zd"
      },
      "source": [
        "#### cumsum(): 누적합 계산"
      ]
    },
    {
      "cell_type": "code",
      "metadata": {
        "id": "SRZWZD3UJ4wo",
        "colab": {
          "base_uri": "https://localhost:8080/"
        },
        "outputId": "f6a791ce-a57b-4345-dd1a-2a1b43c0250f"
      },
      "source": [
        "print(a2)\n",
        "print(np.cumsum(a2))\n",
        "print(np.cumsum(a2, axis=0))\n",
        "print(np.cumsum(a2, axis=1))"
      ],
      "execution_count": null,
      "outputs": [
        {
          "output_type": "stream",
          "name": "stdout",
          "text": [
            "[[6 3 2]\n",
            " [7 3 7]\n",
            " [6 3 9]]\n",
            "[ 6  9 11 18 21 28 34 37 46]\n",
            "[[ 6  3  2]\n",
            " [13  6  9]\n",
            " [19  9 18]]\n",
            "[[ 6  9 11]\n",
            " [ 7 10 17]\n",
            " [ 6  9 18]]\n"
          ]
        }
      ]
    },
    {
      "cell_type": "markdown",
      "metadata": {
        "id": "pVaJRWQ-LV0f"
      },
      "source": [
        "#### diff(): 차분 계산"
      ]
    },
    {
      "cell_type": "code",
      "metadata": {
        "id": "yKjnWtGVLWJj",
        "colab": {
          "base_uri": "https://localhost:8080/"
        },
        "outputId": "8e4fae79-44c1-4ec6-994f-4649679eae4e"
      },
      "source": [
        "print(a2)\n",
        "print(np.diff(a2))\n",
        "print(np.diff(a2, axis=0))\n",
        "print(np.diff(a2, axis=1))"
      ],
      "execution_count": null,
      "outputs": [
        {
          "output_type": "stream",
          "name": "stdout",
          "text": [
            "[[6 3 2]\n",
            " [7 3 7]\n",
            " [6 3 9]]\n",
            "[[-3 -1]\n",
            " [-4  4]\n",
            " [-3  6]]\n",
            "[[ 1  0  5]\n",
            " [-1  0  2]]\n",
            "[[-3 -1]\n",
            " [-4  4]\n",
            " [-3  6]]\n"
          ]
        }
      ]
    },
    {
      "cell_type": "markdown",
      "metadata": {
        "id": "b6I38HfA9vGL"
      },
      "source": [
        "#### prod(): 곱 계산"
      ]
    },
    {
      "cell_type": "code",
      "metadata": {
        "id": "rGPMXGe89y0O",
        "colab": {
          "base_uri": "https://localhost:8080/"
        },
        "outputId": "6156fb74-e7d0-4613-8af4-9f87946380bf"
      },
      "source": [
        "print(a2)\n",
        "print(np.prod(a2))\n",
        "print(np.prod(a2, axis=0))\n",
        "print(np.prod(a2, axis=1))"
      ],
      "execution_count": null,
      "outputs": [
        {
          "output_type": "stream",
          "name": "stdout",
          "text": [
            "[[6 3 2]\n",
            " [7 3 7]\n",
            " [6 3 9]]\n",
            "857304\n",
            "[252  27 126]\n",
            "[ 36 147 162]\n"
          ]
        }
      ]
    },
    {
      "cell_type": "markdown",
      "metadata": {
        "id": "RwaoVUGcKkkE"
      },
      "source": [
        "#### cumprod(): 누적곱 계산"
      ]
    },
    {
      "cell_type": "code",
      "metadata": {
        "id": "jwYoX9inKk4D",
        "colab": {
          "base_uri": "https://localhost:8080/"
        },
        "outputId": "bc78d94a-c07e-48b6-c9cb-e4b5573056b5"
      },
      "source": [
        "print(a2)\n",
        "print(np.cumprod(a2))\n",
        "print(np.cumprod(a2, axis=0))\n",
        "print(np.cumprod(a2, axis=1))"
      ],
      "execution_count": null,
      "outputs": [
        {
          "output_type": "stream",
          "name": "stdout",
          "text": [
            "[[6 3 2]\n",
            " [7 3 7]\n",
            " [6 3 9]]\n",
            "[     6     18     36    252    756   5292  31752  95256 857304]\n",
            "[[  6   3   2]\n",
            " [ 42   9  14]\n",
            " [252  27 126]]\n",
            "[[  6  18  36]\n",
            " [  7  21 147]\n",
            " [  6  18 162]]\n"
          ]
        }
      ]
    },
    {
      "cell_type": "markdown",
      "metadata": {
        "id": "_LMAbL9hMV7T"
      },
      "source": [
        "#### dot()/matmul(): 점곱/행렬곱 계산"
      ]
    },
    {
      "cell_type": "code",
      "metadata": {
        "id": "xC6FBzF0MWW1",
        "colab": {
          "base_uri": "https://localhost:8080/"
        },
        "outputId": "e1754eeb-e0b6-4d0f-8df5-c9728dc9807a"
      },
      "source": [
        "print(a2)\n",
        "b2 = np.ones_like(a2)\n",
        "print(b2)\n",
        "print(np.dot(a2, b2))\n",
        "print(np.matmul(a2, b2))"
      ],
      "execution_count": null,
      "outputs": [
        {
          "output_type": "stream",
          "name": "stdout",
          "text": [
            "[[6 3 2]\n",
            " [7 3 7]\n",
            " [6 3 9]]\n",
            "[[1 1 1]\n",
            " [1 1 1]\n",
            " [1 1 1]]\n",
            "[[11 11 11]\n",
            " [17 17 17]\n",
            " [18 18 18]]\n",
            "[[11 11 11]\n",
            " [17 17 17]\n",
            " [18 18 18]]\n"
          ]
        }
      ]
    },
    {
      "cell_type": "markdown",
      "metadata": {
        "id": "juVk3vnjPu31"
      },
      "source": [
        "#### tensordot(): 텐서곱 계산"
      ]
    },
    {
      "cell_type": "code",
      "metadata": {
        "id": "3LrcLOcjPvNI",
        "colab": {
          "base_uri": "https://localhost:8080/"
        },
        "outputId": "78e2327c-52a8-4999-c9bf-d9412addb6f0"
      },
      "source": [
        "print(a2)\n",
        "print(b2)\n",
        "print(\"=\"*30)\n",
        "print(np.tensordot(a2, b2))\n",
        "print(\"=\"*30)\n",
        "print(np.tensordot(a2, b2, axes=0))\n",
        "print(\"=\"*30)\n",
        "print(np.tensordot(a2, b2, axes=1))"
      ],
      "execution_count": null,
      "outputs": [
        {
          "output_type": "stream",
          "name": "stdout",
          "text": [
            "[[6 3 2]\n",
            " [7 3 7]\n",
            " [6 3 9]]\n",
            "[[1 1 1]\n",
            " [1 1 1]\n",
            " [1 1 1]]\n",
            "==============================\n",
            "46\n",
            "==============================\n",
            "[[[[6 6 6]\n",
            "   [6 6 6]\n",
            "   [6 6 6]]\n",
            "\n",
            "  [[3 3 3]\n",
            "   [3 3 3]\n",
            "   [3 3 3]]\n",
            "\n",
            "  [[2 2 2]\n",
            "   [2 2 2]\n",
            "   [2 2 2]]]\n",
            "\n",
            "\n",
            " [[[7 7 7]\n",
            "   [7 7 7]\n",
            "   [7 7 7]]\n",
            "\n",
            "  [[3 3 3]\n",
            "   [3 3 3]\n",
            "   [3 3 3]]\n",
            "\n",
            "  [[7 7 7]\n",
            "   [7 7 7]\n",
            "   [7 7 7]]]\n",
            "\n",
            "\n",
            " [[[6 6 6]\n",
            "   [6 6 6]\n",
            "   [6 6 6]]\n",
            "\n",
            "  [[3 3 3]\n",
            "   [3 3 3]\n",
            "   [3 3 3]]\n",
            "\n",
            "  [[9 9 9]\n",
            "   [9 9 9]\n",
            "   [9 9 9]]]]\n",
            "==============================\n",
            "[[11 11 11]\n",
            " [17 17 17]\n",
            " [18 18 18]]\n"
          ]
        }
      ]
    },
    {
      "cell_type": "markdown",
      "metadata": {
        "id": "UzmZhB5TNRMX"
      },
      "source": [
        "#### cross(): 벡터곱"
      ]
    },
    {
      "cell_type": "code",
      "metadata": {
        "id": "xvT2hy1FNRkU",
        "colab": {
          "base_uri": "https://localhost:8080/"
        },
        "outputId": "0dc98e39-3a3a-4b2d-c6c9-45855cbe05b9"
      },
      "source": [
        "x = [1, 2, 3]\n",
        "y = [4, 5, 6]\n",
        "print(np.cross(x, y))"
      ],
      "execution_count": null,
      "outputs": [
        {
          "output_type": "stream",
          "name": "stdout",
          "text": [
            "[-3  6 -3]\n"
          ]
        }
      ]
    },
    {
      "cell_type": "markdown",
      "metadata": {
        "id": "SJVYmtrSO5YL"
      },
      "source": [
        "#### inner()/outer(): 내적/외적"
      ]
    },
    {
      "cell_type": "code",
      "metadata": {
        "id": "HJpomax7O5s6",
        "colab": {
          "base_uri": "https://localhost:8080/"
        },
        "outputId": "aa54ffd2-004c-4ade-e8a1-bde6db3aa24e"
      },
      "source": [
        "print(a2)\n",
        "print(b2)\n",
        "print(np.inner(a2, b2))\n",
        "print(np.outer(a2, b2))"
      ],
      "execution_count": null,
      "outputs": [
        {
          "output_type": "stream",
          "name": "stdout",
          "text": [
            "[[6 3 2]\n",
            " [7 3 7]\n",
            " [6 3 9]]\n",
            "[[1 1 1]\n",
            " [1 1 1]\n",
            " [1 1 1]]\n",
            "[[11 11 11]\n",
            " [17 17 17]\n",
            " [18 18 18]]\n",
            "[[6 6 6 6 6 6 6 6 6]\n",
            " [3 3 3 3 3 3 3 3 3]\n",
            " [2 2 2 2 2 2 2 2 2]\n",
            " [7 7 7 7 7 7 7 7 7]\n",
            " [3 3 3 3 3 3 3 3 3]\n",
            " [7 7 7 7 7 7 7 7 7]\n",
            " [6 6 6 6 6 6 6 6 6]\n",
            " [3 3 3 3 3 3 3 3 3]\n",
            " [9 9 9 9 9 9 9 9 9]]\n"
          ]
        }
      ]
    },
    {
      "cell_type": "markdown",
      "metadata": {
        "id": "9CIotQgI_RQ-"
      },
      "source": [
        "#### mean(): 평균 계산"
      ]
    },
    {
      "cell_type": "code",
      "metadata": {
        "id": "g96wAEOT_bUk",
        "colab": {
          "base_uri": "https://localhost:8080/"
        },
        "outputId": "f6605b62-dc7a-4727-90c3-a8e4d999b58c"
      },
      "source": [
        "print(a2)\n",
        "print(np.mean(a2))\n",
        "print(np.mean(a2, axis=0))\n",
        "print(np.mean(a2, axis=1))"
      ],
      "execution_count": null,
      "outputs": [
        {
          "output_type": "stream",
          "name": "stdout",
          "text": [
            "[[6 3 2]\n",
            " [7 3 7]\n",
            " [6 3 9]]\n",
            "5.111111111111111\n",
            "[6.33333333 3.         6.        ]\n",
            "[3.66666667 5.66666667 6.        ]\n"
          ]
        }
      ]
    },
    {
      "cell_type": "markdown",
      "metadata": {
        "id": "wAG_zijP_Z5o"
      },
      "source": [
        "#### std(): 표준 편차 계산"
      ]
    },
    {
      "cell_type": "code",
      "metadata": {
        "id": "hlpnuyug_TXA",
        "colab": {
          "base_uri": "https://localhost:8080/"
        },
        "outputId": "506f9f4c-5219-40f2-bca5-7a5a966ebd0c"
      },
      "source": [
        "print(a2)\n",
        "print(np.std(a2))\n",
        "print(np.std(a2, axis=0))\n",
        "print(np.std(a2, axis=1))"
      ],
      "execution_count": null,
      "outputs": [
        {
          "output_type": "stream",
          "name": "stdout",
          "text": [
            "[[6 3 2]\n",
            " [7 3 7]\n",
            " [6 3 9]]\n",
            "2.282515398241571\n",
            "[0.47140452 0.         2.94392029]\n",
            "[1.69967317 1.88561808 2.44948974]\n"
          ]
        }
      ]
    },
    {
      "cell_type": "markdown",
      "metadata": {
        "id": "5FFTCCDaAEhx"
      },
      "source": [
        "#### var(): 분산 계산"
      ]
    },
    {
      "cell_type": "code",
      "metadata": {
        "id": "CRMNkSdzAGZG",
        "colab": {
          "base_uri": "https://localhost:8080/"
        },
        "outputId": "9415a781-a749-45e0-b729-b8c1f09acb64"
      },
      "source": [
        "print(a2)\n",
        "print(np.var(a2))\n",
        "print(np.var(a2, axis=0))\n",
        "print(np.var(a2, axis=1))"
      ],
      "execution_count": null,
      "outputs": [
        {
          "output_type": "stream",
          "name": "stdout",
          "text": [
            "[[6 3 2]\n",
            " [7 3 7]\n",
            " [6 3 9]]\n",
            "5.209876543209877\n",
            "[0.22222222 0.         8.66666667]\n",
            "[2.88888889 3.55555556 6.        ]\n"
          ]
        }
      ]
    },
    {
      "cell_type": "markdown",
      "metadata": {
        "id": "QFeh-4tmCCrU"
      },
      "source": [
        "#### min(): 최소값"
      ]
    },
    {
      "cell_type": "code",
      "metadata": {
        "id": "SMNCfYBQCEtf",
        "colab": {
          "base_uri": "https://localhost:8080/"
        },
        "outputId": "3aa00dac-95e0-48c5-ebd3-7bd9a3125bc0"
      },
      "source": [
        "print(a2)\n",
        "print(np.min(a2))\n",
        "print(np.min(a2, axis=0))\n",
        "print(np.min(a2, axis=1))"
      ],
      "execution_count": null,
      "outputs": [
        {
          "output_type": "stream",
          "name": "stdout",
          "text": [
            "[[6 3 2]\n",
            " [7 3 7]\n",
            " [6 3 9]]\n",
            "2\n",
            "[6 3 2]\n",
            "[2 3 3]\n"
          ]
        }
      ]
    },
    {
      "cell_type": "markdown",
      "metadata": {
        "id": "A3n_JBnBJ2bo"
      },
      "source": [
        "#### max(): 최대값"
      ]
    },
    {
      "cell_type": "code",
      "metadata": {
        "id": "FmuOFKGAJ6Pf",
        "colab": {
          "base_uri": "https://localhost:8080/"
        },
        "outputId": "117c646e-3b7b-40ec-d450-f752d867f710"
      },
      "source": [
        "print(a2)\n",
        "print(np.max(a2))\n",
        "print(np.max(a2, axis=0))\n",
        "print(np.max(a2, axis=1))"
      ],
      "execution_count": null,
      "outputs": [
        {
          "output_type": "stream",
          "name": "stdout",
          "text": [
            "[[6 3 2]\n",
            " [7 3 7]\n",
            " [6 3 9]]\n",
            "9\n",
            "[7 3 9]\n",
            "[6 7 9]\n"
          ]
        }
      ]
    },
    {
      "cell_type": "markdown",
      "metadata": {
        "id": "PvGOKDP0J_5b"
      },
      "source": [
        "#### argmin(): 최소값 인덱스"
      ]
    },
    {
      "cell_type": "code",
      "metadata": {
        "id": "1ILP7L3yKCqA",
        "colab": {
          "base_uri": "https://localhost:8080/"
        },
        "outputId": "0b737e8b-5402-4dd2-c9a6-5c1e67604d80"
      },
      "source": [
        "print(a2)\n",
        "print(np.argmin(a2))\n",
        "print(np.argmin(a2, axis=0))\n",
        "print(np.argmin(a2, axis=1))"
      ],
      "execution_count": null,
      "outputs": [
        {
          "output_type": "stream",
          "name": "stdout",
          "text": [
            "[[6 3 2]\n",
            " [7 3 7]\n",
            " [6 3 9]]\n",
            "2\n",
            "[0 0 0]\n",
            "[2 1 1]\n"
          ]
        }
      ]
    },
    {
      "cell_type": "markdown",
      "metadata": {
        "id": "23IcSctIKbUa"
      },
      "source": [
        "#### argmax(): 최대값 인덱스"
      ]
    },
    {
      "cell_type": "code",
      "metadata": {
        "id": "2m21cfCFKd-Q",
        "colab": {
          "base_uri": "https://localhost:8080/"
        },
        "outputId": "83649b69-e436-484e-f7e9-1cca0524d142"
      },
      "source": [
        "print(a2)\n",
        "print(np.argmax(a2))\n",
        "print(np.argmax(a2, axis=0))\n",
        "print(np.argmax(a2, axis=1))"
      ],
      "execution_count": null,
      "outputs": [
        {
          "output_type": "stream",
          "name": "stdout",
          "text": [
            "[[6 3 2]\n",
            " [7 3 7]\n",
            " [6 3 9]]\n",
            "8\n",
            "[1 0 2]\n",
            "[0 0 2]\n"
          ]
        }
      ]
    },
    {
      "cell_type": "markdown",
      "metadata": {
        "id": "3TjeNFQLKuZb"
      },
      "source": [
        "#### median(): 중앙값"
      ]
    },
    {
      "cell_type": "code",
      "metadata": {
        "id": "kSLN17bpKwv6",
        "colab": {
          "base_uri": "https://localhost:8080/"
        },
        "outputId": "a7e93a71-0fdc-4787-c865-109c413ef779"
      },
      "source": [
        "print(a2)\n",
        "print(np.median(a2))\n",
        "print(np.median(a2, axis=0))\n",
        "print(np.median(a2, axis=1))"
      ],
      "execution_count": null,
      "outputs": [
        {
          "output_type": "stream",
          "name": "stdout",
          "text": [
            "[[6 3 2]\n",
            " [7 3 7]\n",
            " [6 3 9]]\n",
            "6.0\n",
            "[6. 3. 7.]\n",
            "[3. 7. 6.]\n"
          ]
        }
      ]
    },
    {
      "cell_type": "markdown",
      "metadata": {
        "id": "df-Id-nhLs3L"
      },
      "source": [
        "#### percentile(): 백분위 수\n",
        "\n"
      ]
    },
    {
      "cell_type": "code",
      "metadata": {
        "id": "N-TCx9hnLvhK",
        "colab": {
          "base_uri": "https://localhost:8080/"
        },
        "outputId": "8c6892ee-06b8-4a51-f17e-f2fc91ff83f9"
      },
      "source": [
        "a1 = np.array([0, 1, 2, 3])\n",
        "print(a1)\n",
        "print(np.percentile(a1, [0, 20, 40, 60, 80, 100], interpolation='linear'))\n",
        "print(np.percentile(a1, [0, 20, 40, 60, 80, 100], interpolation='higher'))\n",
        "print(np.percentile(a1, [0, 20, 40, 60, 80, 100], interpolation='lower'))\n",
        "print(np.percentile(a1, [0, 20, 40, 60, 80, 100], interpolation='nearest'))\n",
        "print(np.percentile(a1, [0, 20, 40, 60, 80, 100], interpolation='midpoint'))"
      ],
      "execution_count": null,
      "outputs": [
        {
          "output_type": "stream",
          "name": "stdout",
          "text": [
            "[0 1 2 3]\n",
            "[0.  0.6 1.2 1.8 2.4 3. ]\n",
            "[0 1 2 2 3 3]\n",
            "[0 0 1 1 2 3]\n",
            "[0 1 1 2 2 3]\n",
            "[0.  0.5 1.5 1.5 2.5 3. ]\n"
          ]
        }
      ]
    },
    {
      "cell_type": "markdown",
      "metadata": {
        "id": "x0NnNsvvNDIs"
      },
      "source": [
        "#### any()"
      ]
    },
    {
      "cell_type": "code",
      "metadata": {
        "id": "I1XDqsFxOMvA",
        "colab": {
          "base_uri": "https://localhost:8080/"
        },
        "outputId": "90715af3-c83f-4300-f6c4-cbefc7133dee"
      },
      "source": [
        "a2 = np.array([[False, False, False],\n",
        "               [False, True, True],\n",
        "               [False, True, True]])\n",
        "print(a2)\n",
        "print(np.any(a2))\n",
        "print(np.any(a2, axis=0))\n",
        "print(np.any(a2, axis=1))"
      ],
      "execution_count": null,
      "outputs": [
        {
          "output_type": "stream",
          "name": "stdout",
          "text": [
            "[[False False False]\n",
            " [False  True  True]\n",
            " [False  True  True]]\n",
            "True\n",
            "[False  True  True]\n",
            "[False  True  True]\n"
          ]
        }
      ]
    },
    {
      "cell_type": "markdown",
      "metadata": {
        "id": "Uw-wjYgyONBZ"
      },
      "source": [
        "#### all()"
      ]
    },
    {
      "cell_type": "code",
      "metadata": {
        "id": "sXi2AHOHONYq",
        "colab": {
          "base_uri": "https://localhost:8080/"
        },
        "outputId": "754923f6-526c-4783-d2e7-e2ecf381f22a"
      },
      "source": [
        "a2 = np.array([[False, False, True],\n",
        "               [True, True, True],\n",
        "               [False, True, True]])\n",
        "print(a2)\n",
        "print(np.all(a2))\n",
        "print(np.all(a2, axis=0))\n",
        "print(np.all(a2, axis=1))"
      ],
      "execution_count": null,
      "outputs": [
        {
          "output_type": "stream",
          "name": "stdout",
          "text": [
            "[[False False  True]\n",
            " [ True  True  True]\n",
            " [False  True  True]]\n",
            "False\n",
            "[False False  True]\n",
            "[False  True False]\n"
          ]
        }
      ]
    },
    {
      "cell_type": "markdown",
      "metadata": {
        "id": "0n7lgzmUwqr1"
      },
      "source": [
        "### 비교 연산(Comparison Operators)\n"
      ]
    },
    {
      "cell_type": "code",
      "metadata": {
        "id": "E00V-nBTVnCu",
        "colab": {
          "base_uri": "https://localhost:8080/"
        },
        "outputId": "08517f74-a140-4815-f677-094613dbc254"
      },
      "source": [
        "a1 = np.arange(1, 10)\n",
        "print(a1)\n",
        "print(a1 == 5)\n",
        "print(a1 != 5)\n",
        "print(a1 < 5)\n",
        "print(a1 <= 5)\n",
        "print(a1 > 5)\n",
        "print(a1 >= 5)"
      ],
      "execution_count": null,
      "outputs": [
        {
          "output_type": "stream",
          "name": "stdout",
          "text": [
            "[1 2 3 4 5 6 7 8 9]\n",
            "[False False False False  True False False False False]\n",
            "[ True  True  True  True False  True  True  True  True]\n",
            "[ True  True  True  True False False False False False]\n",
            "[ True  True  True  True  True False False False False]\n",
            "[False False False False False  True  True  True  True]\n",
            "[False False False False  True  True  True  True  True]\n"
          ]
        }
      ]
    },
    {
      "cell_type": "code",
      "metadata": {
        "id": "3MwV1CU1WsWS",
        "colab": {
          "base_uri": "https://localhost:8080/"
        },
        "outputId": "c075d976-f043-4418-9db3-842b373333c0"
      },
      "source": [
        "a2 = np.arange(1, 10).reshape(3, 3)\n",
        "print(a2)\n",
        "print(np.sum(a2))\n",
        "print(np.count_nonzero(a2 > 5))\n",
        "print(np.sum(a2 > 5))\n",
        "print(np.sum(a2 > 5, axis=0))\n",
        "print(np.sum(a2 > 5, axis=1))\n",
        "print(np.any(a2 > 5))\n",
        "print(np.any(a2 > 5, axis=0))\n",
        "print(np.any(a2 > 5, axis=1))\n",
        "print(np.all(a2 > 5))\n",
        "print(np.all(a2 > 5, axis=0))\n",
        "print(np.all(a2 > 5, axis=1))"
      ],
      "execution_count": null,
      "outputs": [
        {
          "output_type": "stream",
          "name": "stdout",
          "text": [
            "[[1 2 3]\n",
            " [4 5 6]\n",
            " [7 8 9]]\n",
            "45\n",
            "4\n",
            "4\n",
            "[1 1 2]\n",
            "[0 1 3]\n",
            "True\n",
            "[ True  True  True]\n",
            "[False  True  True]\n",
            "False\n",
            "[False False False]\n",
            "[False False  True]\n"
          ]
        }
      ]
    },
    {
      "cell_type": "code",
      "metadata": {
        "id": "D4cuMoyEPn8R",
        "colab": {
          "base_uri": "https://localhost:8080/"
        },
        "outputId": "ae9041cf-b4a2-47b1-ae21-740bb832b3b5"
      },
      "source": [
        "a1 = np.array([1,2,3,4,5])\n",
        "print(a1)\n",
        "b1 = np.array([1,2,3,4,4])\n",
        "print(b1)\n",
        "print(np.isclose(a1, b1))"
      ],
      "execution_count": null,
      "outputs": [
        {
          "output_type": "stream",
          "name": "stdout",
          "text": [
            "[1 2 3 4 5]\n",
            "[1 2 3 4 4]\n",
            "[ True  True  True  True False]\n"
          ]
        }
      ]
    },
    {
      "cell_type": "code",
      "metadata": {
        "id": "af9VSc6FyMBh",
        "colab": {
          "base_uri": "https://localhost:8080/"
        },
        "outputId": "639c510f-0dd1-4662-f8e9-4c29777827c9"
      },
      "source": [
        "a1 = np.array([np.nan, 2, np.inf, 4, np.NINF])\n",
        "print(a1)\n",
        "print(np.isnan(a1))\n",
        "print(np.isinf(a1))\n",
        "print(np.isfinite(a1))"
      ],
      "execution_count": null,
      "outputs": [
        {
          "output_type": "stream",
          "name": "stdout",
          "text": [
            "[ nan   2.  inf   4. -inf]\n",
            "[ True False False False False]\n",
            "[False False  True False  True]\n",
            "[False  True False  True False]\n"
          ]
        }
      ]
    },
    {
      "cell_type": "markdown",
      "metadata": {
        "id": "4BHMetMlYmt-"
      },
      "source": [
        "#### 불리언 연산자(Boolean Operators)\n"
      ]
    },
    {
      "cell_type": "code",
      "metadata": {
        "id": "ZV1-8DkUHOZq",
        "colab": {
          "base_uri": "https://localhost:8080/"
        },
        "outputId": "ec5d5fb7-4f1c-4396-e7fa-8ea61a992742"
      },
      "source": [
        "a2 = np.arange(1, 10).reshape(3, 3)\n",
        "print(a2)\n",
        "\n",
        "# and\n",
        "print((a2 >5) & (a2 < 8))\n",
        "print(a2[(a2 > 5) & (a2 < 8)])\n",
        "# or \n",
        "print((a2 >5) | (a2 < 8))\n",
        "print(a2[(a2 > 5) | (a2 < 8)])\n",
        "# xor\n",
        "print((a2 >5) ^ (a2 < 8))\n",
        "print(a2[(a2 > 5) ^ (a2 < 8)])\n",
        "# not\n",
        "print(~(a2 >5))\n",
        "print(a2[~(a2 > 5)])"
      ],
      "execution_count": null,
      "outputs": [
        {
          "output_type": "stream",
          "name": "stdout",
          "text": [
            "[[1 2 3]\n",
            " [4 5 6]\n",
            " [7 8 9]]\n",
            "[[False False False]\n",
            " [False False  True]\n",
            " [ True False False]]\n",
            "[6 7]\n",
            "[[ True  True  True]\n",
            " [ True  True  True]\n",
            " [ True  True  True]]\n",
            "[1 2 3 4 5 6 7 8 9]\n",
            "[[ True  True  True]\n",
            " [ True  True False]\n",
            " [False  True  True]]\n",
            "[1 2 3 4 5 8 9]\n",
            "[[ True  True  True]\n",
            " [ True  True False]\n",
            " [False False False]]\n",
            "[1 2 3 4 5]\n"
          ]
        }
      ]
    },
    {
      "cell_type": "markdown",
      "metadata": {
        "id": "FlQJVeGBxIFw"
      },
      "source": [
        "### 배열 정렬"
      ]
    },
    {
      "cell_type": "code",
      "metadata": {
        "id": "x0sodUMqLU37",
        "colab": {
          "base_uri": "https://localhost:8080/"
        },
        "outputId": "7778e295-ebca-414b-f811-940d1229af3f"
      },
      "source": [
        "a1 = np.random.randint(1, 10, size=10)\n",
        "print(a1)\n",
        "print(np.sort(a1))\n",
        "print(a1)\n",
        "print(np.argsort(a1))\n",
        "print(a1)\n",
        "print(a1.sort())\n",
        "print(a1)"
      ],
      "execution_count": null,
      "outputs": [
        {
          "output_type": "stream",
          "name": "stdout",
          "text": [
            "[2 8 9 6 2 3 5 9 9 6]\n",
            "[2 2 3 5 6 6 8 9 9 9]\n",
            "[2 8 9 6 2 3 5 9 9 6]\n",
            "[0 4 5 6 3 9 1 2 7 8]\n",
            "[2 8 9 6 2 3 5 9 9 6]\n",
            "None\n",
            "[2 2 3 5 6 6 8 9 9 9]\n"
          ]
        }
      ]
    },
    {
      "cell_type": "code",
      "metadata": {
        "id": "FO_sO5POzeMp",
        "colab": {
          "base_uri": "https://localhost:8080/"
        },
        "outputId": "55a8c250-023b-450d-c6cb-a7c6e8aae13b"
      },
      "source": [
        "a2 = np.random.randint(1, 10, size=(3, 3))\n",
        "print(a2)\n",
        "print(np.sort(a2, axis=0))\n",
        "print(np.sort(a2, axis=1))"
      ],
      "execution_count": null,
      "outputs": [
        {
          "output_type": "stream",
          "name": "stdout",
          "text": [
            "[[5 6 8]\n",
            " [9 9 3]\n",
            " [8 6 7]]\n",
            "[[5 6 3]\n",
            " [8 6 7]\n",
            " [9 9 8]]\n",
            "[[5 6 8]\n",
            " [3 9 9]\n",
            " [6 7 8]]\n"
          ]
        }
      ]
    },
    {
      "cell_type": "markdown",
      "metadata": {
        "id": "yYSItPz_00sZ"
      },
      "source": [
        "#### 부분 정렬\n",
        "\n",
        "* `partition()`: 배열에서 k개의 작은 값을 반환"
      ]
    },
    {
      "cell_type": "code",
      "metadata": {
        "id": "QQwov4N00YFP",
        "colab": {
          "base_uri": "https://localhost:8080/"
        },
        "outputId": "21e00213-f335-430d-fd68-7bce6380281b"
      },
      "source": [
        "a1 = np.random.randint(1, 10, size= 10)\n",
        "print(a1)\n",
        "print(np.partition(a1, 3))"
      ],
      "execution_count": null,
      "outputs": [
        {
          "output_type": "stream",
          "name": "stdout",
          "text": [
            "[1 9 9 5 9 3 5 3 9 8]\n",
            "[1 3 3 5 5 8 9 9 9 9]\n"
          ]
        }
      ]
    },
    {
      "cell_type": "code",
      "source": [
        "a2 = np.random.randint(1, 10, size=(5, 5))\n",
        "print(a2)\n",
        "print(\"=\"*30)\n",
        "print(np.partition(a2, 3))\n",
        "print(\"=\"*30)\n",
        "print(np.partition(a2, 3, axis=0))\n",
        "print(\"=\"*30)\n",
        "print(np.partition(a2, 3, axis=1))"
      ],
      "metadata": {
        "colab": {
          "base_uri": "https://localhost:8080/"
        },
        "id": "LjIi4_0BE1OG",
        "outputId": "1f3a688e-5929-4c9a-dc22-beb4a6949416"
      },
      "execution_count": null,
      "outputs": [
        {
          "output_type": "stream",
          "name": "stdout",
          "text": [
            "[[6 7 6 3 8]\n",
            " [9 2 5 5 8]\n",
            " [8 8 8 4 5]\n",
            " [5 8 5 3 9]\n",
            " [1 2 4 2 6]]\n",
            "==============================\n",
            "[[3 6 6 7 8]\n",
            " [5 5 2 8 9]\n",
            " [4 5 8 8 8]\n",
            " [3 5 5 8 9]\n",
            " [2 1 2 4 6]]\n",
            "==============================\n",
            "[[5 2 5 3 5]\n",
            " [1 2 4 2 6]\n",
            " [6 7 5 3 8]\n",
            " [8 8 6 4 8]\n",
            " [9 8 8 5 9]]\n",
            "==============================\n",
            "[[3 6 6 7 8]\n",
            " [5 5 2 8 9]\n",
            " [4 5 8 8 8]\n",
            " [3 5 5 8 9]\n",
            " [2 1 2 4 6]]\n"
          ]
        }
      ]
    },
    {
      "cell_type": "markdown",
      "metadata": {
        "id": "77DSA72ML5cI"
      },
      "source": [
        "## 배열 입출력\n"
      ]
    },
    {
      "cell_type": "code",
      "metadata": {
        "id": "da-Mm_gzIs7U",
        "colab": {
          "base_uri": "https://localhost:8080/"
        },
        "outputId": "260cfc88-7268-4db4-eeaf-77a45912efce"
      },
      "source": [
        "a2 = np.random.randint(1, 10, size=(5,5))\n",
        "print(a2)\n",
        "np.save(\"a\", a2)"
      ],
      "execution_count": null,
      "outputs": [
        {
          "output_type": "stream",
          "name": "stdout",
          "text": [
            "[[9 5 5 6 5]\n",
            " [8 3 2 5 6]\n",
            " [4 8 1 1 2]\n",
            " [9 3 7 2 8]\n",
            " [3 5 4 3 2]]\n"
          ]
        }
      ]
    },
    {
      "cell_type": "code",
      "metadata": {
        "id": "pFOWyDvAsf11",
        "colab": {
          "base_uri": "https://localhost:8080/"
        },
        "outputId": "66fe8261-5667-4062-a358-6c9e6e64bed4"
      },
      "source": [
        "!ls"
      ],
      "execution_count": null,
      "outputs": [
        {
          "output_type": "stream",
          "name": "stdout",
          "text": [
            "a.npy  sample_data\n"
          ]
        }
      ]
    },
    {
      "cell_type": "code",
      "source": [
        "b2 = np.random.randint(1, 10, size=(5,5))\n",
        "print(b2)\n",
        "np.savez(\"ab\", a2, b2)"
      ],
      "metadata": {
        "colab": {
          "base_uri": "https://localhost:8080/"
        },
        "id": "MNuLfBmyFxY9",
        "outputId": "b481a142-c509-4e87-9349-9ec64bd6dc4c"
      },
      "execution_count": null,
      "outputs": [
        {
          "output_type": "stream",
          "name": "stdout",
          "text": [
            "[[9 7 3 3 1]\n",
            " [7 4 6 6 5]\n",
            " [9 3 1 9 5]\n",
            " [4 4 8 1 3]\n",
            " [1 7 5 5 6]]\n"
          ]
        }
      ]
    },
    {
      "cell_type": "code",
      "metadata": {
        "id": "Hvb_ilyisoIV",
        "colab": {
          "base_uri": "https://localhost:8080/"
        },
        "outputId": "c69706c1-f27e-4043-90b2-36966e68739e"
      },
      "source": [
        "!ls"
      ],
      "execution_count": null,
      "outputs": [
        {
          "output_type": "stream",
          "name": "stdout",
          "text": [
            "ab.npz\ta.npy  sample_data\n"
          ]
        }
      ]
    },
    {
      "cell_type": "code",
      "metadata": {
        "id": "ArWZfL31s1wU",
        "colab": {
          "base_uri": "https://localhost:8080/"
        },
        "outputId": "f6327af1-9a21-4395-dd04-c8ec1e33f953"
      },
      "source": [
        "npy = np.load(\"a.npy\")\n",
        "print(npy)"
      ],
      "execution_count": null,
      "outputs": [
        {
          "output_type": "stream",
          "name": "stdout",
          "text": [
            "[[9 5 5 6 5]\n",
            " [8 3 2 5 6]\n",
            " [4 8 1 1 2]\n",
            " [9 3 7 2 8]\n",
            " [3 5 4 3 2]]\n"
          ]
        }
      ]
    },
    {
      "cell_type": "code",
      "metadata": {
        "id": "che4cEJEs2Tr",
        "colab": {
          "base_uri": "https://localhost:8080/"
        },
        "outputId": "7160eb5d-2591-4937-f341-bebcc47575f5"
      },
      "source": [
        "npz = np.load(\"ab.npz\")\n",
        "print(npz.files)\n",
        "print(npz['arr_0'])\n",
        "print(npz['arr_1'])"
      ],
      "execution_count": null,
      "outputs": [
        {
          "output_type": "stream",
          "name": "stdout",
          "text": [
            "['arr_0', 'arr_1']\n",
            "[[9 5 5 6 5]\n",
            " [8 3 2 5 6]\n",
            " [4 8 1 1 2]\n",
            " [9 3 7 2 8]\n",
            " [3 5 4 3 2]]\n",
            "[[9 7 3 3 1]\n",
            " [7 4 6 6 5]\n",
            " [9 3 1 9 5]\n",
            " [4 4 8 1 3]\n",
            " [1 7 5 5 6]]\n"
          ]
        }
      ]
    },
    {
      "cell_type": "code",
      "metadata": {
        "id": "X2yIUsYvtMj6",
        "colab": {
          "base_uri": "https://localhost:8080/"
        },
        "outputId": "f9fd7159-9959-45f6-8f50-89bd804d5f11"
      },
      "source": [
        "print(a2)\n",
        "np.savetxt(\"a.csv\", a2, delimiter=',')"
      ],
      "execution_count": null,
      "outputs": [
        {
          "output_type": "stream",
          "name": "stdout",
          "text": [
            "[[9 5 5 6 5]\n",
            " [8 3 2 5 6]\n",
            " [4 8 1 1 2]\n",
            " [9 3 7 2 8]\n",
            " [3 5 4 3 2]]\n"
          ]
        }
      ]
    },
    {
      "cell_type": "code",
      "metadata": {
        "id": "Yj5ec-CYtaH1",
        "colab": {
          "base_uri": "https://localhost:8080/"
        },
        "outputId": "62ba9c33-323f-43ee-a1a5-9ab220c05654"
      },
      "source": [
        "!ls"
      ],
      "execution_count": null,
      "outputs": [
        {
          "output_type": "stream",
          "name": "stdout",
          "text": [
            "ab.npz\ta.csv  a.npy  sample_data\n"
          ]
        }
      ]
    },
    {
      "cell_type": "code",
      "metadata": {
        "id": "_NIDrc-VuPmv",
        "colab": {
          "base_uri": "https://localhost:8080/"
        },
        "outputId": "e97cb668-3629-4e6e-959d-6a7e1e6f6017"
      },
      "source": [
        "!cat a.csv"
      ],
      "execution_count": null,
      "outputs": [
        {
          "output_type": "stream",
          "name": "stdout",
          "text": [
            "9.000000000000000000e+00,5.000000000000000000e+00,5.000000000000000000e+00,6.000000000000000000e+00,5.000000000000000000e+00\n",
            "8.000000000000000000e+00,3.000000000000000000e+00,2.000000000000000000e+00,5.000000000000000000e+00,6.000000000000000000e+00\n",
            "4.000000000000000000e+00,8.000000000000000000e+00,1.000000000000000000e+00,1.000000000000000000e+00,2.000000000000000000e+00\n",
            "9.000000000000000000e+00,3.000000000000000000e+00,7.000000000000000000e+00,2.000000000000000000e+00,8.000000000000000000e+00\n",
            "3.000000000000000000e+00,5.000000000000000000e+00,4.000000000000000000e+00,3.000000000000000000e+00,2.000000000000000000e+00\n"
          ]
        }
      ]
    },
    {
      "cell_type": "code",
      "metadata": {
        "id": "bPhmIoVBuQMf",
        "colab": {
          "base_uri": "https://localhost:8080/"
        },
        "outputId": "0f53878d-cb36-48cf-edf0-2a8de3275e1f"
      },
      "source": [
        "csv = np.loadtxt(\"a.csv\", delimiter=',')\n",
        "print(csv)"
      ],
      "execution_count": null,
      "outputs": [
        {
          "output_type": "stream",
          "name": "stdout",
          "text": [
            "[[9. 5. 5. 6. 5.]\n",
            " [8. 3. 2. 5. 6.]\n",
            " [4. 8. 1. 1. 2.]\n",
            " [9. 3. 7. 2. 8.]\n",
            " [3. 5. 4. 3. 2.]]\n"
          ]
        }
      ]
    },
    {
      "cell_type": "code",
      "metadata": {
        "id": "FeB2p4azuTDv",
        "colab": {
          "base_uri": "https://localhost:8080/"
        },
        "outputId": "9ca43e92-bd41-4fca-fa6c-49d9e239960c"
      },
      "source": [
        "print(b2)\n",
        "# fmt = '%.18e' -> 소수점 18자리라는 의미\n",
        "np.savetxt(\"b.csv\", b2, delimiter=',', fmt='%.2e', header='c1, c2, c3, c4, c5')"
      ],
      "execution_count": null,
      "outputs": [
        {
          "output_type": "stream",
          "name": "stdout",
          "text": [
            "[[9 7 3 3 1]\n",
            " [7 4 6 6 5]\n",
            " [9 3 1 9 5]\n",
            " [4 4 8 1 3]\n",
            " [1 7 5 5 6]]\n"
          ]
        }
      ]
    },
    {
      "cell_type": "code",
      "metadata": {
        "id": "IUg8Vg4fuxR5",
        "colab": {
          "base_uri": "https://localhost:8080/"
        },
        "outputId": "2c905ae0-e4d8-4371-8ff9-f39961c09022"
      },
      "source": [
        "!cat b.csv"
      ],
      "execution_count": null,
      "outputs": [
        {
          "output_type": "stream",
          "name": "stdout",
          "text": [
            "# c1, c2, c3, c4, c5\n",
            "9.00e+00,7.00e+00,3.00e+00,3.00e+00,1.00e+00\n",
            "7.00e+00,4.00e+00,6.00e+00,6.00e+00,5.00e+00\n",
            "9.00e+00,3.00e+00,1.00e+00,9.00e+00,5.00e+00\n",
            "4.00e+00,4.00e+00,8.00e+00,1.00e+00,3.00e+00\n",
            "1.00e+00,7.00e+00,5.00e+00,5.00e+00,6.00e+00\n"
          ]
        }
      ]
    },
    {
      "cell_type": "code",
      "metadata": {
        "id": "lIK5dSv6vtm2",
        "colab": {
          "base_uri": "https://localhost:8080/"
        },
        "outputId": "fa5f0fff-252c-4ad6-9212-31b02147a45a"
      },
      "source": [
        "csv = np.loadtxt(\"b.csv\", delimiter=',')\n",
        "print(csv)"
      ],
      "execution_count": null,
      "outputs": [
        {
          "output_type": "stream",
          "name": "stdout",
          "text": [
            "[[9. 7. 3. 3. 1.]\n",
            " [7. 4. 6. 6. 5.]\n",
            " [9. 3. 1. 9. 5.]\n",
            " [4. 4. 8. 1. 3.]\n",
            " [1. 7. 5. 5. 6.]]\n"
          ]
        }
      ]
    },
    {
      "cell_type": "markdown",
      "metadata": {
        "id": "JM2Ghx2NGloN"
      },
      "source": [
        "\n",
        "\n",
        "---\n",
        "\n"
      ]
    }
  ]
}
