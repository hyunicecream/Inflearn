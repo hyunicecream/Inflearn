{
  "nbformat": 4,
  "nbformat_minor": 0,
  "metadata": {
    "colab": {
      "name": "Python_5.ipynb",
      "provenance": [],
      "collapsed_sections": [],
      "authorship_tag": "ABX9TyOblaaGWyrcX3CO9tPAaMIP",
      "include_colab_link": true
    },
    "kernelspec": {
      "name": "python3",
      "display_name": "Python 3"
    },
    "language_info": {
      "name": "python"
    }
  },
  "cells": [
    {
      "cell_type": "markdown",
      "metadata": {
        "id": "view-in-github",
        "colab_type": "text"
      },
      "source": [
        "<a href=\"https://colab.research.google.com/github/hyunicecream/Inflearn/blob/main/Python_5.ipynb\" target=\"_parent\"><img src=\"https://colab.research.google.com/assets/colab-badge.svg\" alt=\"Open In Colab\"/></a>"
      ]
    },
    {
      "cell_type": "code",
      "metadata": {
        "colab": {
          "base_uri": "https://localhost:8080/"
        },
        "id": "uICyxYnnyGSL",
        "outputId": "cdaf398c-4de7-43d7-9a74-29ea1adbe184"
      },
      "source": [
        "class Car():\n",
        "  maxSpeed = 300\n",
        "  maxPeople = 5\n",
        "  def start(self):\n",
        "    print('출발')\n",
        "  def stop(self):\n",
        "    print('정지')\n",
        "\n",
        "k9 = Car()\n",
        "print(k9.maxPeople)\n",
        "print(type(k9))\n",
        "print(dir(k9))"
      ],
      "execution_count": null,
      "outputs": [
        {
          "output_type": "stream",
          "name": "stdout",
          "text": [
            "5\n",
            "<class '__main__.Car'>\n",
            "['__class__', '__delattr__', '__dict__', '__dir__', '__doc__', '__eq__', '__format__', '__ge__', '__getattribute__', '__gt__', '__hash__', '__init__', '__init_subclass__', '__le__', '__lt__', '__module__', '__ne__', '__new__', '__reduce__', '__reduce_ex__', '__repr__', '__setattr__', '__sizeof__', '__str__', '__subclasshook__', '__weakref__', 'maxPeople', 'maxSpeed', 'start', 'stop']\n"
          ]
        }
      ]
    },
    {
      "cell_type": "markdown",
      "metadata": {
        "id": "YrwHromvyqvy"
      },
      "source": [
        "## class\n",
        "1. class name 첫 문자가 대문자\n",
        "2. class는 대부분 직접 만지지 않는다.\n",
        "3. class를 붕어빵 찍는 틀로 생각한다면 instance는 붕어빵이다.\n"
      ]
    },
    {
      "cell_type": "code",
      "metadata": {
        "colab": {
          "base_uri": "https://localhost:8080/"
        },
        "id": "muUvov3fyftf",
        "outputId": "4e2baff3-e7df-43df-8942-b519868f93b0"
      },
      "source": [
        "class Car():\n",
        "  maxSpeed = 300\n",
        "  maxPeople = 5\n",
        "  def start(self):\n",
        "    print('출발')\n",
        "  def stop(self):\n",
        "    print('정지')\n",
        "  def __str__(self):\n",
        "    return 'hello world'\n",
        "  def __init__(self):\n",
        "    print('인스턴스가 만들어졌습니다!!')\n",
        "\n",
        "class Hybrid(Car):\n",
        "  battery = 1000\n",
        "  batterKM = 300\n",
        "\n",
        "k3 = Car()\n",
        "k9 = Car()\n",
        "k5 = Hybrid()\n",
        "print(k9.maxPeople)\n",
        "print(k5.maxPeople)\n",
        "print(type(k9))\n",
        "print(dir(k9))\n",
        "print(k9)"
      ],
      "execution_count": null,
      "outputs": [
        {
          "output_type": "stream",
          "name": "stdout",
          "text": [
            "인스턴스가 만들어졌습니다!!\n",
            "인스턴스가 만들어졌습니다!!\n",
            "인스턴스가 만들어졌습니다!!\n",
            "5\n",
            "5\n",
            "<class '__main__.Car'>\n",
            "['__class__', '__delattr__', '__dict__', '__dir__', '__doc__', '__eq__', '__format__', '__ge__', '__getattribute__', '__gt__', '__hash__', '__init__', '__init_subclass__', '__le__', '__lt__', '__module__', '__ne__', '__new__', '__reduce__', '__reduce_ex__', '__repr__', '__setattr__', '__sizeof__', '__str__', '__subclasshook__', '__weakref__', 'maxPeople', 'maxSpeed', 'start', 'stop']\n",
            "hello world\n"
          ]
        }
      ]
    },
    {
      "cell_type": "code",
      "metadata": {
        "id": "3Yp8m8Hnz_3x"
      },
      "source": [
        ""
      ],
      "execution_count": null,
      "outputs": []
    }
  ]
}