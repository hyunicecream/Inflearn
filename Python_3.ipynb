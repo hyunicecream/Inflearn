{
  "nbformat": 4,
  "nbformat_minor": 0,
  "metadata": {
    "colab": {
      "name": "Python_3.ipynb",
      "provenance": [],
      "collapsed_sections": [],
      "authorship_tag": "ABX9TyPASNbHlI5BfNurGRdg/2Iv",
      "include_colab_link": true
    },
    "kernelspec": {
      "name": "python3",
      "display_name": "Python 3"
    },
    "language_info": {
      "name": "python"
    }
  },
  "cells": [
    {
      "cell_type": "markdown",
      "metadata": {
        "id": "view-in-github",
        "colab_type": "text"
      },
      "source": [
        "<a href=\"https://colab.research.google.com/github/hyunicecream/Inflearn/blob/main/Python_3.ipynb\" target=\"_parent\"><img src=\"https://colab.research.google.com/assets/colab-badge.svg\" alt=\"Open In Colab\"/></a>"
      ]
    },
    {
      "cell_type": "code",
      "metadata": {
        "colab": {
          "base_uri": "https://localhost:8080/"
        },
        "id": "uAA2xCDUrCAt",
        "outputId": "82b361bf-f068-4f73-af9b-718c1dc00524"
      },
      "source": [
        "# 반복문(while, for)\n",
        "# 조건문(if, elif, else)\n",
        "\n",
        "a = 10\n",
        "while a < 15:\n",
        "  print(\"Hello World\")\n",
        "  a += 1"
      ],
      "execution_count": null,
      "outputs": [
        {
          "output_type": "stream",
          "name": "stdout",
          "text": [
            "Hello World\n",
            "Hello World\n",
            "Hello World\n",
            "Hello World\n",
            "Hello World\n"
          ]
        }
      ]
    },
    {
      "cell_type": "code",
      "metadata": {
        "colab": {
          "base_uri": "https://localhost:8080/"
        },
        "id": "Fwhsrzmerl1g",
        "outputId": "e841ca0a-7284-4ae6-fef0-fa5e160c84ef"
      },
      "source": [
        "a = 1\n",
        "while True:\n",
        "  print(\"Hello World\", a)\n",
        "  if a > 9:\n",
        "    break\n",
        "  a += 1\n",
        "else:\n",
        "  print(\"Good job\")"
      ],
      "execution_count": null,
      "outputs": [
        {
          "output_type": "stream",
          "name": "stdout",
          "text": [
            "Hello World 1\n",
            "Hello World 2\n",
            "Hello World 3\n",
            "Hello World 4\n",
            "Hello World 5\n",
            "Hello World 6\n",
            "Hello World 7\n",
            "Hello World 8\n",
            "Hello World 9\n",
            "Hello World 10\n"
          ]
        }
      ]
    },
    {
      "cell_type": "code",
      "metadata": {
        "colab": {
          "base_uri": "https://localhost:8080/"
        },
        "id": "J0lF58atsA6z",
        "outputId": "c44dbf85-60fb-4c81-a81b-e6554bf2b2e3"
      },
      "source": [
        "l = [10, 20, 30, 40]\n",
        "s = {10, 20, 30, 40, 10, 10, 10}\n",
        "d = {'one':1, 'two':2}\n",
        "for i in l:\n",
        "  print(i)\n",
        "print(\"=\"*10)\n",
        "for i in s:\n",
        "  print(i)\n",
        "print(\"=\"*10)\n",
        "for i in d:\n",
        "  print(i)\n",
        "print(\"=\"*10)\n",
        "for i in range(10):\n",
        "  print(i)"
      ],
      "execution_count": null,
      "outputs": [
        {
          "output_type": "stream",
          "name": "stdout",
          "text": [
            "10\n",
            "20\n",
            "30\n",
            "40\n",
            "==========\n",
            "40\n",
            "10\n",
            "20\n",
            "30\n",
            "==========\n",
            "one\n",
            "two\n",
            "==========\n",
            "0\n",
            "1\n",
            "2\n",
            "3\n",
            "4\n",
            "5\n",
            "6\n",
            "7\n",
            "8\n",
            "9\n"
          ]
        }
      ]
    },
    {
      "cell_type": "code",
      "metadata": {
        "colab": {
          "base_uri": "https://localhost:8080/"
        },
        "id": "o9MywcVqsypG",
        "outputId": "d435a395-253a-4583-96f7-a15e7d888615"
      },
      "source": [
        "# range(start, step, stop)\n",
        "print(type(range(10)))\n",
        "print(list(range(10)))\n",
        "print(1, list(range(10)))\n",
        "print(2, list(range(5, 10)))\n",
        "print(3, list(range(2, 10, 2)))\n",
        "print(4, list(range(10, 5, -1)))\n",
        "print(5, list(range(-10)))"
      ],
      "execution_count": null,
      "outputs": [
        {
          "output_type": "stream",
          "name": "stdout",
          "text": [
            "<class 'range'>\n",
            "[0, 1, 2, 3, 4, 5, 6, 7, 8, 9]\n",
            "1 [0, 1, 2, 3, 4, 5, 6, 7, 8, 9]\n",
            "2 [5, 6, 7, 8, 9]\n",
            "3 [2, 4, 6, 8]\n",
            "4 [10, 9, 8, 7, 6]\n",
            "5 []\n"
          ]
        }
      ]
    },
    {
      "cell_type": "code",
      "metadata": {
        "colab": {
          "base_uri": "https://localhost:8080/"
        },
        "id": "XWuOo-ACtST7",
        "outputId": "8a2336a1-42fc-456f-84a9-baf532b9ac51"
      },
      "source": [
        "for i in 'Hello World':\n",
        "  print(i)"
      ],
      "execution_count": null,
      "outputs": [
        {
          "output_type": "stream",
          "name": "stdout",
          "text": [
            "H\n",
            "e\n",
            "l\n",
            "l\n",
            "o\n",
            " \n",
            "W\n",
            "o\n",
            "r\n",
            "l\n",
            "d\n"
          ]
        }
      ]
    },
    {
      "cell_type": "code",
      "metadata": {
        "colab": {
          "base_uri": "https://localhost:8080/"
        },
        "id": "OmHjvNrttXiy",
        "outputId": "0e982c73-8bdb-4139-9d46-fb9e14eea085"
      },
      "source": [
        "for i in range(10):\n",
        "  print(i)\n",
        "  if i == 5:\n",
        "    break\n",
        "else:\n",
        "  print('good job')"
      ],
      "execution_count": null,
      "outputs": [
        {
          "output_type": "stream",
          "name": "stdout",
          "text": [
            "0\n",
            "1\n",
            "2\n",
            "3\n",
            "4\n",
            "5\n"
          ]
        }
      ]
    },
    {
      "cell_type": "code",
      "metadata": {
        "colab": {
          "base_uri": "https://localhost:8080/"
        },
        "id": "D7fQiGcpti6K",
        "outputId": "23c9666b-0d8e-4c75-dd9f-a2ae999998f9"
      },
      "source": [
        "l = list(range(101))\n",
        "print(l)\n",
        "print(\"=\"*30)\n",
        "ll= []\n",
        "for i in range(10):\n",
        "  ll.append(i)\n",
        "print(ll)\n",
        "print(\"=\"*30)"
      ],
      "execution_count": null,
      "outputs": [
        {
          "output_type": "stream",
          "name": "stdout",
          "text": [
            "[0, 1, 2, 3, 4, 5, 6, 7, 8, 9, 10, 11, 12, 13, 14, 15, 16, 17, 18, 19, 20, 21, 22, 23, 24, 25, 26, 27, 28, 29, 30, 31, 32, 33, 34, 35, 36, 37, 38, 39, 40, 41, 42, 43, 44, 45, 46, 47, 48, 49, 50, 51, 52, 53, 54, 55, 56, 57, 58, 59, 60, 61, 62, 63, 64, 65, 66, 67, 68, 69, 70, 71, 72, 73, 74, 75, 76, 77, 78, 79, 80, 81, 82, 83, 84, 85, 86, 87, 88, 89, 90, 91, 92, 93, 94, 95, 96, 97, 98, 99, 100]\n",
            "==============================\n",
            "[0, 1, 2, 3, 4, 5, 6, 7, 8, 9]\n",
            "==============================\n"
          ]
        }
      ]
    },
    {
      "cell_type": "code",
      "metadata": {
        "colab": {
          "base_uri": "https://localhost:8080/"
        },
        "id": "yDH8cQNeuCac",
        "outputId": "5024ea4a-0890-41e3-e7cc-6de3154dc552"
      },
      "source": [
        "l = list(range(101))\n",
        "# 진행형 List\n",
        "ll = [i for i in range(10)]\n",
        "print(ll)"
      ],
      "execution_count": null,
      "outputs": [
        {
          "output_type": "stream",
          "name": "stdout",
          "text": [
            "[0, 1, 2, 3, 4, 5, 6, 7, 8, 9]\n"
          ]
        }
      ]
    },
    {
      "cell_type": "code",
      "metadata": {
        "colab": {
          "base_uri": "https://localhost:8080/"
        },
        "id": "FYeMnyy4uRSC",
        "outputId": "2d424ce0-3391-40e3-880e-07bbdfeea4a5"
      },
      "source": [
        "for i in range(2, 10):\n",
        "  for j in range(1, 10):\n",
        "    print('{} X {} = {}'.format(i, j, i*j))"
      ],
      "execution_count": null,
      "outputs": [
        {
          "output_type": "stream",
          "name": "stdout",
          "text": [
            "2 X 1 = 2\n",
            "2 X 2 = 4\n",
            "2 X 3 = 6\n",
            "2 X 4 = 8\n",
            "2 X 5 = 10\n",
            "2 X 6 = 12\n",
            "2 X 7 = 14\n",
            "2 X 8 = 16\n",
            "2 X 9 = 18\n",
            "3 X 1 = 3\n",
            "3 X 2 = 6\n",
            "3 X 3 = 9\n",
            "3 X 4 = 12\n",
            "3 X 5 = 15\n",
            "3 X 6 = 18\n",
            "3 X 7 = 21\n",
            "3 X 8 = 24\n",
            "3 X 9 = 27\n",
            "4 X 1 = 4\n",
            "4 X 2 = 8\n",
            "4 X 3 = 12\n",
            "4 X 4 = 16\n",
            "4 X 5 = 20\n",
            "4 X 6 = 24\n",
            "4 X 7 = 28\n",
            "4 X 8 = 32\n",
            "4 X 9 = 36\n",
            "5 X 1 = 5\n",
            "5 X 2 = 10\n",
            "5 X 3 = 15\n",
            "5 X 4 = 20\n",
            "5 X 5 = 25\n",
            "5 X 6 = 30\n",
            "5 X 7 = 35\n",
            "5 X 8 = 40\n",
            "5 X 9 = 45\n",
            "6 X 1 = 6\n",
            "6 X 2 = 12\n",
            "6 X 3 = 18\n",
            "6 X 4 = 24\n",
            "6 X 5 = 30\n",
            "6 X 6 = 36\n",
            "6 X 7 = 42\n",
            "6 X 8 = 48\n",
            "6 X 9 = 54\n",
            "7 X 1 = 7\n",
            "7 X 2 = 14\n",
            "7 X 3 = 21\n",
            "7 X 4 = 28\n",
            "7 X 5 = 35\n",
            "7 X 6 = 42\n",
            "7 X 7 = 49\n",
            "7 X 8 = 56\n",
            "7 X 9 = 63\n",
            "8 X 1 = 8\n",
            "8 X 2 = 16\n",
            "8 X 3 = 24\n",
            "8 X 4 = 32\n",
            "8 X 5 = 40\n",
            "8 X 6 = 48\n",
            "8 X 7 = 56\n",
            "8 X 8 = 64\n",
            "8 X 9 = 72\n",
            "9 X 1 = 9\n",
            "9 X 2 = 18\n",
            "9 X 3 = 27\n",
            "9 X 4 = 36\n",
            "9 X 5 = 45\n",
            "9 X 6 = 54\n",
            "9 X 7 = 63\n",
            "9 X 8 = 72\n",
            "9 X 9 = 81\n"
          ]
        }
      ]
    },
    {
      "cell_type": "code",
      "metadata": {
        "colab": {
          "base_uri": "https://localhost:8080/"
        },
        "id": "JWxyrR0lun-C",
        "outputId": "a8773d27-adcf-460d-b3ef-2302fba8a2b7"
      },
      "source": [
        "l = ['{} X {} = {}'.format(i, j, i*j) for i in range(2, 10) for j in range(1, 10)]\n",
        "print(l)"
      ],
      "execution_count": null,
      "outputs": [
        {
          "output_type": "stream",
          "name": "stdout",
          "text": [
            "['2 X 1 = 2', '2 X 2 = 4', '2 X 3 = 6', '2 X 4 = 8', '2 X 5 = 10', '2 X 6 = 12', '2 X 7 = 14', '2 X 8 = 16', '2 X 9 = 18', '3 X 1 = 3', '3 X 2 = 6', '3 X 3 = 9', '3 X 4 = 12', '3 X 5 = 15', '3 X 6 = 18', '3 X 7 = 21', '3 X 8 = 24', '3 X 9 = 27', '4 X 1 = 4', '4 X 2 = 8', '4 X 3 = 12', '4 X 4 = 16', '4 X 5 = 20', '4 X 6 = 24', '4 X 7 = 28', '4 X 8 = 32', '4 X 9 = 36', '5 X 1 = 5', '5 X 2 = 10', '5 X 3 = 15', '5 X 4 = 20', '5 X 5 = 25', '5 X 6 = 30', '5 X 7 = 35', '5 X 8 = 40', '5 X 9 = 45', '6 X 1 = 6', '6 X 2 = 12', '6 X 3 = 18', '6 X 4 = 24', '6 X 5 = 30', '6 X 6 = 36', '6 X 7 = 42', '6 X 8 = 48', '6 X 9 = 54', '7 X 1 = 7', '7 X 2 = 14', '7 X 3 = 21', '7 X 4 = 28', '7 X 5 = 35', '7 X 6 = 42', '7 X 7 = 49', '7 X 8 = 56', '7 X 9 = 63', '8 X 1 = 8', '8 X 2 = 16', '8 X 3 = 24', '8 X 4 = 32', '8 X 5 = 40', '8 X 6 = 48', '8 X 7 = 56', '8 X 8 = 64', '8 X 9 = 72', '9 X 1 = 9', '9 X 2 = 18', '9 X 3 = 27', '9 X 4 = 36', '9 X 5 = 45', '9 X 6 = 54', '9 X 7 = 63', '9 X 8 = 72', '9 X 9 = 81']\n"
          ]
        }
      ]
    },
    {
      "cell_type": "code",
      "metadata": {
        "colab": {
          "base_uri": "https://localhost:8080/"
        },
        "id": "kaTMJJZHvSCp",
        "outputId": "7cca29fa-3f30-476d-c7c5-76d69c2d3bb7"
      },
      "source": [
        "# 다중인자 list\n",
        "l = [(1, 10), (2, 20), (3, 30), (4, 40)]\n",
        "print(l[2][1])\n",
        "for i, j in l:\n",
        "  print(i, j)"
      ],
      "execution_count": null,
      "outputs": [
        {
          "output_type": "stream",
          "name": "stdout",
          "text": [
            "30\n",
            "1 10\n",
            "2 20\n",
            "3 30\n",
            "4 40\n"
          ]
        }
      ]
    },
    {
      "cell_type": "code",
      "metadata": {
        "colab": {
          "base_uri": "https://localhost:8080/"
        },
        "id": "ICtP89qJvxiB",
        "outputId": "51c78b59-831c-49ec-829b-26da36d136e8"
      },
      "source": [
        "for i, j in enumerate(range(100, 1000, 100), 1): # 1부터 시작하고 100부터 1000까지 100단위로\n",
        "    print(i, j)"
      ],
      "execution_count": null,
      "outputs": [
        {
          "output_type": "stream",
          "name": "stdout",
          "text": [
            "1 100\n",
            "2 200\n",
            "3 300\n",
            "4 400\n",
            "5 500\n",
            "6 600\n",
            "7 700\n",
            "8 800\n",
            "9 900\n"
          ]
        }
      ]
    },
    {
      "cell_type": "code",
      "metadata": {
        "colab": {
          "base_uri": "https://localhost:8080/"
        },
        "id": "xO4F1PZswLsS",
        "outputId": "ef787cea-a26b-47b6-88aa-20fb8b975f50"
      },
      "source": [
        "for i in range(10): # pass 오류가 안나게 대처하는 용도로 씀\n",
        "  if i > 5:\n",
        "    continue\n",
        "  print(\"Hello World\")"
      ],
      "execution_count": null,
      "outputs": [
        {
          "output_type": "stream",
          "name": "stdout",
          "text": [
            "Hello World\n",
            "Hello World\n",
            "Hello World\n",
            "Hello World\n",
            "Hello World\n",
            "Hello World\n"
          ]
        }
      ]
    }
  ]
}