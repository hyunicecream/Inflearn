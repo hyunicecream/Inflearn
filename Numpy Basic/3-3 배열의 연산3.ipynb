{
  "nbformat": 4,
  "nbformat_minor": 0,
  "metadata": {
    "colab": {
      "name": "3-3 배열의 연산3.ipynb",
      "provenance": [],
      "collapsed_sections": [],
      "authorship_tag": "ABX9TyNg26tXX9hKeZSdGB1+Z153",
      "include_colab_link": true
    },
    "kernelspec": {
      "name": "python3",
      "display_name": "Python 3"
    },
    "language_info": {
      "name": "python"
    }
  },
  "cells": [
    {
      "cell_type": "markdown",
      "metadata": {
        "id": "view-in-github",
        "colab_type": "text"
      },
      "source": [
        "<a href=\"https://colab.research.google.com/github/hyunicecream/Inflearn/blob/main/3-3%20%EB%B0%B0%EC%97%B4%EC%9D%98%20%EC%97%B0%EC%82%B03.ipynb\" target=\"_parent\"><img src=\"https://colab.research.google.com/assets/colab-badge.svg\" alt=\"Open In Colab\"/></a>"
      ]
    },
    {
      "cell_type": "code",
      "metadata": {
        "id": "NgiN654ThJik"
      },
      "source": [
        "import numpy as np"
      ],
      "execution_count": null,
      "outputs": []
    },
    {
      "cell_type": "code",
      "metadata": {
        "id": "a9H5BBK-hMc3"
      },
      "source": [
        "arr = np.array([[1,2,3],\n",
        "                [0,1,4]])"
      ],
      "execution_count": null,
      "outputs": []
    },
    {
      "cell_type": "code",
      "metadata": {
        "colab": {
          "base_uri": "https://localhost:8080/"
        },
        "id": "3C1MN9Y8hxCm",
        "outputId": "e89a22d1-9ad5-422e-8dac-cbfd6c29564e"
      },
      "source": [
        "# min\n",
        "print(np.min(arr))\n",
        "print(arr.min())\n",
        "print(arr.min(axis=0)) # 열\n",
        "print(arr.min(axis=1)) # 행"
      ],
      "execution_count": null,
      "outputs": [
        {
          "output_type": "stream",
          "name": "stdout",
          "text": [
            "0\n",
            "0\n",
            "[0 1 3]\n",
            "[1 0]\n"
          ]
        }
      ]
    },
    {
      "cell_type": "code",
      "metadata": {
        "colab": {
          "base_uri": "https://localhost:8080/"
        },
        "id": "ik6MMxVdh6pe",
        "outputId": "15ca2082-639d-40b5-d829-350f05c003fd"
      },
      "source": [
        "# max\n",
        "print(np.max(arr))\n",
        "print(arr.max())\n",
        "print(arr.max(axis=0)) # 열\n",
        "print(arr.max(axis=1)) # 행"
      ],
      "execution_count": null,
      "outputs": [
        {
          "output_type": "stream",
          "name": "stdout",
          "text": [
            "4\n",
            "4\n",
            "[1 2 4]\n",
            "[3 4]\n"
          ]
        }
      ]
    },
    {
      "cell_type": "code",
      "metadata": {
        "colab": {
          "base_uri": "https://localhost:8080/"
        },
        "id": "bRYlmSiJisr-",
        "outputId": "05edb617-4c12-4d4f-f3ae-e98ad21ff299"
      },
      "source": [
        "# sum\n",
        "print(np.sum(arr))\n",
        "print(arr.sum())\n",
        "print(arr.sum(axis=0)) # 열\n",
        "print(arr.sum(axis=1)) # 행"
      ],
      "execution_count": null,
      "outputs": [
        {
          "output_type": "stream",
          "name": "stdout",
          "text": [
            "11\n",
            "11\n",
            "[1 3 7]\n",
            "[6 5]\n"
          ]
        }
      ]
    },
    {
      "cell_type": "code",
      "metadata": {
        "colab": {
          "base_uri": "https://localhost:8080/"
        },
        "id": "57coqSFuivGe",
        "outputId": "ea4c77da-8c88-4fcb-c4e6-cc0bac17dd39"
      },
      "source": [
        "# mean\n",
        "print(np.mean(arr))\n",
        "print(arr.mean())\n",
        "print(arr.mean(axis=0)) # 열\n",
        "print(arr.mean(axis=1)) # 행"
      ],
      "execution_count": null,
      "outputs": [
        {
          "output_type": "stream",
          "name": "stdout",
          "text": [
            "1.8333333333333333\n",
            "1.8333333333333333\n",
            "[0.5 1.5 3.5]\n",
            "[2.         1.66666667]\n"
          ]
        }
      ]
    },
    {
      "cell_type": "code",
      "metadata": {
        "colab": {
          "base_uri": "https://localhost:8080/"
        },
        "id": "O2I4sE44i9hE",
        "outputId": "7da929b9-3e7e-46c3-c280-bd7b504b8b7c"
      },
      "source": [
        "# 표준편차 (분산의 정도를 나타낸 값)\n",
        "print(np.std(arr))\n",
        "print(arr.std())\n",
        "print(arr.std(axis=0)) # 열\n",
        "print(arr.std(axis=1)) # 행"
      ],
      "execution_count": null,
      "outputs": [
        {
          "output_type": "stream",
          "name": "stdout",
          "text": [
            "1.343709624716425\n",
            "1.343709624716425\n",
            "[0.5 0.5 0.5]\n",
            "[0.81649658 1.69967317]\n"
          ]
        }
      ]
    },
    {
      "cell_type": "code",
      "metadata": {
        "colab": {
          "base_uri": "https://localhost:8080/"
        },
        "id": "LPGtwEHXjJPk",
        "outputId": "53442715-30d8-41a0-e631-19fe0feb2d08"
      },
      "source": [
        "# 누적값을 계산하는 함수\n",
        "print(np.cumsum(arr))\n",
        "print(arr.cumsum())\n",
        "print(arr.cumsum(axis=0)) # 열\n",
        "print(arr.cumsum(axis=1)) # 행"
      ],
      "execution_count": null,
      "outputs": [
        {
          "output_type": "stream",
          "name": "stdout",
          "text": [
            "[ 1  3  6  6  7 11]\n",
            "[ 1  3  6  6  7 11]\n",
            "[[1 2 3]\n",
            " [1 3 7]]\n",
            "[[1 3 6]\n",
            " [0 1 5]]\n"
          ]
        }
      ]
    },
    {
      "cell_type": "code",
      "metadata": {
        "colab": {
          "base_uri": "https://localhost:8080/"
        },
        "id": "QjCVcY3KjcSe",
        "outputId": "784ec655-496b-4ce8-89be-7410d0574a6b"
      },
      "source": [
        "# 중앙값을 계산하는 함수\n",
        "# 원소가 짝수일 경우 가장 중앙에 있는 2개값의 사잇값을 반환한다\n",
        "arr = np.array([[1, 2, 3],\n",
        "                [0, 1, 4],\n",
        "                [1, 5, 2]])\n",
        "\n",
        "print(np.median(arr))\n",
        "print(np.median(arr, axis=0)) # 열\n",
        "print(np.median(arr, axis=1)) # 행"
      ],
      "execution_count": null,
      "outputs": [
        {
          "output_type": "stream",
          "name": "stdout",
          "text": [
            "2.0\n",
            "[1. 2. 3.]\n",
            "[2. 1. 2.]\n"
          ]
        }
      ]
    }
  ]
}
