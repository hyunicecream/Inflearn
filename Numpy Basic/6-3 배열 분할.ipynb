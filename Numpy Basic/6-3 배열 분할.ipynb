{
  "nbformat": 4,
  "nbformat_minor": 0,
  "metadata": {
    "colab": {
      "name": "6-3 배열 분할.ipynb",
      "provenance": [],
      "collapsed_sections": [],
      "authorship_tag": "ABX9TyOVRajraw3iUfITcLetYKNM",
      "include_colab_link": true
    },
    "kernelspec": {
      "name": "python3",
      "display_name": "Python 3"
    },
    "language_info": {
      "name": "python"
    }
  },
  "cells": [
    {
      "cell_type": "markdown",
      "metadata": {
        "id": "view-in-github",
        "colab_type": "text"
      },
      "source": [
        "<a href=\"https://colab.research.google.com/github/hyunicecream/Inflearn/blob/main/6-3%20%EB%B0%B0%EC%97%B4%20%EB%B6%84%ED%95%A0.ipynb\" target=\"_parent\"><img src=\"https://colab.research.google.com/assets/colab-badge.svg\" alt=\"Open In Colab\"/></a>"
      ]
    },
    {
      "cell_type": "code",
      "metadata": {
        "id": "3EqVLt_rGBzW"
      },
      "source": [
        "import numpy as np"
      ],
      "execution_count": null,
      "outputs": []
    },
    {
      "cell_type": "code",
      "metadata": {
        "colab": {
          "base_uri": "https://localhost:8080/"
        },
        "id": "GI7SYDOjGIpo",
        "outputId": "e55a139f-6deb-4804-f23d-ac284105f3bb"
      },
      "source": [
        "# 2차원 배열\n",
        "arr = np.arange(1, 13).reshape(3, 4)\n",
        "print(arr, end=\"\\n\\n\")\n",
        "\n",
        "# vsplit() : axis=0을 기준으로 분할 행의 갯수대로 할 수 있다.\n",
        "arr_vsplit = np.vsplit(arr, 3)\n",
        "print(arr_vsplit, end=\"\\n\\n\")\n",
        "\n",
        "# vsplit() : axis=1을 기준으로 분할 열의 갯수대로 할 수 있다.\n",
        "arr_hsplit = np.hsplit(arr, 2)\n",
        "print(arr_hsplit, end=\"\\n\\n\")"
      ],
      "execution_count": null,
      "outputs": [
        {
          "output_type": "stream",
          "name": "stdout",
          "text": [
            "[[ 1  2  3  4]\n",
            " [ 5  6  7  8]\n",
            " [ 9 10 11 12]]\n",
            "\n",
            "[array([[1, 2, 3, 4]]), array([[5, 6, 7, 8]]), array([[ 9, 10, 11, 12]])]\n",
            "\n",
            "[array([[ 1,  2],\n",
            "       [ 5,  6],\n",
            "       [ 9, 10]]), array([[ 3,  4],\n",
            "       [ 7,  8],\n",
            "       [11, 12]])]\n",
            "\n"
          ]
        }
      ]
    },
    {
      "cell_type": "code",
      "metadata": {
        "colab": {
          "base_uri": "https://localhost:8080/"
        },
        "id": "5apSIXvDG_NV",
        "outputId": "1c782c31-1936-4376-b803-0b0ecc292adb"
      },
      "source": [
        "# 3차원 배열\n",
        "arr = np.random.randint(0, 10, (4, 6 ,8))\n",
        "print(arr)"
      ],
      "execution_count": null,
      "outputs": [
        {
          "output_type": "stream",
          "name": "stdout",
          "text": [
            "[[[2 7 3 5 8 7 0 8]\n",
            "  [6 3 8 0 2 9 3 6]\n",
            "  [1 3 0 7 6 1 8 4]\n",
            "  [2 9 1 6 0 1 5 7]\n",
            "  [0 3 1 7 0 5 1 9]\n",
            "  [8 7 4 2 1 7 9 0]]\n",
            "\n",
            " [[6 2 7 4 3 3 9 7]\n",
            "  [1 5 2 1 0 3 6 8]\n",
            "  [4 9 5 7 1 3 0 6]\n",
            "  [6 6 1 2 2 5 3 5]\n",
            "  [3 2 5 7 7 6 5 8]\n",
            "  [5 0 5 9 0 3 2 7]]\n",
            "\n",
            " [[3 7 5 3 9 0 5 8]\n",
            "  [7 2 6 9 6 3 3 0]\n",
            "  [0 0 1 7 6 4 0 3]\n",
            "  [7 7 8 1 2 8 7 2]\n",
            "  [8 1 0 5 5 2 5 6]\n",
            "  [7 4 5 0 0 1 9 7]]\n",
            "\n",
            " [[8 3 6 5 2 7 5 4]\n",
            "  [4 1 6 8 6 3 6 5]\n",
            "  [9 5 0 7 5 4 5 0]\n",
            "  [1 0 9 8 2 0 4 2]\n",
            "  [4 1 7 3 2 3 9 8]\n",
            "  [1 8 3 9 2 2 3 0]]]\n"
          ]
        }
      ]
    },
    {
      "cell_type": "code",
      "metadata": {
        "colab": {
          "base_uri": "https://localhost:8080/"
        },
        "id": "gQv2MmGsHSBQ",
        "outputId": "edbdba9d-30be-410b-8ce0-805950245b04"
      },
      "source": [
        "arr_vsplit = np.vsplit(arr, 2)\n",
        "print(arr_vsplit, end=\"\\n\\n\")"
      ],
      "execution_count": null,
      "outputs": [
        {
          "output_type": "stream",
          "name": "stdout",
          "text": [
            "[array([[[2, 7, 3, 5, 8, 7, 0, 8],\n",
            "        [6, 3, 8, 0, 2, 9, 3, 6],\n",
            "        [1, 3, 0, 7, 6, 1, 8, 4],\n",
            "        [2, 9, 1, 6, 0, 1, 5, 7],\n",
            "        [0, 3, 1, 7, 0, 5, 1, 9],\n",
            "        [8, 7, 4, 2, 1, 7, 9, 0]],\n",
            "\n",
            "       [[6, 2, 7, 4, 3, 3, 9, 7],\n",
            "        [1, 5, 2, 1, 0, 3, 6, 8],\n",
            "        [4, 9, 5, 7, 1, 3, 0, 6],\n",
            "        [6, 6, 1, 2, 2, 5, 3, 5],\n",
            "        [3, 2, 5, 7, 7, 6, 5, 8],\n",
            "        [5, 0, 5, 9, 0, 3, 2, 7]]]), array([[[3, 7, 5, 3, 9, 0, 5, 8],\n",
            "        [7, 2, 6, 9, 6, 3, 3, 0],\n",
            "        [0, 0, 1, 7, 6, 4, 0, 3],\n",
            "        [7, 7, 8, 1, 2, 8, 7, 2],\n",
            "        [8, 1, 0, 5, 5, 2, 5, 6],\n",
            "        [7, 4, 5, 0, 0, 1, 9, 7]],\n",
            "\n",
            "       [[8, 3, 6, 5, 2, 7, 5, 4],\n",
            "        [4, 1, 6, 8, 6, 3, 6, 5],\n",
            "        [9, 5, 0, 7, 5, 4, 5, 0],\n",
            "        [1, 0, 9, 8, 2, 0, 4, 2],\n",
            "        [4, 1, 7, 3, 2, 3, 9, 8],\n",
            "        [1, 8, 3, 9, 2, 2, 3, 0]]])]\n",
            "\n"
          ]
        }
      ]
    },
    {
      "cell_type": "code",
      "metadata": {
        "colab": {
          "base_uri": "https://localhost:8080/"
        },
        "id": "86jlCS2DHrdR",
        "outputId": "2d541f90-b234-4525-cc1e-829b8f2ac79c"
      },
      "source": [
        "arr_hsplit = np.hsplit(arr, 2)\n",
        "print(arr_hsplit)"
      ],
      "execution_count": null,
      "outputs": [
        {
          "output_type": "stream",
          "name": "stdout",
          "text": [
            "[array([[[2, 7, 3, 5, 8, 7, 0, 8],\n",
            "        [6, 3, 8, 0, 2, 9, 3, 6],\n",
            "        [1, 3, 0, 7, 6, 1, 8, 4]],\n",
            "\n",
            "       [[6, 2, 7, 4, 3, 3, 9, 7],\n",
            "        [1, 5, 2, 1, 0, 3, 6, 8],\n",
            "        [4, 9, 5, 7, 1, 3, 0, 6]],\n",
            "\n",
            "       [[3, 7, 5, 3, 9, 0, 5, 8],\n",
            "        [7, 2, 6, 9, 6, 3, 3, 0],\n",
            "        [0, 0, 1, 7, 6, 4, 0, 3]],\n",
            "\n",
            "       [[8, 3, 6, 5, 2, 7, 5, 4],\n",
            "        [4, 1, 6, 8, 6, 3, 6, 5],\n",
            "        [9, 5, 0, 7, 5, 4, 5, 0]]]), array([[[2, 9, 1, 6, 0, 1, 5, 7],\n",
            "        [0, 3, 1, 7, 0, 5, 1, 9],\n",
            "        [8, 7, 4, 2, 1, 7, 9, 0]],\n",
            "\n",
            "       [[6, 6, 1, 2, 2, 5, 3, 5],\n",
            "        [3, 2, 5, 7, 7, 6, 5, 8],\n",
            "        [5, 0, 5, 9, 0, 3, 2, 7]],\n",
            "\n",
            "       [[7, 7, 8, 1, 2, 8, 7, 2],\n",
            "        [8, 1, 0, 5, 5, 2, 5, 6],\n",
            "        [7, 4, 5, 0, 0, 1, 9, 7]],\n",
            "\n",
            "       [[1, 0, 9, 8, 2, 0, 4, 2],\n",
            "        [4, 1, 7, 3, 2, 3, 9, 8],\n",
            "        [1, 8, 3, 9, 2, 2, 3, 0]]])]\n"
          ]
        }
      ]
    },
    {
      "cell_type": "code",
      "metadata": {
        "id": "_e7QFBpEHtCj"
      },
      "source": [
        ""
      ],
      "execution_count": null,
      "outputs": []
    }
  ]
}
