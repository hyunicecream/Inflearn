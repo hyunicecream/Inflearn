{
  "nbformat": 4,
  "nbformat_minor": 0,
  "metadata": {
    "colab": {
      "name": "1-4. 특정 범위의 값을 가지는 N차원 배열 생성하기.ipynb",
      "provenance": [],
      "collapsed_sections": [],
      "authorship_tag": "ABX9TyNgzi27nZx57FwUCb9xgqTR",
      "include_colab_link": true
    },
    "kernelspec": {
      "name": "python3",
      "display_name": "Python 3"
    },
    "language_info": {
      "name": "python"
    }
  },
  "cells": [
    {
      "cell_type": "markdown",
      "metadata": {
        "id": "view-in-github",
        "colab_type": "text"
      },
      "source": [
        "<a href=\"https://colab.research.google.com/github/hyunicecream/Inflearn/blob/main/1_4_%ED%8A%B9%EC%A0%95_%EB%B2%94%EC%9C%84%EC%9D%98_%EA%B0%92%EC%9D%84_%EA%B0%80%EC%A7%80%EB%8A%94_N%EC%B0%A8%EC%9B%90_%EB%B0%B0%EC%97%B4_%EC%83%9D%EC%84%B1%ED%95%98%EA%B8%B0.ipynb\" target=\"_parent\"><img src=\"https://colab.research.google.com/assets/colab-badge.svg\" alt=\"Open In Colab\"/></a>"
      ]
    },
    {
      "cell_type": "code",
      "metadata": {
        "id": "fPiOUJ5X7OPl"
      },
      "source": [
        "import numpy as np"
      ],
      "execution_count": null,
      "outputs": []
    },
    {
      "cell_type": "code",
      "metadata": {
        "colab": {
          "base_uri": "https://localhost:8080/"
        },
        "id": "7RP0jYiJ7WlO",
        "outputId": "45584b33-4768-471f-ac69-b51bb4f43116"
      },
      "source": [
        "lst = list(range(0,9,2))\n",
        "print(lst)"
      ],
      "execution_count": null,
      "outputs": [
        {
          "output_type": "stream",
          "name": "stdout",
          "text": [
            "[0, 2, 4, 6, 8]\n"
          ]
        }
      ]
    },
    {
      "cell_type": "code",
      "metadata": {
        "colab": {
          "base_uri": "https://localhost:8080/"
        },
        "id": "2Bneyogr7hdZ",
        "outputId": "7b2a016d-625d-4f4a-8144-bbdd64fb35eb"
      },
      "source": [
        " arr = np.arange(9) # start\n",
        " print(arr)"
      ],
      "execution_count": null,
      "outputs": [
        {
          "output_type": "stream",
          "name": "stdout",
          "text": [
            "[0 1 2 3 4 5 6 7 8]\n"
          ]
        }
      ]
    },
    {
      "cell_type": "code",
      "metadata": {
        "colab": {
          "base_uri": "https://localhost:8080/"
        },
        "id": "MpyJ0P_H7yGY",
        "outputId": "43dce0fa-f02c-483f-fb9e-fe5f5582724b"
      },
      "source": [
        " arr = np.arange(3, 12) # start, stop\n",
        " print(arr)"
      ],
      "execution_count": null,
      "outputs": [
        {
          "output_type": "stream",
          "name": "stdout",
          "text": [
            "[ 3  4  5  6  7  8  9 10 11]\n"
          ]
        }
      ]
    },
    {
      "cell_type": "code",
      "metadata": {
        "colab": {
          "base_uri": "https://localhost:8080/"
        },
        "id": "Gn0--ze77-mF",
        "outputId": "4f3b2fc1-c7aa-4425-d56c-1cc61a5b2e45"
      },
      "source": [
        " arr = np.arange(3, 13, 3) # start, stop, step(간격)\n",
        " print(arr)"
      ],
      "execution_count": null,
      "outputs": [
        {
          "output_type": "stream",
          "name": "stdout",
          "text": [
            "[ 3  6  9 12]\n"
          ]
        }
      ]
    },
    {
      "cell_type": "code",
      "metadata": {
        "colab": {
          "base_uri": "https://localhost:8080/"
        },
        "id": "dzGyWY4w8FTx",
        "outputId": "1f8620be-3af6-4879-d50d-ed3ffcbd3174"
      },
      "source": [
        " # 직접 입력도 가능\n",
        "\n",
        " arr = np.arange(start=0, stop=9, step=2) # start, stop, step(간격) / (0,9,2)\n",
        " print(arr)"
      ],
      "execution_count": null,
      "outputs": [
        {
          "output_type": "stream",
          "name": "stdout",
          "text": [
            "[0 2 4 6 8]\n"
          ]
        }
      ]
    },
    {
      "cell_type": "code",
      "metadata": {
        "colab": {
          "base_uri": "https://localhost:8080/"
        },
        "id": "SzI1Jtmi8SRJ",
        "outputId": "94b2fe2d-dd42-45e6-aa59-b26d68f1145a"
      },
      "source": [
        "# np.linspace()\n",
        "arr = np.linspace(0, 100, 100) # 0부터 100까지의 원소에 균등한 간격으로 배열생성\n",
        "print(arr)"
      ],
      "execution_count": null,
      "outputs": [
        {
          "output_type": "stream",
          "name": "stdout",
          "text": [
            "[  0.           1.01010101   2.02020202   3.03030303   4.04040404\n",
            "   5.05050505   6.06060606   7.07070707   8.08080808   9.09090909\n",
            "  10.1010101   11.11111111  12.12121212  13.13131313  14.14141414\n",
            "  15.15151515  16.16161616  17.17171717  18.18181818  19.19191919\n",
            "  20.2020202   21.21212121  22.22222222  23.23232323  24.24242424\n",
            "  25.25252525  26.26262626  27.27272727  28.28282828  29.29292929\n",
            "  30.3030303   31.31313131  32.32323232  33.33333333  34.34343434\n",
            "  35.35353535  36.36363636  37.37373737  38.38383838  39.39393939\n",
            "  40.4040404   41.41414141  42.42424242  43.43434343  44.44444444\n",
            "  45.45454545  46.46464646  47.47474747  48.48484848  49.49494949\n",
            "  50.50505051  51.51515152  52.52525253  53.53535354  54.54545455\n",
            "  55.55555556  56.56565657  57.57575758  58.58585859  59.5959596\n",
            "  60.60606061  61.61616162  62.62626263  63.63636364  64.64646465\n",
            "  65.65656566  66.66666667  67.67676768  68.68686869  69.6969697\n",
            "  70.70707071  71.71717172  72.72727273  73.73737374  74.74747475\n",
            "  75.75757576  76.76767677  77.77777778  78.78787879  79.7979798\n",
            "  80.80808081  81.81818182  82.82828283  83.83838384  84.84848485\n",
            "  85.85858586  86.86868687  87.87878788  88.88888889  89.8989899\n",
            "  90.90909091  91.91919192  92.92929293  93.93939394  94.94949495\n",
            "  95.95959596  96.96969697  97.97979798  98.98989899 100.        ]\n"
          ]
        }
      ]
    },
    {
      "cell_type": "code",
      "metadata": {
        "colab": {
          "base_uri": "https://localhost:8080/"
        },
        "id": "GqQzbExM8oWE",
        "outputId": "f0634284-5843-4e3f-e0d2-8189f39015ad"
      },
      "source": [
        "# np.logspace()\n",
        "arr = np.linspace(1, 10, 10)\n",
        "print(arr, end=\"\\n\\n\")\n",
        "\n",
        "arr = np.logspace(1, 10, 10, base=2) # base = log의 밑값\n",
        "print(arr)\n",
        "\n",
        "arr = np.logspace(1, 10, 10) # base값을 입력하지 않으면 상용로그로 표시됨\n",
        "print(arr)"
      ],
      "execution_count": null,
      "outputs": [
        {
          "output_type": "stream",
          "name": "stdout",
          "text": [
            "[ 1.  2.  3.  4.  5.  6.  7.  8.  9. 10.]\n",
            "\n",
            "[   2.    4.    8.   16.   32.   64.  128.  256.  512. 1024.]\n",
            "[1.e+01 1.e+02 1.e+03 1.e+04 1.e+05 1.e+06 1.e+07 1.e+08 1.e+09 1.e+10]\n"
          ]
        }
      ]
    }
  ]
}
