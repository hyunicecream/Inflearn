{
  "nbformat": 4,
  "nbformat_minor": 0,
  "metadata": {
    "colab": {
      "name": "7-1 실습예제 ① ~ ③.ipynb",
      "provenance": [],
      "collapsed_sections": [],
      "authorship_tag": "ABX9TyPTCUc11bV6bISctWy5PtIG",
      "include_colab_link": true
    },
    "kernelspec": {
      "name": "python3",
      "display_name": "Python 3"
    },
    "language_info": {
      "name": "python"
    }
  },
  "cells": [
    {
      "cell_type": "markdown",
      "metadata": {
        "id": "view-in-github",
        "colab_type": "text"
      },
      "source": [
        "<a href=\"https://colab.research.google.com/github/hyunicecream/Inflearn/blob/main/7-1%20%EC%8B%A4%EC%8A%B5%EC%98%88%EC%A0%9C%20%E2%91%A0%20~%20%E2%91%A2.ipynb\" target=\"_parent\"><img src=\"https://colab.research.google.com/assets/colab-badge.svg\" alt=\"Open In Colab\"/></a>"
      ]
    },
    {
      "cell_type": "code",
      "metadata": {
        "id": "c6hsAzPjH6Te"
      },
      "source": [
        "import numpy as np"
      ],
      "execution_count": null,
      "outputs": []
    },
    {
      "cell_type": "markdown",
      "metadata": {
        "id": "s3P49Oz7LkEr"
      },
      "source": [
        "< 실습예제 1 >\n",
        "- 원소가 모두 3인 (3,4,5) 형태의 numpy.array를 출력하시오"
      ]
    },
    {
      "cell_type": "code",
      "metadata": {
        "colab": {
          "base_uri": "https://localhost:8080/"
        },
        "id": "G55mbVfUIOez",
        "outputId": "dd1c7b7b-368f-46e9-b16a-005d54d5d532"
      },
      "source": [
        "arr = np.full((3, 4, 5), 3)\n",
        "print(arr)"
      ],
      "execution_count": null,
      "outputs": [
        {
          "output_type": "stream",
          "name": "stdout",
          "text": [
            "[[[3 3 3 3 3]\n",
            "  [3 3 3 3 3]\n",
            "  [3 3 3 3 3]\n",
            "  [3 3 3 3 3]]\n",
            "\n",
            " [[3 3 3 3 3]\n",
            "  [3 3 3 3 3]\n",
            "  [3 3 3 3 3]\n",
            "  [3 3 3 3 3]]\n",
            "\n",
            " [[3 3 3 3 3]\n",
            "  [3 3 3 3 3]\n",
            "  [3 3 3 3 3]\n",
            "  [3 3 3 3 3]]]\n"
          ]
        }
      ]
    },
    {
      "cell_type": "markdown",
      "metadata": {
        "id": "0BGVIJSsL7e1"
      },
      "source": [
        "< 실습 예제 2 >\n",
        "- 정수 -50 ~ 50의 범위 안의 난수로 이루어진 (4, 5)형태의 numpy.array를 출력하고 행을 기준으로 오름차순 정렬한 결과와 전체 배열을 1차원 배열로 변경하여 오름차순 정렬과 결과를 출력하시오."
      ]
    },
    {
      "cell_type": "code",
      "metadata": {
        "colab": {
          "base_uri": "https://localhost:8080/"
        },
        "id": "FZHB5xiCL5b-",
        "outputId": "19f85fb1-894e-4b03-8603-701281e22ac2"
      },
      "source": [
        "arr = np.random.randint(-50, 50, (4, 5))\n",
        "print(arr, end=\"\\n\\n\")\n",
        "\n",
        "# 행을 기준으로 정렬\n",
        "print(np.sort(arr, axis=0), end=\"\\n\\n\")\n",
        "\n",
        "# 1차원 배열로 변경 axis값 None으로 주기\n",
        "print(np.sort(arr, axis=None))"
      ],
      "execution_count": null,
      "outputs": [
        {
          "output_type": "stream",
          "name": "stdout",
          "text": [
            "[[ -2  25 -22 -39 -28]\n",
            " [ 28 -19 -45  25 -43]\n",
            " [-34  -9  13 -46 -38]\n",
            " [-25 -35 -26 -45 -10]]\n",
            "\n",
            "[[-34 -35 -45 -46 -43]\n",
            " [-25 -19 -26 -45 -38]\n",
            " [ -2  -9 -22 -39 -28]\n",
            " [ 28  25  13  25 -10]]\n",
            "\n",
            "[-46 -45 -45 -43 -39 -38 -35 -34 -28 -26 -25 -22 -19 -10  -9  -2  13  25\n",
            "  25  28]\n"
          ]
        }
      ]
    },
    {
      "cell_type": "markdown",
      "metadata": {
        "id": "6GRm2KNYNFDL"
      },
      "source": [
        "< 실습예제 3 >\n",
        "- 다음과 같은 파이썬 list가 존재한다\n",
        "- list 안에 있는 각 numpy.array의 원소들의 평균값과 표준편차, 중앙값을 순서대로 구하여 구한 순서대로 원소가 이루어진 새로운 list를 구성하고 출력하시오.\n",
        "- 예시 : 각 배열의 평균값이 3.0, 4.0, 5.0이고 표준편차가 1.5, 1.7, 1.9이며 중앙값이 1.0, 2.0, 3.0 이라면 배열로 구성하여 [3.0, 1.5, 1.0, 4.0, 1.7, 2.0, 5.0, 1.9, 3.0] 으로 출력한다.\n",
        "\n",
        "py_list = [\n",
        "    np.full(3, 8),\n",
        "    np.array([33, -15, 26]),\n",
        "    np.linspace(17, 26, 3)\n",
        "]\n"
      ]
    },
    {
      "cell_type": "code",
      "metadata": {
        "id": "dVzDqQwhNC4K"
      },
      "source": [
        "py_list = [\n",
        "    np.full(3, 8),\n",
        "    np.array([33, -15, 26]),\n",
        "    np.linspace(17, 26, 3)\n",
        "]"
      ],
      "execution_count": null,
      "outputs": []
    },
    {
      "cell_type": "code",
      "metadata": {
        "colab": {
          "base_uri": "https://localhost:8080/"
        },
        "id": "EPaFyU4pN3Xp",
        "outputId": "63807fdf-9967-4faa-ba45-95fa24ff094c"
      },
      "source": [
        "result_arr = []\n",
        "for i in py_list:\n",
        "  result_arr.append(np.mean(i))\n",
        "  result_arr.append(np.std(i))\n",
        "  result_arr.append(np.median(i))\n",
        "\n",
        "print(result_arr)"
      ],
      "execution_count": null,
      "outputs": [
        {
          "output_type": "stream",
          "name": "stdout",
          "text": [
            "[8.0, 0.0, 8.0, 14.666666666666666, 21.171259344267224, 26.0, 21.5, 3.6742346141747673, 21.5]\n"
          ]
        }
      ]
    }
  ]
}
