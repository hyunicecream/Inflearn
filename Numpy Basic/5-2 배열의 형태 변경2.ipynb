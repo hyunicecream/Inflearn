{
  "nbformat": 4,
  "nbformat_minor": 0,
  "metadata": {
    "colab": {
      "name": "5-2 배열의 형태 변경2.ipynb",
      "provenance": [],
      "collapsed_sections": [],
      "authorship_tag": "ABX9TyOTCoaaa33V1kKIBa2LptDd",
      "include_colab_link": true
    },
    "kernelspec": {
      "name": "python3",
      "display_name": "Python 3"
    },
    "language_info": {
      "name": "python"
    }
  },
  "cells": [
    {
      "cell_type": "markdown",
      "metadata": {
        "id": "view-in-github",
        "colab_type": "text"
      },
      "source": [
        "<a href=\"https://colab.research.google.com/github/hyunicecream/Inflearn/blob/main/5-2%20%EB%B0%B0%EC%97%B4%EC%9D%98%20%ED%98%95%ED%83%9C%20%EB%B3%80%EA%B2%BD2.ipynb\" target=\"_parent\"><img src=\"https://colab.research.google.com/assets/colab-badge.svg\" alt=\"Open In Colab\"/></a>"
      ]
    },
    {
      "cell_type": "code",
      "metadata": {
        "id": "8ok6Maqzu90A"
      },
      "source": [
        "import numpy as np"
      ],
      "execution_count": null,
      "outputs": []
    },
    {
      "cell_type": "code",
      "metadata": {
        "colab": {
          "base_uri": "https://localhost:8080/"
        },
        "id": "HJqwiRD9vBUy",
        "outputId": "23c43957-b7aa-4c9f-fb39-8bef6ed7f1c6"
      },
      "source": [
        "arr = np.arange(12)\n",
        "print(arr)"
      ],
      "execution_count": null,
      "outputs": [
        {
          "output_type": "stream",
          "name": "stdout",
          "text": [
            "[ 0  1  2  3  4  5  6  7  8  9 10 11]\n"
          ]
        }
      ]
    },
    {
      "cell_type": "markdown",
      "metadata": {
        "id": "W2_O_-pOvOXR"
      },
      "source": [
        "resize()!! reshape과 비슷하지만 원본데이터를 변경 한다는 차이점이 있다. "
      ]
    },
    {
      "cell_type": "code",
      "metadata": {
        "colab": {
          "base_uri": "https://localhost:8080/"
        },
        "id": "iMggViY7vGvT",
        "outputId": "984ef93d-7b07-43ac-b078-06eeb597de71"
      },
      "source": [
        "# resize, reshape과 비슷하지만 원본데이터를 변경 한다는 차이점이 있다. \n",
        "arr.resize(3, 4)\n",
        "print(arr)\n",
        "\n",
        "# ravel() : 1차원 배열로 변경해주는 함수\n",
        "arr = arr.ravel()\n",
        "print(arr)"
      ],
      "execution_count": null,
      "outputs": [
        {
          "output_type": "stream",
          "name": "stdout",
          "text": [
            "[[ 0  1  2  3]\n",
            " [ 4  5  6  7]\n",
            " [ 8  9 10 11]]\n",
            "[ 0  1  2  3  4  5  6  7  8  9 10 11]\n"
          ]
        }
      ]
    },
    {
      "cell_type": "code",
      "metadata": {
        "colab": {
          "base_uri": "https://localhost:8080/"
        },
        "id": "YA0lhQL7vYL0",
        "outputId": "396b1c4f-d689-4a9a-a1a8-0774365d548d"
      },
      "source": [
        "###############################\n",
        "## 1차원 배열을 2차원 배열로 만들기 ##\n",
        "###############################\n",
        "arr = np.arange(1, 13)\n",
        "print(arr)\n",
        "print(arr.ndim)\n",
        "print(\"=\"*40)\n",
        "\n",
        "# 2차원 배열\n",
        "arr = arr.reshape(3, -1) # -1 : 을 입력하면 자동으로 -1부분에 들어갈 값이 자동으로 계산된다. \n",
        "print(arr)\n",
        "print(arr.ndim)\n",
        "print(\"=\"*40)\n",
        "\n",
        "# 3차원 배열\n",
        "arr = arr.reshape(3, 2, -1)\n",
        "print(arr)\n",
        "print(arr.ndim)\n",
        "print(\"=\"*40)"
      ],
      "execution_count": null,
      "outputs": [
        {
          "output_type": "stream",
          "name": "stdout",
          "text": [
            "[ 1  2  3  4  5  6  7  8  9 10 11 12]\n",
            "1\n",
            "========================================\n",
            "[[ 1  2  3  4]\n",
            " [ 5  6  7  8]\n",
            " [ 9 10 11 12]]\n",
            "2\n",
            "========================================\n",
            "[[[ 1  2]\n",
            "  [ 3  4]]\n",
            "\n",
            " [[ 5  6]\n",
            "  [ 7  8]]\n",
            "\n",
            " [[ 9 10]\n",
            "  [11 12]]]\n",
            "3\n",
            "========================================\n"
          ]
        }
      ]
    },
    {
      "cell_type": "code",
      "metadata": {
        "id": "9PRTVoY9v2Yi"
      },
      "source": [
        ""
      ],
      "execution_count": null,
      "outputs": []
    }
  ]
}
