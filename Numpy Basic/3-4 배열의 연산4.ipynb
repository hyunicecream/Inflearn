{
  "nbformat": 4,
  "nbformat_minor": 0,
  "metadata": {
    "colab": {
      "name": "3-4 배열의 연산4.ipynb",
      "provenance": [],
      "collapsed_sections": [],
      "authorship_tag": "ABX9TyNEeJooCZl717LDQ+muzVrV",
      "include_colab_link": true
    },
    "kernelspec": {
      "name": "python3",
      "display_name": "Python 3"
    },
    "language_info": {
      "name": "python"
    }
  },
  "cells": [
    {
      "cell_type": "markdown",
      "metadata": {
        "id": "view-in-github",
        "colab_type": "text"
      },
      "source": [
        "<a href=\"https://colab.research.google.com/github/hyunicecream/Inflearn/blob/main/3-4%20%EB%B0%B0%EC%97%B4%EC%9D%98%20%EC%97%B0%EC%82%B04.ipynb\" target=\"_parent\"><img src=\"https://colab.research.google.com/assets/colab-badge.svg\" alt=\"Open In Colab\"/></a>"
      ]
    },
    {
      "cell_type": "code",
      "metadata": {
        "id": "vAfh6MSlhOcH"
      },
      "source": [
        "import numpy as np"
      ],
      "execution_count": null,
      "outputs": []
    },
    {
      "cell_type": "code",
      "metadata": {
        "colab": {
          "base_uri": "https://localhost:8080/"
        },
        "id": "9xnMk1n8hQut",
        "outputId": "f330472c-b8da-469e-ab2e-d3d0b79004cb"
      },
      "source": [
        "# 비교 연산\n",
        "arr1 = np.array([[1, 2, 3],\n",
        "                 [4, 5, 6]])\n",
        "arr2 = np.array([[1, 0, 3],\n",
        "                 [4, -2, 9]])\n",
        "\n",
        "print(arr1 == arr2)\n",
        "print(arr1 > arr2)\n",
        "print(arr1 >= arr2)\n",
        "\n",
        "# 두개의 배열이 같은지 확인\n",
        "print(np.array_equal(arr1, arr2))"
      ],
      "execution_count": null,
      "outputs": [
        {
          "output_type": "stream",
          "name": "stdout",
          "text": [
            "[[ True False  True]\n",
            " [ True False False]]\n",
            "[[False  True False]\n",
            " [False  True False]]\n",
            "[[ True  True  True]\n",
            " [ True  True False]]\n",
            "False\n"
          ]
        }
      ]
    },
    {
      "cell_type": "code",
      "metadata": {
        "colab": {
          "base_uri": "https://localhost:8080/"
        },
        "id": "l3cnSq8zmECP",
        "outputId": "10788495-e6dd-4442-d289-786905bd7762"
      },
      "source": [
        "# 삼각 함수\n",
        "arr = np.array([[1,2,3],\n",
        "                [4,5,6]])\n",
        "\n",
        "# sin()\n",
        "print(np.sin(arr))\n",
        "# cos()\n",
        "print(np.cos(arr))\n",
        "# tan()\n",
        "print(np.tan(arr))\n",
        "\n",
        "# pi 파이값\n",
        "print(np.pi)"
      ],
      "execution_count": null,
      "outputs": [
        {
          "output_type": "stream",
          "name": "stdout",
          "text": [
            "[[ 0.84147098  0.90929743  0.14112001]\n",
            " [-0.7568025  -0.95892427 -0.2794155 ]]\n",
            "[[ 0.54030231 -0.41614684 -0.9899925 ]\n",
            " [-0.65364362  0.28366219  0.96017029]]\n",
            "[[ 1.55740772 -2.18503986 -0.14254654]\n",
            " [ 1.15782128 -3.38051501 -0.29100619]]\n",
            "3.141592653589793\n"
          ]
        }
      ]
    }
  ]
}
