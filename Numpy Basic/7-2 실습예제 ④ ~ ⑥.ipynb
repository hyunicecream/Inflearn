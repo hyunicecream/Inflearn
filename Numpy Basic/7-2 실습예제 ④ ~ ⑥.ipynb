{
  "nbformat": 4,
  "nbformat_minor": 0,
  "metadata": {
    "colab": {
      "name": "7-2 실습예제 ④ ~ ⑥.ipynb",
      "provenance": [],
      "collapsed_sections": [],
      "authorship_tag": "ABX9TyPNcmIrGdOHUlHcwAsBEpUZ",
      "include_colab_link": true
    },
    "kernelspec": {
      "name": "python3",
      "display_name": "Python 3"
    },
    "language_info": {
      "name": "python"
    }
  },
  "cells": [
    {
      "cell_type": "markdown",
      "metadata": {
        "id": "view-in-github",
        "colab_type": "text"
      },
      "source": [
        "<a href=\"https://colab.research.google.com/github/hyunicecream/Inflearn/blob/main/7-2%20%EC%8B%A4%EC%8A%B5%EC%98%88%EC%A0%9C%20%E2%91%A3%20~%20%E2%91%A5.ipynb\" target=\"_parent\"><img src=\"https://colab.research.google.com/assets/colab-badge.svg\" alt=\"Open In Colab\"/></a>"
      ]
    },
    {
      "cell_type": "code",
      "metadata": {
        "id": "ELfqtaFtOTsn"
      },
      "source": [
        "import numpy as np"
      ],
      "execution_count": null,
      "outputs": []
    },
    {
      "cell_type": "markdown",
      "metadata": {
        "id": "qhATiuG9OeJl"
      },
      "source": [
        "< 실습예제 4 >\n",
        "- 다음과 같은 numpy.array가 존재한다. 이 배열을 행을 기준으로 3개의 배열로 분할하여 분할된 각 배열의 원소들을 제곱한 결과를 다시 원본 배열에 행을 기준으로 병합하시오. (단, 마지막 출력 결과는 원본 배열과 차원이 같아야 한다)"
      ]
    },
    {
      "cell_type": "code",
      "metadata": {
        "colab": {
          "base_uri": "https://localhost:8080/"
        },
        "id": "IbA9fZYeObun",
        "outputId": "045dbb2f-8621-4867-d9c4-df46d5ad0a65"
      },
      "source": [
        "arr = np.arange(2, 20, 2).reshape((3, 3))\n",
        "print(arr)"
      ],
      "execution_count": null,
      "outputs": [
        {
          "output_type": "stream",
          "name": "stdout",
          "text": [
            "[[ 2  4  6]\n",
            " [ 8 10 12]\n",
            " [14 16 18]]\n"
          ]
        }
      ]
    },
    {
      "cell_type": "code",
      "metadata": {
        "colab": {
          "base_uri": "https://localhost:8080/"
        },
        "id": "qGEsFDJBOkyK",
        "outputId": "ecdc56fb-9d05-4349-f536-13ab68c30c42"
      },
      "source": [
        "# 배열 분할\n",
        "s1 = np.vsplit(arr, 3)\n",
        "print(s1)\n",
        "print(\"=\"*30)\n",
        "# 제곱\n",
        "s2 = np.square(s1)\n",
        "print(s2)\n",
        "print(\"=\"*30)\n",
        "# 차원 축소\n",
        "s3 = np.squeeze(s2, axis=1)\n",
        "print(s3)\n",
        "print(\"=\"*30)\n",
        "\n",
        "result_arr = np.vstack((arr, s3))\n",
        "print(result_arr)"
      ],
      "execution_count": null,
      "outputs": [
        {
          "output_type": "stream",
          "name": "stdout",
          "text": [
            "[array([[2, 4, 6]]), array([[ 8, 10, 12]]), array([[14, 16, 18]])]\n",
            "==============================\n",
            "[[[  4  16  36]]\n",
            "\n",
            " [[ 64 100 144]]\n",
            "\n",
            " [[196 256 324]]]\n",
            "==============================\n",
            "[[  4  16  36]\n",
            " [ 64 100 144]\n",
            " [196 256 324]]\n",
            "==============================\n",
            "[[  2   4   6]\n",
            " [  8  10  12]\n",
            " [ 14  16  18]\n",
            " [  4  16  36]\n",
            " [ 64 100 144]\n",
            " [196 256 324]]\n"
          ]
        }
      ]
    },
    {
      "cell_type": "markdown",
      "metadata": {
        "id": "BPEs_KH5QZa4"
      },
      "source": [
        "< 실습예제 5 > \n",
        "- 삼각함수의 특수각(0deg, 30deg, 60deg, 90deg)을 numpy.array로 생성한 후 특수각에 해당하는 sin, cos, tan 값을 각각 구하여 파이썬 list에 담은 다음 해당 list에 들어있는 값들을 출력하시오. (단, 값이 무한대라면 \"INF\" 문자열을 출력할 것)\n",
        "- numpy의 삼각함수는 radian 값을 사용하기 때문에 degree를 radian으로 변경해야합니다."
      ]
    },
    {
      "cell_type": "code",
      "metadata": {
        "colab": {
          "base_uri": "https://localhost:8080/"
        },
        "id": "sfpVjC-RQIex",
        "outputId": "8b50d546-8574-4ffd-e539-faec5e8e6a20"
      },
      "source": [
        "# 특수각\n",
        "arr = np.arange(0, 91, 30)\n",
        "print(arr)\n",
        "\n",
        "lst = []\n",
        "lst.append(np.sin(arr * np.pi / 180))\n",
        "lst.append(np.cos(arr * np.pi / 180))\n",
        "lst.append(np.tan(arr * np.pi / 180))\n",
        "\n",
        "for value_lst in lst:\n",
        "  for value in value_lst:\n",
        "    if value > 99999999:\n",
        "      print(\"INF\")\n",
        "      continue\n",
        "    print(value)\n",
        "  print()"
      ],
      "execution_count": null,
      "outputs": [
        {
          "output_type": "stream",
          "name": "stdout",
          "text": [
            "[ 0 30 60 90]\n",
            "0.0\n",
            "0.49999999999999994\n",
            "0.8660254037844386\n",
            "1.0\n",
            "\n",
            "1.0\n",
            "0.8660254037844387\n",
            "0.5000000000000001\n",
            "6.123233995736766e-17\n",
            "\n",
            "0.0\n",
            "0.5773502691896257\n",
            "1.7320508075688767\n",
            "INF\n",
            "\n"
          ]
        }
      ]
    },
    {
      "cell_type": "markdown",
      "metadata": {
        "id": "5HaPzFohQmhL"
      },
      "source": [
        "< 실습예제 6 >\n",
        "- numpy.array를 이용하여 다음과 같은 패턴을 출력하시오. (단, 출력 시 반복문을 사용하여 출력한다)\n",
        "\n",
        "---\n",
        "\n",
        "\n",
        "0 1 0 1 0 1 0   \n",
        "1 0 1 0 1 0 1   \n",
        "0 1 0 1 0 1 0   \n",
        "1 0 1 0 1 0 1   \n",
        "0 1 0 1 0 1 0   \n",
        "1 0 1 0 1 0 1   \n",
        "0 1 0 1 0 1 0 "
      ]
    },
    {
      "cell_type": "code",
      "metadata": {
        "colab": {
          "base_uri": "https://localhost:8080/"
        },
        "id": "FwnRhHZ1QrnN",
        "outputId": "1f2b9b30-9f5a-47a5-c02b-e8232f26479c"
      },
      "source": [
        "arr = np.zeros((7, 7), dtype=int)\n",
        "\n",
        "# 슬라이싱\n",
        "# 처음부터 끝까지 2step / [::2] = 행\n",
        "# 첫번째 열부터 끝까지 2step / [1::2] = 열\n",
        "arr[::2, 1::2] =1 \n",
        "\n",
        "# 첫번째 행부터 끝까지 2step / [1::2] = 행\n",
        "# 처음부터 끝까지 2step / [::2] = 열\n",
        "arr[1::2, ::2] = 1\n",
        "\n",
        "for row in range(7):\n",
        "  for col in range(7):\n",
        "    print(arr[row, col], end=\"\")\n",
        "  print()"
      ],
      "execution_count": null,
      "outputs": [
        {
          "output_type": "stream",
          "name": "stdout",
          "text": [
            "0101010\n",
            "1010101\n",
            "0101010\n",
            "1010101\n",
            "0101010\n",
            "1010101\n",
            "0101010\n"
          ]
        }
      ]
    }
  ]
}
