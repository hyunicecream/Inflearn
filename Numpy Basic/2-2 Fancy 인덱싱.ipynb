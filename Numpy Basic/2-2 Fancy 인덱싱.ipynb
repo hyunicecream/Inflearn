{
  "nbformat": 4,
  "nbformat_minor": 0,
  "metadata": {
    "colab": {
      "name": "2-2 Fancy 인덱싱.ipynb",
      "provenance": [],
      "collapsed_sections": [],
      "authorship_tag": "ABX9TyPTpxr2zsVqk4mXw/duhGZi",
      "include_colab_link": true
    },
    "kernelspec": {
      "name": "python3",
      "display_name": "Python 3"
    },
    "language_info": {
      "name": "python"
    }
  },
  "cells": [
    {
      "cell_type": "markdown",
      "metadata": {
        "id": "view-in-github",
        "colab_type": "text"
      },
      "source": [
        "<a href=\"https://colab.research.google.com/github/hyunicecream/Inflearn/blob/main/2_2_Fancy_%EC%9D%B8%EB%8D%B1%EC%8B%B1.ipynb\" target=\"_parent\"><img src=\"https://colab.research.google.com/assets/colab-badge.svg\" alt=\"Open In Colab\"/></a>"
      ]
    },
    {
      "cell_type": "code",
      "metadata": {
        "id": "hT_a-yonF8jI"
      },
      "source": [
        "import numpy as np"
      ],
      "execution_count": null,
      "outputs": []
    },
    {
      "cell_type": "code",
      "metadata": {
        "colab": {
          "base_uri": "https://localhost:8080/"
        },
        "id": "27d8LJfaGBL1",
        "outputId": "8de9c367-bf65-46c3-c469-fd92c1a5cd22"
      },
      "source": [
        "# 1차원 배열\n",
        "arr = np.array([5, 10, 15, 20, 25, 30])\n",
        "print(arr[[0,2,4]]) # 0번째 2번째 4번째 원소"
      ],
      "execution_count": null,
      "outputs": [
        {
          "output_type": "stream",
          "name": "stdout",
          "text": [
            "[ 5 15 25]\n"
          ]
        }
      ]
    },
    {
      "cell_type": "code",
      "metadata": {
        "colab": {
          "base_uri": "https://localhost:8080/"
        },
        "id": "JJl7lxmOGjMc",
        "outputId": "a45b88a4-5c8e-48e8-b164-3ead3add8f69"
      },
      "source": [
        "# 2차원 배열\n",
        "arr = np.array([[5, 10, 15, 20]\n",
        "                ,[25,30,35,40]\n",
        "                ,[45,50,55,60]])\n",
        "\n",
        "# 0행과 2행에 해당하는 값에 대해서 2열부터 끝까지\n",
        "print(arr[[0, 2], 2:])\n",
        "\n",
        "# 1행부터 끝까지 2열과 3열에 해당하는 값을 가져오겠다.\n",
        "print(arr[1:, [2, 3]])"
      ],
      "execution_count": null,
      "outputs": [
        {
          "output_type": "stream",
          "name": "stdout",
          "text": [
            "[[15 20]\n",
            " [55 60]]\n",
            "[[35 40]\n",
            " [55 60]]\n"
          ]
        }
      ]
    }
  ]
}
