{
  "nbformat": 4,
  "nbformat_minor": 0,
  "metadata": {
    "colab": {
      "name": "1-6. 시드(seed)값을 통한 난수 생성 제어.ipynb",
      "provenance": [],
      "collapsed_sections": [],
      "authorship_tag": "ABX9TyMc5mozewDioOSlsuu7GSC1",
      "include_colab_link": true
    },
    "kernelspec": {
      "name": "python3",
      "display_name": "Python 3"
    },
    "language_info": {
      "name": "python"
    }
  },
  "cells": [
    {
      "cell_type": "markdown",
      "metadata": {
        "id": "view-in-github",
        "colab_type": "text"
      },
      "source": [
        "<a href=\"https://colab.research.google.com/github/hyunicecream/Inflearn/blob/main/1_6_%EC%8B%9C%EB%93%9C(seed)%EA%B0%92%EC%9D%84_%ED%86%B5%ED%95%9C_%EB%82%9C%EC%88%98_%EC%83%9D%EC%84%B1_%EC%A0%9C%EC%96%B4.ipynb\" target=\"_parent\"><img src=\"https://colab.research.google.com/assets/colab-badge.svg\" alt=\"Open In Colab\"/></a>"
      ]
    },
    {
      "cell_type": "code",
      "metadata": {
        "id": "cuSv_Fl9B4OW"
      },
      "source": [
        "import numpy as np"
      ],
      "execution_count": null,
      "outputs": []
    },
    {
      "cell_type": "code",
      "metadata": {
        "colab": {
          "base_uri": "https://localhost:8080/"
        },
        "id": "6RDD03vOB85T",
        "outputId": "05119d84-7cc9-4921-e9a6-a06d2e35cbeb"
      },
      "source": [
        "arr = np.random.rand(10)\n",
        "print(\"난수 발생1 \\n\", arr)\n",
        "\n",
        "arr = np.random.rand(10)\n",
        "print(\"난수 발생2 \\n\", arr)"
      ],
      "execution_count": null,
      "outputs": [
        {
          "output_type": "stream",
          "name": "stdout",
          "text": [
            "난수 발생1 \n",
            " [0.43590151 0.49378376 0.35350318 0.96533743 0.25744654 0.72262112\n",
            " 0.94599321 0.8676382  0.70902342 0.09089546]\n",
            "난수 발생2 \n",
            " [0.32312365 0.71204074 0.60219413 0.92431004 0.45343206 0.57971207\n",
            " 0.81901353 0.26928644 0.14048036 0.20749494]\n"
          ]
        }
      ]
    },
    {
      "cell_type": "code",
      "metadata": {
        "colab": {
          "base_uri": "https://localhost:8080/"
        },
        "id": "aP4osnLiCPWp",
        "outputId": "29f75e5e-8f5a-4db9-e885-6a12a2d198f6"
      },
      "source": [
        "# np.random.seed 시작점을 내가 지정\n",
        "np.random.seed(1)\n",
        "arr = np.random.rand(10)\n",
        "print(\"난수 발생1 \\n\", arr)\n",
        "\n",
        "np.random.seed(1)\n",
        "arr = np.random.rand(10)\n",
        "print(\"난수 발생2 \\n\", arr)"
      ],
      "execution_count": null,
      "outputs": [
        {
          "output_type": "stream",
          "name": "stdout",
          "text": [
            "난수 발생1 \n",
            " [4.17022005e-01 7.20324493e-01 1.14374817e-04 3.02332573e-01\n",
            " 1.46755891e-01 9.23385948e-02 1.86260211e-01 3.45560727e-01\n",
            " 3.96767474e-01 5.38816734e-01]\n",
            "난수 발생2 \n",
            " [4.17022005e-01 7.20324493e-01 1.14374817e-04 3.02332573e-01\n",
            " 1.46755891e-01 9.23385948e-02 1.86260211e-01 3.45560727e-01\n",
            " 3.96767474e-01 5.38816734e-01]\n"
          ]
        }
      ]
    },
    {
      "cell_type": "code",
      "metadata": {
        "colab": {
          "base_uri": "https://localhost:8080/"
        },
        "id": "scGKS3qTCm3k",
        "outputId": "efe7bc2a-1ee8-4917-d1fe-b09f36afa1e5"
      },
      "source": [
        "arr = np.random.randint(1, 45, 10)\n",
        "print(\"금주의 로또번호는 :\", arr)"
      ],
      "execution_count": null,
      "outputs": [
        {
          "output_type": "stream",
          "name": "stdout",
          "text": [
            "금주의 로또번호는 : [19 16  1  5 26 35 24  8 27 26]\n"
          ]
        }
      ]
    }
  ]
}
