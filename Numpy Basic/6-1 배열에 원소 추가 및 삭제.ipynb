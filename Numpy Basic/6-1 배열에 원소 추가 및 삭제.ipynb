{
  "nbformat": 4,
  "nbformat_minor": 0,
  "metadata": {
    "colab": {
      "name": "6-1 배열에 원소 추가 및 삭제.ipynb",
      "provenance": [],
      "collapsed_sections": [],
      "authorship_tag": "ABX9TyMiAkxxVIV/NtpppgLA5M+t",
      "include_colab_link": true
    },
    "kernelspec": {
      "name": "python3",
      "display_name": "Python 3"
    },
    "language_info": {
      "name": "python"
    }
  },
  "cells": [
    {
      "cell_type": "markdown",
      "metadata": {
        "id": "view-in-github",
        "colab_type": "text"
      },
      "source": [
        "<a href=\"https://colab.research.google.com/github/hyunicecream/Inflearn/blob/main/6-1%20%EB%B0%B0%EC%97%B4%EC%97%90%20%EC%9B%90%EC%86%8C%20%EC%B6%94%EA%B0%80%20%EB%B0%8F%20%EC%82%AD%EC%A0%9C.ipynb\" target=\"_parent\"><img src=\"https://colab.research.google.com/assets/colab-badge.svg\" alt=\"Open In Colab\"/></a>"
      ]
    },
    {
      "cell_type": "code",
      "metadata": {
        "id": "ZmiQGFw9CFQc"
      },
      "source": [
        "import numpy as np"
      ],
      "execution_count": null,
      "outputs": []
    },
    {
      "cell_type": "code",
      "metadata": {
        "colab": {
          "base_uri": "https://localhost:8080/"
        },
        "id": "1XDV_o6ACK6v",
        "outputId": "7de18b6b-c46a-4e60-ae1b-2caba642c685"
      },
      "source": [
        "# python list\n",
        "arr = [1,2,3,4,5,6,7,8]\n",
        "arr.insert(2, 50)\n",
        "print(arr)"
      ],
      "execution_count": null,
      "outputs": [
        {
          "output_type": "stream",
          "name": "stdout",
          "text": [
            "[1, 2, 50, 3, 4, 5, 6, 7, 8]\n"
          ]
        }
      ]
    },
    {
      "cell_type": "code",
      "metadata": {
        "colab": {
          "base_uri": "https://localhost:8080/"
        },
        "id": "xr-U5gvMCUGv",
        "outputId": "46fa3d48-8193-4c35-c35f-edfadadb03f2"
      },
      "source": [
        "# 1차원 배열\n",
        "arr = np.arange(1, 9)\n",
        "arr = np.insert(arr, 2, 50)\n",
        "print(arr)"
      ],
      "execution_count": null,
      "outputs": [
        {
          "output_type": "stream",
          "name": "stdout",
          "text": [
            "[ 1  2 50  3  4  5  6  7  8]\n"
          ]
        }
      ]
    },
    {
      "cell_type": "code",
      "metadata": {
        "colab": {
          "base_uri": "https://localhost:8080/"
        },
        "id": "gpDFydJICcMK",
        "outputId": "d46529a6-95a9-48fe-e9e3-8219e81ab5c3"
      },
      "source": [
        "# 2 차원 배열\n",
        "arr = np.arange(1, 13).reshape(3, 4)\n",
        "arr = np.insert(arr, 2, 50, axis=0)\n",
        "print(arr)\n",
        "print('='*30)\n",
        "\n",
        "arr = np.arange(1, 13).reshape(3, 4)\n",
        "arr = np.insert(arr, 2, 50, axis=1)\n",
        "print(arr)\n",
        "print('='*30)\n",
        "\n",
        "# axis 값을 주지 않으면 1차원 배열로 변형을 한 다음에 값을 삽입한다. \n",
        "arr = np.arange(1, 13).reshape(3, 4)\n",
        "arr = np.insert(arr, 2, 50)\n",
        "print(arr)"
      ],
      "execution_count": null,
      "outputs": [
        {
          "output_type": "stream",
          "name": "stdout",
          "text": [
            "[[ 1  2  3  4]\n",
            " [ 5  6  7  8]\n",
            " [50 50 50 50]\n",
            " [ 9 10 11 12]]\n",
            "==============================\n",
            "[[ 1  2 50  3  4]\n",
            " [ 5  6 50  7  8]\n",
            " [ 9 10 50 11 12]]\n",
            "==============================\n",
            "[ 1  2 50  3  4  5  6  7  8  9 10 11 12]\n"
          ]
        }
      ]
    },
    {
      "cell_type": "code",
      "metadata": {
        "colab": {
          "base_uri": "https://localhost:8080/"
        },
        "id": "-oaGILBnCpit",
        "outputId": "ea418009-2642-48c5-8eb3-97ca46069643"
      },
      "source": [
        "# delect() 특정위치의 원소 삭제\n",
        "arr = np.arange(1, 13).reshape(3, 4)\n",
        "print(arr)\n",
        "print('='*30)\n",
        "arr = np.delete(arr, 2, axis=0)\n",
        "print(arr)\n",
        "print('='*30)\n",
        "arr = np.delete(arr, 2, axis=1)\n",
        "print(arr)\n",
        "print('='*30)\n",
        "arr = np.delete(arr, 2)\n",
        "print(arr)"
      ],
      "execution_count": null,
      "outputs": [
        {
          "output_type": "stream",
          "name": "stdout",
          "text": [
            "[[ 1  2  3  4]\n",
            " [ 5  6  7  8]\n",
            " [ 9 10 11 12]]\n",
            "==============================\n",
            "[[1 2 3 4]\n",
            " [5 6 7 8]]\n",
            "==============================\n",
            "[[1 2 4]\n",
            " [5 6 8]]\n",
            "==============================\n",
            "[1 2 5 6 8]\n"
          ]
        }
      ]
    }
  ]
}
