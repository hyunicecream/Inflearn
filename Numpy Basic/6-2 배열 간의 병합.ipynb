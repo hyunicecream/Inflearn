{
  "nbformat": 4,
  "nbformat_minor": 0,
  "metadata": {
    "colab": {
      "name": "6-2 배열 간의 병합.ipynb",
      "provenance": [],
      "collapsed_sections": [],
      "authorship_tag": "ABX9TyOE6VRMRVr5RbZEUW7Ugz9r",
      "include_colab_link": true
    },
    "kernelspec": {
      "name": "python3",
      "display_name": "Python 3"
    },
    "language_info": {
      "name": "python"
    }
  },
  "cells": [
    {
      "cell_type": "markdown",
      "metadata": {
        "id": "view-in-github",
        "colab_type": "text"
      },
      "source": [
        "<a href=\"https://colab.research.google.com/github/hyunicecream/Inflearn/blob/main/6-2%20%EB%B0%B0%EC%97%B4%20%EA%B0%84%EC%9D%98%20%EB%B3%91%ED%95%A9.ipynb\" target=\"_parent\"><img src=\"https://colab.research.google.com/assets/colab-badge.svg\" alt=\"Open In Colab\"/></a>"
      ]
    },
    {
      "cell_type": "code",
      "metadata": {
        "id": "ex1Q-Of9DhYs"
      },
      "source": [
        "import numpy as np"
      ],
      "execution_count": null,
      "outputs": []
    },
    {
      "cell_type": "code",
      "metadata": {
        "colab": {
          "base_uri": "https://localhost:8080/"
        },
        "id": "m9dHFUIWDlY5",
        "outputId": "818c7631-8132-445f-eeae-c0875115b3c2"
      },
      "source": [
        "# append()  배열의 마지막 부분에 또다른 부분을 추가하는 함수\n",
        "arr1 = np.arange(1, 13).reshape(3, 4)\n",
        "arr2 = np.arange(13, 25).reshape(3, 4)\n",
        "\n",
        "print(arr1)\n",
        "print(\"=\"*20)\n",
        "print(arr2, end=\"\\n\\n\")\n",
        "\n",
        "# axis = 0\n",
        "arr3 = np.append(arr1, arr2, axis=0)\n",
        "print(arr3, end=\"\\n\\n\")\n",
        "\n",
        "# axis = 1\n",
        "arr4 = np.append(arr1, arr2, axis=1)\n",
        "print(arr4, end=\"\\n\\n\")\n",
        "\n",
        "# axis = x\n",
        "arr5 = np.append(arr1, arr2)\n",
        "print(arr5, end=\"\\n\\n\")"
      ],
      "execution_count": null,
      "outputs": [
        {
          "output_type": "stream",
          "name": "stdout",
          "text": [
            "[[ 1  2  3  4]\n",
            " [ 5  6  7  8]\n",
            " [ 9 10 11 12]]\n",
            "====================\n",
            "[[13 14 15 16]\n",
            " [17 18 19 20]\n",
            " [21 22 23 24]]\n",
            "\n",
            "[[ 1  2  3  4]\n",
            " [ 5  6  7  8]\n",
            " [ 9 10 11 12]\n",
            " [13 14 15 16]\n",
            " [17 18 19 20]\n",
            " [21 22 23 24]]\n",
            "\n",
            "[[ 1  2  3  4 13 14 15 16]\n",
            " [ 5  6  7  8 17 18 19 20]\n",
            " [ 9 10 11 12 21 22 23 24]]\n",
            "\n",
            "[ 1  2  3  4  5  6  7  8  9 10 11 12 13 14 15 16 17 18 19 20 21 22 23 24]\n",
            "\n"
          ]
        }
      ]
    },
    {
      "cell_type": "code",
      "metadata": {
        "colab": {
          "base_uri": "https://localhost:8080/"
        },
        "id": "M3x5uoTxEMDZ",
        "outputId": "887c438a-601f-438d-9246-0d790755902f"
      },
      "source": [
        "# vstack() axis=0을 기준으로 배열을 병합하는 함수\u001d\n",
        "# hstack() axis=1을 기준으로 배열을 병합하는 함수\u001d\n",
        "\n",
        "arr1 = np.arange(1, 7).reshape(2, 3)\n",
        "arr2 = np.arange(7, 13).reshape(2, 3)\n",
        "\n",
        "arr3 = np.vstack((arr1, arr2))\n",
        "print(arr3)\n",
        "print(\"=\"*30)\n",
        "arr3 = np.hstack((arr1, arr2))\n",
        "print(arr3)"
      ],
      "execution_count": null,
      "outputs": [
        {
          "output_type": "stream",
          "name": "stdout",
          "text": [
            "[[ 1  2  3]\n",
            " [ 4  5  6]\n",
            " [ 7  8  9]\n",
            " [10 11 12]]\n",
            "==============================\n",
            "[[ 1  2  3  7  8  9]\n",
            " [ 4  5  6 10 11 12]]\n"
          ]
        }
      ]
    },
    {
      "cell_type": "code",
      "metadata": {
        "colab": {
          "base_uri": "https://localhost:8080/"
        },
        "id": "iw_8Anb0FSUY",
        "outputId": "83b3eae5-d0cc-45b9-885a-55fb6145e2c7"
      },
      "source": [
        "# concatencate() : axis 값을 기준으로 두 배열을 병합하는 함수\n",
        "arr1 = np.arange(1, 7).reshape(2, 3)\n",
        "arr2 = np.arange(7, 13).reshape(2, 3)\n",
        "\n",
        "arr3 = np.concatenate([arr1, arr2], axis=0)\n",
        "print(arr3, end=\"\\n\\n\")\n",
        "\n",
        "arr3 = np.concatenate([arr1, arr2], axis=1)\n",
        "print(arr3)"
      ],
      "execution_count": null,
      "outputs": [
        {
          "output_type": "stream",
          "name": "stdout",
          "text": [
            "[[ 1  2  3]\n",
            " [ 4  5  6]\n",
            " [ 7  8  9]\n",
            " [10 11 12]]\n",
            "\n",
            "[[ 1  2  3  7  8  9]\n",
            " [ 4  5  6 10 11 12]]\n"
          ]
        }
      ]
    }
  ]
}
