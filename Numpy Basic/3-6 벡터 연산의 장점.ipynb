{
  "nbformat": 4,
  "nbformat_minor": 0,
  "metadata": {
    "colab": {
      "name": "3-6 벡터 연산의 장점.ipynb",
      "provenance": [],
      "collapsed_sections": [],
      "authorship_tag": "ABX9TyMtG+9hcxtWZf92/NohXw0R",
      "include_colab_link": true
    },
    "kernelspec": {
      "name": "python3",
      "display_name": "Python 3"
    },
    "language_info": {
      "name": "python"
    }
  },
  "cells": [
    {
      "cell_type": "markdown",
      "metadata": {
        "id": "view-in-github",
        "colab_type": "text"
      },
      "source": [
        "<a href=\"https://colab.research.google.com/github/hyunicecream/Inflearn/blob/main/3-6%20%EB%B2%A1%ED%84%B0%20%EC%97%B0%EC%82%B0%EC%9D%98%20%EC%9E%A5%EC%A0%90.ipynb\" target=\"_parent\"><img src=\"https://colab.research.google.com/assets/colab-badge.svg\" alt=\"Open In Colab\"/></a>"
      ]
    },
    {
      "cell_type": "code",
      "metadata": {
        "id": "Yd7JjzWUpYYb"
      },
      "source": [
        "import numpy as np\n",
        "import time"
      ],
      "execution_count": null,
      "outputs": []
    },
    {
      "cell_type": "code",
      "metadata": {
        "id": "jhDKh-GDpb0a"
      },
      "source": [
        "arr = np.arange(99999999)"
      ],
      "execution_count": null,
      "outputs": []
    },
    {
      "cell_type": "code",
      "metadata": {
        "colab": {
          "base_uri": "https://localhost:8080/"
        },
        "id": "P-CsZ6CIpv7I",
        "outputId": "18641d50-3dc3-4d83-c5dc-ff601878d077"
      },
      "source": [
        "# for\n",
        "sum = 0;\n",
        "before = time.time()\n",
        "for i in arr:\n",
        "  sum += i\n",
        "after = time.time()\n",
        "print(sum, after - before, \"초\")"
      ],
      "execution_count": null,
      "outputs": [
        {
          "output_type": "stream",
          "name": "stdout",
          "text": [
            "4999999850000001 29.130897998809814 초\n"
          ]
        }
      ]
    },
    {
      "cell_type": "code",
      "metadata": {
        "colab": {
          "base_uri": "https://localhost:8080/"
        },
        "id": "6PQZjxRnp-IF",
        "outputId": "50f84cfb-0083-4be9-a2de-a57a2a3745d8"
      },
      "source": [
        "# 벡터 연산\n",
        "before = time.time()\n",
        "sum = np.sum(arr)\n",
        "after = time.time()\n",
        "print(sum, after - before, \"초\")"
      ],
      "execution_count": null,
      "outputs": [
        {
          "output_type": "stream",
          "name": "stdout",
          "text": [
            "4999999850000001 0.11570477485656738 초\n"
          ]
        }
      ]
    },
    {
      "cell_type": "code",
      "metadata": {
        "id": "GvzO1k6nqNhL"
      },
      "source": [
        "arr1 = np.arange(999999)\n",
        "arr2 = np.arange(999999)"
      ],
      "execution_count": null,
      "outputs": []
    },
    {
      "cell_type": "code",
      "metadata": {
        "colab": {
          "base_uri": "https://localhost:8080/"
        },
        "id": "ZZAeemnHqTt3",
        "outputId": "483b47a2-f05c-457e-e8c8-dc9e454177a1"
      },
      "source": [
        "# for\n",
        "sum = 0\n",
        "before = time.time()\n",
        "for i, j in zip(arr1, arr2):\n",
        "  sum += i * j\n",
        "after = time.time()\n",
        "print(sum, after - before, \"초\")"
      ],
      "execution_count": null,
      "outputs": [
        {
          "output_type": "stream",
          "name": "stderr",
          "text": [
            "/usr/local/lib/python3.7/dist-packages/ipykernel_launcher.py:5: RuntimeWarning: overflow encountered in long_scalars\n",
            "  \"\"\"\n"
          ]
        },
        {
          "output_type": "stream",
          "name": "stdout",
          "text": [
            "652921401952298879 54.76591467857361 초\n"
          ]
        }
      ]
    },
    {
      "cell_type": "code",
      "metadata": {
        "colab": {
          "base_uri": "https://localhost:8080/"
        },
        "id": "nmwJQwZkqjPT",
        "outputId": "6b68142b-916d-4761-fc7d-29222a7f6d38"
      },
      "source": [
        "# 벡터 연산\n",
        "before = time.time()\n",
        "sum = np.dot(arr1, arr2)\n",
        "after = time.time()\n",
        "print(sum, after - before, \"초\")"
      ],
      "execution_count": null,
      "outputs": [
        {
          "output_type": "stream",
          "name": "stdout",
          "text": [
            "652921401952298879 0.17930865287780762 초\n"
          ]
        }
      ]
    }
  ]
}
