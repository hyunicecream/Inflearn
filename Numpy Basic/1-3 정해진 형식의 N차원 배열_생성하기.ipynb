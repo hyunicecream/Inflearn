{
  "nbformat": 4,
  "nbformat_minor": 0,
  "metadata": {
    "colab": {
      "name": "1-3. 정해진 형식의 N차원 배열 생성하기.ipynb",
      "provenance": [],
      "collapsed_sections": [],
      "authorship_tag": "ABX9TyOBEw+cO8k1Je7L7SqT0MYD",
      "include_colab_link": true
    },
    "kernelspec": {
      "name": "python3",
      "display_name": "Python 3"
    },
    "language_info": {
      "name": "python"
    }
  },
  "cells": [
    {
      "cell_type": "markdown",
      "metadata": {
        "id": "view-in-github",
        "colab_type": "text"
      },
      "source": [
        "<a href=\"https://colab.research.google.com/github/hyunicecream/Inflearn/blob/main/1_3_%EC%A0%95%ED%95%B4%EC%A7%84_%ED%98%95%EC%8B%9D%EC%9D%98_N%EC%B0%A8%EC%9B%90_%EB%B0%B0%EC%97%B4_%EC%83%9D%EC%84%B1%ED%95%98%EA%B8%B0.ipynb\" target=\"_parent\"><img src=\"https://colab.research.google.com/assets/colab-badge.svg\" alt=\"Open In Colab\"/></a>"
      ]
    },
    {
      "cell_type": "code",
      "metadata": {
        "id": "o4h6h8fr4XR1"
      },
      "source": [
        "import numpy as np"
      ],
      "execution_count": null,
      "outputs": []
    },
    {
      "cell_type": "code",
      "metadata": {
        "colab": {
          "base_uri": "https://localhost:8080/"
        },
        "id": "NHwjeAik4dxr",
        "outputId": "62b79a76-f91c-4342-ce7e-eb74d49dce59"
      },
      "source": [
        "# np.zeros() 모든 원소들이 0으로된 배열을 생성\n",
        "arr = np.zeros([2,2]) # shape\n",
        "print(arr)"
      ],
      "execution_count": null,
      "outputs": [
        {
          "output_type": "stream",
          "name": "stdout",
          "text": [
            "[[0. 0.]\n",
            " [0. 0.]]\n"
          ]
        }
      ]
    },
    {
      "cell_type": "code",
      "metadata": {
        "colab": {
          "base_uri": "https://localhost:8080/"
        },
        "id": "Z-nnp0um4pKS",
        "outputId": "186faf59-0ec8-4936-cd27-e6318244178a"
      },
      "source": [
        "# np.ones() 모든 원소들이 1로된 배열을 생성\n",
        "arr = np.ones([3, 5]) # shape\n",
        "print(arr)"
      ],
      "execution_count": null,
      "outputs": [
        {
          "output_type": "stream",
          "name": "stdout",
          "text": [
            "[[1. 1. 1. 1. 1.]\n",
            " [1. 1. 1. 1. 1.]\n",
            " [1. 1. 1. 1. 1.]]\n"
          ]
        }
      ]
    },
    {
      "cell_type": "code",
      "metadata": {
        "colab": {
          "base_uri": "https://localhost:8080/"
        },
        "id": "2nAGnTSL4yXs",
        "outputId": "0214f6d6-bc2c-47b3-9dbe-b3c6a1d93f26"
      },
      "source": [
        "# np.full() 모든 원소들이 지정된 fill value로 이루어진 배열을 생성\n",
        "arr = np.full((2,3), 5)\n",
        "print(arr)"
      ],
      "execution_count": null,
      "outputs": [
        {
          "output_type": "stream",
          "name": "stdout",
          "text": [
            "[[5 5 5]\n",
            " [5 5 5]]\n"
          ]
        }
      ]
    },
    {
      "cell_type": "code",
      "metadata": {
        "colab": {
          "base_uri": "https://localhost:8080/"
        },
        "id": "MRJ7ccLY5BHa",
        "outputId": "47cf98eb-c872-4e0d-f3ce-8d38a62eb5cf"
      },
      "source": [
        "# n행 열을 m\n",
        "# np.eye() n by m을 가진 대각원소가 1인 행렬을 만듦 나머지 원소는 0\n",
        "arr = np.eye(3,4, k=0) # k는 대각원소의 발생지점을 어느부분에 나타낼것인지 지정\n",
        "print(arr)\n",
        "\n",
        "arr = np.eye(3,4, k=1) # k는 대각원소의 발생지점을 어느부분에 나타낼것인지 지정\n",
        "print(arr)\n",
        "\n",
        "arr = np.eye(3,4, k=-1) # -1은 반대방향으로 시작\n",
        "\n",
        "arr = np.eye(3) # n값과 m값이 모두 3으로 정방행렬로 나타냄\n",
        "print(arr)"
      ],
      "execution_count": null,
      "outputs": [
        {
          "output_type": "stream",
          "name": "stdout",
          "text": [
            "[[1. 0. 0. 0.]\n",
            " [0. 1. 0. 0.]\n",
            " [0. 0. 1. 0.]]\n",
            "[[0. 1. 0. 0.]\n",
            " [0. 0. 1. 0.]\n",
            " [0. 0. 0. 1.]]\n",
            "[[1. 0. 0.]\n",
            " [0. 1. 0.]\n",
            " [0. 0. 1.]]\n"
          ]
        }
      ]
    },
    {
      "cell_type": "code",
      "metadata": {
        "colab": {
          "base_uri": "https://localhost:8080/"
        },
        "id": "p0mBCsts5aeF",
        "outputId": "e5576acd-2290-4a50-a52b-5606efdca6cd"
      },
      "source": [
        "# 지정된 배열과 동일한 shape의 행렬로 만들어 주는 함수\n",
        "arr = np.array([[1,2,3],\n",
        "               [4,5,6]])\n",
        "\n",
        "# np.zeros_like()\n",
        "# 동일한 배열을 가진 행렬의 원소를 0으로 만들어 줄 수 있다. \n",
        "arr_z = np.zeros_like(arr)\n",
        "print(arr_z)"
      ],
      "execution_count": null,
      "outputs": [
        {
          "output_type": "stream",
          "name": "stdout",
          "text": [
            "[[0 0 0]\n",
            " [0 0 0]]\n"
          ]
        }
      ]
    },
    {
      "cell_type": "code",
      "metadata": {
        "colab": {
          "base_uri": "https://localhost:8080/"
        },
        "id": "EfEZT8ju6fRY",
        "outputId": "a4b42532-76cf-44f4-a1ff-0f7b3ccd4b60"
      },
      "source": [
        "# 지정된 배열과 동일한 shape의 행렬로 만들어 주는 함수\n",
        "arr = np.array([[1,2,3],\n",
        "               [4,5,6]])\n",
        "\n",
        "# np.\bones_like()\n",
        "# 동일한 배열을 가진 행렬의 원소를 1으로 만들어 줄 수 있다. \n",
        "arr_z = np.ones_like(arr)\n",
        "print(arr_z)"
      ],
      "execution_count": null,
      "outputs": [
        {
          "output_type": "stream",
          "name": "stdout",
          "text": [
            "[[1 1 1]\n",
            " [1 1 1]]\n"
          ]
        }
      ]
    },
    {
      "cell_type": "code",
      "metadata": {
        "colab": {
          "base_uri": "https://localhost:8080/"
        },
        "id": "cYuuwAL66uK2",
        "outputId": "94596e54-1647-4b79-c610-ffb85ab26acf"
      },
      "source": [
        "arr = np.array([[1,2,3],\n",
        "               [4,5,6]])\n",
        "\n",
        "# np.full_like()\n",
        "# 동일한 배열을 가진 행렬의 원소를 1으로 만들어 줄 수 있다. \n",
        "arr_z = np.full_like(arr, 9)\n",
        "print(arr_z)"
      ],
      "execution_count": null,
      "outputs": [
        {
          "output_type": "stream",
          "name": "stdout",
          "text": [
            "[[9 9 9]\n",
            " [9 9 9]]\n"
          ]
        }
      ]
    }
  ]
}
