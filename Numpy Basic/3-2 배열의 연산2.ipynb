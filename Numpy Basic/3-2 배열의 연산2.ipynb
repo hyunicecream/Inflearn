{
  "nbformat": 4,
  "nbformat_minor": 0,
  "metadata": {
    "colab": {
      "name": "3-2 배열의 연산2.ipynb",
      "provenance": [],
      "collapsed_sections": [],
      "authorship_tag": "ABX9TyNjcJWBC43OzDU2ZV0yEh6L",
      "include_colab_link": true
    },
    "kernelspec": {
      "name": "python3",
      "display_name": "Python 3"
    },
    "language_info": {
      "name": "python"
    }
  },
  "cells": [
    {
      "cell_type": "markdown",
      "metadata": {
        "id": "view-in-github",
        "colab_type": "text"
      },
      "source": [
        "<a href=\"https://colab.research.google.com/github/hyunicecream/Inflearn/blob/main/3_2_%EB%B0%B0%EC%97%B4%EC%9D%98_%EC%97%B0%EC%82%B02.ipynb\" target=\"_parent\"><img src=\"https://colab.research.google.com/assets/colab-badge.svg\" alt=\"Open In Colab\"/></a>"
      ]
    },
    {
      "cell_type": "code",
      "metadata": {
        "id": "Z8NCWyx5ejny"
      },
      "source": [
        "import numpy as np"
      ],
      "execution_count": null,
      "outputs": []
    },
    {
      "cell_type": "code",
      "metadata": {
        "colab": {
          "base_uri": "https://localhost:8080/"
        },
        "id": "HxkRWFgweqCO",
        "outputId": "bce0dde1-4075-471d-e749-61e3f0d7f3d8"
      },
      "source": [
        "# 1차원 행렬\n",
        "# 각각의 원소의 곱의 합이 결과가 된다. \n",
        "arr1 = np.array([2,3,4])\n",
        "arr2 = np.array([1,2,3])\n",
        "\n",
        "print(np.dot(arr1, arr2))\n",
        "# (2 X 1) + (3 X 2) + (4 X 3) = 20"
      ],
      "execution_count": null,
      "outputs": [
        {
          "output_type": "stream",
          "name": "stdout",
          "text": [
            "20\n"
          ]
        }
      ]
    },
    {
      "cell_type": "code",
      "metadata": {
        "colab": {
          "base_uri": "https://localhost:8080/"
        },
        "id": "AM0vlzZifPDf",
        "outputId": "a25c0840-8f57-4f73-fd79-727b58d28e6c"
      },
      "source": [
        "# 2차원 행렬\n",
        "# dot product (내적 연산)\n",
        "''' \n",
        "< dot product 의 연산 과정 >\n",
        "[[a, b]   [[e, f]       [[ae + bg, af + bh]   \n",
        " [c, d]]   [g, h]]  =>   [ce + dg, cf + dh]]\n",
        "'''\n",
        "arr1 = np.array([[1,2],\n",
        "                 [4,5]])\n",
        "arr2 = np.array([[1,2],\n",
        "                 [0,3]])\n",
        "print(np.dot(arr1, arr2))"
      ],
      "execution_count": null,
      "outputs": [
        {
          "output_type": "stream",
          "name": "stdout",
          "text": [
            "[[ 1  8]\n",
            " [ 4 23]]\n"
          ]
        }
      ]
    },
    {
      "cell_type": "code",
      "metadata": {
        "colab": {
          "base_uri": "https://localhost:8080/"
        },
        "id": "XMG6v6-HgPT6",
        "outputId": "4be8e125-ca97-4828-e3c2-b415e6193050"
      },
      "source": [
        "# 절댓값\n",
        "arr1 = np.array([[1, -2],\n",
        "                 [-4,5]])\n",
        "print(np.abs(arr1))"
      ],
      "execution_count": null,
      "outputs": [
        {
          "output_type": "stream",
          "name": "stdout",
          "text": [
            "[[1 2]\n",
            " [4 5]]\n"
          ]
        }
      ]
    },
    {
      "cell_type": "code",
      "metadata": {
        "colab": {
          "base_uri": "https://localhost:8080/"
        },
        "id": "alnGonomgdWo",
        "outputId": "545877ec-6ca4-4287-91a5-229e7711cd7f"
      },
      "source": [
        "# 올림\n",
        "arr1 = np.array([[1.932, -2.339],\n",
        "                 [-4.145, 5.206]])\n",
        "print(np.ceil(arr1))\n",
        "\n",
        "# 내림\n",
        "print(np.floor(arr1))\n",
        "\n",
        "# 반올림\n",
        "print(np.round(arr1))\n",
        "\n",
        "# 버림\n",
        "print(np.trunc(arr1))"
      ],
      "execution_count": null,
      "outputs": [
        {
          "output_type": "stream",
          "name": "stdout",
          "text": [
            "[[ 2. -2.]\n",
            " [-4.  6.]]\n",
            "[[ 1. -3.]\n",
            " [-5.  5.]]\n",
            "[[ 2. -2.]\n",
            " [-4.  5.]]\n",
            "[[ 1. -2.]\n",
            " [-4.  5.]]\n"
          ]
        }
      ]
    }
  ]
}
