{
  "nbformat": 4,
  "nbformat_minor": 0,
  "metadata": {
    "colab": {
      "name": "1-1. N차원 배열 생성하기.ipynb",
      "provenance": [],
      "collapsed_sections": [],
      "authorship_tag": "ABX9TyOWM2MEPNDbxhU4zFSLb7EG",
      "include_colab_link": true
    },
    "kernelspec": {
      "name": "python3",
      "display_name": "Python 3"
    },
    "language_info": {
      "name": "python"
    }
  },
  "cells": [
    {
      "cell_type": "markdown",
      "metadata": {
        "id": "view-in-github",
        "colab_type": "text"
      },
      "source": [
        "<a href=\"https://colab.research.google.com/github/hyunicecream/Inflearn/blob/main/1_1_N%EC%B0%A8%EC%9B%90_%EB%B0%B0%EC%97%B4_%EC%83%9D%EC%84%B1%ED%95%98%EA%B8%B0.ipynb\" target=\"_parent\"><img src=\"https://colab.research.google.com/assets/colab-badge.svg\" alt=\"Open In Colab\"/></a>"
      ]
    },
    {
      "cell_type": "code",
      "metadata": {
        "id": "wqPUQlIRSdm_"
      },
      "source": [
        "import numpy as np"
      ],
      "execution_count": null,
      "outputs": []
    },
    {
      "cell_type": "code",
      "metadata": {
        "colab": {
          "base_uri": "https://localhost:8080/"
        },
        "id": "1hz8d1vQSkmX",
        "outputId": "cd5c39d9-b071-491b-c81f-ded2fb596ba7"
      },
      "source": [
        "# 1차원 배열\n",
        "arr = np.array([1,2,3])\n",
        "print(arr)"
      ],
      "execution_count": null,
      "outputs": [
        {
          "output_type": "stream",
          "name": "stdout",
          "text": [
            "[1 2 3]\n"
          ]
        }
      ]
    },
    {
      "cell_type": "code",
      "metadata": {
        "colab": {
          "base_uri": "https://localhost:8080/"
        },
        "id": "WxfFWOjcTkXE",
        "outputId": "ded98f5e-32c3-4b50-cd4a-4df4de735d20"
      },
      "source": [
        "# 2차원 배열 \n",
        "arr = np.array([[1,2,3], [4,5,6]])\n",
        "print(arr)"
      ],
      "execution_count": null,
      "outputs": [
        {
          "output_type": "stream",
          "name": "stdout",
          "text": [
            "[[1 2 3]\n",
            " [4 5 6]]\n"
          ]
        }
      ]
    },
    {
      "cell_type": "code",
      "metadata": {
        "colab": {
          "base_uri": "https://localhost:8080/"
        },
        "id": "0Ajf7D-5TPy4",
        "outputId": "c86ab46f-cdc1-4fc2-c440-9c2f26e8049a"
      },
      "source": [
        "type([1,2,3])"
      ],
      "execution_count": null,
      "outputs": [
        {
          "output_type": "execute_result",
          "data": {
            "text/plain": [
              "list"
            ]
          },
          "metadata": {},
          "execution_count": 7
        }
      ]
    },
    {
      "cell_type": "code",
      "metadata": {
        "colab": {
          "base_uri": "https://localhost:8080/"
        },
        "id": "ymL1qcfOTTP9",
        "outputId": "9bd10706-9313-4973-d09a-8302a10cd2ec"
      },
      "source": [
        "type(arr)"
      ],
      "execution_count": null,
      "outputs": [
        {
          "output_type": "execute_result",
          "data": {
            "text/plain": [
              "numpy.ndarray"
            ]
          },
          "metadata": {},
          "execution_count": 8
        }
      ]
    },
    {
      "cell_type": "code",
      "metadata": {
        "colab": {
          "base_uri": "https://localhost:8080/"
        },
        "id": "F_4612h-TVVa",
        "outputId": "ed8801f4-af06-4792-b333-b0d359067990"
      },
      "source": [
        "tpl = (4,5,6)\n",
        "arr = np.array(tpl)\n",
        "arr"
      ],
      "execution_count": null,
      "outputs": [
        {
          "output_type": "execute_result",
          "data": {
            "text/plain": [
              "array([4, 5, 6])"
            ]
          },
          "metadata": {},
          "execution_count": 9
        }
      ]
    },
    {
      "cell_type": "code",
      "metadata": {
        "colab": {
          "base_uri": "https://localhost:8080/"
        },
        "id": "nrY6tWBWTdrW",
        "outputId": "574407e6-bd5d-47c1-fd21-8dc69ce9c815"
      },
      "source": [
        "lst = [1,2,3]\n",
        "arr = np.array(lst)\n",
        "lst"
      ],
      "execution_count": null,
      "outputs": [
        {
          "output_type": "execute_result",
          "data": {
            "text/plain": [
              "[1, 2, 3]"
            ]
          },
          "metadata": {},
          "execution_count": 10
        }
      ]
    },
    {
      "cell_type": "code",
      "metadata": {
        "colab": {
          "base_uri": "https://localhost:8080/"
        },
        "id": "bewAUbBBTh0N",
        "outputId": "4d6943d2-1422-428f-f994-1dd4f079bac1"
      },
      "source": [
        "# list 2차원 array\n",
        "lst = [[1,2,3], [4,5,6]]\n",
        "arr = np.array(lst)\n",
        "arr"
      ],
      "execution_count": null,
      "outputs": [
        {
          "output_type": "execute_result",
          "data": {
            "text/plain": [
              "array([[1, 2, 3],\n",
              "       [4, 5, 6]])"
            ]
          },
          "metadata": {},
          "execution_count": 13
        }
      ]
    },
    {
      "cell_type": "code",
      "metadata": {
        "colab": {
          "base_uri": "https://localhost:8080/"
        },
        "id": "dxRLEXCtTtch",
        "outputId": "2ca41c55-591d-43e3-d94c-c9df7f5e54c5"
      },
      "source": [
        "# shape 배열의 형태 or 모양\n",
        "arr1 = np.array([1,2,3])\n",
        "arr2 = np.array([[1,2,3], [1,2,3]]) #행이 2개 열이 3개\n",
        "\n",
        "print(arr1.shape, arr2.shape)"
      ],
      "execution_count": null,
      "outputs": [
        {
          "output_type": "stream",
          "name": "stdout",
          "text": [
            "(3,) (2, 3)\n"
          ]
        }
      ]
    },
    {
      "cell_type": "code",
      "metadata": {
        "colab": {
          "base_uri": "https://localhost:8080/"
        },
        "id": "Qw7Q-5YhT629",
        "outputId": "d2d24120-a0f5-4e8d-f0f8-2d7ba0d7e6ca"
      },
      "source": [
        "# 차원 ndim\n",
        "print(arr1.ndim, arr2.ndim)"
      ],
      "execution_count": null,
      "outputs": [
        {
          "output_type": "stream",
          "name": "stdout",
          "text": [
            "1 2\n"
          ]
        }
      ]
    },
    {
      "cell_type": "code",
      "metadata": {
        "colab": {
          "base_uri": "https://localhost:8080/"
        },
        "id": "-TLjlArjUOWC",
        "outputId": "81d27b89-11c7-4a17-d23b-8403f16f4f39"
      },
      "source": [
        "# size\n",
        "# arr1 = 원소 3개\n",
        "# arr2 = 원소 6개\n",
        "print(arr1.size, arr2.size)"
      ],
      "execution_count": null,
      "outputs": [
        {
          "output_type": "stream",
          "name": "stdout",
          "text": [
            "3 6\n"
          ]
        }
      ]
    }
  ]
}
